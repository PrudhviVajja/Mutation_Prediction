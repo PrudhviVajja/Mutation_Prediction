{
  "nbformat": 4,
  "nbformat_minor": 0,
  "metadata": {
    "colab": {
      "name": "NLP Project - Neural Network Model.ipynb",
      "provenance": [],
      "collapsed_sections": [],
      "toc_visible": true
    },
    "kernelspec": {
      "display_name": "Python 3",
      "name": "python3"
    }
  },
  "cells": [
    {
      "cell_type": "code",
      "metadata": {
        "id": "WJJXYRIeA_Ba"
      },
      "source": [
        "# importing all the required libraries\r\n",
        "import pandas as pd\r\n",
        "from google.colab import files\r\n",
        "import io\r\n",
        "import spacy\r\n",
        "from sklearn.feature_extraction.text import CountVectorizer\r\n",
        "from sklearn.model_selection import train_test_split\r\n",
        "from sklearn.preprocessing import LabelEncoder\r\n",
        "import keras\r\n",
        "from keras.utils import to_categorical\r\n",
        "from keras import Sequential\r\n",
        "from keras.layers import Dense\r\n",
        "from keras.layers import Input\r\n",
        "from keras.layers import Softmax\r\n",
        "from sklearn.metrics import classification_report, confusion_matrix\r\n",
        "import matplotlib.pyplot as plt\r\n",
        "import sklearn.decomposition\r\n",
        "import keras.callbacks\r\n",
        "import pickle\r\n",
        "import re\r\n",
        "import nltk\r\n",
        "from nltk.stem import PorterStemmer"
      ],
      "execution_count": 1,
      "outputs": []
    },
    {
      "cell_type": "code",
      "metadata": {
        "colab": {
          "resources": {
            "http://localhost:8080/nbextensions/google.colab/files.js": {
              "data": "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",
              "ok": true,
              "headers": [
                [
                  "content-type",
                  "application/javascript"
                ]
              ],
              "status": 200,
              "status_text": ""
            }
          },
          "base_uri": "https://localhost:8080/",
          "height": 90
        },
        "id": "JHYI7nf2Q1LL",
        "outputId": "3d90e270-1c93-4f78-a13a-4be47127607f"
      },
      "source": [
        "uploaded = files.upload()"
      ],
      "execution_count": 2,
      "outputs": [
        {
          "output_type": "display_data",
          "data": {
            "text/html": [
              "\n",
              "     <input type=\"file\" id=\"files-8edf2c9e-e5f5-440d-97a6-e9bc138e2825\" name=\"files[]\" multiple disabled\n",
              "        style=\"border:none\" />\n",
              "     <output id=\"result-8edf2c9e-e5f5-440d-97a6-e9bc138e2825\">\n",
              "      Upload widget is only available when the cell has been executed in the\n",
              "      current browser session. Please rerun this cell to enable.\n",
              "      </output>\n",
              "      <script src=\"/nbextensions/google.colab/files.js\"></script> "
            ],
            "text/plain": [
              "<IPython.core.display.HTML object>"
            ]
          },
          "metadata": {
            "tags": []
          }
        },
        {
          "output_type": "stream",
          "text": [
            "Saving Functional_Consequences_v1.xlsx to Functional_Consequences_v1.xlsx\n"
          ],
          "name": "stdout"
        }
      ]
    },
    {
      "cell_type": "markdown",
      "metadata": {
        "id": "RDZ4DcAa3K9-"
      },
      "source": [
        "Defining custom early stopper classes for early stopping of model.fit keras method"
      ]
    },
    {
      "cell_type": "code",
      "metadata": {
        "id": "XUsg2Oj2YL7R"
      },
      "source": [
        "class CustomStopper(keras.callbacks.EarlyStopping):\r\n",
        "    def __init__(self, monitor='val_loss',\r\n",
        "             min_delta=0, patience=10, verbose=0, mode='auto', start_epoch = 30): # add argument for starting epoch\r\n",
        "        super(CustomStopper, self).__init__()\r\n",
        "        self.start_epoch = start_epoch\r\n",
        "\r\n",
        "    def on_epoch_end(self, epoch, logs=None):\r\n",
        "        if epoch > self.start_epoch:\r\n",
        "            super().on_epoch_end(epoch, logs)"
      ],
      "execution_count": 3,
      "outputs": []
    },
    {
      "cell_type": "markdown",
      "metadata": {
        "id": "LcWM1gc63STc"
      },
      "source": [
        "Defining variables to be passes in the various methods"
      ]
    },
    {
      "cell_type": "code",
      "metadata": {
        "id": "aYTEBKVnIcdh"
      },
      "source": [
        "filename = 'Data_v1.xlsx' #file name of the uploaded dataset file  \r\n",
        "modelName = 'Model1' #name of the model, this will be used to save model evaluation and history\r\n",
        "numEpochs  = 150 # maximum number of epochs if early stopping doesnt work\r\n",
        "batchsize = 50 # batchsize which will be used in each step by optimizer defined in the model\r\n",
        "optimizer = 'adadelta' #optimizer to be used in model.fit keras method\r\n"
      ],
      "execution_count": 4,
      "outputs": []
    },
    {
      "cell_type": "markdown",
      "metadata": {
        "id": "tUXKbXfA31C-"
      },
      "source": [
        "Method to read uploaded file. Returns back the text input samples and target labels for each. Transforms X to a vector which holds the number of occurences of each word for every sample"
      ]
    },
    {
      "cell_type": "code",
      "metadata": {
        "id": "L_nE_fHxAuEv"
      },
      "source": [
        "def mypreprocessor(text):\r\n",
        "  porter_stemmer = PorterStemmer()\r\n",
        "  words=re.split(\"\\\\s+\",text)\r\n",
        "  stemmed_words=[porter_stemmer.stem(word=word) for word in words]\r\n",
        "  return ' '.join(stemmed_words)\r\n",
        "  \r\n",
        "def Preprocessing():\r\n",
        "  \r\n",
        "  X = pd.read_excel(list(uploaded.items())[0][0],usecols=\"H\") #pass usecols as the column containing all the training samples\r\n",
        "  y = pd.read_excel(list(uploaded.items())[0][0],usecols=\"F\") #pass usecols as the column containing all the target labels\r\n",
        "  X = [str(i) for i in X.extracted_text.to_list()] #the property used with X. should match column name in excel\r\n",
        "  \r\n",
        "  # for i in range(len(X)):\r\n",
        "  #   X[i] = re.sub(r'(\\s\\d+\\s)|{\\d+}|\\(\\d+\\)','',X[i])\r\n",
        "  #   X[i] = re.sub(r'gain-of-function|gain of function|toxic gain of function|activating mutation|constitutively active|hypermorph|ectopic expression|neomorph|gain of interaction|function protein|fusion transcript','GOF',X[i])\r\n",
        "  #   X[i] = re.sub(r'haploinsufficiency|haploinsufficient|hypomorph|amorph|null mutation|hemizygous','HI',X[i])\r\n",
        "  #   X[i] = re.sub(r'dominant-negative|dominant negative|antimorph','DN',X[i])\r\n",
        "  #   X[i] = re.sub(r'loss of function|loss-of-function','LOF',X[i])\r\n",
        "\r\n",
        "      # X = preprocess_data(X)\r\n",
        "  y = y.mutation_consequence.to_list()\r\n",
        "  # vocabulary = ['gain-of-function','gain of function',\r\n",
        "  #               'toxic gain of function','activating mutation',\r\n",
        "  #               'constitutively active','hypermorph','ectopic expression',\r\n",
        "  #               'neomorph','gain of interaction','function protein','fusion transcript',\r\n",
        "  #               'haploinsufficiency','haploinsufficient','hypomorph','amorph',\r\n",
        "  #               'null mutation','hemizygous','dominant-negative','dominant negative','antimorph',\r\n",
        "  #               'loss of function','loss-of-function']\r\n",
        "  X=TfidfVectorizer(X,preprocessor=mypreprocessor,max_df=200 ,ngram_range=(1, 2)).fit(X).transform(X)\r\n",
        "  # X=CountVectorizer(X,preprocessor=mypreprocessor,max_df=200 ,ngram_range=(1, 2)).fit(X).transform(X)\r\n",
        "  return X, y"
      ],
      "execution_count": 49,
      "outputs": []
    },
    {
      "cell_type": "markdown",
      "metadata": {
        "id": "OTQWSOrl4A_D"
      },
      "source": [
        "Method to split the dataset into training and testing. Changes y to one-hot encoded vector, e.g if target class is 3, then returns [0,0,0,1,0] for 5 target classes"
      ]
    },
    {
      "cell_type": "code",
      "metadata": {
        "id": "PWBT0XKFCRqn"
      },
      "source": [
        "def TrainTestSplit(X, y):\r\n",
        "  X_train, X_test, y_train, y_test = train_test_split(X, y, test_size = 0.20, random_state=100, stratify = y) #split the dataset, test_Size variable defines the size of the test dataset, stratify column makes sure even distribution of target labels\r\n",
        "\r\n",
        "  X_train = X_train.toarray() #changing to numpy array to work with keras sequential model\r\n",
        "  X_test = X_test.toarray() #changing to numpy array to work with keras sequential model\r\n",
        "  le  = LabelEncoder() \r\n",
        "  y_train = to_categorical(le.fit(y_train).transform(y_train))\r\n",
        "  y_test = to_categorical(le.fit(y_test).transform(y_test))\r\n",
        "  return X_train, X_test, y_train, y_test, le.classes_ # returns training and test datasets, as well as class names"
      ],
      "execution_count": 18,
      "outputs": []
    },
    {
      "cell_type": "markdown",
      "metadata": {
        "id": "J_6OAjJQ4bV_"
      },
      "source": [
        "Defining the model to be used for training the datasets.\r\n"
      ]
    },
    {
      "cell_type": "code",
      "metadata": {
        "id": "wkAqbHqQBjrf"
      },
      "source": [
        "def ModelBuild(X, y):\r\n",
        "  inputs = keras.layers.Input(shape=(len(X_train[0]),))\r\n",
        "  dense1 = keras.layers.Dense(200, activation=\"relu\")(inputs) #fully connected with input vectors\r\n",
        "  \r\n",
        "  \r\n",
        "  # dropout  = keras.layers.Dropout(0.2)(dense1) #regularization layer if required\r\n",
        "  dense2 = keras.layers.Dense(50, activation=\"relu\")(dense1) #fully connected with Layer 1\r\n",
        "  # dropout2 = keras.layers.Dropout(0.1)(dense2) #regularization layer if required\r\n",
        "  # dense3  = keras.layers.Dense(50, activation=\"relu\")(dense2)\r\n",
        "  \r\n",
        "  outputs = keras.layers.Dense(len(y_train[0]), activation=\"sigmoid\")(dense2) #output layer\r\n",
        "  model = keras.Model(inputs=inputs, outputs=outputs)\r\n",
        "  return model"
      ],
      "execution_count": 28,
      "outputs": []
    },
    {
      "cell_type": "markdown",
      "metadata": {
        "id": "b8VsS5RT5j9u"
      },
      "source": [
        "Method to show summary of the model as well as the shape in diagram form"
      ]
    },
    {
      "cell_type": "code",
      "metadata": {
        "id": "LriC3xupKfDW"
      },
      "source": [
        "def PlotModel(model, filename):\r\n",
        "  model.summary()\r\n",
        "  keras.utils.plot_model(model, filename, show_shapes=True)"
      ],
      "execution_count": 21,
      "outputs": []
    },
    {
      "cell_type": "markdown",
      "metadata": {
        "id": "ncwNTZwU5xop"
      },
      "source": [
        "Method to compile the defined model as well as run the training. Returns a history variable which can be used to plot training and validation loss as well as accuracy at every epoch"
      ]
    },
    {
      "cell_type": "code",
      "metadata": {
        "id": "lSNOzuBxh92J"
      },
      "source": [
        "def PlotTraining(model, X_test, y_test):\r\n",
        "  model.compile(loss='categorical_crossentropy',optimizer=optimizer,metrics=[keras.metrics.CategoricalAccuracy(),'accuracy'])\r\n",
        "  # EarlyStoppage = CustomStopper()\r\n",
        "  es = keras.callbacks.EarlyStopping(monitor='val_accuracy', baseline=0.7, patience=30)\r\n",
        "  history = model.fit(X_train, y_train,validation_split=0.2,epochs=numEpochs, batch_size=batchsize) #,callbacks = [es] ) - use this for early stopping\r\n",
        "  model.evaluate(X_test, y_test)\r\n",
        "  return history\r\n",
        "  "
      ],
      "execution_count": 22,
      "outputs": []
    },
    {
      "cell_type": "markdown",
      "metadata": {
        "id": "GqFZUrbN6Fvt"
      },
      "source": [
        "Plots the validation and training accuracy at every epoch using a history object obtained by model.fit in the previous step"
      ]
    },
    {
      "cell_type": "code",
      "metadata": {
        "id": "2hCS9DYgSbZI"
      },
      "source": [
        "def plot(history):\r\n",
        "  # list all data in history\r\n",
        "    print(history.keys())\r\n",
        "    # summarize history for accuracy\r\n",
        "    plt.plot(history['accuracy'])\r\n",
        "    plt.plot(history['val_accuracy'])\r\n",
        "    plt.title('model accuracy')\r\n",
        "    plt.ylabel('accuracy')\r\n",
        "    plt.xlabel('epoch')\r\n",
        "    plt.legend(['train', 'test'], loc='upper left')\r\n",
        "    plt.show()\r\n",
        "    # summarize history for loss\r\n",
        "    plt.plot(history['loss'])\r\n",
        "    plt.plot(history['val_loss'])\r\n",
        "    plt.title('model loss')\r\n",
        "    plt.ylabel('loss')\r\n",
        "    plt.xlabel('epoch')\r\n",
        "    plt.legend(['train', 'test'], loc='upper left')\r\n",
        "    plt.show()"
      ],
      "execution_count": 23,
      "outputs": []
    },
    {
      "cell_type": "markdown",
      "metadata": {
        "id": "S9__NjP46bq2"
      },
      "source": [
        "Calling the methods to run all the required steps in the pipeline"
      ]
    },
    {
      "cell_type": "code",
      "metadata": {
        "colab": {
          "base_uri": "https://localhost:8080/"
        },
        "id": "UvrtEAyyhSij",
        "outputId": "22290637-7366-40b6-dfc3-33b1c04f5ef1"
      },
      "source": [
        "X, y = Preprocessing()\r\n",
        "X_train, X_test, y_train, y_test, ClassNames = TrainTestSplit(X, y)\r\n",
        "# svd = sklearn.decomposition.TruncatedSVD(n_components=60, n_iter=5, random_state=42)\r\n",
        "# X_train = svd.fit(X_train).transform(X_train)\r\n",
        "# svd = sklearn.decomposition.TruncatedSVD(n_components=60, n_iter=5, random_state=42)\r\n",
        "# X_test = svd.fit(X_test).transform(X_test)\r\n",
        "model = ModelBuild(X_train, y_train)\r\n",
        "PlotModel(model, modelName +\".png\")\r\n",
        "history = PlotTraining(model, X_test, y_test)\r\n",
        "print(confusion_matrix(y_test.argmax(axis=-1),model.predict(X_test).argmax(axis=-1)))\r\n",
        "print(classification_report(y_test.argmax(axis=-1), model.predict(X_test).argmax(axis=-1),target_names=ClassNames))\r\n"
      ],
      "execution_count": 26,
      "outputs": [
        {
          "output_type": "stream",
          "text": [
            "Model: \"model\"\n",
            "_________________________________________________________________\n",
            "Layer (type)                 Output Shape              Param #   \n",
            "=================================================================\n",
            "input_1 (InputLayer)         [(None, 112443)]          0         \n",
            "_________________________________________________________________\n",
            "dense (Dense)                (None, 200)               22488800  \n",
            "_________________________________________________________________\n",
            "dropout (Dropout)            (None, 200)               0         \n",
            "_________________________________________________________________\n",
            "dense_1 (Dense)              (None, 100)               20100     \n",
            "_________________________________________________________________\n",
            "dropout_1 (Dropout)          (None, 100)               0         \n",
            "_________________________________________________________________\n",
            "dense_2 (Dense)              (None, 5)                 505       \n",
            "=================================================================\n",
            "Total params: 22,509,405\n",
            "Trainable params: 22,509,405\n",
            "Non-trainable params: 0\n",
            "_________________________________________________________________\n",
            "Epoch 1/150\n",
            "7/7 [==============================] - 3s 256ms/step - loss: 1.6442 - categorical_accuracy: 0.1841 - accuracy: 0.1841 - val_loss: 1.6049 - val_categorical_accuracy: 0.1750 - val_accuracy: 0.1750\n",
            "Epoch 2/150\n",
            "7/7 [==============================] - 1s 217ms/step - loss: 1.6283 - categorical_accuracy: 0.1839 - accuracy: 0.1839 - val_loss: 1.6048 - val_categorical_accuracy: 0.1750 - val_accuracy: 0.1750\n",
            "Epoch 3/150\n",
            "7/7 [==============================] - 1s 216ms/step - loss: 1.6161 - categorical_accuracy: 0.1903 - accuracy: 0.1903 - val_loss: 1.6047 - val_categorical_accuracy: 0.1750 - val_accuracy: 0.1750\n",
            "Epoch 4/150\n",
            "7/7 [==============================] - 1s 215ms/step - loss: 1.6238 - categorical_accuracy: 0.1794 - accuracy: 0.1794 - val_loss: 1.6046 - val_categorical_accuracy: 0.1750 - val_accuracy: 0.1750\n",
            "Epoch 5/150\n",
            "7/7 [==============================] - 2s 236ms/step - loss: 1.6016 - categorical_accuracy: 0.2155 - accuracy: 0.2155 - val_loss: 1.6045 - val_categorical_accuracy: 0.1750 - val_accuracy: 0.1750\n",
            "Epoch 6/150\n",
            "7/7 [==============================] - 1s 212ms/step - loss: 1.6197 - categorical_accuracy: 0.1839 - accuracy: 0.1839 - val_loss: 1.6044 - val_categorical_accuracy: 0.2000 - val_accuracy: 0.2000\n",
            "Epoch 7/150\n",
            "7/7 [==============================] - 2s 217ms/step - loss: 1.6163 - categorical_accuracy: 0.1786 - accuracy: 0.1786 - val_loss: 1.6042 - val_categorical_accuracy: 0.2000 - val_accuracy: 0.2000\n",
            "Epoch 8/150\n",
            "7/7 [==============================] - 1s 215ms/step - loss: 1.6090 - categorical_accuracy: 0.1873 - accuracy: 0.1873 - val_loss: 1.6040 - val_categorical_accuracy: 0.2000 - val_accuracy: 0.2000\n",
            "Epoch 9/150\n",
            "7/7 [==============================] - 1s 215ms/step - loss: 1.5972 - categorical_accuracy: 0.2204 - accuracy: 0.2204 - val_loss: 1.6038 - val_categorical_accuracy: 0.2000 - val_accuracy: 0.2000\n",
            "Epoch 10/150\n",
            "7/7 [==============================] - 1s 212ms/step - loss: 1.6203 - categorical_accuracy: 0.1772 - accuracy: 0.1772 - val_loss: 1.6037 - val_categorical_accuracy: 0.2000 - val_accuracy: 0.2000\n",
            "Epoch 11/150\n",
            "7/7 [==============================] - 2s 218ms/step - loss: 1.6023 - categorical_accuracy: 0.2138 - accuracy: 0.2138 - val_loss: 1.6036 - val_categorical_accuracy: 0.2000 - val_accuracy: 0.2000\n",
            "Epoch 12/150\n",
            "7/7 [==============================] - 1s 212ms/step - loss: 1.5857 - categorical_accuracy: 0.2411 - accuracy: 0.2411 - val_loss: 1.6036 - val_categorical_accuracy: 0.2000 - val_accuracy: 0.2000\n",
            "Epoch 13/150\n",
            "7/7 [==============================] - 1s 214ms/step - loss: 1.5898 - categorical_accuracy: 0.2313 - accuracy: 0.2313 - val_loss: 1.6035 - val_categorical_accuracy: 0.2000 - val_accuracy: 0.2000\n",
            "Epoch 14/150\n",
            "7/7 [==============================] - 1s 215ms/step - loss: 1.6034 - categorical_accuracy: 0.2166 - accuracy: 0.2166 - val_loss: 1.6034 - val_categorical_accuracy: 0.2000 - val_accuracy: 0.2000\n",
            "Epoch 15/150\n",
            "7/7 [==============================] - 1s 218ms/step - loss: 1.5932 - categorical_accuracy: 0.2222 - accuracy: 0.2222 - val_loss: 1.6034 - val_categorical_accuracy: 0.2000 - val_accuracy: 0.2000\n",
            "Epoch 16/150\n",
            "7/7 [==============================] - 1s 213ms/step - loss: 1.5769 - categorical_accuracy: 0.2633 - accuracy: 0.2633 - val_loss: 1.6032 - val_categorical_accuracy: 0.2000 - val_accuracy: 0.2000\n",
            "Epoch 17/150\n",
            "7/7 [==============================] - 1s 216ms/step - loss: 1.5713 - categorical_accuracy: 0.2482 - accuracy: 0.2482 - val_loss: 1.6031 - val_categorical_accuracy: 0.2000 - val_accuracy: 0.2000\n",
            "Epoch 18/150\n",
            "7/7 [==============================] - 1s 215ms/step - loss: 1.5691 - categorical_accuracy: 0.2749 - accuracy: 0.2749 - val_loss: 1.6030 - val_categorical_accuracy: 0.2000 - val_accuracy: 0.2000\n",
            "Epoch 19/150\n",
            "7/7 [==============================] - 1s 213ms/step - loss: 1.5695 - categorical_accuracy: 0.2535 - accuracy: 0.2535 - val_loss: 1.6030 - val_categorical_accuracy: 0.2000 - val_accuracy: 0.2000\n",
            "Epoch 20/150\n",
            "7/7 [==============================] - 1s 214ms/step - loss: 1.5749 - categorical_accuracy: 0.2750 - accuracy: 0.2750 - val_loss: 1.6029 - val_categorical_accuracy: 0.2125 - val_accuracy: 0.2125\n",
            "Epoch 21/150\n",
            "7/7 [==============================] - 1s 216ms/step - loss: 1.5612 - categorical_accuracy: 0.3107 - accuracy: 0.3107 - val_loss: 1.6028 - val_categorical_accuracy: 0.2125 - val_accuracy: 0.2125\n",
            "Epoch 22/150\n",
            "7/7 [==============================] - 2s 237ms/step - loss: 1.5483 - categorical_accuracy: 0.3056 - accuracy: 0.3056 - val_loss: 1.6030 - val_categorical_accuracy: 0.2125 - val_accuracy: 0.2125\n",
            "Epoch 23/150\n",
            "7/7 [==============================] - 1s 217ms/step - loss: 1.5402 - categorical_accuracy: 0.3241 - accuracy: 0.3241 - val_loss: 1.6029 - val_categorical_accuracy: 0.2125 - val_accuracy: 0.2125\n",
            "Epoch 24/150\n",
            "7/7 [==============================] - 1s 216ms/step - loss: 1.5521 - categorical_accuracy: 0.3151 - accuracy: 0.3151 - val_loss: 1.6028 - val_categorical_accuracy: 0.2125 - val_accuracy: 0.2125\n",
            "Epoch 25/150\n",
            "7/7 [==============================] - 2s 222ms/step - loss: 1.5569 - categorical_accuracy: 0.3428 - accuracy: 0.3428 - val_loss: 1.6028 - val_categorical_accuracy: 0.2125 - val_accuracy: 0.2125\n",
            "Epoch 26/150\n",
            "7/7 [==============================] - 1s 214ms/step - loss: 1.5510 - categorical_accuracy: 0.2997 - accuracy: 0.2997 - val_loss: 1.6029 - val_categorical_accuracy: 0.2125 - val_accuracy: 0.2125\n",
            "Epoch 27/150\n",
            "7/7 [==============================] - 1s 215ms/step - loss: 1.5338 - categorical_accuracy: 0.3602 - accuracy: 0.3602 - val_loss: 1.6029 - val_categorical_accuracy: 0.2125 - val_accuracy: 0.2125\n",
            "Epoch 28/150\n",
            "7/7 [==============================] - 2s 216ms/step - loss: 1.5475 - categorical_accuracy: 0.2996 - accuracy: 0.2996 - val_loss: 1.6028 - val_categorical_accuracy: 0.2000 - val_accuracy: 0.2000\n",
            "Epoch 29/150\n",
            "7/7 [==============================] - 2s 218ms/step - loss: 1.5347 - categorical_accuracy: 0.3353 - accuracy: 0.3353 - val_loss: 1.6028 - val_categorical_accuracy: 0.2125 - val_accuracy: 0.2125\n",
            "Epoch 30/150\n",
            "7/7 [==============================] - 2s 219ms/step - loss: 1.5496 - categorical_accuracy: 0.2842 - accuracy: 0.2842 - val_loss: 1.6029 - val_categorical_accuracy: 0.2125 - val_accuracy: 0.2125\n",
            "Epoch 31/150\n",
            "7/7 [==============================] - 1s 215ms/step - loss: 1.5229 - categorical_accuracy: 0.3587 - accuracy: 0.3587 - val_loss: 1.6029 - val_categorical_accuracy: 0.2125 - val_accuracy: 0.2125\n",
            "Epoch 32/150\n",
            "7/7 [==============================] - 2s 214ms/step - loss: 1.5368 - categorical_accuracy: 0.3555 - accuracy: 0.3555 - val_loss: 1.6029 - val_categorical_accuracy: 0.2125 - val_accuracy: 0.2125\n",
            "Epoch 33/150\n",
            "7/7 [==============================] - 1s 213ms/step - loss: 1.5285 - categorical_accuracy: 0.3483 - accuracy: 0.3483 - val_loss: 1.6029 - val_categorical_accuracy: 0.2125 - val_accuracy: 0.2125\n",
            "Epoch 34/150\n",
            "7/7 [==============================] - 1s 216ms/step - loss: 1.5061 - categorical_accuracy: 0.4151 - accuracy: 0.4151 - val_loss: 1.6030 - val_categorical_accuracy: 0.2125 - val_accuracy: 0.2125\n",
            "Epoch 35/150\n",
            "7/7 [==============================] - 1s 215ms/step - loss: 1.5045 - categorical_accuracy: 0.4305 - accuracy: 0.4305 - val_loss: 1.6029 - val_categorical_accuracy: 0.2000 - val_accuracy: 0.2000\n",
            "Epoch 36/150\n",
            "7/7 [==============================] - 2s 238ms/step - loss: 1.5233 - categorical_accuracy: 0.3564 - accuracy: 0.3564 - val_loss: 1.6029 - val_categorical_accuracy: 0.2125 - val_accuracy: 0.2125\n",
            "Epoch 37/150\n",
            "7/7 [==============================] - 1s 213ms/step - loss: 1.5046 - categorical_accuracy: 0.4016 - accuracy: 0.4016 - val_loss: 1.6031 - val_categorical_accuracy: 0.2125 - val_accuracy: 0.2125\n",
            "Epoch 38/150\n",
            "7/7 [==============================] - 2s 218ms/step - loss: 1.4936 - categorical_accuracy: 0.4299 - accuracy: 0.4299 - val_loss: 1.6030 - val_categorical_accuracy: 0.2125 - val_accuracy: 0.2125\n",
            "Epoch 39/150\n",
            "7/7 [==============================] - 2s 217ms/step - loss: 1.5201 - categorical_accuracy: 0.3919 - accuracy: 0.3919 - val_loss: 1.6031 - val_categorical_accuracy: 0.2125 - val_accuracy: 0.2125\n",
            "Epoch 40/150\n",
            "7/7 [==============================] - 2s 218ms/step - loss: 1.4934 - categorical_accuracy: 0.4193 - accuracy: 0.4193 - val_loss: 1.6030 - val_categorical_accuracy: 0.2125 - val_accuracy: 0.2125\n",
            "Epoch 41/150\n",
            "7/7 [==============================] - 2s 222ms/step - loss: 1.5053 - categorical_accuracy: 0.4039 - accuracy: 0.4039 - val_loss: 1.6030 - val_categorical_accuracy: 0.2250 - val_accuracy: 0.2250\n",
            "Epoch 42/150\n",
            "7/7 [==============================] - 2s 226ms/step - loss: 1.4845 - categorical_accuracy: 0.4606 - accuracy: 0.4606 - val_loss: 1.6030 - val_categorical_accuracy: 0.2250 - val_accuracy: 0.2250\n",
            "Epoch 43/150\n",
            "7/7 [==============================] - 2s 219ms/step - loss: 1.4932 - categorical_accuracy: 0.4201 - accuracy: 0.4201 - val_loss: 1.6031 - val_categorical_accuracy: 0.2250 - val_accuracy: 0.2250\n",
            "Epoch 44/150\n",
            "7/7 [==============================] - 2s 220ms/step - loss: 1.4954 - categorical_accuracy: 0.4085 - accuracy: 0.4085 - val_loss: 1.6031 - val_categorical_accuracy: 0.2250 - val_accuracy: 0.2250\n",
            "Epoch 45/150\n",
            "7/7 [==============================] - 2s 220ms/step - loss: 1.4988 - categorical_accuracy: 0.4175 - accuracy: 0.4175 - val_loss: 1.6031 - val_categorical_accuracy: 0.2250 - val_accuracy: 0.2250\n",
            "Epoch 46/150\n",
            "7/7 [==============================] - 2s 218ms/step - loss: 1.4959 - categorical_accuracy: 0.4129 - accuracy: 0.4129 - val_loss: 1.6031 - val_categorical_accuracy: 0.2250 - val_accuracy: 0.2250\n",
            "Epoch 47/150\n",
            "7/7 [==============================] - 2s 219ms/step - loss: 1.4611 - categorical_accuracy: 0.4983 - accuracy: 0.4983 - val_loss: 1.6031 - val_categorical_accuracy: 0.2250 - val_accuracy: 0.2250\n",
            "Epoch 48/150\n",
            "7/7 [==============================] - 2s 225ms/step - loss: 1.4856 - categorical_accuracy: 0.4559 - accuracy: 0.4559 - val_loss: 1.6032 - val_categorical_accuracy: 0.2250 - val_accuracy: 0.2250\n",
            "Epoch 49/150\n",
            "7/7 [==============================] - 2s 219ms/step - loss: 1.4688 - categorical_accuracy: 0.4731 - accuracy: 0.4731 - val_loss: 1.6032 - val_categorical_accuracy: 0.2250 - val_accuracy: 0.2250\n",
            "Epoch 50/150\n",
            "7/7 [==============================] - 2s 220ms/step - loss: 1.4827 - categorical_accuracy: 0.4351 - accuracy: 0.4351 - val_loss: 1.6031 - val_categorical_accuracy: 0.2250 - val_accuracy: 0.2250\n",
            "Epoch 51/150\n",
            "7/7 [==============================] - 2s 217ms/step - loss: 1.4691 - categorical_accuracy: 0.4577 - accuracy: 0.4577 - val_loss: 1.6031 - val_categorical_accuracy: 0.2250 - val_accuracy: 0.2250\n",
            "Epoch 52/150\n",
            "7/7 [==============================] - 2s 218ms/step - loss: 1.4572 - categorical_accuracy: 0.5097 - accuracy: 0.5097 - val_loss: 1.6031 - val_categorical_accuracy: 0.2250 - val_accuracy: 0.2250\n",
            "Epoch 53/150\n",
            "7/7 [==============================] - 1s 216ms/step - loss: 1.4810 - categorical_accuracy: 0.4626 - accuracy: 0.4626 - val_loss: 1.6031 - val_categorical_accuracy: 0.2250 - val_accuracy: 0.2250\n",
            "Epoch 54/150\n",
            "7/7 [==============================] - 2s 218ms/step - loss: 1.4631 - categorical_accuracy: 0.4704 - accuracy: 0.4704 - val_loss: 1.6032 - val_categorical_accuracy: 0.2250 - val_accuracy: 0.2250\n",
            "Epoch 55/150\n",
            "7/7 [==============================] - 2s 219ms/step - loss: 1.4488 - categorical_accuracy: 0.5076 - accuracy: 0.5076 - val_loss: 1.6033 - val_categorical_accuracy: 0.2250 - val_accuracy: 0.2250\n",
            "Epoch 56/150\n",
            "7/7 [==============================] - 2s 220ms/step - loss: 1.4598 - categorical_accuracy: 0.4709 - accuracy: 0.4709 - val_loss: 1.6034 - val_categorical_accuracy: 0.2250 - val_accuracy: 0.2250\n",
            "Epoch 57/150\n",
            "7/7 [==============================] - 2s 240ms/step - loss: 1.4289 - categorical_accuracy: 0.5455 - accuracy: 0.5455 - val_loss: 1.6034 - val_categorical_accuracy: 0.2250 - val_accuracy: 0.2250\n",
            "Epoch 58/150\n",
            "7/7 [==============================] - 2s 224ms/step - loss: 1.4545 - categorical_accuracy: 0.4822 - accuracy: 0.4822 - val_loss: 1.6035 - val_categorical_accuracy: 0.2250 - val_accuracy: 0.2250\n",
            "Epoch 59/150\n",
            "7/7 [==============================] - 2s 220ms/step - loss: 1.4483 - categorical_accuracy: 0.4910 - accuracy: 0.4910 - val_loss: 1.6036 - val_categorical_accuracy: 0.2250 - val_accuracy: 0.2250\n",
            "Epoch 60/150\n",
            "7/7 [==============================] - 2s 223ms/step - loss: 1.4370 - categorical_accuracy: 0.5448 - accuracy: 0.5448 - val_loss: 1.6035 - val_categorical_accuracy: 0.2250 - val_accuracy: 0.2250\n",
            "Epoch 61/150\n",
            "7/7 [==============================] - 2s 219ms/step - loss: 1.4641 - categorical_accuracy: 0.5216 - accuracy: 0.5216 - val_loss: 1.6036 - val_categorical_accuracy: 0.2250 - val_accuracy: 0.2250\n",
            "Epoch 62/150\n",
            "7/7 [==============================] - 2s 220ms/step - loss: 1.4266 - categorical_accuracy: 0.5326 - accuracy: 0.5326 - val_loss: 1.6036 - val_categorical_accuracy: 0.2250 - val_accuracy: 0.2250\n",
            "Epoch 63/150\n",
            "7/7 [==============================] - 2s 222ms/step - loss: 1.4530 - categorical_accuracy: 0.4994 - accuracy: 0.4994 - val_loss: 1.6036 - val_categorical_accuracy: 0.2250 - val_accuracy: 0.2250\n",
            "Epoch 64/150\n",
            "7/7 [==============================] - 2s 217ms/step - loss: 1.4321 - categorical_accuracy: 0.5254 - accuracy: 0.5254 - val_loss: 1.6036 - val_categorical_accuracy: 0.2250 - val_accuracy: 0.2250\n",
            "Epoch 65/150\n",
            "7/7 [==============================] - 2s 227ms/step - loss: 1.4360 - categorical_accuracy: 0.5375 - accuracy: 0.5375 - val_loss: 1.6037 - val_categorical_accuracy: 0.2250 - val_accuracy: 0.2250\n",
            "Epoch 66/150\n",
            "7/7 [==============================] - 2s 217ms/step - loss: 1.4451 - categorical_accuracy: 0.5252 - accuracy: 0.5252 - val_loss: 1.6036 - val_categorical_accuracy: 0.2250 - val_accuracy: 0.2250\n",
            "Epoch 67/150\n",
            "7/7 [==============================] - 2s 222ms/step - loss: 1.4387 - categorical_accuracy: 0.5283 - accuracy: 0.5283 - val_loss: 1.6037 - val_categorical_accuracy: 0.2250 - val_accuracy: 0.2250\n",
            "Epoch 68/150\n",
            "7/7 [==============================] - 2s 223ms/step - loss: 1.4255 - categorical_accuracy: 0.5467 - accuracy: 0.5467 - val_loss: 1.6036 - val_categorical_accuracy: 0.2250 - val_accuracy: 0.2250\n",
            "Epoch 69/150\n",
            "7/7 [==============================] - 2s 220ms/step - loss: 1.4209 - categorical_accuracy: 0.5649 - accuracy: 0.5649 - val_loss: 1.6036 - val_categorical_accuracy: 0.2250 - val_accuracy: 0.2250\n",
            "Epoch 70/150\n",
            "7/7 [==============================] - 2s 216ms/step - loss: 1.4245 - categorical_accuracy: 0.5519 - accuracy: 0.5519 - val_loss: 1.6037 - val_categorical_accuracy: 0.2250 - val_accuracy: 0.2250\n",
            "Epoch 71/150\n",
            "7/7 [==============================] - 2s 222ms/step - loss: 1.4176 - categorical_accuracy: 0.6160 - accuracy: 0.6160 - val_loss: 1.6038 - val_categorical_accuracy: 0.2250 - val_accuracy: 0.2250\n",
            "Epoch 72/150\n",
            "7/7 [==============================] - 2s 218ms/step - loss: 1.4304 - categorical_accuracy: 0.5519 - accuracy: 0.5519 - val_loss: 1.6039 - val_categorical_accuracy: 0.2250 - val_accuracy: 0.2250\n",
            "Epoch 73/150\n",
            "7/7 [==============================] - 2s 243ms/step - loss: 1.4362 - categorical_accuracy: 0.5088 - accuracy: 0.5088 - val_loss: 1.6039 - val_categorical_accuracy: 0.2250 - val_accuracy: 0.2250\n",
            "Epoch 74/150\n",
            "7/7 [==============================] - 2s 217ms/step - loss: 1.4030 - categorical_accuracy: 0.5673 - accuracy: 0.5673 - val_loss: 1.6041 - val_categorical_accuracy: 0.2375 - val_accuracy: 0.2375\n",
            "Epoch 75/150\n",
            "7/7 [==============================] - 2s 217ms/step - loss: 1.4012 - categorical_accuracy: 0.5948 - accuracy: 0.5948 - val_loss: 1.6041 - val_categorical_accuracy: 0.2375 - val_accuracy: 0.2375\n",
            "Epoch 76/150\n",
            "7/7 [==============================] - 2s 217ms/step - loss: 1.4147 - categorical_accuracy: 0.5936 - accuracy: 0.5936 - val_loss: 1.6041 - val_categorical_accuracy: 0.2250 - val_accuracy: 0.2250\n",
            "Epoch 77/150\n",
            "7/7 [==============================] - 2s 217ms/step - loss: 1.4152 - categorical_accuracy: 0.5740 - accuracy: 0.5740 - val_loss: 1.6041 - val_categorical_accuracy: 0.2375 - val_accuracy: 0.2375\n",
            "Epoch 78/150\n",
            "7/7 [==============================] - 2s 218ms/step - loss: 1.3969 - categorical_accuracy: 0.6088 - accuracy: 0.6088 - val_loss: 1.6043 - val_categorical_accuracy: 0.2375 - val_accuracy: 0.2375\n",
            "Epoch 79/150\n",
            "7/7 [==============================] - 2s 219ms/step - loss: 1.3902 - categorical_accuracy: 0.5802 - accuracy: 0.5802 - val_loss: 1.6044 - val_categorical_accuracy: 0.2375 - val_accuracy: 0.2375\n",
            "Epoch 80/150\n",
            "7/7 [==============================] - 1s 215ms/step - loss: 1.3987 - categorical_accuracy: 0.5981 - accuracy: 0.5981 - val_loss: 1.6045 - val_categorical_accuracy: 0.2375 - val_accuracy: 0.2375\n",
            "Epoch 81/150\n",
            "7/7 [==============================] - 2s 220ms/step - loss: 1.3797 - categorical_accuracy: 0.6469 - accuracy: 0.6469 - val_loss: 1.6044 - val_categorical_accuracy: 0.2375 - val_accuracy: 0.2375\n",
            "Epoch 82/150\n",
            "7/7 [==============================] - 2s 221ms/step - loss: 1.3810 - categorical_accuracy: 0.5957 - accuracy: 0.5957 - val_loss: 1.6046 - val_categorical_accuracy: 0.2375 - val_accuracy: 0.2375\n",
            "Epoch 83/150\n",
            "7/7 [==============================] - 2s 222ms/step - loss: 1.3927 - categorical_accuracy: 0.5855 - accuracy: 0.5855 - val_loss: 1.6047 - val_categorical_accuracy: 0.2375 - val_accuracy: 0.2375\n",
            "Epoch 84/150\n",
            "7/7 [==============================] - 1s 218ms/step - loss: 1.3714 - categorical_accuracy: 0.6307 - accuracy: 0.6307 - val_loss: 1.6047 - val_categorical_accuracy: 0.2375 - val_accuracy: 0.2375\n",
            "Epoch 85/150\n",
            "7/7 [==============================] - 2s 217ms/step - loss: 1.3644 - categorical_accuracy: 0.5979 - accuracy: 0.5979 - val_loss: 1.6047 - val_categorical_accuracy: 0.2375 - val_accuracy: 0.2375\n",
            "Epoch 86/150\n",
            "7/7 [==============================] - 2s 218ms/step - loss: 1.3863 - categorical_accuracy: 0.6073 - accuracy: 0.6073 - val_loss: 1.6048 - val_categorical_accuracy: 0.2375 - val_accuracy: 0.2375\n",
            "Epoch 87/150\n",
            "7/7 [==============================] - 2s 239ms/step - loss: 1.3784 - categorical_accuracy: 0.6635 - accuracy: 0.6635 - val_loss: 1.6049 - val_categorical_accuracy: 0.2375 - val_accuracy: 0.2375\n",
            "Epoch 88/150\n",
            "7/7 [==============================] - 2s 218ms/step - loss: 1.3751 - categorical_accuracy: 0.6674 - accuracy: 0.6674 - val_loss: 1.6049 - val_categorical_accuracy: 0.2375 - val_accuracy: 0.2375\n",
            "Epoch 89/150\n",
            "7/7 [==============================] - 1s 215ms/step - loss: 1.3423 - categorical_accuracy: 0.6719 - accuracy: 0.6719 - val_loss: 1.6049 - val_categorical_accuracy: 0.2375 - val_accuracy: 0.2375\n",
            "Epoch 90/150\n",
            "7/7 [==============================] - 2s 219ms/step - loss: 1.3781 - categorical_accuracy: 0.6433 - accuracy: 0.6433 - val_loss: 1.6049 - val_categorical_accuracy: 0.2375 - val_accuracy: 0.2375\n",
            "Epoch 91/150\n",
            "7/7 [==============================] - 2s 221ms/step - loss: 1.3791 - categorical_accuracy: 0.6254 - accuracy: 0.6254 - val_loss: 1.6049 - val_categorical_accuracy: 0.2375 - val_accuracy: 0.2375\n",
            "Epoch 92/150\n",
            "7/7 [==============================] - 1s 216ms/step - loss: 1.3625 - categorical_accuracy: 0.6262 - accuracy: 0.6262 - val_loss: 1.6049 - val_categorical_accuracy: 0.2375 - val_accuracy: 0.2375\n",
            "Epoch 93/150\n",
            "7/7 [==============================] - 2s 218ms/step - loss: 1.3785 - categorical_accuracy: 0.6283 - accuracy: 0.6283 - val_loss: 1.6051 - val_categorical_accuracy: 0.2375 - val_accuracy: 0.2375\n",
            "Epoch 94/150\n",
            "7/7 [==============================] - 2s 215ms/step - loss: 1.3568 - categorical_accuracy: 0.6598 - accuracy: 0.6598 - val_loss: 1.6051 - val_categorical_accuracy: 0.2375 - val_accuracy: 0.2375\n",
            "Epoch 95/150\n",
            "7/7 [==============================] - 1s 215ms/step - loss: 1.3716 - categorical_accuracy: 0.6385 - accuracy: 0.6385 - val_loss: 1.6052 - val_categorical_accuracy: 0.2375 - val_accuracy: 0.2375\n",
            "Epoch 96/150\n",
            "7/7 [==============================] - 2s 220ms/step - loss: 1.3683 - categorical_accuracy: 0.6450 - accuracy: 0.6450 - val_loss: 1.6053 - val_categorical_accuracy: 0.2375 - val_accuracy: 0.2375\n",
            "Epoch 97/150\n",
            "7/7 [==============================] - 1s 216ms/step - loss: 1.3524 - categorical_accuracy: 0.6742 - accuracy: 0.6742 - val_loss: 1.6055 - val_categorical_accuracy: 0.2375 - val_accuracy: 0.2375\n",
            "Epoch 98/150\n",
            "7/7 [==============================] - 2s 221ms/step - loss: 1.3558 - categorical_accuracy: 0.7176 - accuracy: 0.7176 - val_loss: 1.6056 - val_categorical_accuracy: 0.2375 - val_accuracy: 0.2375\n",
            "Epoch 99/150\n",
            "7/7 [==============================] - 2s 220ms/step - loss: 1.3345 - categorical_accuracy: 0.7133 - accuracy: 0.7133 - val_loss: 1.6056 - val_categorical_accuracy: 0.2375 - val_accuracy: 0.2375\n",
            "Epoch 100/150\n",
            "7/7 [==============================] - 2s 221ms/step - loss: 1.3378 - categorical_accuracy: 0.6825 - accuracy: 0.6825 - val_loss: 1.6057 - val_categorical_accuracy: 0.2375 - val_accuracy: 0.2375\n",
            "Epoch 101/150\n",
            "7/7 [==============================] - 2s 224ms/step - loss: 1.3344 - categorical_accuracy: 0.6934 - accuracy: 0.6934 - val_loss: 1.6059 - val_categorical_accuracy: 0.2375 - val_accuracy: 0.2375\n",
            "Epoch 102/150\n",
            "7/7 [==============================] - 2s 232ms/step - loss: 1.3614 - categorical_accuracy: 0.6648 - accuracy: 0.6648 - val_loss: 1.6059 - val_categorical_accuracy: 0.2375 - val_accuracy: 0.2375\n",
            "Epoch 103/150\n",
            "7/7 [==============================] - 2s 226ms/step - loss: 1.3420 - categorical_accuracy: 0.6617 - accuracy: 0.6617 - val_loss: 1.6061 - val_categorical_accuracy: 0.2375 - val_accuracy: 0.2375\n",
            "Epoch 104/150\n",
            "7/7 [==============================] - 2s 233ms/step - loss: 1.3280 - categorical_accuracy: 0.6806 - accuracy: 0.6806 - val_loss: 1.6063 - val_categorical_accuracy: 0.2375 - val_accuracy: 0.2375\n",
            "Epoch 105/150\n",
            "7/7 [==============================] - 2s 217ms/step - loss: 1.3517 - categorical_accuracy: 0.6366 - accuracy: 0.6366 - val_loss: 1.6064 - val_categorical_accuracy: 0.2375 - val_accuracy: 0.2375\n",
            "Epoch 106/150\n",
            "7/7 [==============================] - 2s 219ms/step - loss: 1.3317 - categorical_accuracy: 0.6901 - accuracy: 0.6901 - val_loss: 1.6064 - val_categorical_accuracy: 0.2375 - val_accuracy: 0.2375\n",
            "Epoch 107/150\n",
            "7/7 [==============================] - 1s 216ms/step - loss: 1.3327 - categorical_accuracy: 0.6838 - accuracy: 0.6838 - val_loss: 1.6064 - val_categorical_accuracy: 0.2375 - val_accuracy: 0.2375\n",
            "Epoch 108/150\n",
            "7/7 [==============================] - 2s 243ms/step - loss: 1.3251 - categorical_accuracy: 0.6536 - accuracy: 0.6536 - val_loss: 1.6065 - val_categorical_accuracy: 0.2375 - val_accuracy: 0.2375\n",
            "Epoch 109/150\n",
            "7/7 [==============================] - 2s 220ms/step - loss: 1.3279 - categorical_accuracy: 0.7057 - accuracy: 0.7057 - val_loss: 1.6066 - val_categorical_accuracy: 0.2375 - val_accuracy: 0.2375\n",
            "Epoch 110/150\n",
            "7/7 [==============================] - 2s 219ms/step - loss: 1.3351 - categorical_accuracy: 0.7151 - accuracy: 0.7151 - val_loss: 1.6067 - val_categorical_accuracy: 0.2250 - val_accuracy: 0.2250\n",
            "Epoch 111/150\n",
            "7/7 [==============================] - 2s 219ms/step - loss: 1.3328 - categorical_accuracy: 0.7268 - accuracy: 0.7268 - val_loss: 1.6068 - val_categorical_accuracy: 0.2375 - val_accuracy: 0.2375\n",
            "Epoch 112/150\n",
            "7/7 [==============================] - 2s 214ms/step - loss: 1.3125 - categorical_accuracy: 0.7527 - accuracy: 0.7527 - val_loss: 1.6070 - val_categorical_accuracy: 0.2250 - val_accuracy: 0.2250\n",
            "Epoch 113/150\n",
            "7/7 [==============================] - 2s 218ms/step - loss: 1.3081 - categorical_accuracy: 0.7329 - accuracy: 0.7329 - val_loss: 1.6070 - val_categorical_accuracy: 0.2250 - val_accuracy: 0.2250\n",
            "Epoch 114/150\n",
            "7/7 [==============================] - 1s 214ms/step - loss: 1.3130 - categorical_accuracy: 0.7372 - accuracy: 0.7372 - val_loss: 1.6070 - val_categorical_accuracy: 0.2250 - val_accuracy: 0.2250\n",
            "Epoch 115/150\n",
            "7/7 [==============================] - 2s 216ms/step - loss: 1.3189 - categorical_accuracy: 0.7289 - accuracy: 0.7289 - val_loss: 1.6070 - val_categorical_accuracy: 0.2250 - val_accuracy: 0.2250\n",
            "Epoch 116/150\n",
            "7/7 [==============================] - 2s 220ms/step - loss: 1.3187 - categorical_accuracy: 0.7009 - accuracy: 0.7009 - val_loss: 1.6069 - val_categorical_accuracy: 0.2250 - val_accuracy: 0.2250\n",
            "Epoch 117/150\n",
            "7/7 [==============================] - 1s 216ms/step - loss: 1.3057 - categorical_accuracy: 0.7011 - accuracy: 0.7011 - val_loss: 1.6070 - val_categorical_accuracy: 0.2250 - val_accuracy: 0.2250\n",
            "Epoch 118/150\n",
            "7/7 [==============================] - 2s 224ms/step - loss: 1.3080 - categorical_accuracy: 0.7407 - accuracy: 0.7407 - val_loss: 1.6071 - val_categorical_accuracy: 0.2250 - val_accuracy: 0.2250\n",
            "Epoch 119/150\n",
            "7/7 [==============================] - 1s 216ms/step - loss: 1.2955 - categorical_accuracy: 0.7345 - accuracy: 0.7345 - val_loss: 1.6071 - val_categorical_accuracy: 0.2250 - val_accuracy: 0.2250\n",
            "Epoch 120/150\n",
            "7/7 [==============================] - 2s 221ms/step - loss: 1.3000 - categorical_accuracy: 0.7153 - accuracy: 0.7153 - val_loss: 1.6073 - val_categorical_accuracy: 0.2250 - val_accuracy: 0.2250\n",
            "Epoch 121/150\n",
            "7/7 [==============================] - 2s 218ms/step - loss: 1.2985 - categorical_accuracy: 0.7479 - accuracy: 0.7479 - val_loss: 1.6073 - val_categorical_accuracy: 0.2250 - val_accuracy: 0.2250\n",
            "Epoch 122/150\n",
            "7/7 [==============================] - 2s 223ms/step - loss: 1.3049 - categorical_accuracy: 0.7411 - accuracy: 0.7411 - val_loss: 1.6075 - val_categorical_accuracy: 0.2250 - val_accuracy: 0.2250\n",
            "Epoch 123/150\n",
            "7/7 [==============================] - 2s 220ms/step - loss: 1.2910 - categorical_accuracy: 0.7572 - accuracy: 0.7572 - val_loss: 1.6075 - val_categorical_accuracy: 0.2250 - val_accuracy: 0.2250\n",
            "Epoch 124/150\n",
            "7/7 [==============================] - 2s 218ms/step - loss: 1.2928 - categorical_accuracy: 0.7323 - accuracy: 0.7323 - val_loss: 1.6076 - val_categorical_accuracy: 0.2250 - val_accuracy: 0.2250\n",
            "Epoch 125/150\n",
            "7/7 [==============================] - 2s 219ms/step - loss: 1.3077 - categorical_accuracy: 0.7019 - accuracy: 0.7019 - val_loss: 1.6076 - val_categorical_accuracy: 0.2250 - val_accuracy: 0.2250\n",
            "Epoch 126/150\n",
            "7/7 [==============================] - 2s 221ms/step - loss: 1.2859 - categorical_accuracy: 0.7732 - accuracy: 0.7732 - val_loss: 1.6077 - val_categorical_accuracy: 0.2250 - val_accuracy: 0.2250\n",
            "Epoch 127/150\n",
            "7/7 [==============================] - 2s 219ms/step - loss: 1.2948 - categorical_accuracy: 0.7363 - accuracy: 0.7363 - val_loss: 1.6076 - val_categorical_accuracy: 0.2250 - val_accuracy: 0.2250\n",
            "Epoch 128/150\n",
            "7/7 [==============================] - 2s 224ms/step - loss: 1.2813 - categorical_accuracy: 0.7485 - accuracy: 0.7485 - val_loss: 1.6077 - val_categorical_accuracy: 0.2250 - val_accuracy: 0.2250\n",
            "Epoch 129/150\n",
            "7/7 [==============================] - 2s 243ms/step - loss: 1.2796 - categorical_accuracy: 0.7372 - accuracy: 0.7372 - val_loss: 1.6079 - val_categorical_accuracy: 0.2250 - val_accuracy: 0.2250\n",
            "Epoch 130/150\n",
            "7/7 [==============================] - 2s 219ms/step - loss: 1.2809 - categorical_accuracy: 0.7451 - accuracy: 0.7451 - val_loss: 1.6080 - val_categorical_accuracy: 0.2250 - val_accuracy: 0.2250\n",
            "Epoch 131/150\n",
            "7/7 [==============================] - 2s 220ms/step - loss: 1.2809 - categorical_accuracy: 0.7686 - accuracy: 0.7686 - val_loss: 1.6080 - val_categorical_accuracy: 0.2375 - val_accuracy: 0.2375\n",
            "Epoch 132/150\n",
            "7/7 [==============================] - 2s 219ms/step - loss: 1.2847 - categorical_accuracy: 0.7417 - accuracy: 0.7417 - val_loss: 1.6082 - val_categorical_accuracy: 0.2375 - val_accuracy: 0.2375\n",
            "Epoch 133/150\n",
            "7/7 [==============================] - 2s 223ms/step - loss: 1.2770 - categorical_accuracy: 0.7359 - accuracy: 0.7359 - val_loss: 1.6083 - val_categorical_accuracy: 0.2500 - val_accuracy: 0.2500\n",
            "Epoch 134/150\n",
            "7/7 [==============================] - 2s 220ms/step - loss: 1.2681 - categorical_accuracy: 0.7277 - accuracy: 0.7277 - val_loss: 1.6083 - val_categorical_accuracy: 0.2500 - val_accuracy: 0.2500\n",
            "Epoch 135/150\n",
            "7/7 [==============================] - 2s 218ms/step - loss: 1.2637 - categorical_accuracy: 0.7360 - accuracy: 0.7360 - val_loss: 1.6082 - val_categorical_accuracy: 0.2500 - val_accuracy: 0.2500\n",
            "Epoch 136/150\n",
            "7/7 [==============================] - 2s 219ms/step - loss: 1.2623 - categorical_accuracy: 0.7423 - accuracy: 0.7423 - val_loss: 1.6084 - val_categorical_accuracy: 0.2500 - val_accuracy: 0.2500\n",
            "Epoch 137/150\n",
            "7/7 [==============================] - 2s 222ms/step - loss: 1.2901 - categorical_accuracy: 0.7702 - accuracy: 0.7702 - val_loss: 1.6086 - val_categorical_accuracy: 0.2500 - val_accuracy: 0.2500\n",
            "Epoch 138/150\n",
            "7/7 [==============================] - 2s 225ms/step - loss: 1.2566 - categorical_accuracy: 0.7865 - accuracy: 0.7865 - val_loss: 1.6087 - val_categorical_accuracy: 0.2500 - val_accuracy: 0.2500\n",
            "Epoch 139/150\n",
            "7/7 [==============================] - 2s 218ms/step - loss: 1.2538 - categorical_accuracy: 0.7777 - accuracy: 0.7777 - val_loss: 1.6088 - val_categorical_accuracy: 0.2625 - val_accuracy: 0.2625\n",
            "Epoch 140/150\n",
            "7/7 [==============================] - 2s 216ms/step - loss: 1.2316 - categorical_accuracy: 0.8059 - accuracy: 0.8059 - val_loss: 1.6089 - val_categorical_accuracy: 0.2750 - val_accuracy: 0.2750\n",
            "Epoch 141/150\n",
            "7/7 [==============================] - 2s 218ms/step - loss: 1.2642 - categorical_accuracy: 0.7551 - accuracy: 0.7551 - val_loss: 1.6089 - val_categorical_accuracy: 0.2750 - val_accuracy: 0.2750\n",
            "Epoch 142/150\n",
            "7/7 [==============================] - 2s 222ms/step - loss: 1.2689 - categorical_accuracy: 0.7321 - accuracy: 0.7321 - val_loss: 1.6090 - val_categorical_accuracy: 0.2750 - val_accuracy: 0.2750\n",
            "Epoch 143/150\n",
            "7/7 [==============================] - 2s 218ms/step - loss: 1.2487 - categorical_accuracy: 0.7459 - accuracy: 0.7459 - val_loss: 1.6092 - val_categorical_accuracy: 0.2750 - val_accuracy: 0.2750\n",
            "Epoch 144/150\n",
            "7/7 [==============================] - 2s 218ms/step - loss: 1.2548 - categorical_accuracy: 0.7831 - accuracy: 0.7831 - val_loss: 1.6092 - val_categorical_accuracy: 0.2750 - val_accuracy: 0.2750\n",
            "Epoch 145/150\n",
            "7/7 [==============================] - 2s 218ms/step - loss: 1.2502 - categorical_accuracy: 0.7701 - accuracy: 0.7701 - val_loss: 1.6094 - val_categorical_accuracy: 0.2750 - val_accuracy: 0.2750\n",
            "Epoch 146/150\n",
            "7/7 [==============================] - 2s 218ms/step - loss: 1.2484 - categorical_accuracy: 0.7879 - accuracy: 0.7879 - val_loss: 1.6095 - val_categorical_accuracy: 0.2750 - val_accuracy: 0.2750\n",
            "Epoch 147/150\n",
            "7/7 [==============================] - 2s 218ms/step - loss: 1.2605 - categorical_accuracy: 0.7872 - accuracy: 0.7872 - val_loss: 1.6095 - val_categorical_accuracy: 0.2750 - val_accuracy: 0.2750\n",
            "Epoch 148/150\n",
            "7/7 [==============================] - 2s 219ms/step - loss: 1.2389 - categorical_accuracy: 0.7984 - accuracy: 0.7984 - val_loss: 1.6096 - val_categorical_accuracy: 0.2750 - val_accuracy: 0.2750\n",
            "Epoch 149/150\n",
            "7/7 [==============================] - 2s 240ms/step - loss: 1.2478 - categorical_accuracy: 0.7890 - accuracy: 0.7890 - val_loss: 1.6098 - val_categorical_accuracy: 0.2750 - val_accuracy: 0.2750\n",
            "Epoch 150/150\n",
            "7/7 [==============================] - 1s 217ms/step - loss: 1.2303 - categorical_accuracy: 0.7607 - accuracy: 0.7607 - val_loss: 1.6101 - val_categorical_accuracy: 0.2750 - val_accuracy: 0.2750\n",
            "4/4 [==============================] - 0s 38ms/step - loss: 1.6100 - categorical_accuracy: 0.2100 - accuracy: 0.2100\n",
            "[[ 9  3  3  5  0]\n",
            " [10  2  3  5  0]\n",
            " [ 6  3  2  9  0]\n",
            " [ 9  2  2  7  0]\n",
            " [13  3  0  3  1]]\n",
            "              precision    recall  f1-score   support\n",
            "\n",
            "          DN       0.19      0.45      0.27        20\n",
            "         GOF       0.15      0.10      0.12        20\n",
            "          HI       0.20      0.10      0.13        20\n",
            "         LOF       0.24      0.35      0.29        20\n",
            "        none       1.00      0.05      0.10        20\n",
            "\n",
            "    accuracy                           0.21       100\n",
            "   macro avg       0.36      0.21      0.18       100\n",
            "weighted avg       0.36      0.21      0.18       100\n",
            "\n"
          ],
          "name": "stdout"
        }
      ]
    },
    {
      "cell_type": "code",
      "metadata": {
        "id": "4XDQ-2FhzQgy",
        "colab": {
          "base_uri": "https://localhost:8080/",
          "height": 611
        },
        "outputId": "002d08dd-7f89-42d5-85a4-063eca0ab77c"
      },
      "source": [
        "with open('/content/%s' %modelName, 'wb') as file_pi:\r\n",
        "        pickle.dump(history.history, file_pi)\r\n",
        "history = pickle.load(open('/content/%s' % modelName, \"rb\"))\r\n",
        "model.save(modelName +'.h5')\r\n",
        "plot(history)\r\n",
        "with open('/content/%s_train' %modelName, 'wb') as file_pi:\r\n",
        "        pickle.dump(X_train, file_pi)\r\n",
        "with open('/content/%s_test' %modelName, 'wb') as file_pi:\r\n",
        "        pickle.dump(X_test, file_pi)\r\n",
        "with open('/content/%s_Labeltest' %modelName, 'wb') as file_pi:\r\n",
        "        pickle.dump(y_test, file_pi)\r\n",
        "with open('/content/%s_LabelTrain' %modelName, 'wb') as file_pi:\r\n",
        "        pickle.dump(y_train, file_pi)\r\n",
        "with open('/content/%s_ConfusionMatrix' %modelName, 'wb') as file_pi:\r\n",
        "        pickle.dump(confusion_matrix(y_test.argmax(axis=-1), model.predict(X_test).argmax(axis=-1)), file_pi)\r\n",
        "with open('/content/%s_ClassificationReport' %modelName, 'wb') as file_pi:\r\n",
        "        pickle.dump(classification_report(y_test.argmax(axis=-1), model.predict(X_test).argmax(axis=-1), target_names=ClassNames), file_pi)"
      ],
      "execution_count": 27,
      "outputs": [
        {
          "output_type": "stream",
          "text": [
            "dict_keys(['loss', 'categorical_accuracy', 'accuracy', 'val_loss', 'val_categorical_accuracy', 'val_accuracy'])\n"
          ],
          "name": "stdout"
        },
        {
          "output_type": "display_data",
          "data": {
            "image/png": "[encoded data removed]",
            "text/plain": [
              "<Figure size 432x288 with 1 Axes>"
            ]
          },
          "metadata": {
            "tags": [],
            "needs_background": "light"
          }
        },
        {
          "output_type": "display_data",
          "data": {
            "image/png": "[encoded data removed]",
            "text/plain": [
              "<Figure size 432x288 with 1 Axes>"
            ]
          },
          "metadata": {
            "tags": [],
            "needs_background": "light"
          }
        }
      ]
    },
    {
      "cell_type": "code",
      "metadata": {
        "id": "o5_QoMrvbf3u"
      },
      "source": [
        ""
      ],
      "execution_count": null,
      "outputs": []
    },
    {
      "cell_type": "markdown",
      "metadata": {
        "id": "hNoPI1DXQqXS"
      },
      "source": [
        "Running above solution with reduced text and preprocessing"
      ]
    },
    {
      "cell_type": "code",
      "metadata": {
        "colab": {
          "resources": {
            "http://localhost:8080/nbextensions/google.colab/files.js": {
              "data": "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",
              "ok": true,
              "headers": [
                [
                  "content-type",
                  "application/javascript"
                ]
              ],
              "status": 200,
              "status_text": ""
            }
          },
          "base_uri": "https://localhost:8080/",
          "height": 90
        },
        "id": "8jyx83FyQuuF",
        "outputId": "126e53b5-c061-44fe-a0e5-7959fcdf1d24"
      },
      "source": [
        "uploaded = files.upload()"
      ],
      "execution_count": 29,
      "outputs": [
        {
          "output_type": "display_data",
          "data": {
            "text/html": [
              "\n",
              "     <input type=\"file\" id=\"files-3eaf02a5-9804-4315-9215-b54726c0e3b2\" name=\"files[]\" multiple disabled\n",
              "        style=\"border:none\" />\n",
              "     <output id=\"result-3eaf02a5-9804-4315-9215-b54726c0e3b2\">\n",
              "      Upload widget is only available when the cell has been executed in the\n",
              "      current browser session. Please rerun this cell to enable.\n",
              "      </output>\n",
              "      <script src=\"/nbextensions/google.colab/files.js\"></script> "
            ],
            "text/plain": [
              "<IPython.core.display.HTML object>"
            ]
          },
          "metadata": {
            "tags": []
          }
        },
        {
          "output_type": "stream",
          "text": [
            "Saving Data_v2.xlsx to Data_v2.xlsx\n"
          ],
          "name": "stdout"
        }
      ]
    },
    {
      "cell_type": "code",
      "metadata": {
        "id": "qO6E8iblRceW"
      },
      "source": [
        "modelName = 'Model2' #name of the model, this will be used to save model evaluation and history\r\n",
        "numEpochs  = 150 # maximum number of epochs if early stopping doesnt work\r\n",
        "batchsize = 50 # batchsize which will be used in each step by optimizer defined in the model\r\n",
        "optimizer = 'adam' #optimizer to be used in model.fit keras method\r\n"
      ],
      "execution_count": 30,
      "outputs": []
    },
    {
      "cell_type": "markdown",
      "metadata": {
        "id": "j7b44hkrUXBf"
      },
      "source": [
        "Calling the above pipeline again with new parameters"
      ]
    },
    {
      "cell_type": "code",
      "metadata": {
        "colab": {
          "base_uri": "https://localhost:8080/"
        },
        "id": "WgudN5NgUbcu",
        "outputId": "26cf109f-f128-447d-9ea3-9e4192fb20e2"
      },
      "source": [
        "X, y = Preprocessing()\r\n",
        "X_train, X_test, y_train, y_test, ClassNames = TrainTestSplit(X, y)\r\n",
        "model = ModelBuild(X_train, y_train)\r\n",
        "PlotModel(model, modelName +\".png\")\r\n",
        "history = PlotTraining(model, X_test, y_test)\r\n",
        "print(confusion_matrix(y_test.argmax(axis=-1),model.predict(X_test).argmax(axis=-1)))\r\n",
        "print(classification_report(y_test.argmax(axis=-1), model.predict(X_test).argmax(axis=-1),target_names=ClassNames))\r\n"
      ],
      "execution_count": 36,
      "outputs": [
        {
          "output_type": "stream",
          "text": [
            "Model: \"model_1\"\n",
            "_________________________________________________________________\n",
            "Layer (type)                 Output Shape              Param #   \n",
            "=================================================================\n",
            "input_2 (InputLayer)         [(None, 55389)]           0         \n",
            "_________________________________________________________________\n",
            "dense_3 (Dense)              (None, 500)               27695000  \n",
            "_________________________________________________________________\n",
            "dense_4 (Dense)              (None, 100)               50100     \n",
            "_________________________________________________________________\n",
            "dense_5 (Dense)              (None, 5)                 505       \n",
            "=================================================================\n",
            "Total params: 27,745,605\n",
            "Trainable params: 27,745,605\n",
            "Non-trainable params: 0\n",
            "_________________________________________________________________\n",
            "Epoch 1/150\n",
            "7/7 [==============================] - 2s 268ms/step - loss: 1.5695 - categorical_accuracy: 0.2738 - accuracy: 0.2738 - val_loss: 1.3374 - val_categorical_accuracy: 0.6364 - val_accuracy: 0.6364\n",
            "Epoch 2/150\n",
            "7/7 [==============================] - 2s 235ms/step - loss: 0.5004 - categorical_accuracy: 0.9324 - accuracy: 0.9324 - val_loss: 1.4829 - val_categorical_accuracy: 0.6364 - val_accuracy: 0.6364\n",
            "Epoch 3/150\n",
            "7/7 [==============================] - 2s 238ms/step - loss: 0.1755 - categorical_accuracy: 0.9727 - accuracy: 0.9727 - val_loss: 1.9200 - val_categorical_accuracy: 0.5714 - val_accuracy: 0.5714\n",
            "Epoch 4/150\n",
            "7/7 [==============================] - 2s 235ms/step - loss: 0.0752 - categorical_accuracy: 0.9793 - accuracy: 0.9793 - val_loss: 2.3246 - val_categorical_accuracy: 0.6104 - val_accuracy: 0.6104\n",
            "Epoch 5/150\n",
            "7/7 [==============================] - 2s 238ms/step - loss: 0.0606 - categorical_accuracy: 0.9759 - accuracy: 0.9759 - val_loss: 2.5312 - val_categorical_accuracy: 0.6234 - val_accuracy: 0.6234\n",
            "Epoch 6/150\n",
            "7/7 [==============================] - 2s 269ms/step - loss: 0.0578 - categorical_accuracy: 0.9775 - accuracy: 0.9775 - val_loss: 2.5172 - val_categorical_accuracy: 0.6104 - val_accuracy: 0.6104\n",
            "Epoch 7/150\n",
            "7/7 [==============================] - 2s 233ms/step - loss: 0.0360 - categorical_accuracy: 0.9819 - accuracy: 0.9819 - val_loss: 2.5284 - val_categorical_accuracy: 0.6104 - val_accuracy: 0.6104\n",
            "Epoch 8/150\n",
            "7/7 [==============================] - 2s 230ms/step - loss: 0.0478 - categorical_accuracy: 0.9859 - accuracy: 0.9859 - val_loss: 2.5672 - val_categorical_accuracy: 0.5714 - val_accuracy: 0.5714\n",
            "Epoch 9/150\n",
            "7/7 [==============================] - 2s 226ms/step - loss: 0.0928 - categorical_accuracy: 0.9899 - accuracy: 0.9899 - val_loss: 2.6665 - val_categorical_accuracy: 0.5584 - val_accuracy: 0.5584\n",
            "Epoch 10/150\n",
            "7/7 [==============================] - 2s 228ms/step - loss: 0.0700 - categorical_accuracy: 0.9818 - accuracy: 0.9818 - val_loss: 2.5901 - val_categorical_accuracy: 0.5714 - val_accuracy: 0.5714\n",
            "Epoch 11/150\n",
            "7/7 [==============================] - 2s 228ms/step - loss: 0.0588 - categorical_accuracy: 0.9781 - accuracy: 0.9781 - val_loss: 2.4994 - val_categorical_accuracy: 0.5974 - val_accuracy: 0.5974\n",
            "Epoch 12/150\n",
            "7/7 [==============================] - 2s 228ms/step - loss: 0.0321 - categorical_accuracy: 0.9884 - accuracy: 0.9884 - val_loss: 2.4964 - val_categorical_accuracy: 0.5974 - val_accuracy: 0.5974\n",
            "Epoch 13/150\n",
            "7/7 [==============================] - 2s 230ms/step - loss: 0.0412 - categorical_accuracy: 0.9842 - accuracy: 0.9842 - val_loss: 2.4833 - val_categorical_accuracy: 0.5844 - val_accuracy: 0.5844\n",
            "Epoch 14/150\n",
            "7/7 [==============================] - 2s 229ms/step - loss: 0.0265 - categorical_accuracy: 0.9921 - accuracy: 0.9921 - val_loss: 2.4687 - val_categorical_accuracy: 0.5844 - val_accuracy: 0.5844\n",
            "Epoch 15/150\n",
            "7/7 [==============================] - 2s 233ms/step - loss: 0.0426 - categorical_accuracy: 0.9865 - accuracy: 0.9865 - val_loss: 2.4541 - val_categorical_accuracy: 0.6104 - val_accuracy: 0.6104\n",
            "Epoch 16/150\n",
            "7/7 [==============================] - 2s 228ms/step - loss: 0.0360 - categorical_accuracy: 0.9857 - accuracy: 0.9857 - val_loss: 2.4937 - val_categorical_accuracy: 0.5974 - val_accuracy: 0.5974\n",
            "Epoch 17/150\n",
            "7/7 [==============================] - 2s 228ms/step - loss: 0.0213 - categorical_accuracy: 0.9906 - accuracy: 0.9906 - val_loss: 2.5171 - val_categorical_accuracy: 0.6104 - val_accuracy: 0.6104\n",
            "Epoch 18/150\n",
            "7/7 [==============================] - 2s 228ms/step - loss: 0.0320 - categorical_accuracy: 0.9818 - accuracy: 0.9818 - val_loss: 2.5628 - val_categorical_accuracy: 0.5974 - val_accuracy: 0.5974\n",
            "Epoch 19/150\n",
            "7/7 [==============================] - 2s 227ms/step - loss: 0.0231 - categorical_accuracy: 0.9882 - accuracy: 0.9882 - val_loss: 2.5661 - val_categorical_accuracy: 0.5974 - val_accuracy: 0.5974\n",
            "Epoch 20/150\n",
            "7/7 [==============================] - 2s 228ms/step - loss: 0.0326 - categorical_accuracy: 0.9881 - accuracy: 0.9881 - val_loss: 2.5363 - val_categorical_accuracy: 0.5974 - val_accuracy: 0.5974\n",
            "Epoch 21/150\n",
            "7/7 [==============================] - 2s 225ms/step - loss: 0.0280 - categorical_accuracy: 0.9839 - accuracy: 0.9839 - val_loss: 2.5081 - val_categorical_accuracy: 0.5974 - val_accuracy: 0.5974\n",
            "Epoch 22/150\n",
            "7/7 [==============================] - 2s 231ms/step - loss: 0.0215 - categorical_accuracy: 0.9820 - accuracy: 0.9820 - val_loss: 2.4980 - val_categorical_accuracy: 0.6104 - val_accuracy: 0.6104\n",
            "Epoch 23/150\n",
            "7/7 [==============================] - 2s 250ms/step - loss: 0.0189 - categorical_accuracy: 0.9826 - accuracy: 0.9826 - val_loss: 2.4890 - val_categorical_accuracy: 0.6104 - val_accuracy: 0.6104\n",
            "Epoch 24/150\n",
            "7/7 [==============================] - 2s 230ms/step - loss: 0.0141 - categorical_accuracy: 0.9895 - accuracy: 0.9895 - val_loss: 2.5021 - val_categorical_accuracy: 0.6104 - val_accuracy: 0.6104\n",
            "Epoch 25/150\n",
            "7/7 [==============================] - 2s 228ms/step - loss: 0.0232 - categorical_accuracy: 0.9783 - accuracy: 0.9783 - val_loss: 2.5163 - val_categorical_accuracy: 0.6104 - val_accuracy: 0.6104\n",
            "Epoch 26/150\n",
            "7/7 [==============================] - 2s 229ms/step - loss: 0.0191 - categorical_accuracy: 0.9926 - accuracy: 0.9926 - val_loss: 2.5147 - val_categorical_accuracy: 0.6104 - val_accuracy: 0.6104\n",
            "Epoch 27/150\n",
            "7/7 [==============================] - 2s 230ms/step - loss: 0.0244 - categorical_accuracy: 0.9907 - accuracy: 0.9907 - val_loss: 2.5307 - val_categorical_accuracy: 0.6104 - val_accuracy: 0.6104\n",
            "Epoch 28/150\n",
            "7/7 [==============================] - 2s 229ms/step - loss: 0.0202 - categorical_accuracy: 0.9834 - accuracy: 0.9834 - val_loss: 2.5760 - val_categorical_accuracy: 0.6104 - val_accuracy: 0.6104\n",
            "Epoch 29/150\n",
            "7/7 [==============================] - 2s 230ms/step - loss: 0.0238 - categorical_accuracy: 0.9813 - accuracy: 0.9813 - val_loss: 2.5627 - val_categorical_accuracy: 0.6104 - val_accuracy: 0.6104\n",
            "Epoch 30/150\n",
            "7/7 [==============================] - 2s 228ms/step - loss: 0.0206 - categorical_accuracy: 0.9784 - accuracy: 0.9784 - val_loss: 2.5765 - val_categorical_accuracy: 0.6104 - val_accuracy: 0.6104\n",
            "Epoch 31/150\n",
            "7/7 [==============================] - 2s 230ms/step - loss: 0.0240 - categorical_accuracy: 0.9867 - accuracy: 0.9867 - val_loss: 2.5787 - val_categorical_accuracy: 0.6104 - val_accuracy: 0.6104\n",
            "Epoch 32/150\n",
            "7/7 [==============================] - 2s 228ms/step - loss: 0.0256 - categorical_accuracy: 0.9794 - accuracy: 0.9794 - val_loss: 2.5785 - val_categorical_accuracy: 0.6104 - val_accuracy: 0.6104\n",
            "Epoch 33/150\n",
            "7/7 [==============================] - 2s 230ms/step - loss: 0.0230 - categorical_accuracy: 0.9814 - accuracy: 0.9814 - val_loss: 2.6078 - val_categorical_accuracy: 0.6104 - val_accuracy: 0.6104\n",
            "Epoch 34/150\n",
            "7/7 [==============================] - 2s 230ms/step - loss: 0.0188 - categorical_accuracy: 0.9874 - accuracy: 0.9874 - val_loss: 2.6180 - val_categorical_accuracy: 0.6104 - val_accuracy: 0.6104\n",
            "Epoch 35/150\n",
            "7/7 [==============================] - 2s 230ms/step - loss: 0.0381 - categorical_accuracy: 0.9869 - accuracy: 0.9869 - val_loss: 2.7025 - val_categorical_accuracy: 0.5455 - val_accuracy: 0.5455\n",
            "Epoch 36/150\n",
            "7/7 [==============================] - 2s 231ms/step - loss: 0.0677 - categorical_accuracy: 0.9758 - accuracy: 0.9758 - val_loss: 2.6749 - val_categorical_accuracy: 0.5455 - val_accuracy: 0.5455\n",
            "Epoch 37/150\n",
            "7/7 [==============================] - 2s 232ms/step - loss: 0.0483 - categorical_accuracy: 0.9836 - accuracy: 0.9836 - val_loss: 2.6163 - val_categorical_accuracy: 0.5714 - val_accuracy: 0.5714\n",
            "Epoch 38/150\n",
            "7/7 [==============================] - 2s 231ms/step - loss: 0.0238 - categorical_accuracy: 0.9807 - accuracy: 0.9807 - val_loss: 2.6076 - val_categorical_accuracy: 0.5974 - val_accuracy: 0.5974\n",
            "Epoch 39/150\n",
            "7/7 [==============================] - 2s 253ms/step - loss: 0.0162 - categorical_accuracy: 0.9862 - accuracy: 0.9862 - val_loss: 2.6158 - val_categorical_accuracy: 0.6234 - val_accuracy: 0.6234\n",
            "Epoch 40/150\n",
            "7/7 [==============================] - 2s 230ms/step - loss: 0.0331 - categorical_accuracy: 0.9788 - accuracy: 0.9788 - val_loss: 2.6012 - val_categorical_accuracy: 0.6104 - val_accuracy: 0.6104\n",
            "Epoch 41/150\n",
            "7/7 [==============================] - 2s 232ms/step - loss: 0.0326 - categorical_accuracy: 0.9903 - accuracy: 0.9903 - val_loss: 2.5301 - val_categorical_accuracy: 0.6104 - val_accuracy: 0.6104\n",
            "Epoch 42/150\n",
            "7/7 [==============================] - 2s 234ms/step - loss: 0.0830 - categorical_accuracy: 0.9789 - accuracy: 0.9789 - val_loss: 2.5265 - val_categorical_accuracy: 0.6104 - val_accuracy: 0.6104\n",
            "Epoch 43/150\n",
            "7/7 [==============================] - 2s 233ms/step - loss: 0.0230 - categorical_accuracy: 0.9869 - accuracy: 0.9869 - val_loss: 2.5262 - val_categorical_accuracy: 0.6104 - val_accuracy: 0.6104\n",
            "Epoch 44/150\n",
            "7/7 [==============================] - 2s 227ms/step - loss: 0.0182 - categorical_accuracy: 0.9865 - accuracy: 0.9865 - val_loss: 2.6183 - val_categorical_accuracy: 0.6104 - val_accuracy: 0.6104\n",
            "Epoch 45/150\n",
            "7/7 [==============================] - 2s 232ms/step - loss: 0.0188 - categorical_accuracy: 0.9903 - accuracy: 0.9903 - val_loss: 2.6366 - val_categorical_accuracy: 0.5974 - val_accuracy: 0.5974\n",
            "Epoch 46/150\n",
            "7/7 [==============================] - 2s 231ms/step - loss: 0.0205 - categorical_accuracy: 0.9851 - accuracy: 0.9851 - val_loss: 2.6301 - val_categorical_accuracy: 0.5974 - val_accuracy: 0.5974\n",
            "Epoch 47/150\n",
            "7/7 [==============================] - 2s 230ms/step - loss: 0.0301 - categorical_accuracy: 0.9823 - accuracy: 0.9823 - val_loss: 2.6482 - val_categorical_accuracy: 0.6104 - val_accuracy: 0.6104\n",
            "Epoch 48/150\n",
            "7/7 [==============================] - 2s 229ms/step - loss: 0.0167 - categorical_accuracy: 0.9946 - accuracy: 0.9946 - val_loss: 2.6663 - val_categorical_accuracy: 0.6104 - val_accuracy: 0.6104\n",
            "Epoch 49/150\n",
            "7/7 [==============================] - 2s 228ms/step - loss: 0.0218 - categorical_accuracy: 0.9869 - accuracy: 0.9869 - val_loss: 2.6685 - val_categorical_accuracy: 0.5974 - val_accuracy: 0.5974\n",
            "Epoch 50/150\n",
            "7/7 [==============================] - 2s 235ms/step - loss: 0.0237 - categorical_accuracy: 0.9861 - accuracy: 0.9861 - val_loss: 2.7008 - val_categorical_accuracy: 0.5974 - val_accuracy: 0.5974\n",
            "Epoch 51/150\n",
            "7/7 [==============================] - 2s 230ms/step - loss: 0.0188 - categorical_accuracy: 0.9903 - accuracy: 0.9903 - val_loss: 2.7143 - val_categorical_accuracy: 0.5974 - val_accuracy: 0.5974\n",
            "Epoch 52/150\n",
            "7/7 [==============================] - 2s 230ms/step - loss: 0.0165 - categorical_accuracy: 0.9851 - accuracy: 0.9851 - val_loss: 2.7180 - val_categorical_accuracy: 0.5974 - val_accuracy: 0.5974\n",
            "Epoch 53/150\n",
            "7/7 [==============================] - 2s 230ms/step - loss: 0.0214 - categorical_accuracy: 0.9864 - accuracy: 0.9864 - val_loss: 2.7170 - val_categorical_accuracy: 0.5974 - val_accuracy: 0.5974\n",
            "Epoch 54/150\n",
            "7/7 [==============================] - 2s 230ms/step - loss: 0.0448 - categorical_accuracy: 0.9805 - accuracy: 0.9805 - val_loss: 2.7195 - val_categorical_accuracy: 0.5974 - val_accuracy: 0.5974\n",
            "Epoch 55/150\n",
            "7/7 [==============================] - 2s 231ms/step - loss: 0.0306 - categorical_accuracy: 0.9810 - accuracy: 0.9810 - val_loss: 2.7402 - val_categorical_accuracy: 0.5974 - val_accuracy: 0.5974\n",
            "Epoch 56/150\n",
            "7/7 [==============================] - 2s 254ms/step - loss: 0.0244 - categorical_accuracy: 0.9810 - accuracy: 0.9810 - val_loss: 2.7503 - val_categorical_accuracy: 0.5974 - val_accuracy: 0.5974\n",
            "Epoch 57/150\n",
            "7/7 [==============================] - 2s 231ms/step - loss: 0.0144 - categorical_accuracy: 0.9894 - accuracy: 0.9894 - val_loss: 2.8069 - val_categorical_accuracy: 0.5974 - val_accuracy: 0.5974\n",
            "Epoch 58/150\n",
            "7/7 [==============================] - 2s 230ms/step - loss: 0.0229 - categorical_accuracy: 0.9828 - accuracy: 0.9828 - val_loss: 2.8329 - val_categorical_accuracy: 0.5974 - val_accuracy: 0.5974\n",
            "Epoch 59/150\n",
            "7/7 [==============================] - 2s 231ms/step - loss: 0.0155 - categorical_accuracy: 0.9941 - accuracy: 0.9941 - val_loss: 2.8254 - val_categorical_accuracy: 0.5974 - val_accuracy: 0.5974\n",
            "Epoch 60/150\n",
            "7/7 [==============================] - 2s 234ms/step - loss: 0.0378 - categorical_accuracy: 0.9850 - accuracy: 0.9850 - val_loss: 2.8034 - val_categorical_accuracy: 0.5974 - val_accuracy: 0.5974\n",
            "Epoch 61/150\n",
            "7/7 [==============================] - 2s 230ms/step - loss: 0.0209 - categorical_accuracy: 0.9903 - accuracy: 0.9903 - val_loss: 2.7956 - val_categorical_accuracy: 0.5974 - val_accuracy: 0.5974\n",
            "Epoch 62/150\n",
            "7/7 [==============================] - 2s 233ms/step - loss: 0.0185 - categorical_accuracy: 0.9878 - accuracy: 0.9878 - val_loss: 2.7866 - val_categorical_accuracy: 0.5974 - val_accuracy: 0.5974\n",
            "Epoch 63/150\n",
            "7/7 [==============================] - 2s 227ms/step - loss: 0.0166 - categorical_accuracy: 0.9903 - accuracy: 0.9903 - val_loss: 2.7855 - val_categorical_accuracy: 0.5974 - val_accuracy: 0.5974\n",
            "Epoch 64/150\n",
            "7/7 [==============================] - 2s 227ms/step - loss: 0.0227 - categorical_accuracy: 0.9808 - accuracy: 0.9808 - val_loss: 2.7905 - val_categorical_accuracy: 0.5974 - val_accuracy: 0.5974\n",
            "Epoch 65/150\n",
            "7/7 [==============================] - 2s 230ms/step - loss: 0.0214 - categorical_accuracy: 0.9883 - accuracy: 0.9883 - val_loss: 2.7819 - val_categorical_accuracy: 0.5974 - val_accuracy: 0.5974\n",
            "Epoch 66/150\n",
            "7/7 [==============================] - 2s 227ms/step - loss: 0.0158 - categorical_accuracy: 0.9891 - accuracy: 0.9891 - val_loss: 2.7884 - val_categorical_accuracy: 0.5974 - val_accuracy: 0.5974\n",
            "Epoch 67/150\n",
            "7/7 [==============================] - 2s 234ms/step - loss: 0.0244 - categorical_accuracy: 0.9788 - accuracy: 0.9788 - val_loss: 2.7801 - val_categorical_accuracy: 0.5974 - val_accuracy: 0.5974\n",
            "Epoch 68/150\n",
            "7/7 [==============================] - 2s 229ms/step - loss: 0.0140 - categorical_accuracy: 0.9901 - accuracy: 0.9901 - val_loss: 2.7888 - val_categorical_accuracy: 0.5974 - val_accuracy: 0.5974\n",
            "Epoch 69/150\n",
            "7/7 [==============================] - 2s 235ms/step - loss: 0.0195 - categorical_accuracy: 0.9858 - accuracy: 0.9858 - val_loss: 2.8070 - val_categorical_accuracy: 0.5974 - val_accuracy: 0.5974\n",
            "Epoch 70/150\n",
            "7/7 [==============================] - 2s 231ms/step - loss: 0.0179 - categorical_accuracy: 0.9871 - accuracy: 0.9871 - val_loss: 2.8166 - val_categorical_accuracy: 0.5974 - val_accuracy: 0.5974\n",
            "Epoch 71/150\n",
            "7/7 [==============================] - 2s 232ms/step - loss: 0.0160 - categorical_accuracy: 0.9930 - accuracy: 0.9930 - val_loss: 2.8293 - val_categorical_accuracy: 0.5974 - val_accuracy: 0.5974\n",
            "Epoch 72/150\n",
            "7/7 [==============================] - 2s 230ms/step - loss: 0.0174 - categorical_accuracy: 0.9852 - accuracy: 0.9852 - val_loss: 2.9318 - val_categorical_accuracy: 0.5844 - val_accuracy: 0.5844\n",
            "Epoch 73/150\n",
            "7/7 [==============================] - 2s 252ms/step - loss: 0.0165 - categorical_accuracy: 0.9889 - accuracy: 0.9889 - val_loss: 2.9376 - val_categorical_accuracy: 0.5844 - val_accuracy: 0.5844\n",
            "Epoch 74/150\n",
            "7/7 [==============================] - 2s 233ms/step - loss: 0.0178 - categorical_accuracy: 0.9952 - accuracy: 0.9952 - val_loss: 2.8995 - val_categorical_accuracy: 0.5844 - val_accuracy: 0.5844\n",
            "Epoch 75/150\n",
            "7/7 [==============================] - 2s 233ms/step - loss: 0.0163 - categorical_accuracy: 0.9879 - accuracy: 0.9879 - val_loss: 2.8483 - val_categorical_accuracy: 0.5974 - val_accuracy: 0.5974\n",
            "Epoch 76/150\n",
            "7/7 [==============================] - 2s 234ms/step - loss: 0.0213 - categorical_accuracy: 0.9926 - accuracy: 0.9926 - val_loss: 2.8146 - val_categorical_accuracy: 0.5974 - val_accuracy: 0.5974\n",
            "Epoch 77/150\n",
            "7/7 [==============================] - 2s 229ms/step - loss: 0.0199 - categorical_accuracy: 0.9859 - accuracy: 0.9859 - val_loss: 2.7798 - val_categorical_accuracy: 0.5974 - val_accuracy: 0.5974\n",
            "Epoch 78/150\n",
            "7/7 [==============================] - 2s 231ms/step - loss: 0.0216 - categorical_accuracy: 0.9758 - accuracy: 0.9758 - val_loss: 2.7987 - val_categorical_accuracy: 0.5844 - val_accuracy: 0.5844\n",
            "Epoch 79/150\n",
            "7/7 [==============================] - 2s 232ms/step - loss: 0.0304 - categorical_accuracy: 0.9833 - accuracy: 0.9833 - val_loss: 2.7905 - val_categorical_accuracy: 0.5714 - val_accuracy: 0.5714\n",
            "Epoch 80/150\n",
            "7/7 [==============================] - 2s 229ms/step - loss: 0.0440 - categorical_accuracy: 0.9819 - accuracy: 0.9819 - val_loss: 2.7772 - val_categorical_accuracy: 0.5844 - val_accuracy: 0.5844\n",
            "Epoch 81/150\n",
            "7/7 [==============================] - 2s 232ms/step - loss: 0.0218 - categorical_accuracy: 0.9878 - accuracy: 0.9878 - val_loss: 2.7729 - val_categorical_accuracy: 0.5974 - val_accuracy: 0.5974\n",
            "Epoch 82/150\n",
            "7/7 [==============================] - 2s 229ms/step - loss: 0.0211 - categorical_accuracy: 0.9816 - accuracy: 0.9816 - val_loss: 2.7741 - val_categorical_accuracy: 0.5974 - val_accuracy: 0.5974\n",
            "Epoch 83/150\n",
            "7/7 [==============================] - 2s 229ms/step - loss: 0.0154 - categorical_accuracy: 0.9871 - accuracy: 0.9871 - val_loss: 2.7900 - val_categorical_accuracy: 0.5974 - val_accuracy: 0.5974\n",
            "Epoch 84/150\n",
            "7/7 [==============================] - 2s 230ms/step - loss: 0.0115 - categorical_accuracy: 0.9906 - accuracy: 0.9906 - val_loss: 2.7975 - val_categorical_accuracy: 0.5974 - val_accuracy: 0.5974\n",
            "Epoch 85/150\n",
            "7/7 [==============================] - 2s 228ms/step - loss: 0.0181 - categorical_accuracy: 0.9934 - accuracy: 0.9934 - val_loss: 2.8041 - val_categorical_accuracy: 0.5974 - val_accuracy: 0.5974\n",
            "Epoch 86/150\n",
            "7/7 [==============================] - 2s 229ms/step - loss: 0.0173 - categorical_accuracy: 0.9865 - accuracy: 0.9865 - val_loss: 2.8106 - val_categorical_accuracy: 0.5844 - val_accuracy: 0.5844\n",
            "Epoch 87/150\n",
            "7/7 [==============================] - 2s 247ms/step - loss: 0.0138 - categorical_accuracy: 0.9894 - accuracy: 0.9894 - val_loss: 2.8212 - val_categorical_accuracy: 0.5974 - val_accuracy: 0.5974\n",
            "Epoch 88/150\n",
            "7/7 [==============================] - 2s 232ms/step - loss: 0.0202 - categorical_accuracy: 0.9816 - accuracy: 0.9816 - val_loss: 2.8189 - val_categorical_accuracy: 0.5974 - val_accuracy: 0.5974\n",
            "Epoch 89/150\n",
            "7/7 [==============================] - 2s 235ms/step - loss: 0.0292 - categorical_accuracy: 0.9765 - accuracy: 0.9765 - val_loss: 2.8358 - val_categorical_accuracy: 0.5974 - val_accuracy: 0.5974\n",
            "Epoch 90/150\n",
            "7/7 [==============================] - 2s 233ms/step - loss: 0.0134 - categorical_accuracy: 0.9899 - accuracy: 0.9899 - val_loss: 2.8383 - val_categorical_accuracy: 0.5974 - val_accuracy: 0.5974\n",
            "Epoch 91/150\n",
            "7/7 [==============================] - 2s 231ms/step - loss: 0.0214 - categorical_accuracy: 0.9794 - accuracy: 0.9794 - val_loss: 2.8439 - val_categorical_accuracy: 0.5974 - val_accuracy: 0.5974\n",
            "Epoch 92/150\n",
            "7/7 [==============================] - 2s 232ms/step - loss: 0.0169 - categorical_accuracy: 0.9821 - accuracy: 0.9821 - val_loss: 2.8547 - val_categorical_accuracy: 0.5974 - val_accuracy: 0.5974\n",
            "Epoch 93/150\n",
            "7/7 [==============================] - 2s 231ms/step - loss: 0.0144 - categorical_accuracy: 0.9896 - accuracy: 0.9896 - val_loss: 2.8564 - val_categorical_accuracy: 0.5974 - val_accuracy: 0.5974\n",
            "Epoch 94/150\n",
            "7/7 [==============================] - 2s 231ms/step - loss: 0.0251 - categorical_accuracy: 0.9852 - accuracy: 0.9852 - val_loss: 2.8609 - val_categorical_accuracy: 0.5974 - val_accuracy: 0.5974\n",
            "Epoch 95/150\n",
            "7/7 [==============================] - 2s 231ms/step - loss: 0.0231 - categorical_accuracy: 0.9873 - accuracy: 0.9873 - val_loss: 2.8660 - val_categorical_accuracy: 0.5974 - val_accuracy: 0.5974\n",
            "Epoch 96/150\n",
            "7/7 [==============================] - 2s 234ms/step - loss: 0.0187 - categorical_accuracy: 0.9874 - accuracy: 0.9874 - val_loss: 2.8491 - val_categorical_accuracy: 0.5974 - val_accuracy: 0.5974\n",
            "Epoch 97/150\n",
            "7/7 [==============================] - 2s 232ms/step - loss: 0.0363 - categorical_accuracy: 0.9782 - accuracy: 0.9782 - val_loss: 2.8636 - val_categorical_accuracy: 0.5974 - val_accuracy: 0.5974\n",
            "Epoch 98/150\n",
            "7/7 [==============================] - 2s 229ms/step - loss: 0.0265 - categorical_accuracy: 0.9830 - accuracy: 0.9830 - val_loss: 2.8566 - val_categorical_accuracy: 0.5974 - val_accuracy: 0.5974\n",
            "Epoch 99/150\n",
            "7/7 [==============================] - 2s 230ms/step - loss: 0.0124 - categorical_accuracy: 0.9908 - accuracy: 0.9908 - val_loss: 2.8613 - val_categorical_accuracy: 0.5974 - val_accuracy: 0.5974\n",
            "Epoch 100/150\n",
            "7/7 [==============================] - 2s 229ms/step - loss: 0.0216 - categorical_accuracy: 0.9817 - accuracy: 0.9817 - val_loss: 2.8446 - val_categorical_accuracy: 0.5974 - val_accuracy: 0.5974\n",
            "Epoch 101/150\n",
            "7/7 [==============================] - 2s 253ms/step - loss: 0.0215 - categorical_accuracy: 0.9857 - accuracy: 0.9857 - val_loss: 2.8412 - val_categorical_accuracy: 0.5974 - val_accuracy: 0.5974\n",
            "Epoch 102/150\n",
            "7/7 [==============================] - 2s 230ms/step - loss: 0.0179 - categorical_accuracy: 0.9909 - accuracy: 0.9909 - val_loss: 2.8377 - val_categorical_accuracy: 0.5974 - val_accuracy: 0.5974\n",
            "Epoch 103/150\n",
            "7/7 [==============================] - 2s 231ms/step - loss: 0.0225 - categorical_accuracy: 0.9814 - accuracy: 0.9814 - val_loss: 2.8464 - val_categorical_accuracy: 0.5974 - val_accuracy: 0.5974\n",
            "Epoch 104/150\n",
            "7/7 [==============================] - 2s 231ms/step - loss: 0.0123 - categorical_accuracy: 0.9899 - accuracy: 0.9899 - val_loss: 2.8473 - val_categorical_accuracy: 0.5974 - val_accuracy: 0.5974\n",
            "Epoch 105/150\n",
            "7/7 [==============================] - 2s 230ms/step - loss: 0.0120 - categorical_accuracy: 0.9942 - accuracy: 0.9942 - val_loss: 2.9007 - val_categorical_accuracy: 0.5974 - val_accuracy: 0.5974\n",
            "Epoch 106/150\n",
            "7/7 [==============================] - 2s 231ms/step - loss: 0.0150 - categorical_accuracy: 0.9908 - accuracy: 0.9908 - val_loss: 2.9241 - val_categorical_accuracy: 0.5974 - val_accuracy: 0.5974\n",
            "Epoch 107/150\n",
            "7/7 [==============================] - 2s 234ms/step - loss: 0.0201 - categorical_accuracy: 0.9927 - accuracy: 0.9927 - val_loss: 2.9078 - val_categorical_accuracy: 0.5974 - val_accuracy: 0.5974\n",
            "Epoch 108/150\n",
            "7/7 [==============================] - 2s 232ms/step - loss: 0.0226 - categorical_accuracy: 0.9830 - accuracy: 0.9830 - val_loss: 2.8641 - val_categorical_accuracy: 0.5974 - val_accuracy: 0.5974\n",
            "Epoch 109/150\n",
            "7/7 [==============================] - 2s 232ms/step - loss: 0.0157 - categorical_accuracy: 0.9914 - accuracy: 0.9914 - val_loss: 2.8085 - val_categorical_accuracy: 0.6104 - val_accuracy: 0.6104\n",
            "Epoch 110/150\n",
            "7/7 [==============================] - 2s 232ms/step - loss: 0.0283 - categorical_accuracy: 0.9842 - accuracy: 0.9842 - val_loss: 2.8021 - val_categorical_accuracy: 0.6104 - val_accuracy: 0.6104\n",
            "Epoch 111/150\n",
            "7/7 [==============================] - 2s 232ms/step - loss: 0.0182 - categorical_accuracy: 0.9900 - accuracy: 0.9900 - val_loss: 2.8295 - val_categorical_accuracy: 0.6104 - val_accuracy: 0.6104\n",
            "Epoch 112/150\n",
            "7/7 [==============================] - 2s 233ms/step - loss: 0.0142 - categorical_accuracy: 0.9874 - accuracy: 0.9874 - val_loss: 2.8586 - val_categorical_accuracy: 0.5974 - val_accuracy: 0.5974\n",
            "Epoch 113/150\n",
            "7/7 [==============================] - 2s 231ms/step - loss: 0.0168 - categorical_accuracy: 0.9884 - accuracy: 0.9884 - val_loss: 2.8866 - val_categorical_accuracy: 0.5974 - val_accuracy: 0.5974\n",
            "Epoch 114/150\n",
            "7/7 [==============================] - 2s 231ms/step - loss: 0.0171 - categorical_accuracy: 0.9842 - accuracy: 0.9842 - val_loss: 2.8624 - val_categorical_accuracy: 0.5974 - val_accuracy: 0.5974\n",
            "Epoch 115/150\n",
            "7/7 [==============================] - 2s 254ms/step - loss: 0.0235 - categorical_accuracy: 0.9875 - accuracy: 0.9875 - val_loss: 2.8660 - val_categorical_accuracy: 0.5974 - val_accuracy: 0.5974\n",
            "Epoch 116/150\n",
            "7/7 [==============================] - 2s 230ms/step - loss: 0.0215 - categorical_accuracy: 0.9901 - accuracy: 0.9901 - val_loss: 2.8900 - val_categorical_accuracy: 0.5974 - val_accuracy: 0.5974\n",
            "Epoch 117/150\n",
            "7/7 [==============================] - 2s 233ms/step - loss: 0.0138 - categorical_accuracy: 0.9902 - accuracy: 0.9902 - val_loss: 2.9117 - val_categorical_accuracy: 0.5974 - val_accuracy: 0.5974\n",
            "Epoch 118/150\n",
            "7/7 [==============================] - 2s 234ms/step - loss: 0.0138 - categorical_accuracy: 0.9912 - accuracy: 0.9912 - val_loss: 2.9251 - val_categorical_accuracy: 0.5974 - val_accuracy: 0.5974\n",
            "Epoch 119/150\n",
            "7/7 [==============================] - 2s 241ms/step - loss: 0.0234 - categorical_accuracy: 0.9869 - accuracy: 0.9869 - val_loss: 2.9329 - val_categorical_accuracy: 0.5974 - val_accuracy: 0.5974\n",
            "Epoch 120/150\n",
            "7/7 [==============================] - 2s 241ms/step - loss: 0.0166 - categorical_accuracy: 0.9920 - accuracy: 0.9920 - val_loss: 2.9517 - val_categorical_accuracy: 0.5974 - val_accuracy: 0.5974\n",
            "Epoch 121/150\n",
            "7/7 [==============================] - 2s 247ms/step - loss: 0.0098 - categorical_accuracy: 0.9903 - accuracy: 0.9903 - val_loss: 2.9636 - val_categorical_accuracy: 0.5974 - val_accuracy: 0.5974\n",
            "Epoch 122/150\n",
            "7/7 [==============================] - 2s 233ms/step - loss: 0.0163 - categorical_accuracy: 0.9874 - accuracy: 0.9874 - val_loss: 2.9753 - val_categorical_accuracy: 0.5974 - val_accuracy: 0.5974\n",
            "Epoch 123/150\n",
            "7/7 [==============================] - 2s 230ms/step - loss: 0.0179 - categorical_accuracy: 0.9871 - accuracy: 0.9871 - val_loss: 2.9879 - val_categorical_accuracy: 0.5974 - val_accuracy: 0.5974\n",
            "Epoch 124/150\n",
            "7/7 [==============================] - 2s 229ms/step - loss: 0.0153 - categorical_accuracy: 0.9884 - accuracy: 0.9884 - val_loss: 2.9775 - val_categorical_accuracy: 0.5974 - val_accuracy: 0.5974\n",
            "Epoch 125/150\n",
            "7/7 [==============================] - 2s 233ms/step - loss: 0.0145 - categorical_accuracy: 0.9921 - accuracy: 0.9921 - val_loss: 2.9799 - val_categorical_accuracy: 0.5974 - val_accuracy: 0.5974\n",
            "Epoch 126/150\n",
            "7/7 [==============================] - 2s 228ms/step - loss: 0.0217 - categorical_accuracy: 0.9850 - accuracy: 0.9850 - val_loss: 2.9875 - val_categorical_accuracy: 0.5974 - val_accuracy: 0.5974\n",
            "Epoch 127/150\n",
            "7/7 [==============================] - 2s 230ms/step - loss: 0.0111 - categorical_accuracy: 0.9958 - accuracy: 0.9958 - val_loss: 2.9838 - val_categorical_accuracy: 0.5974 - val_accuracy: 0.5974\n",
            "Epoch 128/150\n",
            "7/7 [==============================] - 2s 232ms/step - loss: 0.0160 - categorical_accuracy: 0.9952 - accuracy: 0.9952 - val_loss: 2.9816 - val_categorical_accuracy: 0.5974 - val_accuracy: 0.5974\n",
            "Epoch 129/150\n",
            "7/7 [==============================] - 2s 252ms/step - loss: 0.0200 - categorical_accuracy: 0.9881 - accuracy: 0.9881 - val_loss: 2.9989 - val_categorical_accuracy: 0.5974 - val_accuracy: 0.5974\n",
            "Epoch 130/150\n",
            "7/7 [==============================] - 2s 234ms/step - loss: 0.0212 - categorical_accuracy: 0.9830 - accuracy: 0.9830 - val_loss: 3.0140 - val_categorical_accuracy: 0.5974 - val_accuracy: 0.5974\n",
            "Epoch 131/150\n",
            "7/7 [==============================] - 2s 232ms/step - loss: 0.0132 - categorical_accuracy: 0.9906 - accuracy: 0.9906 - val_loss: 3.0093 - val_categorical_accuracy: 0.5974 - val_accuracy: 0.5974\n",
            "Epoch 132/150\n",
            "7/7 [==============================] - 2s 228ms/step - loss: 0.0190 - categorical_accuracy: 0.9932 - accuracy: 0.9932 - val_loss: 3.0156 - val_categorical_accuracy: 0.5974 - val_accuracy: 0.5974\n",
            "Epoch 133/150\n",
            "7/7 [==============================] - 2s 234ms/step - loss: 0.0176 - categorical_accuracy: 0.9924 - accuracy: 0.9924 - val_loss: 3.0144 - val_categorical_accuracy: 0.5974 - val_accuracy: 0.5974\n",
            "Epoch 134/150\n",
            "7/7 [==============================] - 2s 230ms/step - loss: 0.0236 - categorical_accuracy: 0.9877 - accuracy: 0.9877 - val_loss: 3.0029 - val_categorical_accuracy: 0.5974 - val_accuracy: 0.5974\n",
            "Epoch 135/150\n",
            "7/7 [==============================] - 2s 234ms/step - loss: 0.0148 - categorical_accuracy: 0.9898 - accuracy: 0.9898 - val_loss: 3.0016 - val_categorical_accuracy: 0.5974 - val_accuracy: 0.5974\n",
            "Epoch 136/150\n",
            "7/7 [==============================] - 2s 231ms/step - loss: 0.0141 - categorical_accuracy: 0.9903 - accuracy: 0.9903 - val_loss: 2.9975 - val_categorical_accuracy: 0.5974 - val_accuracy: 0.5974\n",
            "Epoch 137/150\n",
            "7/7 [==============================] - 2s 231ms/step - loss: 0.0133 - categorical_accuracy: 0.9926 - accuracy: 0.9926 - val_loss: 2.9627 - val_categorical_accuracy: 0.5974 - val_accuracy: 0.5974\n",
            "Epoch 138/150\n",
            "7/7 [==============================] - 2s 233ms/step - loss: 0.0261 - categorical_accuracy: 0.9863 - accuracy: 0.9863 - val_loss: 2.9678 - val_categorical_accuracy: 0.5974 - val_accuracy: 0.5974\n",
            "Epoch 139/150\n",
            "7/7 [==============================] - 2s 229ms/step - loss: 0.0150 - categorical_accuracy: 0.9934 - accuracy: 0.9934 - val_loss: 2.9786 - val_categorical_accuracy: 0.5974 - val_accuracy: 0.5974\n",
            "Epoch 140/150\n",
            "7/7 [==============================] - 2s 232ms/step - loss: 0.0132 - categorical_accuracy: 0.9935 - accuracy: 0.9935 - val_loss: 2.9763 - val_categorical_accuracy: 0.5974 - val_accuracy: 0.5974\n",
            "Epoch 141/150\n",
            "7/7 [==============================] - 2s 231ms/step - loss: 0.0123 - categorical_accuracy: 0.9947 - accuracy: 0.9947 - val_loss: 2.9446 - val_categorical_accuracy: 0.5974 - val_accuracy: 0.5974\n",
            "Epoch 142/150\n",
            "7/7 [==============================] - 2s 233ms/step - loss: 0.0115 - categorical_accuracy: 0.9944 - accuracy: 0.9944 - val_loss: 2.9445 - val_categorical_accuracy: 0.6104 - val_accuracy: 0.6104\n",
            "Epoch 143/150\n",
            "7/7 [==============================] - 2s 258ms/step - loss: 0.0170 - categorical_accuracy: 0.9869 - accuracy: 0.9869 - val_loss: 2.9763 - val_categorical_accuracy: 0.5974 - val_accuracy: 0.5974\n",
            "Epoch 144/150\n",
            "7/7 [==============================] - 2s 233ms/step - loss: 0.0175 - categorical_accuracy: 0.9863 - accuracy: 0.9863 - val_loss: 2.9987 - val_categorical_accuracy: 0.5974 - val_accuracy: 0.5974\n",
            "Epoch 145/150\n",
            "7/7 [==============================] - 2s 230ms/step - loss: 0.0168 - categorical_accuracy: 0.9863 - accuracy: 0.9863 - val_loss: 3.0144 - val_categorical_accuracy: 0.5844 - val_accuracy: 0.5844\n",
            "Epoch 146/150\n",
            "7/7 [==============================] - 2s 230ms/step - loss: 0.0126 - categorical_accuracy: 0.9947 - accuracy: 0.9947 - val_loss: 3.0175 - val_categorical_accuracy: 0.5844 - val_accuracy: 0.5844\n",
            "Epoch 147/150\n",
            "7/7 [==============================] - 2s 232ms/step - loss: 0.0144 - categorical_accuracy: 0.9926 - accuracy: 0.9926 - val_loss: 3.0204 - val_categorical_accuracy: 0.5844 - val_accuracy: 0.5844\n",
            "Epoch 148/150\n",
            "7/7 [==============================] - 2s 233ms/step - loss: 0.0138 - categorical_accuracy: 0.9934 - accuracy: 0.9934 - val_loss: 3.0372 - val_categorical_accuracy: 0.5844 - val_accuracy: 0.5844\n",
            "Epoch 149/150\n",
            "7/7 [==============================] - 2s 231ms/step - loss: 0.0194 - categorical_accuracy: 0.9862 - accuracy: 0.9862 - val_loss: 3.0475 - val_categorical_accuracy: 0.5844 - val_accuracy: 0.5844\n",
            "Epoch 150/150\n",
            "7/7 [==============================] - 2s 233ms/step - loss: 0.0169 - categorical_accuracy: 0.9883 - accuracy: 0.9883 - val_loss: 3.0495 - val_categorical_accuracy: 0.5844 - val_accuracy: 0.5844\n",
            "4/4 [==============================] - 0s 44ms/step - loss: 3.5693 - categorical_accuracy: 0.4639 - accuracy: 0.4639\n",
            "[[13  3  4  0  0]\n",
            " [ 5 12  1  2  0]\n",
            " [ 4  4  7  4  1]\n",
            " [ 5  3  3  9  0]\n",
            " [ 0  6  2  5  4]]\n",
            "              precision    recall  f1-score   support\n",
            "\n",
            "          DN       0.48      0.65      0.55        20\n",
            "         GOF       0.43      0.60      0.50        20\n",
            "          HI       0.41      0.35      0.38        20\n",
            "         LOF       0.45      0.45      0.45        20\n",
            "        none       0.80      0.24      0.36        17\n",
            "\n",
            "    accuracy                           0.46        97\n",
            "   macro avg       0.51      0.46      0.45        97\n",
            "weighted avg       0.51      0.46      0.45        97\n",
            "\n"
          ],
          "name": "stdout"
        }
      ]
    },
    {
      "cell_type": "code",
      "metadata": {
        "colab": {
          "base_uri": "https://localhost:8080/",
          "height": 611
        },
        "id": "nqS8Hb2GUlY7",
        "outputId": "c53d33d4-3496-4c41-e780-801b4971506d"
      },
      "source": [
        "with open('/content/%s' %modelName, 'wb') as file_pi:\r\n",
        "        pickle.dump(history.history, file_pi)\r\n",
        "history = pickle.load(open('/content/%s' % modelName, \"rb\"))\r\n",
        "model.save(modelName +'.h5')\r\n",
        "plot(history)\r\n",
        "with open('/content/%s_train' %modelName, 'wb') as file_pi:\r\n",
        "        pickle.dump(X_train, file_pi)\r\n",
        "with open('/content/%s_test' %modelName, 'wb') as file_pi:\r\n",
        "        pickle.dump(X_test, file_pi)\r\n",
        "with open('/content/%s_Labeltest' %modelName, 'wb') as file_pi:\r\n",
        "        pickle.dump(y_test, file_pi)\r\n",
        "with open('/content/%s_LabelTrain' %modelName, 'wb') as file_pi:\r\n",
        "        pickle.dump(y_train, file_pi)\r\n",
        "with open('/content/%s_ConfusionMatrix' %modelName, 'wb') as file_pi:\r\n",
        "        pickle.dump(confusion_matrix(y_test.argmax(axis=-1), model.predict(X_test).argmax(axis=-1)), file_pi)\r\n",
        "with open('/content/%s_ClassificationReport' %modelName, 'wb') as file_pi:\r\n",
        "        pickle.dump(classification_report(y_test.argmax(axis=-1), model.predict(X_test).argmax(axis=-1), target_names=ClassNames), file_pi)"
      ],
      "execution_count": 37,
      "outputs": [
        {
          "output_type": "stream",
          "text": [
            "dict_keys(['loss', 'categorical_accuracy', 'accuracy', 'val_loss', 'val_categorical_accuracy', 'val_accuracy'])\n"
          ],
          "name": "stdout"
        },
        {
          "output_type": "display_data",
          "data": {
            "image/png": "[encoded data removed]",
            "text/plain": [
              "<Figure size 432x288 with 1 Axes>"
            ]
          },
          "metadata": {
            "tags": [],
            "needs_background": "light"
          }
        },
        {
          "output_type": "display_data",
          "data": {
            "image/png": "[encoded data removed]",
            "text/plain": [
              "<Figure size 432x288 with 1 Axes>"
            ]
          },
          "metadata": {
            "tags": [],
            "needs_background": "light"
          }
        }
      ]
    },
    {
      "cell_type": "code",
      "metadata": {
        "id": "7OmCrXgPXayF"
      },
      "source": [
        ""
      ],
      "execution_count": null,
      "outputs": []
    },
    {
      "cell_type": "markdown",
      "metadata": {
        "id": "GImB0aXfXnW5"
      },
      "source": [
        "Running the model with TF-IDF vectorizer instead of CountVectorizer (adam optimizer)"
      ]
    },
    {
      "cell_type": "code",
      "metadata": {
        "colab": {
          "resources": {
            "http://localhost:8080/nbextensions/google.colab/files.js": {
              "data": "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",
              "ok": true,
              "headers": [
                [
                  "content-type",
                  "application/javascript"
                ]
              ],
              "status": 200,
              "status_text": ""
            }
          },
          "base_uri": "https://localhost:8080/",
          "height": 90
        },
        "id": "9DQpOc0RX6G1",
        "outputId": "ce6c3059-50f1-405b-b07e-d31d8664c6bd"
      },
      "source": [
        "uploaded = files.upload()"
      ],
      "execution_count": 38,
      "outputs": [
        {
          "output_type": "display_data",
          "data": {
            "text/html": [
              "\n",
              "     <input type=\"file\" id=\"files-9a26d3e5-f53e-4e56-9b55-ce174ecb1f68\" name=\"files[]\" multiple disabled\n",
              "        style=\"border:none\" />\n",
              "     <output id=\"result-9a26d3e5-f53e-4e56-9b55-ce174ecb1f68\">\n",
              "      Upload widget is only available when the cell has been executed in the\n",
              "      current browser session. Please rerun this cell to enable.\n",
              "      </output>\n",
              "      <script src=\"/nbextensions/google.colab/files.js\"></script> "
            ],
            "text/plain": [
              "<IPython.core.display.HTML object>"
            ]
          },
          "metadata": {
            "tags": []
          }
        },
        {
          "output_type": "stream",
          "text": [
            "Saving Data_v2.xlsx to Data_v2 (1).xlsx\n"
          ],
          "name": "stdout"
        }
      ]
    },
    {
      "cell_type": "code",
      "metadata": {
        "id": "zj3jDkgWX9qK"
      },
      "source": [
        "modelName = 'Model3' #name of the model, this will be used to save model evaluation and history\r\n",
        "numEpochs  = 150 # maximum number of epochs if early stopping doesnt work\r\n",
        "batchsize = 20 # batchsize which will be used in each step by optimizer defined in the model\r\n",
        "optimizer = 'adam' #optimizer to be used in model.fit keras method"
      ],
      "execution_count": 39,
      "outputs": []
    },
    {
      "cell_type": "code",
      "metadata": {
        "id": "0_IdNwmIYRKA"
      },
      "source": [
        "from sklearn.feature_extraction.text import TfidfVectorizer\r\n"
      ],
      "execution_count": 40,
      "outputs": []
    },
    {
      "cell_type": "markdown",
      "metadata": {
        "id": "YALLvCawYkoS"
      },
      "source": [
        "For the next step, go to Preprocessing method and change CountVectorizer to TfIdfVectorizer"
      ]
    },
    {
      "cell_type": "code",
      "metadata": {
        "colab": {
          "base_uri": "https://localhost:8080/"
        },
        "id": "MQjdqDI9YEfh",
        "outputId": "2c55fd9e-0951-49ff-bf90-d62143c94b2d"
      },
      "source": [
        "X, y = Preprocessing()\r\n",
        "X_train, X_test, y_train, y_test, ClassNames = TrainTestSplit(X, y)\r\n",
        "model = ModelBuild(X_train, y_train)\r\n",
        "PlotModel(model, modelName +\".png\")\r\n",
        "history = PlotTraining(model, X_test, y_test)\r\n",
        "print(confusion_matrix(y_test.argmax(axis=-1),model.predict(X_test).argmax(axis=-1)))\r\n",
        "print(classification_report(y_test.argmax(axis=-1), model.predict(X_test).argmax(axis=-1),target_names=ClassNames))\r\n"
      ],
      "execution_count": 42,
      "outputs": [
        {
          "output_type": "stream",
          "text": [
            "Model: \"model_2\"\n",
            "_________________________________________________________________\n",
            "Layer (type)                 Output Shape              Param #   \n",
            "=================================================================\n",
            "input_3 (InputLayer)         [(None, 55389)]           0         \n",
            "_________________________________________________________________\n",
            "dense_6 (Dense)              (None, 500)               27695000  \n",
            "_________________________________________________________________\n",
            "dense_7 (Dense)              (None, 100)               50100     \n",
            "_________________________________________________________________\n",
            "dense_8 (Dense)              (None, 5)                 505       \n",
            "=================================================================\n",
            "Total params: 27,745,605\n",
            "Trainable params: 27,745,605\n",
            "Non-trainable params: 0\n",
            "_________________________________________________________________\n",
            "Epoch 1/150\n",
            "16/16 [==============================] - 3s 178ms/step - loss: 1.6028 - categorical_accuracy: 0.2213 - accuracy: 0.2213 - val_loss: 1.5433 - val_categorical_accuracy: 0.6494 - val_accuracy: 0.6494\n",
            "Epoch 2/150\n",
            "16/16 [==============================] - 3s 165ms/step - loss: 1.2730 - categorical_accuracy: 0.9245 - accuracy: 0.9245 - val_loss: 1.3357 - val_categorical_accuracy: 0.5584 - val_accuracy: 0.5584\n",
            "Epoch 3/150\n",
            "16/16 [==============================] - 3s 178ms/step - loss: 0.4882 - categorical_accuracy: 0.9311 - accuracy: 0.9311 - val_loss: 1.2724 - val_categorical_accuracy: 0.6364 - val_accuracy: 0.6364\n",
            "Epoch 4/150\n",
            "16/16 [==============================] - 3s 162ms/step - loss: 0.1110 - categorical_accuracy: 0.9643 - accuracy: 0.9643 - val_loss: 1.2933 - val_categorical_accuracy: 0.6753 - val_accuracy: 0.6753\n",
            "Epoch 5/150\n",
            "16/16 [==============================] - 3s 166ms/step - loss: 0.0650 - categorical_accuracy: 0.9740 - accuracy: 0.9740 - val_loss: 1.3172 - val_categorical_accuracy: 0.6623 - val_accuracy: 0.6623\n",
            "Epoch 6/150\n",
            "16/16 [==============================] - 3s 166ms/step - loss: 0.0663 - categorical_accuracy: 0.9746 - accuracy: 0.9746 - val_loss: 1.3390 - val_categorical_accuracy: 0.6623 - val_accuracy: 0.6623\n",
            "Epoch 7/150\n",
            "16/16 [==============================] - 3s 164ms/step - loss: 0.0834 - categorical_accuracy: 0.9684 - accuracy: 0.9684 - val_loss: 1.3466 - val_categorical_accuracy: 0.6364 - val_accuracy: 0.6364\n",
            "Epoch 8/150\n",
            "16/16 [==============================] - 3s 165ms/step - loss: 0.0293 - categorical_accuracy: 0.9881 - accuracy: 0.9881 - val_loss: 1.3368 - val_categorical_accuracy: 0.6364 - val_accuracy: 0.6364\n",
            "Epoch 9/150\n",
            "16/16 [==============================] - 3s 166ms/step - loss: 0.0346 - categorical_accuracy: 0.9911 - accuracy: 0.9911 - val_loss: 1.3370 - val_categorical_accuracy: 0.6364 - val_accuracy: 0.6364\n",
            "Epoch 10/150\n",
            "16/16 [==============================] - 3s 164ms/step - loss: 0.0280 - categorical_accuracy: 0.9909 - accuracy: 0.9909 - val_loss: 1.3646 - val_categorical_accuracy: 0.6494 - val_accuracy: 0.6494\n",
            "Epoch 11/150\n",
            "16/16 [==============================] - 3s 166ms/step - loss: 0.0284 - categorical_accuracy: 0.9870 - accuracy: 0.9870 - val_loss: 1.3432 - val_categorical_accuracy: 0.6623 - val_accuracy: 0.6623\n",
            "Epoch 12/150\n",
            "16/16 [==============================] - 3s 166ms/step - loss: 0.0408 - categorical_accuracy: 0.9808 - accuracy: 0.9808 - val_loss: 1.3717 - val_categorical_accuracy: 0.6883 - val_accuracy: 0.6883\n",
            "Epoch 13/150\n",
            "16/16 [==============================] - 3s 168ms/step - loss: 0.0225 - categorical_accuracy: 0.9887 - accuracy: 0.9887 - val_loss: 1.3742 - val_categorical_accuracy: 0.6623 - val_accuracy: 0.6623\n",
            "Epoch 14/150\n",
            "16/16 [==============================] - 3s 170ms/step - loss: 0.0259 - categorical_accuracy: 0.9830 - accuracy: 0.9830 - val_loss: 1.3811 - val_categorical_accuracy: 0.6364 - val_accuracy: 0.6364\n",
            "Epoch 15/150\n",
            "16/16 [==============================] - 3s 167ms/step - loss: 0.0323 - categorical_accuracy: 0.9754 - accuracy: 0.9754 - val_loss: 1.3740 - val_categorical_accuracy: 0.6494 - val_accuracy: 0.6494\n",
            "Epoch 16/150\n",
            "16/16 [==============================] - 3s 165ms/step - loss: 0.0320 - categorical_accuracy: 0.9729 - accuracy: 0.9729 - val_loss: 1.3927 - val_categorical_accuracy: 0.6623 - val_accuracy: 0.6623\n",
            "Epoch 17/150\n",
            "16/16 [==============================] - 3s 163ms/step - loss: 0.0169 - categorical_accuracy: 0.9914 - accuracy: 0.9914 - val_loss: 1.3947 - val_categorical_accuracy: 0.6623 - val_accuracy: 0.6623\n",
            "Epoch 18/150\n",
            "16/16 [==============================] - 3s 163ms/step - loss: 0.0185 - categorical_accuracy: 0.9867 - accuracy: 0.9867 - val_loss: 1.4015 - val_categorical_accuracy: 0.6364 - val_accuracy: 0.6364\n",
            "Epoch 19/150\n",
            "16/16 [==============================] - 3s 163ms/step - loss: 0.0221 - categorical_accuracy: 0.9883 - accuracy: 0.9883 - val_loss: 1.3684 - val_categorical_accuracy: 0.6104 - val_accuracy: 0.6104\n",
            "Epoch 20/150\n",
            "16/16 [==============================] - 3s 174ms/step - loss: 0.0320 - categorical_accuracy: 0.9857 - accuracy: 0.9857 - val_loss: 1.3930 - val_categorical_accuracy: 0.6494 - val_accuracy: 0.6494\n",
            "Epoch 21/150\n",
            "16/16 [==============================] - 3s 165ms/step - loss: 0.0169 - categorical_accuracy: 0.9919 - accuracy: 0.9919 - val_loss: 1.3999 - val_categorical_accuracy: 0.6364 - val_accuracy: 0.6364\n",
            "Epoch 22/150\n",
            "16/16 [==============================] - 3s 165ms/step - loss: 0.0123 - categorical_accuracy: 0.9934 - accuracy: 0.9934 - val_loss: 1.4209 - val_categorical_accuracy: 0.6364 - val_accuracy: 0.6364\n",
            "Epoch 23/150\n",
            "16/16 [==============================] - 3s 164ms/step - loss: 0.0288 - categorical_accuracy: 0.9795 - accuracy: 0.9795 - val_loss: 1.4107 - val_categorical_accuracy: 0.6364 - val_accuracy: 0.6364\n",
            "Epoch 24/150\n",
            "16/16 [==============================] - 3s 166ms/step - loss: 0.0316 - categorical_accuracy: 0.9860 - accuracy: 0.9860 - val_loss: 1.4274 - val_categorical_accuracy: 0.6494 - val_accuracy: 0.6494\n",
            "Epoch 25/150\n",
            "16/16 [==============================] - 3s 165ms/step - loss: 0.0204 - categorical_accuracy: 0.9864 - accuracy: 0.9864 - val_loss: 1.4339 - val_categorical_accuracy: 0.6494 - val_accuracy: 0.6494\n",
            "Epoch 26/150\n",
            "16/16 [==============================] - 3s 164ms/step - loss: 0.0236 - categorical_accuracy: 0.9775 - accuracy: 0.9775 - val_loss: 1.4243 - val_categorical_accuracy: 0.6364 - val_accuracy: 0.6364\n",
            "Epoch 27/150\n",
            "16/16 [==============================] - 3s 165ms/step - loss: 0.0108 - categorical_accuracy: 0.9924 - accuracy: 0.9924 - val_loss: 1.4341 - val_categorical_accuracy: 0.6364 - val_accuracy: 0.6364\n",
            "Epoch 28/150\n",
            "16/16 [==============================] - 3s 162ms/step - loss: 0.0254 - categorical_accuracy: 0.9735 - accuracy: 0.9735 - val_loss: 1.4416 - val_categorical_accuracy: 0.6364 - val_accuracy: 0.6364\n",
            "Epoch 29/150\n",
            "16/16 [==============================] - 3s 165ms/step - loss: 0.0210 - categorical_accuracy: 0.9822 - accuracy: 0.9822 - val_loss: 1.4395 - val_categorical_accuracy: 0.6364 - val_accuracy: 0.6364\n",
            "Epoch 30/150\n",
            "16/16 [==============================] - 3s 165ms/step - loss: 0.0236 - categorical_accuracy: 0.9884 - accuracy: 0.9884 - val_loss: 1.4432 - val_categorical_accuracy: 0.6364 - val_accuracy: 0.6364\n",
            "Epoch 31/150\n",
            "16/16 [==============================] - 3s 165ms/step - loss: 0.0096 - categorical_accuracy: 0.9921 - accuracy: 0.9921 - val_loss: 1.4523 - val_categorical_accuracy: 0.6364 - val_accuracy: 0.6364\n",
            "Epoch 32/150\n",
            "16/16 [==============================] - 3s 166ms/step - loss: 0.0210 - categorical_accuracy: 0.9942 - accuracy: 0.9942 - val_loss: 1.4965 - val_categorical_accuracy: 0.6494 - val_accuracy: 0.6494\n",
            "Epoch 33/150\n",
            "16/16 [==============================] - 3s 164ms/step - loss: 0.0406 - categorical_accuracy: 0.9749 - accuracy: 0.9749 - val_loss: 1.5091 - val_categorical_accuracy: 0.6234 - val_accuracy: 0.6234\n",
            "Epoch 34/150\n",
            "16/16 [==============================] - 3s 164ms/step - loss: 0.0218 - categorical_accuracy: 0.9943 - accuracy: 0.9943 - val_loss: 1.4751 - val_categorical_accuracy: 0.6364 - val_accuracy: 0.6364\n",
            "Epoch 35/150\n",
            "16/16 [==============================] - 3s 163ms/step - loss: 0.0195 - categorical_accuracy: 0.9871 - accuracy: 0.9871 - val_loss: 1.4660 - val_categorical_accuracy: 0.6494 - val_accuracy: 0.6494\n",
            "Epoch 36/150\n",
            "16/16 [==============================] - 3s 166ms/step - loss: 0.0168 - categorical_accuracy: 0.9904 - accuracy: 0.9904 - val_loss: 1.4529 - val_categorical_accuracy: 0.6364 - val_accuracy: 0.6364\n",
            "Epoch 37/150\n",
            "16/16 [==============================] - 3s 174ms/step - loss: 0.0286 - categorical_accuracy: 0.9856 - accuracy: 0.9856 - val_loss: 1.5108 - val_categorical_accuracy: 0.6364 - val_accuracy: 0.6364\n",
            "Epoch 38/150\n",
            "16/16 [==============================] - 3s 163ms/step - loss: 0.0249 - categorical_accuracy: 0.9841 - accuracy: 0.9841 - val_loss: 1.4411 - val_categorical_accuracy: 0.6494 - val_accuracy: 0.6494\n",
            "Epoch 39/150\n",
            "16/16 [==============================] - 3s 166ms/step - loss: 0.0325 - categorical_accuracy: 0.9695 - accuracy: 0.9695 - val_loss: 1.4555 - val_categorical_accuracy: 0.6364 - val_accuracy: 0.6364\n",
            "Epoch 40/150\n",
            "16/16 [==============================] - 3s 164ms/step - loss: 0.0184 - categorical_accuracy: 0.9845 - accuracy: 0.9845 - val_loss: 1.4638 - val_categorical_accuracy: 0.6494 - val_accuracy: 0.6494\n",
            "Epoch 41/150\n",
            "16/16 [==============================] - 3s 166ms/step - loss: 0.0182 - categorical_accuracy: 0.9863 - accuracy: 0.9863 - val_loss: 1.4758 - val_categorical_accuracy: 0.6494 - val_accuracy: 0.6494\n",
            "Epoch 42/150\n",
            "16/16 [==============================] - 3s 165ms/step - loss: 0.0201 - categorical_accuracy: 0.9810 - accuracy: 0.9810 - val_loss: 1.5077 - val_categorical_accuracy: 0.6494 - val_accuracy: 0.6494\n",
            "Epoch 43/150\n",
            "16/16 [==============================] - 3s 165ms/step - loss: 0.0153 - categorical_accuracy: 0.9909 - accuracy: 0.9909 - val_loss: 1.4745 - val_categorical_accuracy: 0.6364 - val_accuracy: 0.6364\n",
            "Epoch 44/150\n",
            "16/16 [==============================] - 3s 164ms/step - loss: 0.0118 - categorical_accuracy: 0.9938 - accuracy: 0.9938 - val_loss: 1.4856 - val_categorical_accuracy: 0.6494 - val_accuracy: 0.6494\n",
            "Epoch 45/150\n",
            "16/16 [==============================] - 3s 165ms/step - loss: 0.0178 - categorical_accuracy: 0.9868 - accuracy: 0.9868 - val_loss: 1.4799 - val_categorical_accuracy: 0.6364 - val_accuracy: 0.6364\n",
            "Epoch 46/150\n",
            "16/16 [==============================] - 3s 165ms/step - loss: 0.0263 - categorical_accuracy: 0.9746 - accuracy: 0.9746 - val_loss: 1.4766 - val_categorical_accuracy: 0.6494 - val_accuracy: 0.6494\n",
            "Epoch 47/150\n",
            "16/16 [==============================] - 3s 166ms/step - loss: 0.0128 - categorical_accuracy: 0.9948 - accuracy: 0.9948 - val_loss: 1.5321 - val_categorical_accuracy: 0.6364 - val_accuracy: 0.6364\n",
            "Epoch 48/150\n",
            "16/16 [==============================] - 3s 167ms/step - loss: 0.0275 - categorical_accuracy: 0.9713 - accuracy: 0.9713 - val_loss: 1.5311 - val_categorical_accuracy: 0.6364 - val_accuracy: 0.6364\n",
            "Epoch 49/150\n",
            "16/16 [==============================] - 3s 165ms/step - loss: 0.0184 - categorical_accuracy: 0.9869 - accuracy: 0.9869 - val_loss: 1.4906 - val_categorical_accuracy: 0.6364 - val_accuracy: 0.6364\n",
            "Epoch 50/150\n",
            "16/16 [==============================] - 3s 164ms/step - loss: 0.0120 - categorical_accuracy: 0.9953 - accuracy: 0.9953 - val_loss: 1.5155 - val_categorical_accuracy: 0.6494 - val_accuracy: 0.6494\n",
            "Epoch 51/150\n",
            "16/16 [==============================] - 3s 165ms/step - loss: 0.0182 - categorical_accuracy: 0.9910 - accuracy: 0.9910 - val_loss: 1.4913 - val_categorical_accuracy: 0.6234 - val_accuracy: 0.6234\n",
            "Epoch 52/150\n",
            "16/16 [==============================] - 3s 166ms/step - loss: 0.0131 - categorical_accuracy: 0.9929 - accuracy: 0.9929 - val_loss: 1.4908 - val_categorical_accuracy: 0.6234 - val_accuracy: 0.6234\n",
            "Epoch 53/150\n",
            "16/16 [==============================] - 3s 175ms/step - loss: 0.0177 - categorical_accuracy: 0.9907 - accuracy: 0.9907 - val_loss: 1.5102 - val_categorical_accuracy: 0.6494 - val_accuracy: 0.6494\n",
            "Epoch 54/150\n",
            "16/16 [==============================] - 3s 166ms/step - loss: 0.0265 - categorical_accuracy: 0.9688 - accuracy: 0.9688 - val_loss: 1.5282 - val_categorical_accuracy: 0.6494 - val_accuracy: 0.6494\n",
            "Epoch 55/150\n",
            "16/16 [==============================] - 3s 166ms/step - loss: 0.0173 - categorical_accuracy: 0.9950 - accuracy: 0.9950 - val_loss: 1.5189 - val_categorical_accuracy: 0.6494 - val_accuracy: 0.6494\n",
            "Epoch 56/150\n",
            "16/16 [==============================] - 3s 166ms/step - loss: 0.0173 - categorical_accuracy: 0.9864 - accuracy: 0.9864 - val_loss: 1.5137 - val_categorical_accuracy: 0.6494 - val_accuracy: 0.6494\n",
            "Epoch 57/150\n",
            "16/16 [==============================] - 3s 167ms/step - loss: 0.0211 - categorical_accuracy: 0.9864 - accuracy: 0.9864 - val_loss: 1.5138 - val_categorical_accuracy: 0.6364 - val_accuracy: 0.6364\n",
            "Epoch 58/150\n",
            "16/16 [==============================] - 3s 167ms/step - loss: 0.0133 - categorical_accuracy: 0.9896 - accuracy: 0.9896 - val_loss: 1.5490 - val_categorical_accuracy: 0.6494 - val_accuracy: 0.6494\n",
            "Epoch 59/150\n",
            "16/16 [==============================] - 3s 166ms/step - loss: 0.0186 - categorical_accuracy: 0.9870 - accuracy: 0.9870 - val_loss: 1.5109 - val_categorical_accuracy: 0.6364 - val_accuracy: 0.6364\n",
            "Epoch 60/150\n",
            "16/16 [==============================] - 3s 163ms/step - loss: 0.0263 - categorical_accuracy: 0.9798 - accuracy: 0.9798 - val_loss: 1.5228 - val_categorical_accuracy: 0.6494 - val_accuracy: 0.6494\n",
            "Epoch 61/150\n",
            "16/16 [==============================] - 3s 164ms/step - loss: 0.0175 - categorical_accuracy: 0.9887 - accuracy: 0.9887 - val_loss: 1.5322 - val_categorical_accuracy: 0.6494 - val_accuracy: 0.6494\n",
            "Epoch 62/150\n",
            "16/16 [==============================] - 3s 163ms/step - loss: 0.0230 - categorical_accuracy: 0.9739 - accuracy: 0.9739 - val_loss: 1.5379 - val_categorical_accuracy: 0.6494 - val_accuracy: 0.6494\n",
            "Epoch 63/150\n",
            "16/16 [==============================] - 3s 166ms/step - loss: 0.0196 - categorical_accuracy: 0.9812 - accuracy: 0.9812 - val_loss: 1.5318 - val_categorical_accuracy: 0.6364 - val_accuracy: 0.6364\n",
            "Epoch 64/150\n",
            "16/16 [==============================] - 3s 164ms/step - loss: 0.0155 - categorical_accuracy: 0.9924 - accuracy: 0.9924 - val_loss: 1.5441 - val_categorical_accuracy: 0.6494 - val_accuracy: 0.6494\n",
            "Epoch 65/150\n",
            "16/16 [==============================] - 3s 164ms/step - loss: 0.0207 - categorical_accuracy: 0.9755 - accuracy: 0.9755 - val_loss: 1.5475 - val_categorical_accuracy: 0.6494 - val_accuracy: 0.6494\n",
            "Epoch 66/150\n",
            "16/16 [==============================] - 3s 164ms/step - loss: 0.0114 - categorical_accuracy: 0.9887 - accuracy: 0.9887 - val_loss: 1.5630 - val_categorical_accuracy: 0.6623 - val_accuracy: 0.6623\n",
            "Epoch 67/150\n",
            "16/16 [==============================] - 3s 165ms/step - loss: 0.0266 - categorical_accuracy: 0.9797 - accuracy: 0.9797 - val_loss: 1.5679 - val_categorical_accuracy: 0.6364 - val_accuracy: 0.6364\n",
            "Epoch 68/150\n",
            "16/16 [==============================] - 3s 164ms/step - loss: 0.0236 - categorical_accuracy: 0.9762 - accuracy: 0.9762 - val_loss: 1.5647 - val_categorical_accuracy: 0.6364 - val_accuracy: 0.6364\n",
            "Epoch 69/150\n",
            "16/16 [==============================] - 3s 164ms/step - loss: 0.0223 - categorical_accuracy: 0.9819 - accuracy: 0.9819 - val_loss: 1.5682 - val_categorical_accuracy: 0.6494 - val_accuracy: 0.6494\n",
            "Epoch 70/150\n",
            "16/16 [==============================] - 3s 176ms/step - loss: 0.0273 - categorical_accuracy: 0.9748 - accuracy: 0.9748 - val_loss: 1.5579 - val_categorical_accuracy: 0.6494 - val_accuracy: 0.6494\n",
            "Epoch 71/150\n",
            "16/16 [==============================] - 3s 169ms/step - loss: 0.0144 - categorical_accuracy: 0.9906 - accuracy: 0.9906 - val_loss: 1.5758 - val_categorical_accuracy: 0.6623 - val_accuracy: 0.6623\n",
            "Epoch 72/150\n",
            "16/16 [==============================] - 3s 164ms/step - loss: 0.0112 - categorical_accuracy: 0.9944 - accuracy: 0.9944 - val_loss: 1.5807 - val_categorical_accuracy: 0.6494 - val_accuracy: 0.6494\n",
            "Epoch 73/150\n",
            "16/16 [==============================] - 3s 167ms/step - loss: 0.0159 - categorical_accuracy: 0.9983 - accuracy: 0.9983 - val_loss: 1.6180 - val_categorical_accuracy: 0.6623 - val_accuracy: 0.6623\n",
            "Epoch 74/150\n",
            "16/16 [==============================] - 3s 166ms/step - loss: 0.0254 - categorical_accuracy: 0.9838 - accuracy: 0.9838 - val_loss: 1.5451 - val_categorical_accuracy: 0.6234 - val_accuracy: 0.6234\n",
            "Epoch 75/150\n",
            "16/16 [==============================] - 3s 166ms/step - loss: 0.0195 - categorical_accuracy: 0.9879 - accuracy: 0.9879 - val_loss: 1.5608 - val_categorical_accuracy: 0.6364 - val_accuracy: 0.6364\n",
            "Epoch 76/150\n",
            "16/16 [==============================] - 3s 168ms/step - loss: 0.0130 - categorical_accuracy: 0.9887 - accuracy: 0.9887 - val_loss: 1.5690 - val_categorical_accuracy: 0.6364 - val_accuracy: 0.6364\n",
            "Epoch 77/150\n",
            "16/16 [==============================] - 3s 166ms/step - loss: 0.0163 - categorical_accuracy: 0.9905 - accuracy: 0.9905 - val_loss: 1.5711 - val_categorical_accuracy: 0.6364 - val_accuracy: 0.6364\n",
            "Epoch 78/150\n",
            "16/16 [==============================] - 3s 171ms/step - loss: 0.0122 - categorical_accuracy: 0.9944 - accuracy: 0.9944 - val_loss: 1.5991 - val_categorical_accuracy: 0.6364 - val_accuracy: 0.6364\n",
            "Epoch 79/150\n",
            "16/16 [==============================] - 3s 164ms/step - loss: 0.0148 - categorical_accuracy: 0.9901 - accuracy: 0.9901 - val_loss: 1.6153 - val_categorical_accuracy: 0.6364 - val_accuracy: 0.6364\n",
            "Epoch 80/150\n",
            "16/16 [==============================] - 3s 168ms/step - loss: 0.0108 - categorical_accuracy: 0.9946 - accuracy: 0.9946 - val_loss: 1.6008 - val_categorical_accuracy: 0.6494 - val_accuracy: 0.6494\n",
            "Epoch 81/150\n",
            "16/16 [==============================] - 3s 165ms/step - loss: 0.0161 - categorical_accuracy: 0.9826 - accuracy: 0.9826 - val_loss: 1.5888 - val_categorical_accuracy: 0.6234 - val_accuracy: 0.6234\n",
            "Epoch 82/150\n",
            "16/16 [==============================] - 3s 165ms/step - loss: 0.0232 - categorical_accuracy: 0.9801 - accuracy: 0.9801 - val_loss: 1.6078 - val_categorical_accuracy: 0.6364 - val_accuracy: 0.6364\n",
            "Epoch 83/150\n",
            "16/16 [==============================] - 3s 167ms/step - loss: 0.0230 - categorical_accuracy: 0.9796 - accuracy: 0.9796 - val_loss: 1.6002 - val_categorical_accuracy: 0.6364 - val_accuracy: 0.6364\n",
            "Epoch 84/150\n",
            "16/16 [==============================] - 3s 166ms/step - loss: 0.0055 - categorical_accuracy: 0.9953 - accuracy: 0.9953 - val_loss: 1.6205 - val_categorical_accuracy: 0.6364 - val_accuracy: 0.6364\n",
            "Epoch 85/150\n",
            "16/16 [==============================] - 3s 165ms/step - loss: 0.0266 - categorical_accuracy: 0.9685 - accuracy: 0.9685 - val_loss: 1.6020 - val_categorical_accuracy: 0.6364 - val_accuracy: 0.6364\n",
            "Epoch 86/150\n",
            "16/16 [==============================] - 3s 166ms/step - loss: 0.0216 - categorical_accuracy: 0.9912 - accuracy: 0.9912 - val_loss: 1.6223 - val_categorical_accuracy: 0.6623 - val_accuracy: 0.6623\n",
            "Epoch 87/150\n",
            "16/16 [==============================] - 3s 174ms/step - loss: 0.0139 - categorical_accuracy: 0.9945 - accuracy: 0.9945 - val_loss: 1.6347 - val_categorical_accuracy: 0.6494 - val_accuracy: 0.6494\n",
            "Epoch 88/150\n",
            "16/16 [==============================] - 3s 165ms/step - loss: 0.0140 - categorical_accuracy: 0.9963 - accuracy: 0.9963 - val_loss: 1.6904 - val_categorical_accuracy: 0.6364 - val_accuracy: 0.6364\n",
            "Epoch 89/150\n",
            "16/16 [==============================] - 3s 167ms/step - loss: 0.0176 - categorical_accuracy: 0.9945 - accuracy: 0.9945 - val_loss: 1.6409 - val_categorical_accuracy: 0.6364 - val_accuracy: 0.6364\n",
            "Epoch 90/150\n",
            "16/16 [==============================] - 3s 166ms/step - loss: 0.0141 - categorical_accuracy: 0.9948 - accuracy: 0.9948 - val_loss: 1.6347 - val_categorical_accuracy: 0.6494 - val_accuracy: 0.6494\n",
            "Epoch 91/150\n",
            "16/16 [==============================] - 3s 165ms/step - loss: 0.0125 - categorical_accuracy: 0.9954 - accuracy: 0.9954 - val_loss: 1.6334 - val_categorical_accuracy: 0.6364 - val_accuracy: 0.6364\n",
            "Epoch 92/150\n",
            "16/16 [==============================] - 3s 166ms/step - loss: 0.0263 - categorical_accuracy: 0.9767 - accuracy: 0.9767 - val_loss: 1.6840 - val_categorical_accuracy: 0.6234 - val_accuracy: 0.6234\n",
            "Epoch 93/150\n",
            "16/16 [==============================] - 3s 167ms/step - loss: 0.0170 - categorical_accuracy: 0.9936 - accuracy: 0.9936 - val_loss: 1.6112 - val_categorical_accuracy: 0.6494 - val_accuracy: 0.6494\n",
            "Epoch 94/150\n",
            "16/16 [==============================] - 3s 166ms/step - loss: 0.0208 - categorical_accuracy: 0.9820 - accuracy: 0.9820 - val_loss: 1.6256 - val_categorical_accuracy: 0.6494 - val_accuracy: 0.6494\n",
            "Epoch 95/150\n",
            "16/16 [==============================] - 3s 167ms/step - loss: 0.0318 - categorical_accuracy: 0.9785 - accuracy: 0.9785 - val_loss: 1.6222 - val_categorical_accuracy: 0.6494 - val_accuracy: 0.6494\n",
            "Epoch 96/150\n",
            "16/16 [==============================] - 3s 167ms/step - loss: 0.0228 - categorical_accuracy: 0.9793 - accuracy: 0.9793 - val_loss: 1.6550 - val_categorical_accuracy: 0.6494 - val_accuracy: 0.6494\n",
            "Epoch 97/150\n",
            "16/16 [==============================] - 3s 167ms/step - loss: 0.0228 - categorical_accuracy: 0.9831 - accuracy: 0.9831 - val_loss: 1.6280 - val_categorical_accuracy: 0.6623 - val_accuracy: 0.6623\n",
            "Epoch 98/150\n",
            "16/16 [==============================] - 3s 165ms/step - loss: 0.0181 - categorical_accuracy: 0.9890 - accuracy: 0.9890 - val_loss: 1.6601 - val_categorical_accuracy: 0.6234 - val_accuracy: 0.6234\n",
            "Epoch 99/150\n",
            "16/16 [==============================] - 3s 166ms/step - loss: 0.0162 - categorical_accuracy: 0.9910 - accuracy: 0.9910 - val_loss: 1.6500 - val_categorical_accuracy: 0.6623 - val_accuracy: 0.6623\n",
            "Epoch 100/150\n",
            "16/16 [==============================] - 3s 168ms/step - loss: 0.0278 - categorical_accuracy: 0.9838 - accuracy: 0.9838 - val_loss: 1.6488 - val_categorical_accuracy: 0.6364 - val_accuracy: 0.6364\n",
            "Epoch 101/150\n",
            "16/16 [==============================] - 3s 166ms/step - loss: 0.0205 - categorical_accuracy: 0.9797 - accuracy: 0.9797 - val_loss: 1.6682 - val_categorical_accuracy: 0.6494 - val_accuracy: 0.6494\n",
            "Epoch 102/150\n",
            "16/16 [==============================] - 3s 165ms/step - loss: 0.0179 - categorical_accuracy: 0.9898 - accuracy: 0.9898 - val_loss: 1.6243 - val_categorical_accuracy: 0.6623 - val_accuracy: 0.6623\n",
            "Epoch 103/150\n",
            "16/16 [==============================] - 3s 175ms/step - loss: 0.0170 - categorical_accuracy: 0.9927 - accuracy: 0.9927 - val_loss: 1.6300 - val_categorical_accuracy: 0.6623 - val_accuracy: 0.6623\n",
            "Epoch 104/150\n",
            "16/16 [==============================] - 3s 166ms/step - loss: 0.0109 - categorical_accuracy: 0.9908 - accuracy: 0.9908 - val_loss: 1.6586 - val_categorical_accuracy: 0.6494 - val_accuracy: 0.6494\n",
            "Epoch 105/150\n",
            "16/16 [==============================] - 3s 168ms/step - loss: 0.0173 - categorical_accuracy: 0.9948 - accuracy: 0.9948 - val_loss: 1.6714 - val_categorical_accuracy: 0.6623 - val_accuracy: 0.6623\n",
            "Epoch 106/150\n",
            "16/16 [==============================] - 3s 165ms/step - loss: 0.0131 - categorical_accuracy: 0.9912 - accuracy: 0.9912 - val_loss: 1.6748 - val_categorical_accuracy: 0.6623 - val_accuracy: 0.6623\n",
            "Epoch 107/150\n",
            "16/16 [==============================] - 3s 165ms/step - loss: 0.0138 - categorical_accuracy: 0.9933 - accuracy: 0.9933 - val_loss: 1.7029 - val_categorical_accuracy: 0.6494 - val_accuracy: 0.6494\n",
            "Epoch 108/150\n",
            "16/16 [==============================] - 3s 167ms/step - loss: 0.0206 - categorical_accuracy: 0.9897 - accuracy: 0.9897 - val_loss: 1.7388 - val_categorical_accuracy: 0.6494 - val_accuracy: 0.6494\n",
            "Epoch 109/150\n",
            "16/16 [==============================] - 3s 165ms/step - loss: 0.0179 - categorical_accuracy: 0.9899 - accuracy: 0.9899 - val_loss: 1.7357 - val_categorical_accuracy: 0.6494 - val_accuracy: 0.6494\n",
            "Epoch 110/150\n",
            "16/16 [==============================] - 3s 166ms/step - loss: 0.0134 - categorical_accuracy: 0.9851 - accuracy: 0.9851 - val_loss: 1.6712 - val_categorical_accuracy: 0.6623 - val_accuracy: 0.6623\n",
            "Epoch 111/150\n",
            "16/16 [==============================] - 3s 165ms/step - loss: 0.0215 - categorical_accuracy: 0.9945 - accuracy: 0.9945 - val_loss: 1.6801 - val_categorical_accuracy: 0.6753 - val_accuracy: 0.6753\n",
            "Epoch 112/150\n",
            "16/16 [==============================] - 3s 169ms/step - loss: 0.0094 - categorical_accuracy: 0.9943 - accuracy: 0.9943 - val_loss: 1.7077 - val_categorical_accuracy: 0.6753 - val_accuracy: 0.6753\n",
            "Epoch 113/150\n",
            "16/16 [==============================] - 3s 166ms/step - loss: 0.0142 - categorical_accuracy: 0.9875 - accuracy: 0.9875 - val_loss: 1.7203 - val_categorical_accuracy: 0.6753 - val_accuracy: 0.6753\n",
            "Epoch 114/150\n",
            "16/16 [==============================] - 3s 165ms/step - loss: 0.0129 - categorical_accuracy: 0.9890 - accuracy: 0.9890 - val_loss: 1.7125 - val_categorical_accuracy: 0.6753 - val_accuracy: 0.6753\n",
            "Epoch 115/150\n",
            "16/16 [==============================] - 3s 165ms/step - loss: 0.0080 - categorical_accuracy: 0.9978 - accuracy: 0.9978 - val_loss: 1.7831 - val_categorical_accuracy: 0.6623 - val_accuracy: 0.6623\n",
            "Epoch 116/150\n",
            "16/16 [==============================] - 3s 165ms/step - loss: 0.0103 - categorical_accuracy: 0.9959 - accuracy: 0.9959 - val_loss: 1.7559 - val_categorical_accuracy: 0.6623 - val_accuracy: 0.6623\n",
            "Epoch 117/150\n",
            "16/16 [==============================] - 3s 165ms/step - loss: 0.0156 - categorical_accuracy: 0.9918 - accuracy: 0.9918 - val_loss: 1.7499 - val_categorical_accuracy: 0.6753 - val_accuracy: 0.6753\n",
            "Epoch 118/150\n",
            "16/16 [==============================] - 3s 163ms/step - loss: 0.0199 - categorical_accuracy: 0.9858 - accuracy: 0.9858 - val_loss: 1.7550 - val_categorical_accuracy: 0.6623 - val_accuracy: 0.6623\n",
            "Epoch 119/150\n",
            "16/16 [==============================] - 3s 164ms/step - loss: 0.0171 - categorical_accuracy: 0.9833 - accuracy: 0.9833 - val_loss: 1.7553 - val_categorical_accuracy: 0.6494 - val_accuracy: 0.6494\n",
            "Epoch 120/150\n",
            "16/16 [==============================] - 3s 174ms/step - loss: 0.0178 - categorical_accuracy: 0.9848 - accuracy: 0.9848 - val_loss: 1.7628 - val_categorical_accuracy: 0.6494 - val_accuracy: 0.6494\n",
            "Epoch 121/150\n",
            "16/16 [==============================] - 3s 166ms/step - loss: 0.0299 - categorical_accuracy: 0.9786 - accuracy: 0.9786 - val_loss: 1.7543 - val_categorical_accuracy: 0.6753 - val_accuracy: 0.6753\n",
            "Epoch 122/150\n",
            "16/16 [==============================] - 3s 167ms/step - loss: 0.0101 - categorical_accuracy: 0.9954 - accuracy: 0.9954 - val_loss: 1.7582 - val_categorical_accuracy: 0.6623 - val_accuracy: 0.6623\n",
            "Epoch 123/150\n",
            "16/16 [==============================] - 3s 167ms/step - loss: 0.0126 - categorical_accuracy: 0.9952 - accuracy: 0.9952 - val_loss: 1.7614 - val_categorical_accuracy: 0.6623 - val_accuracy: 0.6623\n",
            "Epoch 124/150\n",
            "16/16 [==============================] - 3s 167ms/step - loss: 0.0147 - categorical_accuracy: 0.9888 - accuracy: 0.9888 - val_loss: 1.7466 - val_categorical_accuracy: 0.6494 - val_accuracy: 0.6494\n",
            "Epoch 125/150\n",
            "16/16 [==============================] - 3s 168ms/step - loss: 0.0297 - categorical_accuracy: 0.9868 - accuracy: 0.9868 - val_loss: 1.7633 - val_categorical_accuracy: 0.6494 - val_accuracy: 0.6494\n",
            "Epoch 126/150\n",
            "16/16 [==============================] - 3s 165ms/step - loss: 0.0115 - categorical_accuracy: 0.9918 - accuracy: 0.9918 - val_loss: 1.7767 - val_categorical_accuracy: 0.6753 - val_accuracy: 0.6753\n",
            "Epoch 127/150\n",
            "16/16 [==============================] - 3s 166ms/step - loss: 0.0131 - categorical_accuracy: 0.9898 - accuracy: 0.9898 - val_loss: 1.7818 - val_categorical_accuracy: 0.6623 - val_accuracy: 0.6623\n",
            "Epoch 128/150\n",
            "16/16 [==============================] - 3s 167ms/step - loss: 0.0063 - categorical_accuracy: 0.9930 - accuracy: 0.9930 - val_loss: 1.7911 - val_categorical_accuracy: 0.6753 - val_accuracy: 0.6753\n",
            "Epoch 129/150\n",
            "16/16 [==============================] - 3s 168ms/step - loss: 0.0192 - categorical_accuracy: 0.9907 - accuracy: 0.9907 - val_loss: 1.7835 - val_categorical_accuracy: 0.6753 - val_accuracy: 0.6753\n",
            "Epoch 130/150\n",
            "16/16 [==============================] - 3s 168ms/step - loss: 0.0228 - categorical_accuracy: 0.9835 - accuracy: 0.9835 - val_loss: 1.7474 - val_categorical_accuracy: 0.6494 - val_accuracy: 0.6494\n",
            "Epoch 131/150\n",
            "16/16 [==============================] - 3s 168ms/step - loss: 0.0256 - categorical_accuracy: 0.9872 - accuracy: 0.9872 - val_loss: 1.7769 - val_categorical_accuracy: 0.6494 - val_accuracy: 0.6494\n",
            "Epoch 132/150\n",
            "16/16 [==============================] - 3s 167ms/step - loss: 0.0214 - categorical_accuracy: 0.9876 - accuracy: 0.9876 - val_loss: 1.7664 - val_categorical_accuracy: 0.6623 - val_accuracy: 0.6623\n",
            "Epoch 133/150\n",
            "16/16 [==============================] - 3s 166ms/step - loss: 0.0204 - categorical_accuracy: 0.9856 - accuracy: 0.9856 - val_loss: 1.7945 - val_categorical_accuracy: 0.6623 - val_accuracy: 0.6623\n",
            "Epoch 134/150\n",
            "16/16 [==============================] - 3s 169ms/step - loss: 0.0149 - categorical_accuracy: 0.9901 - accuracy: 0.9901 - val_loss: 1.8278 - val_categorical_accuracy: 0.6494 - val_accuracy: 0.6494\n",
            "Epoch 135/150\n",
            "16/16 [==============================] - 3s 171ms/step - loss: 0.0151 - categorical_accuracy: 0.9842 - accuracy: 0.9842 - val_loss: 1.8091 - val_categorical_accuracy: 0.6623 - val_accuracy: 0.6623\n",
            "Epoch 136/150\n",
            "16/16 [==============================] - 3s 168ms/step - loss: 0.0134 - categorical_accuracy: 0.9858 - accuracy: 0.9858 - val_loss: 1.8199 - val_categorical_accuracy: 0.6494 - val_accuracy: 0.6494\n",
            "Epoch 137/150\n",
            "16/16 [==============================] - 3s 175ms/step - loss: 0.0138 - categorical_accuracy: 0.9849 - accuracy: 0.9849 - val_loss: 1.8425 - val_categorical_accuracy: 0.6753 - val_accuracy: 0.6753\n",
            "Epoch 138/150\n",
            "16/16 [==============================] - 3s 166ms/step - loss: 0.0121 - categorical_accuracy: 0.9875 - accuracy: 0.9875 - val_loss: 1.8341 - val_categorical_accuracy: 0.6623 - val_accuracy: 0.6623\n",
            "Epoch 139/150\n",
            "16/16 [==============================] - 3s 167ms/step - loss: 0.0150 - categorical_accuracy: 0.9883 - accuracy: 0.9883 - val_loss: 1.8382 - val_categorical_accuracy: 0.6494 - val_accuracy: 0.6494\n",
            "Epoch 140/150\n",
            "16/16 [==============================] - 3s 166ms/step - loss: 0.0221 - categorical_accuracy: 0.9890 - accuracy: 0.9890 - val_loss: 1.8566 - val_categorical_accuracy: 0.6494 - val_accuracy: 0.6494\n",
            "Epoch 141/150\n",
            "16/16 [==============================] - 3s 166ms/step - loss: 0.0162 - categorical_accuracy: 0.9933 - accuracy: 0.9933 - val_loss: 1.8050 - val_categorical_accuracy: 0.6494 - val_accuracy: 0.6494\n",
            "Epoch 142/150\n",
            "16/16 [==============================] - 3s 167ms/step - loss: 0.0192 - categorical_accuracy: 0.9829 - accuracy: 0.9829 - val_loss: 1.8171 - val_categorical_accuracy: 0.6494 - val_accuracy: 0.6494\n",
            "Epoch 143/150\n",
            "16/16 [==============================] - 3s 168ms/step - loss: 0.0133 - categorical_accuracy: 0.9927 - accuracy: 0.9927 - val_loss: 1.8188 - val_categorical_accuracy: 0.6494 - val_accuracy: 0.6494\n",
            "Epoch 144/150\n",
            "16/16 [==============================] - 3s 173ms/step - loss: 0.0245 - categorical_accuracy: 0.9818 - accuracy: 0.9818 - val_loss: 1.8321 - val_categorical_accuracy: 0.6234 - val_accuracy: 0.6234\n",
            "Epoch 145/150\n",
            "16/16 [==============================] - 3s 165ms/step - loss: 0.0096 - categorical_accuracy: 0.9940 - accuracy: 0.9940 - val_loss: 1.8456 - val_categorical_accuracy: 0.6364 - val_accuracy: 0.6364\n",
            "Epoch 146/150\n",
            "16/16 [==============================] - 3s 166ms/step - loss: 0.0119 - categorical_accuracy: 0.9916 - accuracy: 0.9916 - val_loss: 1.8515 - val_categorical_accuracy: 0.6494 - val_accuracy: 0.6494\n",
            "Epoch 147/150\n",
            "16/16 [==============================] - 3s 167ms/step - loss: 0.0172 - categorical_accuracy: 0.9919 - accuracy: 0.9919 - val_loss: 1.8447 - val_categorical_accuracy: 0.6364 - val_accuracy: 0.6364\n",
            "Epoch 148/150\n",
            "16/16 [==============================] - 3s 167ms/step - loss: 0.0123 - categorical_accuracy: 0.9950 - accuracy: 0.9950 - val_loss: 1.8522 - val_categorical_accuracy: 0.6364 - val_accuracy: 0.6364\n",
            "Epoch 149/150\n",
            "16/16 [==============================] - 3s 166ms/step - loss: 0.0202 - categorical_accuracy: 0.9840 - accuracy: 0.9840 - val_loss: 1.8721 - val_categorical_accuracy: 0.6494 - val_accuracy: 0.6494\n",
            "Epoch 150/150\n",
            "16/16 [==============================] - 3s 169ms/step - loss: 0.0108 - categorical_accuracy: 0.9915 - accuracy: 0.9915 - val_loss: 1.8740 - val_categorical_accuracy: 0.6494 - val_accuracy: 0.6494\n",
            "4/4 [==============================] - 0s 45ms/step - loss: 3.1126 - categorical_accuracy: 0.3918 - accuracy: 0.3918\n",
            "[[ 9  2  9  0  0]\n",
            " [ 5  8  6  1  0]\n",
            " [ 4  1 11  3  1]\n",
            " [ 4  1 11  4  0]\n",
            " [ 0  2  6  3  6]]\n",
            "              precision    recall  f1-score   support\n",
            "\n",
            "          DN       0.41      0.45      0.43        20\n",
            "         GOF       0.57      0.40      0.47        20\n",
            "          HI       0.26      0.55      0.35        20\n",
            "         LOF       0.36      0.20      0.26        20\n",
            "        none       0.86      0.35      0.50        17\n",
            "\n",
            "    accuracy                           0.39        97\n",
            "   macro avg       0.49      0.39      0.40        97\n",
            "weighted avg       0.48      0.39      0.40        97\n",
            "\n"
          ],
          "name": "stdout"
        }
      ]
    },
    {
      "cell_type": "code",
      "metadata": {
        "colab": {
          "base_uri": "https://localhost:8080/",
          "height": 611
        },
        "id": "6r_tR1hRYfyT",
        "outputId": "605c15d3-cee1-4b67-8f16-bd918f113236"
      },
      "source": [
        "with open('/content/%s' %modelName, 'wb') as file_pi:\r\n",
        "        pickle.dump(history.history, file_pi)\r\n",
        "history = pickle.load(open('/content/%s' % modelName, \"rb\"))\r\n",
        "model.save(modelName +'.h5')\r\n",
        "plot(history)\r\n",
        "with open('/content/%s_train' %modelName, 'wb') as file_pi:\r\n",
        "        pickle.dump(X_train, file_pi)\r\n",
        "with open('/content/%s_test' %modelName, 'wb') as file_pi:\r\n",
        "        pickle.dump(X_test, file_pi)\r\n",
        "with open('/content/%s_Labeltest' %modelName, 'wb') as file_pi:\r\n",
        "        pickle.dump(y_test, file_pi)\r\n",
        "with open('/content/%s_LabelTrain' %modelName, 'wb') as file_pi:\r\n",
        "        pickle.dump(y_train, file_pi)\r\n",
        "with open('/content/%s_ConfusionMatrix' %modelName, 'wb') as file_pi:\r\n",
        "        pickle.dump(confusion_matrix(y_test.argmax(axis=-1), model.predict(X_test).argmax(axis=-1)), file_pi)\r\n",
        "with open('/content/%s_ClassificationReport' %modelName, 'wb') as file_pi:\r\n",
        "        pickle.dump(classification_report(y_test.argmax(axis=-1), model.predict(X_test).argmax(axis=-1), target_names=ClassNames), file_pi)"
      ],
      "execution_count": 43,
      "outputs": [
        {
          "output_type": "stream",
          "text": [
            "dict_keys(['loss', 'categorical_accuracy', 'accuracy', 'val_loss', 'val_categorical_accuracy', 'val_accuracy'])\n"
          ],
          "name": "stdout"
        },
        {
          "output_type": "display_data",
          "data": {
            "image/png": "[encoded data removed]",
            "text/plain": [
              "<Figure size 432x288 with 1 Axes>"
            ]
          },
          "metadata": {
            "tags": [],
            "needs_background": "light"
          }
        },
        {
          "output_type": "display_data",
          "data": {
            "image/png": "[encoded data removed]",
            "text/plain": [
              "<Figure size 432x288 with 1 Axes>"
            ]
          },
          "metadata": {
            "tags": [],
            "needs_background": "light"
          }
        }
      ]
    },
    {
      "cell_type": "code",
      "metadata": {
        "colab": {
          "base_uri": "https://localhost:8080/"
        },
        "id": "YsMl4MmVcsQp",
        "outputId": "c63ba887-2edd-4899-972b-4f5c1385f17c"
      },
      "source": [
        "print(pickle.load(open('Model3_ClassificationReport','rb')))"
      ],
      "execution_count": 45,
      "outputs": [
        {
          "output_type": "stream",
          "text": [
            "              precision    recall  f1-score   support\n",
            "\n",
            "          DN       0.41      0.45      0.43        20\n",
            "         GOF       0.57      0.40      0.47        20\n",
            "          HI       0.26      0.55      0.35        20\n",
            "         LOF       0.36      0.20      0.26        20\n",
            "        none       0.86      0.35      0.50        17\n",
            "\n",
            "    accuracy                           0.39        97\n",
            "   macro avg       0.49      0.39      0.40        97\n",
            "weighted avg       0.48      0.39      0.40        97\n",
            "\n"
          ],
          "name": "stdout"
        }
      ]
    },
    {
      "cell_type": "code",
      "metadata": {
        "id": "903WPMJwdGjU"
      },
      "source": [
        ""
      ],
      "execution_count": null,
      "outputs": []
    },
    {
      "cell_type": "markdown",
      "metadata": {
        "id": "yEorvTcgdXtv"
      },
      "source": [
        "Running model with adadelta optimizer and tfidf vectorizer"
      ]
    },
    {
      "cell_type": "code",
      "metadata": {
        "id": "1wAZnGcjdbdl"
      },
      "source": [
        "modelName = 'Model5' #name of the model, this will be used to save model evaluation and history\r\n",
        "numEpochs  = 200 # maximum number of epochs if early stopping doesnt work\r\n",
        "batchsize = 50 # batchsize which will be used in each step by optimizer defined in the model\r\n",
        "optimizer = 'adam' #optimizer to be used in model.fit keras method"
      ],
      "execution_count": 62,
      "outputs": []
    },
    {
      "cell_type": "code",
      "metadata": {
        "colab": {
          "base_uri": "https://localhost:8080/"
        },
        "id": "ERMcd0q6dr0o",
        "outputId": "78e14e94-410f-4336-9bda-bcba938637db"
      },
      "source": [
        "X, y = Preprocessing()\r\n",
        "X_train, X_test, y_train, y_test, ClassNames = TrainTestSplit(X, y)\r\n",
        "model = ModelBuild(X_train, y_train)\r\n",
        "PlotModel(model, modelName +\".png\")\r\n",
        "history = PlotTraining(model, X_test, y_test)\r\n",
        "print(confusion_matrix(y_test.argmax(axis=-1),model.predict(X_test).argmax(axis=-1)))\r\n",
        "print(classification_report(y_test.argmax(axis=-1), model.predict(X_test).argmax(axis=-1),target_names=ClassNames))\r\n"
      ],
      "execution_count": 63,
      "outputs": [
        {
          "output_type": "stream",
          "text": [
            "Model: \"model_4\"\n",
            "_________________________________________________________________\n",
            "Layer (type)                 Output Shape              Param #   \n",
            "=================================================================\n",
            "input_5 (InputLayer)         [(None, 55389)]           0         \n",
            "_________________________________________________________________\n",
            "dense_12 (Dense)             (None, 500)               27695000  \n",
            "_________________________________________________________________\n",
            "dense_13 (Dense)             (None, 100)               50100     \n",
            "_________________________________________________________________\n",
            "dense_14 (Dense)             (None, 5)                 505       \n",
            "=================================================================\n",
            "Total params: 27,745,605\n",
            "Trainable params: 27,745,605\n",
            "Non-trainable params: 0\n",
            "_________________________________________________________________\n",
            "Epoch 1/200\n",
            "7/7 [==============================] - 2s 265ms/step - loss: 1.6061 - categorical_accuracy: 0.2644 - accuracy: 0.2644 - val_loss: 1.5790 - val_categorical_accuracy: 0.4805 - val_accuracy: 0.4805\n",
            "Epoch 2/200\n",
            "7/7 [==============================] - 2s 224ms/step - loss: 1.4397 - categorical_accuracy: 0.9499 - accuracy: 0.9499 - val_loss: 1.5018 - val_categorical_accuracy: 0.5325 - val_accuracy: 0.5325\n",
            "Epoch 3/200\n",
            "7/7 [==============================] - 2s 221ms/step - loss: 1.0596 - categorical_accuracy: 0.9532 - accuracy: 0.9532 - val_loss: 1.4027 - val_categorical_accuracy: 0.5844 - val_accuracy: 0.5844\n",
            "Epoch 4/200\n",
            "7/7 [==============================] - 2s 216ms/step - loss: 0.5255 - categorical_accuracy: 0.9574 - accuracy: 0.9574 - val_loss: 1.3426 - val_categorical_accuracy: 0.6364 - val_accuracy: 0.6364\n",
            "Epoch 5/200\n",
            "7/7 [==============================] - 2s 222ms/step - loss: 0.1926 - categorical_accuracy: 0.9614 - accuracy: 0.9614 - val_loss: 1.3324 - val_categorical_accuracy: 0.6623 - val_accuracy: 0.6623\n",
            "Epoch 6/200\n",
            "7/7 [==============================] - 2s 247ms/step - loss: 0.0866 - categorical_accuracy: 0.9803 - accuracy: 0.9803 - val_loss: 1.3774 - val_categorical_accuracy: 0.6234 - val_accuracy: 0.6234\n",
            "Epoch 7/200\n",
            "7/7 [==============================] - 2s 219ms/step - loss: 0.0677 - categorical_accuracy: 0.9680 - accuracy: 0.9680 - val_loss: 1.4381 - val_categorical_accuracy: 0.6494 - val_accuracy: 0.6494\n",
            "Epoch 8/200\n",
            "7/7 [==============================] - 2s 219ms/step - loss: 0.0433 - categorical_accuracy: 0.9883 - accuracy: 0.9883 - val_loss: 1.4893 - val_categorical_accuracy: 0.6364 - val_accuracy: 0.6364\n",
            "Epoch 9/200\n",
            "7/7 [==============================] - 1s 216ms/step - loss: 0.0262 - categorical_accuracy: 0.9871 - accuracy: 0.9871 - val_loss: 1.5047 - val_categorical_accuracy: 0.6883 - val_accuracy: 0.6883\n",
            "Epoch 10/200\n",
            "7/7 [==============================] - 2s 222ms/step - loss: 0.0305 - categorical_accuracy: 0.9822 - accuracy: 0.9822 - val_loss: 1.5226 - val_categorical_accuracy: 0.6494 - val_accuracy: 0.6494\n",
            "Epoch 11/200\n",
            "7/7 [==============================] - 2s 222ms/step - loss: 0.0341 - categorical_accuracy: 0.9818 - accuracy: 0.9818 - val_loss: 1.5019 - val_categorical_accuracy: 0.6753 - val_accuracy: 0.6753\n",
            "Epoch 12/200\n",
            "7/7 [==============================] - 2s 221ms/step - loss: 0.0225 - categorical_accuracy: 0.9890 - accuracy: 0.9890 - val_loss: 1.5271 - val_categorical_accuracy: 0.6494 - val_accuracy: 0.6494\n",
            "Epoch 13/200\n",
            "7/7 [==============================] - 2s 222ms/step - loss: 0.0201 - categorical_accuracy: 0.9917 - accuracy: 0.9917 - val_loss: 1.5040 - val_categorical_accuracy: 0.6623 - val_accuracy: 0.6623\n",
            "Epoch 14/200\n",
            "7/7 [==============================] - 2s 220ms/step - loss: 0.0226 - categorical_accuracy: 0.9864 - accuracy: 0.9864 - val_loss: 1.4953 - val_categorical_accuracy: 0.6753 - val_accuracy: 0.6753\n",
            "Epoch 15/200\n",
            "7/7 [==============================] - 2s 223ms/step - loss: 0.0333 - categorical_accuracy: 0.9761 - accuracy: 0.9761 - val_loss: 1.5114 - val_categorical_accuracy: 0.6753 - val_accuracy: 0.6753\n",
            "Epoch 16/200\n",
            "7/7 [==============================] - 2s 219ms/step - loss: 0.0222 - categorical_accuracy: 0.9801 - accuracy: 0.9801 - val_loss: 1.5144 - val_categorical_accuracy: 0.6623 - val_accuracy: 0.6623\n",
            "Epoch 17/200\n",
            "7/7 [==============================] - 2s 218ms/step - loss: 0.0168 - categorical_accuracy: 0.9955 - accuracy: 0.9955 - val_loss: 1.5221 - val_categorical_accuracy: 0.6623 - val_accuracy: 0.6623\n",
            "Epoch 18/200\n",
            "7/7 [==============================] - 2s 217ms/step - loss: 0.0219 - categorical_accuracy: 0.9894 - accuracy: 0.9894 - val_loss: 1.6686 - val_categorical_accuracy: 0.5844 - val_accuracy: 0.5844\n",
            "Epoch 19/200\n",
            "7/7 [==============================] - 2s 220ms/step - loss: 0.0289 - categorical_accuracy: 0.9894 - accuracy: 0.9894 - val_loss: 1.6546 - val_categorical_accuracy: 0.5974 - val_accuracy: 0.5974\n",
            "Epoch 20/200\n",
            "7/7 [==============================] - 2s 220ms/step - loss: 0.0321 - categorical_accuracy: 0.9883 - accuracy: 0.9883 - val_loss: 1.6700 - val_categorical_accuracy: 0.5584 - val_accuracy: 0.5584\n",
            "Epoch 21/200\n",
            "7/7 [==============================] - 2s 220ms/step - loss: 0.0242 - categorical_accuracy: 0.9950 - accuracy: 0.9950 - val_loss: 1.6014 - val_categorical_accuracy: 0.6234 - val_accuracy: 0.6234\n",
            "Epoch 22/200\n",
            "7/7 [==============================] - 2s 219ms/step - loss: 0.0410 - categorical_accuracy: 0.9826 - accuracy: 0.9826 - val_loss: 1.5243 - val_categorical_accuracy: 0.6364 - val_accuracy: 0.6364\n",
            "Epoch 23/200\n",
            "7/7 [==============================] - 2s 219ms/step - loss: 0.0272 - categorical_accuracy: 0.9880 - accuracy: 0.9880 - val_loss: 1.4797 - val_categorical_accuracy: 0.6623 - val_accuracy: 0.6623\n",
            "Epoch 24/200\n",
            "7/7 [==============================] - 2s 217ms/step - loss: 0.0216 - categorical_accuracy: 0.9920 - accuracy: 0.9920 - val_loss: 1.4685 - val_categorical_accuracy: 0.6364 - val_accuracy: 0.6364\n",
            "Epoch 25/200\n",
            "7/7 [==============================] - 2s 221ms/step - loss: 0.0334 - categorical_accuracy: 0.9874 - accuracy: 0.9874 - val_loss: 1.4574 - val_categorical_accuracy: 0.6753 - val_accuracy: 0.6753\n",
            "Epoch 26/200\n",
            "7/7 [==============================] - 2s 240ms/step - loss: 0.0215 - categorical_accuracy: 0.9844 - accuracy: 0.9844 - val_loss: 1.4821 - val_categorical_accuracy: 0.6623 - val_accuracy: 0.6623\n",
            "Epoch 27/200\n",
            "7/7 [==============================] - 2s 219ms/step - loss: 0.0184 - categorical_accuracy: 0.9894 - accuracy: 0.9894 - val_loss: 1.4701 - val_categorical_accuracy: 0.6494 - val_accuracy: 0.6494\n",
            "Epoch 28/200\n",
            "7/7 [==============================] - 2s 218ms/step - loss: 0.0210 - categorical_accuracy: 0.9911 - accuracy: 0.9911 - val_loss: 1.4698 - val_categorical_accuracy: 0.6623 - val_accuracy: 0.6623\n",
            "Epoch 29/200\n",
            "7/7 [==============================] - 2s 223ms/step - loss: 0.0235 - categorical_accuracy: 0.9880 - accuracy: 0.9880 - val_loss: 1.4845 - val_categorical_accuracy: 0.6234 - val_accuracy: 0.6234\n",
            "Epoch 30/200\n",
            "7/7 [==============================] - 2s 221ms/step - loss: 0.0187 - categorical_accuracy: 0.9910 - accuracy: 0.9910 - val_loss: 1.4884 - val_categorical_accuracy: 0.6104 - val_accuracy: 0.6104\n",
            "Epoch 31/200\n",
            "7/7 [==============================] - 2s 221ms/step - loss: 0.0209 - categorical_accuracy: 0.9873 - accuracy: 0.9873 - val_loss: 1.4793 - val_categorical_accuracy: 0.6364 - val_accuracy: 0.6364\n",
            "Epoch 32/200\n",
            "7/7 [==============================] - 2s 222ms/step - loss: 0.0169 - categorical_accuracy: 0.9885 - accuracy: 0.9885 - val_loss: 1.4828 - val_categorical_accuracy: 0.6364 - val_accuracy: 0.6364\n",
            "Epoch 33/200\n",
            "7/7 [==============================] - 2s 224ms/step - loss: 0.0202 - categorical_accuracy: 0.9869 - accuracy: 0.9869 - val_loss: 1.4866 - val_categorical_accuracy: 0.6234 - val_accuracy: 0.6234\n",
            "Epoch 34/200\n",
            "7/7 [==============================] - 2s 233ms/step - loss: 0.0162 - categorical_accuracy: 0.9889 - accuracy: 0.9889 - val_loss: 1.4895 - val_categorical_accuracy: 0.6104 - val_accuracy: 0.6104\n",
            "Epoch 35/200\n",
            "7/7 [==============================] - 2s 233ms/step - loss: 0.0305 - categorical_accuracy: 0.9854 - accuracy: 0.9854 - val_loss: 1.5032 - val_categorical_accuracy: 0.6494 - val_accuracy: 0.6494\n",
            "Epoch 36/200\n",
            "7/7 [==============================] - 2s 236ms/step - loss: 0.0207 - categorical_accuracy: 0.9889 - accuracy: 0.9889 - val_loss: 1.5131 - val_categorical_accuracy: 0.6494 - val_accuracy: 0.6494\n",
            "Epoch 37/200\n",
            "7/7 [==============================] - 2s 226ms/step - loss: 0.0189 - categorical_accuracy: 0.9903 - accuracy: 0.9903 - val_loss: 1.5229 - val_categorical_accuracy: 0.6364 - val_accuracy: 0.6364\n",
            "Epoch 38/200\n",
            "7/7 [==============================] - 2s 220ms/step - loss: 0.0145 - categorical_accuracy: 0.9883 - accuracy: 0.9883 - val_loss: 1.5121 - val_categorical_accuracy: 0.6494 - val_accuracy: 0.6494\n",
            "Epoch 39/200\n",
            "7/7 [==============================] - 2s 221ms/step - loss: 0.0189 - categorical_accuracy: 0.9895 - accuracy: 0.9895 - val_loss: 1.5127 - val_categorical_accuracy: 0.6364 - val_accuracy: 0.6364\n",
            "Epoch 40/200\n",
            "7/7 [==============================] - 2s 223ms/step - loss: 0.0222 - categorical_accuracy: 0.9837 - accuracy: 0.9837 - val_loss: 1.5178 - val_categorical_accuracy: 0.6494 - val_accuracy: 0.6494\n",
            "Epoch 41/200\n",
            "7/7 [==============================] - 2s 219ms/step - loss: 0.0209 - categorical_accuracy: 0.9900 - accuracy: 0.9900 - val_loss: 1.5166 - val_categorical_accuracy: 0.6494 - val_accuracy: 0.6494\n",
            "Epoch 42/200\n",
            "7/7 [==============================] - 2s 223ms/step - loss: 0.0213 - categorical_accuracy: 0.9795 - accuracy: 0.9795 - val_loss: 1.5234 - val_categorical_accuracy: 0.6364 - val_accuracy: 0.6364\n",
            "Epoch 43/200\n",
            "7/7 [==============================] - 2s 222ms/step - loss: 0.0121 - categorical_accuracy: 0.9882 - accuracy: 0.9882 - val_loss: 1.5200 - val_categorical_accuracy: 0.6364 - val_accuracy: 0.6364\n",
            "Epoch 44/200\n",
            "7/7 [==============================] - 2s 222ms/step - loss: 0.0114 - categorical_accuracy: 0.9930 - accuracy: 0.9930 - val_loss: 1.5258 - val_categorical_accuracy: 0.6364 - val_accuracy: 0.6364\n",
            "Epoch 45/200\n",
            "7/7 [==============================] - 2s 217ms/step - loss: 0.0186 - categorical_accuracy: 0.9820 - accuracy: 0.9820 - val_loss: 1.5307 - val_categorical_accuracy: 0.6364 - val_accuracy: 0.6364\n",
            "Epoch 46/200\n",
            "7/7 [==============================] - 2s 221ms/step - loss: 0.0132 - categorical_accuracy: 0.9889 - accuracy: 0.9889 - val_loss: 1.5298 - val_categorical_accuracy: 0.6494 - val_accuracy: 0.6494\n",
            "Epoch 47/200\n",
            "7/7 [==============================] - 2s 239ms/step - loss: 0.0234 - categorical_accuracy: 0.9833 - accuracy: 0.9833 - val_loss: 1.5370 - val_categorical_accuracy: 0.6364 - val_accuracy: 0.6364\n",
            "Epoch 48/200\n",
            "7/7 [==============================] - 2s 221ms/step - loss: 0.0216 - categorical_accuracy: 0.9781 - accuracy: 0.9781 - val_loss: 1.5344 - val_categorical_accuracy: 0.6364 - val_accuracy: 0.6364\n",
            "Epoch 49/200\n",
            "7/7 [==============================] - 2s 219ms/step - loss: 0.0140 - categorical_accuracy: 0.9856 - accuracy: 0.9856 - val_loss: 1.5335 - val_categorical_accuracy: 0.6364 - val_accuracy: 0.6364\n",
            "Epoch 50/200\n",
            "7/7 [==============================] - 2s 222ms/step - loss: 0.0124 - categorical_accuracy: 0.9871 - accuracy: 0.9871 - val_loss: 1.5343 - val_categorical_accuracy: 0.6234 - val_accuracy: 0.6234\n",
            "Epoch 51/200\n",
            "7/7 [==============================] - 2s 218ms/step - loss: 0.0197 - categorical_accuracy: 0.9921 - accuracy: 0.9921 - val_loss: 1.5214 - val_categorical_accuracy: 0.5584 - val_accuracy: 0.5584\n",
            "Epoch 52/200\n",
            "7/7 [==============================] - 2s 222ms/step - loss: 0.0254 - categorical_accuracy: 0.9825 - accuracy: 0.9825 - val_loss: 1.5232 - val_categorical_accuracy: 0.5844 - val_accuracy: 0.5844\n",
            "Epoch 53/200\n",
            "7/7 [==============================] - 2s 221ms/step - loss: 0.0225 - categorical_accuracy: 0.9825 - accuracy: 0.9825 - val_loss: 1.5268 - val_categorical_accuracy: 0.5974 - val_accuracy: 0.5974\n",
            "Epoch 54/200\n",
            "7/7 [==============================] - 2s 219ms/step - loss: 0.0185 - categorical_accuracy: 0.9906 - accuracy: 0.9906 - val_loss: 1.5332 - val_categorical_accuracy: 0.6234 - val_accuracy: 0.6234\n",
            "Epoch 55/200\n",
            "7/7 [==============================] - 2s 220ms/step - loss: 0.0137 - categorical_accuracy: 0.9941 - accuracy: 0.9941 - val_loss: 1.5363 - val_categorical_accuracy: 0.6364 - val_accuracy: 0.6364\n",
            "Epoch 56/200\n",
            "7/7 [==============================] - 2s 218ms/step - loss: 0.0134 - categorical_accuracy: 0.9952 - accuracy: 0.9952 - val_loss: 1.5427 - val_categorical_accuracy: 0.6494 - val_accuracy: 0.6494\n",
            "Epoch 57/200\n",
            "7/7 [==============================] - 2s 219ms/step - loss: 0.0135 - categorical_accuracy: 0.9921 - accuracy: 0.9921 - val_loss: 1.5477 - val_categorical_accuracy: 0.6364 - val_accuracy: 0.6364\n",
            "Epoch 58/200\n",
            "7/7 [==============================] - 2s 221ms/step - loss: 0.0171 - categorical_accuracy: 0.9899 - accuracy: 0.9899 - val_loss: 1.5528 - val_categorical_accuracy: 0.6364 - val_accuracy: 0.6364\n",
            "Epoch 59/200\n",
            "7/7 [==============================] - 2s 227ms/step - loss: 0.0175 - categorical_accuracy: 0.9867 - accuracy: 0.9867 - val_loss: 1.5529 - val_categorical_accuracy: 0.6364 - val_accuracy: 0.6364\n",
            "Epoch 60/200\n",
            "7/7 [==============================] - 2s 223ms/step - loss: 0.0129 - categorical_accuracy: 0.9951 - accuracy: 0.9951 - val_loss: 1.5286 - val_categorical_accuracy: 0.6104 - val_accuracy: 0.6104\n",
            "Epoch 61/200\n",
            "7/7 [==============================] - 2s 222ms/step - loss: 0.0149 - categorical_accuracy: 0.9874 - accuracy: 0.9874 - val_loss: 1.5586 - val_categorical_accuracy: 0.6623 - val_accuracy: 0.6623\n",
            "Epoch 62/200\n",
            "7/7 [==============================] - 2s 223ms/step - loss: 0.0151 - categorical_accuracy: 0.9842 - accuracy: 0.9842 - val_loss: 1.5607 - val_categorical_accuracy: 0.6364 - val_accuracy: 0.6364\n",
            "Epoch 63/200\n",
            "7/7 [==============================] - 2s 222ms/step - loss: 0.0168 - categorical_accuracy: 0.9877 - accuracy: 0.9877 - val_loss: 1.5622 - val_categorical_accuracy: 0.6364 - val_accuracy: 0.6364\n",
            "Epoch 64/200\n",
            "7/7 [==============================] - 2s 243ms/step - loss: 0.0157 - categorical_accuracy: 0.9909 - accuracy: 0.9909 - val_loss: 1.5559 - val_categorical_accuracy: 0.6364 - val_accuracy: 0.6364\n",
            "Epoch 65/200\n",
            "7/7 [==============================] - 2s 220ms/step - loss: 0.0163 - categorical_accuracy: 0.9856 - accuracy: 0.9856 - val_loss: 1.5486 - val_categorical_accuracy: 0.6364 - val_accuracy: 0.6364\n",
            "Epoch 66/200\n",
            "7/7 [==============================] - 2s 220ms/step - loss: 0.0176 - categorical_accuracy: 0.9842 - accuracy: 0.9842 - val_loss: 1.5404 - val_categorical_accuracy: 0.6364 - val_accuracy: 0.6364\n",
            "Epoch 67/200\n",
            "7/7 [==============================] - 2s 223ms/step - loss: 0.0202 - categorical_accuracy: 0.9881 - accuracy: 0.9881 - val_loss: 1.5490 - val_categorical_accuracy: 0.6364 - val_accuracy: 0.6364\n",
            "Epoch 68/200\n",
            "7/7 [==============================] - 2s 218ms/step - loss: 0.0106 - categorical_accuracy: 0.9935 - accuracy: 0.9935 - val_loss: 1.5534 - val_categorical_accuracy: 0.6364 - val_accuracy: 0.6364\n",
            "Epoch 69/200\n",
            "7/7 [==============================] - 2s 222ms/step - loss: 0.0130 - categorical_accuracy: 0.9948 - accuracy: 0.9948 - val_loss: 1.5489 - val_categorical_accuracy: 0.6494 - val_accuracy: 0.6494\n",
            "Epoch 70/200\n",
            "7/7 [==============================] - 2s 224ms/step - loss: 0.0174 - categorical_accuracy: 0.9866 - accuracy: 0.9866 - val_loss: 1.5496 - val_categorical_accuracy: 0.6234 - val_accuracy: 0.6234\n",
            "Epoch 71/200\n",
            "7/7 [==============================] - 2s 221ms/step - loss: 0.0141 - categorical_accuracy: 0.9888 - accuracy: 0.9888 - val_loss: 1.5550 - val_categorical_accuracy: 0.6364 - val_accuracy: 0.6364\n",
            "Epoch 72/200\n",
            "7/7 [==============================] - 2s 219ms/step - loss: 0.0133 - categorical_accuracy: 0.9921 - accuracy: 0.9921 - val_loss: 1.5519 - val_categorical_accuracy: 0.6234 - val_accuracy: 0.6234\n",
            "Epoch 73/200\n",
            "7/7 [==============================] - 2s 225ms/step - loss: 0.0279 - categorical_accuracy: 0.9829 - accuracy: 0.9829 - val_loss: 1.5501 - val_categorical_accuracy: 0.6364 - val_accuracy: 0.6364\n",
            "Epoch 74/200\n",
            "7/7 [==============================] - 2s 219ms/step - loss: 0.0176 - categorical_accuracy: 0.9928 - accuracy: 0.9928 - val_loss: 1.5580 - val_categorical_accuracy: 0.6364 - val_accuracy: 0.6364\n",
            "Epoch 75/200\n",
            "7/7 [==============================] - 2s 222ms/step - loss: 0.0130 - categorical_accuracy: 0.9935 - accuracy: 0.9935 - val_loss: 1.5738 - val_categorical_accuracy: 0.6883 - val_accuracy: 0.6883\n",
            "Epoch 76/200\n",
            "7/7 [==============================] - 2s 222ms/step - loss: 0.0256 - categorical_accuracy: 0.9926 - accuracy: 0.9926 - val_loss: 1.5658 - val_categorical_accuracy: 0.6753 - val_accuracy: 0.6753\n",
            "Epoch 77/200\n",
            "7/7 [==============================] - 2s 223ms/step - loss: 0.0185 - categorical_accuracy: 0.9852 - accuracy: 0.9852 - val_loss: 1.5660 - val_categorical_accuracy: 0.6364 - val_accuracy: 0.6364\n",
            "Epoch 78/200\n",
            "7/7 [==============================] - 2s 243ms/step - loss: 0.0144 - categorical_accuracy: 0.9942 - accuracy: 0.9942 - val_loss: 1.5707 - val_categorical_accuracy: 0.6364 - val_accuracy: 0.6364\n",
            "Epoch 79/200\n",
            "7/7 [==============================] - 2s 221ms/step - loss: 0.0145 - categorical_accuracy: 0.9915 - accuracy: 0.9915 - val_loss: 1.5695 - val_categorical_accuracy: 0.6234 - val_accuracy: 0.6234\n",
            "Epoch 80/200\n",
            "7/7 [==============================] - 2s 220ms/step - loss: 0.0135 - categorical_accuracy: 0.9953 - accuracy: 0.9953 - val_loss: 1.5720 - val_categorical_accuracy: 0.6104 - val_accuracy: 0.6104\n",
            "Epoch 81/200\n",
            "7/7 [==============================] - 2s 221ms/step - loss: 0.0114 - categorical_accuracy: 0.9926 - accuracy: 0.9926 - val_loss: 1.5699 - val_categorical_accuracy: 0.5974 - val_accuracy: 0.5974\n",
            "Epoch 82/200\n",
            "7/7 [==============================] - 2s 219ms/step - loss: 0.0141 - categorical_accuracy: 0.9921 - accuracy: 0.9921 - val_loss: 1.5905 - val_categorical_accuracy: 0.6234 - val_accuracy: 0.6234\n",
            "Epoch 83/200\n",
            "7/7 [==============================] - 2s 222ms/step - loss: 0.0144 - categorical_accuracy: 0.9936 - accuracy: 0.9936 - val_loss: 1.5970 - val_categorical_accuracy: 0.6104 - val_accuracy: 0.6104\n",
            "Epoch 84/200\n",
            "7/7 [==============================] - 2s 222ms/step - loss: 0.0163 - categorical_accuracy: 0.9898 - accuracy: 0.9898 - val_loss: 1.5810 - val_categorical_accuracy: 0.5974 - val_accuracy: 0.5974\n",
            "Epoch 85/200\n",
            "7/7 [==============================] - 2s 220ms/step - loss: 0.0208 - categorical_accuracy: 0.9835 - accuracy: 0.9835 - val_loss: 1.5879 - val_categorical_accuracy: 0.6883 - val_accuracy: 0.6883\n",
            "Epoch 86/200\n",
            "7/7 [==============================] - 2s 222ms/step - loss: 0.0174 - categorical_accuracy: 0.9926 - accuracy: 0.9926 - val_loss: 1.6007 - val_categorical_accuracy: 0.6883 - val_accuracy: 0.6883\n",
            "Epoch 87/200\n",
            "7/7 [==============================] - 2s 222ms/step - loss: 0.0199 - categorical_accuracy: 0.9916 - accuracy: 0.9916 - val_loss: 1.5839 - val_categorical_accuracy: 0.6753 - val_accuracy: 0.6753\n",
            "Epoch 88/200\n",
            "7/7 [==============================] - 2s 219ms/step - loss: 0.0147 - categorical_accuracy: 0.9939 - accuracy: 0.9939 - val_loss: 1.6152 - val_categorical_accuracy: 0.6104 - val_accuracy: 0.6104\n",
            "Epoch 89/200\n",
            "7/7 [==============================] - 2s 223ms/step - loss: 0.0276 - categorical_accuracy: 0.9913 - accuracy: 0.9913 - val_loss: 1.5777 - val_categorical_accuracy: 0.5844 - val_accuracy: 0.5844\n",
            "Epoch 90/200\n",
            "7/7 [==============================] - 2s 223ms/step - loss: 0.0176 - categorical_accuracy: 0.9896 - accuracy: 0.9896 - val_loss: 1.5579 - val_categorical_accuracy: 0.6364 - val_accuracy: 0.6364\n",
            "Epoch 91/200\n",
            "7/7 [==============================] - 2s 223ms/step - loss: 0.0141 - categorical_accuracy: 0.9912 - accuracy: 0.9912 - val_loss: 1.5696 - val_categorical_accuracy: 0.6364 - val_accuracy: 0.6364\n",
            "Epoch 92/200\n",
            "7/7 [==============================] - 2s 219ms/step - loss: 0.0167 - categorical_accuracy: 0.9929 - accuracy: 0.9929 - val_loss: 1.5754 - val_categorical_accuracy: 0.6494 - val_accuracy: 0.6494\n",
            "Epoch 93/200\n",
            "7/7 [==============================] - 2s 221ms/step - loss: 0.0140 - categorical_accuracy: 0.9906 - accuracy: 0.9906 - val_loss: 1.5780 - val_categorical_accuracy: 0.6104 - val_accuracy: 0.6104\n",
            "Epoch 94/200\n",
            "7/7 [==============================] - 2s 220ms/step - loss: 0.0168 - categorical_accuracy: 0.9855 - accuracy: 0.9855 - val_loss: 1.5846 - val_categorical_accuracy: 0.5974 - val_accuracy: 0.5974\n",
            "Epoch 95/200\n",
            "7/7 [==============================] - 2s 221ms/step - loss: 0.0165 - categorical_accuracy: 0.9870 - accuracy: 0.9870 - val_loss: 1.5928 - val_categorical_accuracy: 0.6104 - val_accuracy: 0.6104\n",
            "Epoch 96/200\n",
            "7/7 [==============================] - 2s 220ms/step - loss: 0.0198 - categorical_accuracy: 0.9875 - accuracy: 0.9875 - val_loss: 1.5948 - val_categorical_accuracy: 0.5974 - val_accuracy: 0.5974\n",
            "Epoch 97/200\n",
            "7/7 [==============================] - 2s 223ms/step - loss: 0.0163 - categorical_accuracy: 0.9883 - accuracy: 0.9883 - val_loss: 1.6000 - val_categorical_accuracy: 0.6104 - val_accuracy: 0.6104\n",
            "Epoch 98/200\n",
            "7/7 [==============================] - 2s 226ms/step - loss: 0.0141 - categorical_accuracy: 0.9942 - accuracy: 0.9942 - val_loss: 1.5995 - val_categorical_accuracy: 0.6104 - val_accuracy: 0.6104\n",
            "Epoch 99/200\n",
            "7/7 [==============================] - 2s 248ms/step - loss: 0.0146 - categorical_accuracy: 0.9868 - accuracy: 0.9868 - val_loss: 1.5980 - val_categorical_accuracy: 0.6104 - val_accuracy: 0.6104\n",
            "Epoch 100/200\n",
            "7/7 [==============================] - 2s 222ms/step - loss: 0.0118 - categorical_accuracy: 0.9903 - accuracy: 0.9903 - val_loss: 1.6004 - val_categorical_accuracy: 0.6104 - val_accuracy: 0.6104\n",
            "Epoch 101/200\n",
            "7/7 [==============================] - 2s 221ms/step - loss: 0.0122 - categorical_accuracy: 0.9912 - accuracy: 0.9912 - val_loss: 1.6102 - val_categorical_accuracy: 0.6104 - val_accuracy: 0.6104\n",
            "Epoch 102/200\n",
            "7/7 [==============================] - 2s 221ms/step - loss: 0.0136 - categorical_accuracy: 0.9958 - accuracy: 0.9958 - val_loss: 1.6659 - val_categorical_accuracy: 0.6364 - val_accuracy: 0.6364\n",
            "Epoch 103/200\n",
            "7/7 [==============================] - 2s 223ms/step - loss: 0.0271 - categorical_accuracy: 0.9886 - accuracy: 0.9886 - val_loss: 1.6602 - val_categorical_accuracy: 0.6364 - val_accuracy: 0.6364\n",
            "Epoch 104/200\n",
            "7/7 [==============================] - 2s 227ms/step - loss: 0.0308 - categorical_accuracy: 0.9854 - accuracy: 0.9854 - val_loss: 1.6386 - val_categorical_accuracy: 0.6234 - val_accuracy: 0.6234\n",
            "Epoch 105/200\n",
            "7/7 [==============================] - 2s 220ms/step - loss: 0.0274 - categorical_accuracy: 0.9805 - accuracy: 0.9805 - val_loss: 1.6110 - val_categorical_accuracy: 0.6234 - val_accuracy: 0.6234\n",
            "Epoch 106/200\n",
            "7/7 [==============================] - 2s 218ms/step - loss: 0.0180 - categorical_accuracy: 0.9867 - accuracy: 0.9867 - val_loss: 1.6103 - val_categorical_accuracy: 0.5974 - val_accuracy: 0.5974\n",
            "Epoch 107/200\n",
            "7/7 [==============================] - 2s 220ms/step - loss: 0.0220 - categorical_accuracy: 0.9875 - accuracy: 0.9875 - val_loss: 1.6123 - val_categorical_accuracy: 0.6104 - val_accuracy: 0.6104\n",
            "Epoch 108/200\n",
            "7/7 [==============================] - 2s 220ms/step - loss: 0.0094 - categorical_accuracy: 0.9942 - accuracy: 0.9942 - val_loss: 1.6072 - val_categorical_accuracy: 0.6104 - val_accuracy: 0.6104\n",
            "Epoch 109/200\n",
            "7/7 [==============================] - 2s 221ms/step - loss: 0.0100 - categorical_accuracy: 0.9947 - accuracy: 0.9947 - val_loss: 1.6101 - val_categorical_accuracy: 0.6234 - val_accuracy: 0.6234\n",
            "Epoch 110/200\n",
            "7/7 [==============================] - 2s 228ms/step - loss: 0.0134 - categorical_accuracy: 0.9883 - accuracy: 0.9883 - val_loss: 1.6174 - val_categorical_accuracy: 0.6234 - val_accuracy: 0.6234\n",
            "Epoch 111/200\n",
            "7/7 [==============================] - 2s 223ms/step - loss: 0.0135 - categorical_accuracy: 0.9932 - accuracy: 0.9932 - val_loss: 1.6155 - val_categorical_accuracy: 0.6234 - val_accuracy: 0.6234\n",
            "Epoch 112/200\n",
            "7/7 [==============================] - 2s 226ms/step - loss: 0.0125 - categorical_accuracy: 0.9884 - accuracy: 0.9884 - val_loss: 1.6201 - val_categorical_accuracy: 0.6234 - val_accuracy: 0.6234\n",
            "Epoch 113/200\n",
            "7/7 [==============================] - 2s 220ms/step - loss: 0.0103 - categorical_accuracy: 0.9911 - accuracy: 0.9911 - val_loss: 1.6270 - val_categorical_accuracy: 0.6234 - val_accuracy: 0.6234\n",
            "Epoch 114/200\n",
            "7/7 [==============================] - 2s 224ms/step - loss: 0.0105 - categorical_accuracy: 0.9908 - accuracy: 0.9908 - val_loss: 1.6212 - val_categorical_accuracy: 0.6234 - val_accuracy: 0.6234\n",
            "Epoch 115/200\n",
            "7/7 [==============================] - 2s 221ms/step - loss: 0.0161 - categorical_accuracy: 0.9870 - accuracy: 0.9870 - val_loss: 1.6193 - val_categorical_accuracy: 0.6104 - val_accuracy: 0.6104\n",
            "Epoch 116/200\n",
            "7/7 [==============================] - 2s 223ms/step - loss: 0.0166 - categorical_accuracy: 0.9913 - accuracy: 0.9913 - val_loss: 1.6202 - val_categorical_accuracy: 0.6104 - val_accuracy: 0.6104\n",
            "Epoch 117/200\n",
            "7/7 [==============================] - 2s 228ms/step - loss: 0.0143 - categorical_accuracy: 0.9838 - accuracy: 0.9838 - val_loss: 1.6293 - val_categorical_accuracy: 0.6364 - val_accuracy: 0.6364\n",
            "Epoch 118/200\n",
            "7/7 [==============================] - 2s 221ms/step - loss: 0.0123 - categorical_accuracy: 0.9882 - accuracy: 0.9882 - val_loss: 1.6215 - val_categorical_accuracy: 0.6234 - val_accuracy: 0.6234\n",
            "Epoch 119/200\n",
            "7/7 [==============================] - 2s 218ms/step - loss: 0.0171 - categorical_accuracy: 0.9810 - accuracy: 0.9810 - val_loss: 1.6469 - val_categorical_accuracy: 0.6234 - val_accuracy: 0.6234\n",
            "Epoch 120/200\n",
            "7/7 [==============================] - 2s 221ms/step - loss: 0.0124 - categorical_accuracy: 0.9916 - accuracy: 0.9916 - val_loss: 1.6591 - val_categorical_accuracy: 0.6234 - val_accuracy: 0.6234\n",
            "Epoch 121/200\n",
            "7/7 [==============================] - 2s 245ms/step - loss: 0.0126 - categorical_accuracy: 0.9911 - accuracy: 0.9911 - val_loss: 1.6492 - val_categorical_accuracy: 0.6234 - val_accuracy: 0.6234\n",
            "Epoch 122/200\n",
            "7/7 [==============================] - 2s 225ms/step - loss: 0.0203 - categorical_accuracy: 0.9869 - accuracy: 0.9869 - val_loss: 1.6418 - val_categorical_accuracy: 0.6234 - val_accuracy: 0.6234\n",
            "Epoch 123/200\n",
            "7/7 [==============================] - 2s 224ms/step - loss: 0.0163 - categorical_accuracy: 0.9869 - accuracy: 0.9869 - val_loss: 1.6340 - val_categorical_accuracy: 0.6364 - val_accuracy: 0.6364\n",
            "Epoch 124/200\n",
            "7/7 [==============================] - 2s 220ms/step - loss: 0.0198 - categorical_accuracy: 0.9871 - accuracy: 0.9871 - val_loss: 1.6327 - val_categorical_accuracy: 0.6364 - val_accuracy: 0.6364\n",
            "Epoch 125/200\n",
            "7/7 [==============================] - 2s 221ms/step - loss: 0.0095 - categorical_accuracy: 0.9953 - accuracy: 0.9953 - val_loss: 1.6242 - val_categorical_accuracy: 0.5714 - val_accuracy: 0.5714\n",
            "Epoch 126/200\n",
            "7/7 [==============================] - 2s 222ms/step - loss: 0.0194 - categorical_accuracy: 0.9906 - accuracy: 0.9906 - val_loss: 1.6241 - val_categorical_accuracy: 0.5714 - val_accuracy: 0.5714\n",
            "Epoch 127/200\n",
            "7/7 [==============================] - 2s 223ms/step - loss: 0.0105 - categorical_accuracy: 0.9952 - accuracy: 0.9952 - val_loss: 1.6197 - val_categorical_accuracy: 0.5844 - val_accuracy: 0.5844\n",
            "Epoch 128/200\n",
            "7/7 [==============================] - 2s 225ms/step - loss: 0.0186 - categorical_accuracy: 0.9817 - accuracy: 0.9817 - val_loss: 1.6208 - val_categorical_accuracy: 0.6234 - val_accuracy: 0.6234\n",
            "Epoch 129/200\n",
            "7/7 [==============================] - 2s 224ms/step - loss: 0.0104 - categorical_accuracy: 0.9958 - accuracy: 0.9958 - val_loss: 1.6271 - val_categorical_accuracy: 0.6494 - val_accuracy: 0.6494\n",
            "Epoch 130/200\n",
            "7/7 [==============================] - 2s 225ms/step - loss: 0.0153 - categorical_accuracy: 0.9888 - accuracy: 0.9888 - val_loss: 1.6385 - val_categorical_accuracy: 0.6364 - val_accuracy: 0.6364\n",
            "Epoch 131/200\n",
            "7/7 [==============================] - 2s 222ms/step - loss: 0.0174 - categorical_accuracy: 0.9921 - accuracy: 0.9921 - val_loss: 1.6433 - val_categorical_accuracy: 0.6364 - val_accuracy: 0.6364\n",
            "Epoch 132/200\n",
            "7/7 [==============================] - 2s 221ms/step - loss: 0.0140 - categorical_accuracy: 0.9927 - accuracy: 0.9927 - val_loss: 1.6468 - val_categorical_accuracy: 0.6364 - val_accuracy: 0.6364\n",
            "Epoch 133/200\n",
            "7/7 [==============================] - 2s 228ms/step - loss: 0.0131 - categorical_accuracy: 0.9903 - accuracy: 0.9903 - val_loss: 1.6498 - val_categorical_accuracy: 0.6364 - val_accuracy: 0.6364\n",
            "Epoch 134/200\n",
            "7/7 [==============================] - 2s 222ms/step - loss: 0.0149 - categorical_accuracy: 0.9944 - accuracy: 0.9944 - val_loss: 1.6515 - val_categorical_accuracy: 0.6364 - val_accuracy: 0.6364\n",
            "Epoch 135/200\n",
            "7/7 [==============================] - 2s 223ms/step - loss: 0.0131 - categorical_accuracy: 0.9874 - accuracy: 0.9874 - val_loss: 1.6484 - val_categorical_accuracy: 0.6494 - val_accuracy: 0.6494\n",
            "Epoch 136/200\n",
            "7/7 [==============================] - 2s 223ms/step - loss: 0.0165 - categorical_accuracy: 0.9870 - accuracy: 0.9870 - val_loss: 1.6447 - val_categorical_accuracy: 0.6494 - val_accuracy: 0.6494\n",
            "Epoch 137/200\n",
            "7/7 [==============================] - 2s 230ms/step - loss: 0.0142 - categorical_accuracy: 0.9875 - accuracy: 0.9875 - val_loss: 1.6500 - val_categorical_accuracy: 0.6494 - val_accuracy: 0.6494\n",
            "Epoch 138/200\n",
            "7/7 [==============================] - 2s 222ms/step - loss: 0.0151 - categorical_accuracy: 0.9911 - accuracy: 0.9911 - val_loss: 1.6879 - val_categorical_accuracy: 0.6494 - val_accuracy: 0.6494\n",
            "Epoch 139/200\n",
            "7/7 [==============================] - 2s 227ms/step - loss: 0.0173 - categorical_accuracy: 0.9901 - accuracy: 0.9901 - val_loss: 1.6906 - val_categorical_accuracy: 0.6494 - val_accuracy: 0.6494\n",
            "Epoch 140/200\n",
            "7/7 [==============================] - 2s 224ms/step - loss: 0.0090 - categorical_accuracy: 0.9939 - accuracy: 0.9939 - val_loss: 1.6827 - val_categorical_accuracy: 0.6494 - val_accuracy: 0.6494\n",
            "Epoch 141/200\n",
            "7/7 [==============================] - 2s 248ms/step - loss: 0.0093 - categorical_accuracy: 0.9947 - accuracy: 0.9947 - val_loss: 1.6767 - val_categorical_accuracy: 0.6364 - val_accuracy: 0.6364\n",
            "Epoch 142/200\n",
            "7/7 [==============================] - 2s 220ms/step - loss: 0.0162 - categorical_accuracy: 0.9920 - accuracy: 0.9920 - val_loss: 1.6738 - val_categorical_accuracy: 0.6104 - val_accuracy: 0.6104\n",
            "Epoch 143/200\n",
            "7/7 [==============================] - 2s 223ms/step - loss: 0.0218 - categorical_accuracy: 0.9863 - accuracy: 0.9863 - val_loss: 1.6609 - val_categorical_accuracy: 0.6104 - val_accuracy: 0.6104\n",
            "Epoch 144/200\n",
            "7/7 [==============================] - 2s 226ms/step - loss: 0.0093 - categorical_accuracy: 0.9958 - accuracy: 0.9958 - val_loss: 1.6525 - val_categorical_accuracy: 0.6104 - val_accuracy: 0.6104\n",
            "Epoch 145/200\n",
            "7/7 [==============================] - 2s 224ms/step - loss: 0.0212 - categorical_accuracy: 0.9878 - accuracy: 0.9878 - val_loss: 1.6423 - val_categorical_accuracy: 0.6234 - val_accuracy: 0.6234\n",
            "Epoch 146/200\n",
            "7/7 [==============================] - 2s 226ms/step - loss: 0.0129 - categorical_accuracy: 0.9921 - accuracy: 0.9921 - val_loss: 1.6432 - val_categorical_accuracy: 0.6234 - val_accuracy: 0.6234\n",
            "Epoch 147/200\n",
            "7/7 [==============================] - 2s 224ms/step - loss: 0.0071 - categorical_accuracy: 0.9966 - accuracy: 0.9966 - val_loss: 1.6412 - val_categorical_accuracy: 0.6104 - val_accuracy: 0.6104\n",
            "Epoch 148/200\n",
            "7/7 [==============================] - 2s 225ms/step - loss: 0.0097 - categorical_accuracy: 0.9934 - accuracy: 0.9934 - val_loss: 1.6286 - val_categorical_accuracy: 0.6364 - val_accuracy: 0.6364\n",
            "Epoch 149/200\n",
            "7/7 [==============================] - 2s 227ms/step - loss: 0.0080 - categorical_accuracy: 0.9958 - accuracy: 0.9958 - val_loss: 1.6270 - val_categorical_accuracy: 0.6234 - val_accuracy: 0.6234\n",
            "Epoch 150/200\n",
            "7/7 [==============================] - 2s 224ms/step - loss: 0.0254 - categorical_accuracy: 0.9854 - accuracy: 0.9854 - val_loss: 1.6315 - val_categorical_accuracy: 0.6494 - val_accuracy: 0.6494\n",
            "Epoch 151/200\n",
            "7/7 [==============================] - 2s 222ms/step - loss: 0.0162 - categorical_accuracy: 0.9896 - accuracy: 0.9896 - val_loss: 1.6411 - val_categorical_accuracy: 0.6494 - val_accuracy: 0.6494\n",
            "Epoch 152/200\n",
            "7/7 [==============================] - 2s 225ms/step - loss: 0.0131 - categorical_accuracy: 0.9931 - accuracy: 0.9931 - val_loss: 1.6405 - val_categorical_accuracy: 0.6234 - val_accuracy: 0.6234\n",
            "Epoch 153/200\n",
            "7/7 [==============================] - 2s 219ms/step - loss: 0.0118 - categorical_accuracy: 0.9935 - accuracy: 0.9935 - val_loss: 1.6416 - val_categorical_accuracy: 0.6364 - val_accuracy: 0.6364\n",
            "Epoch 154/200\n",
            "7/7 [==============================] - 2s 221ms/step - loss: 0.0226 - categorical_accuracy: 0.9812 - accuracy: 0.9812 - val_loss: 1.6425 - val_categorical_accuracy: 0.6234 - val_accuracy: 0.6234\n",
            "Epoch 155/200\n",
            "7/7 [==============================] - 2s 222ms/step - loss: 0.0136 - categorical_accuracy: 0.9899 - accuracy: 0.9899 - val_loss: 1.6434 - val_categorical_accuracy: 0.5974 - val_accuracy: 0.5974\n",
            "Epoch 156/200\n",
            "7/7 [==============================] - 2s 229ms/step - loss: 0.0288 - categorical_accuracy: 0.9806 - accuracy: 0.9806 - val_loss: 1.6347 - val_categorical_accuracy: 0.6234 - val_accuracy: 0.6234\n",
            "Epoch 157/200\n",
            "7/7 [==============================] - 2s 220ms/step - loss: 0.0177 - categorical_accuracy: 0.9875 - accuracy: 0.9875 - val_loss: 1.6385 - val_categorical_accuracy: 0.6364 - val_accuracy: 0.6364\n",
            "Epoch 158/200\n",
            "7/7 [==============================] - 2s 245ms/step - loss: 0.0253 - categorical_accuracy: 0.9829 - accuracy: 0.9829 - val_loss: 1.6461 - val_categorical_accuracy: 0.6364 - val_accuracy: 0.6364\n",
            "Epoch 159/200\n",
            "7/7 [==============================] - 2s 219ms/step - loss: 0.0150 - categorical_accuracy: 0.9920 - accuracy: 0.9920 - val_loss: 1.6553 - val_categorical_accuracy: 0.6234 - val_accuracy: 0.6234\n",
            "Epoch 160/200\n",
            "7/7 [==============================] - 2s 225ms/step - loss: 0.0174 - categorical_accuracy: 0.9866 - accuracy: 0.9866 - val_loss: 1.6604 - val_categorical_accuracy: 0.6104 - val_accuracy: 0.6104\n",
            "Epoch 161/200\n",
            "7/7 [==============================] - 2s 222ms/step - loss: 0.0146 - categorical_accuracy: 0.9896 - accuracy: 0.9896 - val_loss: 1.6922 - val_categorical_accuracy: 0.6364 - val_accuracy: 0.6364\n",
            "Epoch 162/200\n",
            "7/7 [==============================] - 2s 223ms/step - loss: 0.0176 - categorical_accuracy: 0.9831 - accuracy: 0.9831 - val_loss: 1.7785 - val_categorical_accuracy: 0.6104 - val_accuracy: 0.6104\n",
            "Epoch 163/200\n",
            "7/7 [==============================] - 2s 223ms/step - loss: 0.0315 - categorical_accuracy: 0.9912 - accuracy: 0.9912 - val_loss: 1.6837 - val_categorical_accuracy: 0.6234 - val_accuracy: 0.6234\n",
            "Epoch 164/200\n",
            "7/7 [==============================] - 2s 220ms/step - loss: 0.0190 - categorical_accuracy: 0.9871 - accuracy: 0.9871 - val_loss: 1.6893 - val_categorical_accuracy: 0.6234 - val_accuracy: 0.6234\n",
            "Epoch 165/200\n",
            "7/7 [==============================] - 2s 224ms/step - loss: 0.0192 - categorical_accuracy: 0.9844 - accuracy: 0.9844 - val_loss: 1.6927 - val_categorical_accuracy: 0.6364 - val_accuracy: 0.6364\n",
            "Epoch 166/200\n",
            "7/7 [==============================] - 2s 223ms/step - loss: 0.0106 - categorical_accuracy: 0.9912 - accuracy: 0.9912 - val_loss: 1.6876 - val_categorical_accuracy: 0.6364 - val_accuracy: 0.6364\n",
            "Epoch 167/200\n",
            "7/7 [==============================] - 2s 224ms/step - loss: 0.0420 - categorical_accuracy: 0.9874 - accuracy: 0.9874 - val_loss: 2.5766 - val_categorical_accuracy: 0.4286 - val_accuracy: 0.4286\n",
            "Epoch 168/200\n",
            "7/7 [==============================] - 2s 222ms/step - loss: 0.0713 - categorical_accuracy: 0.9843 - accuracy: 0.9843 - val_loss: 2.2569 - val_categorical_accuracy: 0.4805 - val_accuracy: 0.4805\n",
            "Epoch 169/200\n",
            "7/7 [==============================] - 2s 226ms/step - loss: 0.0371 - categorical_accuracy: 0.9813 - accuracy: 0.9813 - val_loss: 1.8179 - val_categorical_accuracy: 0.5714 - val_accuracy: 0.5714\n",
            "Epoch 170/200\n",
            "7/7 [==============================] - 2s 221ms/step - loss: 0.0662 - categorical_accuracy: 0.9810 - accuracy: 0.9810 - val_loss: 1.7300 - val_categorical_accuracy: 0.5974 - val_accuracy: 0.5974\n",
            "Epoch 171/200\n",
            "7/7 [==============================] - 2s 221ms/step - loss: 0.0286 - categorical_accuracy: 0.9869 - accuracy: 0.9869 - val_loss: 1.6549 - val_categorical_accuracy: 0.6104 - val_accuracy: 0.6104\n",
            "Epoch 172/200\n",
            "7/7 [==============================] - 2s 244ms/step - loss: 0.0212 - categorical_accuracy: 0.9918 - accuracy: 0.9918 - val_loss: 1.5864 - val_categorical_accuracy: 0.6494 - val_accuracy: 0.6494\n",
            "Epoch 173/200\n",
            "7/7 [==============================] - 2s 220ms/step - loss: 0.0138 - categorical_accuracy: 0.9881 - accuracy: 0.9881 - val_loss: 1.5966 - val_categorical_accuracy: 0.6494 - val_accuracy: 0.6494\n",
            "Epoch 174/200\n",
            "7/7 [==============================] - 2s 225ms/step - loss: 0.0203 - categorical_accuracy: 0.9931 - accuracy: 0.9931 - val_loss: 1.7612 - val_categorical_accuracy: 0.5195 - val_accuracy: 0.5195\n",
            "Epoch 175/200\n",
            "7/7 [==============================] - 2s 224ms/step - loss: 0.0173 - categorical_accuracy: 0.9914 - accuracy: 0.9914 - val_loss: 1.8206 - val_categorical_accuracy: 0.5065 - val_accuracy: 0.5065\n",
            "Epoch 176/200\n",
            "7/7 [==============================] - 2s 224ms/step - loss: 0.0173 - categorical_accuracy: 0.9871 - accuracy: 0.9871 - val_loss: 1.7602 - val_categorical_accuracy: 0.5065 - val_accuracy: 0.5065\n",
            "Epoch 177/200\n",
            "7/7 [==============================] - 2s 221ms/step - loss: 0.0169 - categorical_accuracy: 0.9838 - accuracy: 0.9838 - val_loss: 1.6933 - val_categorical_accuracy: 0.5584 - val_accuracy: 0.5584\n",
            "Epoch 178/200\n",
            "7/7 [==============================] - 2s 223ms/step - loss: 0.0264 - categorical_accuracy: 0.9830 - accuracy: 0.9830 - val_loss: 1.6293 - val_categorical_accuracy: 0.5974 - val_accuracy: 0.5974\n",
            "Epoch 179/200\n",
            "7/7 [==============================] - 2s 223ms/step - loss: 0.0203 - categorical_accuracy: 0.9827 - accuracy: 0.9827 - val_loss: 1.6126 - val_categorical_accuracy: 0.6234 - val_accuracy: 0.6234\n",
            "Epoch 180/200\n",
            "7/7 [==============================] - 2s 223ms/step - loss: 0.0195 - categorical_accuracy: 0.9927 - accuracy: 0.9927 - val_loss: 1.6022 - val_categorical_accuracy: 0.6364 - val_accuracy: 0.6364\n",
            "Epoch 181/200\n",
            "7/7 [==============================] - 2s 224ms/step - loss: 0.0129 - categorical_accuracy: 0.9932 - accuracy: 0.9932 - val_loss: 1.6105 - val_categorical_accuracy: 0.6364 - val_accuracy: 0.6364\n",
            "Epoch 182/200\n",
            "7/7 [==============================] - 2s 224ms/step - loss: 0.0214 - categorical_accuracy: 0.9768 - accuracy: 0.9768 - val_loss: 1.6240 - val_categorical_accuracy: 0.6494 - val_accuracy: 0.6494\n",
            "Epoch 183/200\n",
            "7/7 [==============================] - 2s 226ms/step - loss: 0.0138 - categorical_accuracy: 0.9941 - accuracy: 0.9941 - val_loss: 1.6495 - val_categorical_accuracy: 0.6494 - val_accuracy: 0.6494\n",
            "Epoch 184/200\n",
            "7/7 [==============================] - 2s 223ms/step - loss: 0.0202 - categorical_accuracy: 0.9896 - accuracy: 0.9896 - val_loss: 1.6601 - val_categorical_accuracy: 0.6494 - val_accuracy: 0.6494\n",
            "Epoch 185/200\n",
            "7/7 [==============================] - 2s 225ms/step - loss: 0.0268 - categorical_accuracy: 0.9863 - accuracy: 0.9863 - val_loss: 1.6659 - val_categorical_accuracy: 0.6364 - val_accuracy: 0.6364\n",
            "Epoch 186/200\n",
            "7/7 [==============================] - 2s 245ms/step - loss: 0.0135 - categorical_accuracy: 0.9883 - accuracy: 0.9883 - val_loss: 1.7288 - val_categorical_accuracy: 0.6104 - val_accuracy: 0.6104\n",
            "Epoch 187/200\n",
            "7/7 [==============================] - 2s 224ms/step - loss: 0.0178 - categorical_accuracy: 0.9859 - accuracy: 0.9859 - val_loss: 1.7336 - val_categorical_accuracy: 0.5195 - val_accuracy: 0.5195\n",
            "Epoch 188/200\n",
            "7/7 [==============================] - 2s 230ms/step - loss: 0.0144 - categorical_accuracy: 0.9881 - accuracy: 0.9881 - val_loss: 1.7156 - val_categorical_accuracy: 0.5195 - val_accuracy: 0.5195\n",
            "Epoch 189/200\n",
            "7/7 [==============================] - 2s 221ms/step - loss: 0.0193 - categorical_accuracy: 0.9882 - accuracy: 0.9882 - val_loss: 1.7133 - val_categorical_accuracy: 0.5455 - val_accuracy: 0.5455\n",
            "Epoch 190/200\n",
            "7/7 [==============================] - 2s 225ms/step - loss: 0.0152 - categorical_accuracy: 0.9879 - accuracy: 0.9879 - val_loss: 1.6891 - val_categorical_accuracy: 0.5584 - val_accuracy: 0.5584\n",
            "Epoch 191/200\n",
            "7/7 [==============================] - 2s 223ms/step - loss: 0.0146 - categorical_accuracy: 0.9932 - accuracy: 0.9932 - val_loss: 1.6747 - val_categorical_accuracy: 0.5714 - val_accuracy: 0.5714\n",
            "Epoch 192/200\n",
            "7/7 [==============================] - 2s 222ms/step - loss: 0.0225 - categorical_accuracy: 0.9850 - accuracy: 0.9850 - val_loss: 1.6665 - val_categorical_accuracy: 0.5974 - val_accuracy: 0.5974\n",
            "Epoch 193/200\n",
            "7/7 [==============================] - 2s 222ms/step - loss: 0.0145 - categorical_accuracy: 0.9863 - accuracy: 0.9863 - val_loss: 1.6657 - val_categorical_accuracy: 0.6104 - val_accuracy: 0.6104\n",
            "Epoch 194/200\n",
            "7/7 [==============================] - 2s 223ms/step - loss: 0.0154 - categorical_accuracy: 0.9921 - accuracy: 0.9921 - val_loss: 1.6685 - val_categorical_accuracy: 0.6234 - val_accuracy: 0.6234\n",
            "Epoch 195/200\n",
            "7/7 [==============================] - 2s 228ms/step - loss: 0.0205 - categorical_accuracy: 0.9911 - accuracy: 0.9911 - val_loss: 1.6797 - val_categorical_accuracy: 0.6234 - val_accuracy: 0.6234\n",
            "Epoch 196/200\n",
            "7/7 [==============================] - 2s 230ms/step - loss: 0.0141 - categorical_accuracy: 0.9910 - accuracy: 0.9910 - val_loss: 1.6879 - val_categorical_accuracy: 0.6234 - val_accuracy: 0.6234\n",
            "Epoch 197/200\n",
            "7/7 [==============================] - 2s 230ms/step - loss: 0.0163 - categorical_accuracy: 0.9920 - accuracy: 0.9920 - val_loss: 1.6900 - val_categorical_accuracy: 0.6234 - val_accuracy: 0.6234\n",
            "Epoch 198/200\n",
            "7/7 [==============================] - 2s 230ms/step - loss: 0.0183 - categorical_accuracy: 0.9931 - accuracy: 0.9931 - val_loss: 1.6979 - val_categorical_accuracy: 0.6234 - val_accuracy: 0.6234\n",
            "Epoch 199/200\n",
            "7/7 [==============================] - 2s 234ms/step - loss: 0.0104 - categorical_accuracy: 0.9926 - accuracy: 0.9926 - val_loss: 1.7037 - val_categorical_accuracy: 0.6234 - val_accuracy: 0.6234\n",
            "Epoch 200/200\n",
            "7/7 [==============================] - 2s 230ms/step - loss: 0.0205 - categorical_accuracy: 0.9837 - accuracy: 0.9837 - val_loss: 1.7142 - val_categorical_accuracy: 0.6364 - val_accuracy: 0.6364\n",
            "4/4 [==============================] - 0s 50ms/step - loss: 2.6128 - categorical_accuracy: 0.4124 - accuracy: 0.4124\n",
            "[[10  2  8  0  0]\n",
            " [ 5  9  6  0  0]\n",
            " [ 5  1 12  1  1]\n",
            " [ 4  1 11  4  0]\n",
            " [ 0  2  9  1  5]]\n",
            "              precision    recall  f1-score   support\n",
            "\n",
            "          DN       0.42      0.50      0.45        20\n",
            "         GOF       0.60      0.45      0.51        20\n",
            "          HI       0.26      0.60      0.36        20\n",
            "         LOF       0.67      0.20      0.31        20\n",
            "        none       0.83      0.29      0.43        17\n",
            "\n",
            "    accuracy                           0.41        97\n",
            "   macro avg       0.56      0.41      0.41        97\n",
            "weighted avg       0.55      0.41      0.41        97\n",
            "\n"
          ],
          "name": "stdout"
        }
      ]
    },
    {
      "cell_type": "code",
      "metadata": {
        "colab": {
          "base_uri": "https://localhost:8080/"
        },
        "id": "DnQqqk40eQtE",
        "outputId": "62ab8c87-960a-448f-fcf5-bdee980be952"
      },
      "source": [
        "X_train.shape"
      ],
      "execution_count": 59,
      "outputs": [
        {
          "output_type": "execute_result",
          "data": {
            "text/plain": [
              "(385, 55389)"
            ]
          },
          "metadata": {
            "tags": []
          },
          "execution_count": 59
        }
      ]
    },
    {
      "cell_type": "code",
      "metadata": {
        "colab": {
          "base_uri": "https://localhost:8080/",
          "height": 611
        },
        "id": "pMTODcwPgWK0",
        "outputId": "d5a22544-4591-41cb-a6fb-e3e5b9812d8b"
      },
      "source": [
        "with open('/content/%s' %modelName, 'wb') as file_pi:\r\n",
        "        pickle.dump(history.history, file_pi)\r\n",
        "history = pickle.load(open('/content/%s' % modelName, \"rb\"))\r\n",
        "model.save(modelName +'.h5')\r\n",
        "plot(history)\r\n",
        "with open('/content/%s_train' %modelName, 'wb') as file_pi:\r\n",
        "        pickle.dump(X_train, file_pi)\r\n",
        "with open('/content/%s_test' %modelName, 'wb') as file_pi:\r\n",
        "        pickle.dump(X_test, file_pi)\r\n",
        "with open('/content/%s_Labeltest' %modelName, 'wb') as file_pi:\r\n",
        "        pickle.dump(y_test, file_pi)\r\n",
        "with open('/content/%s_LabelTrain' %modelName, 'wb') as file_pi:\r\n",
        "        pickle.dump(y_train, file_pi)\r\n",
        "with open('/content/%s_ConfusionMatrix' %modelName, 'wb') as file_pi:\r\n",
        "        pickle.dump(confusion_matrix(y_test.argmax(axis=-1), model.predict(X_test).argmax(axis=-1)), file_pi)\r\n",
        "with open('/content/%s_ClassificationReport' %modelName, 'wb') as file_pi:\r\n",
        "        pickle.dump(classification_report(y_test.argmax(axis=-1), model.predict(X_test).argmax(axis=-1), target_names=ClassNames), file_pi)"
      ],
      "execution_count": 65,
      "outputs": [
        {
          "output_type": "stream",
          "text": [
            "dict_keys(['loss', 'categorical_accuracy', 'accuracy', 'val_loss', 'val_categorical_accuracy', 'val_accuracy'])\n"
          ],
          "name": "stdout"
        },
        {
          "output_type": "display_data",
          "data": {
            "image/png": "[encoded data removed]",
            "text/plain": [
              "<Figure size 432x288 with 1 Axes>"
            ]
          },
          "metadata": {
            "tags": [],
            "needs_background": "light"
          }
        },
        {
          "output_type": "display_data",
          "data": {
            "image/png": "[encoded data removed]",
            "text/plain": [
              "<Figure size 432x288 with 1 Axes>"
            ]
          },
          "metadata": {
            "tags": [],
            "needs_background": "light"
          }
        }
      ]
    },
    {
      "cell_type": "code",
      "metadata": {
        "id": "Aa4Jc7uPg6ha"
      },
      "source": [
        ""
      ],
      "execution_count": null,
      "outputs": []
    },
    {
      "cell_type": "markdown",
      "metadata": {
        "id": "W5zpZCMahtth"
      },
      "source": [
        "Code to download the files as zip folders\r\n",
        "(to load the models and datasets for prediction/evaluation use pickle.load)\r\n"
      ]
    },
    {
      "cell_type": "code",
      "metadata": {
        "colab": {
          "base_uri": "https://localhost:8080/",
          "height": 17
        },
        "id": "tYkGT66AhzyZ",
        "outputId": "0fec7657-f048-4cd0-9691-896e72d881e3"
      },
      "source": [
        "\r\n",
        "# !zip -r '/Model1.zip' 'Model1Folder'\r\n",
        "files.download('/Model1.zip')"
      ],
      "execution_count": 67,
      "outputs": [
        {
          "output_type": "display_data",
          "data": {
            "application/javascript": [
              "\n",
              "    async function download(id, filename, size) {\n",
              "      if (!google.colab.kernel.accessAllowed) {\n",
              "        return;\n",
              "      }\n",
              "      const div = document.createElement('div');\n",
              "      const label = document.createElement('label');\n",
              "      label.textContent = `Downloading \"${filename}\": `;\n",
              "      div.appendChild(label);\n",
              "      const progress = document.createElement('progress');\n",
              "      progress.max = size;\n",
              "      div.appendChild(progress);\n",
              "      document.body.appendChild(div);\n",
              "\n",
              "      const buffers = [];\n",
              "      let downloaded = 0;\n",
              "\n",
              "      const channel = await google.colab.kernel.comms.open(id);\n",
              "      // Send a message to notify the kernel that we're ready.\n",
              "      channel.send({})\n",
              "\n",
              "      for await (const message of channel.messages) {\n",
              "        // Send a message to notify the kernel that we're ready.\n",
              "        channel.send({})\n",
              "        if (message.buffers) {\n",
              "          for (const buffer of message.buffers) {\n",
              "            buffers.push(buffer);\n",
              "            downloaded += buffer.byteLength;\n",
              "            progress.value = downloaded;\n",
              "          }\n",
              "        }\n",
              "      }\n",
              "      const blob = new Blob(buffers, {type: 'application/binary'});\n",
              "      const a = document.createElement('a');\n",
              "      a.href = window.URL.createObjectURL(blob);\n",
              "      a.download = filename;\n",
              "      div.appendChild(a);\n",
              "      a.click();\n",
              "      div.remove();\n",
              "    }\n",
              "  "
            ],
            "text/plain": [
              "<IPython.core.display.Javascript object>"
            ]
          },
          "metadata": {
            "tags": []
          }
        },
        {
          "output_type": "display_data",
          "data": {
            "application/javascript": [
              "download(\"download_83415469-4827-4786-bf79-5e9aac84445c\", \"Model1.zip\", 151058438)"
            ],
            "text/plain": [
              "<IPython.core.display.Javascript object>"
            ]
          },
          "metadata": {
            "tags": []
          }
        }
      ]
    },
    {
      "cell_type": "code",
      "metadata": {
        "colab": {
          "base_uri": "https://localhost:8080/",
          "height": 199
        },
        "id": "D0JfxOKgiQvm",
        "outputId": "d678863a-0898-4806-bdf3-c2f1184ab8c3"
      },
      "source": [
        "!zip -r '/Model2.zip' 'Model2Folder'\r\n",
        "files.download('/Model2.zip')"
      ],
      "execution_count": 68,
      "outputs": [
        {
          "output_type": "stream",
          "text": [
            "  adding: Model2Folder/ (stored 0%)\n",
            "  adding: Model2Folder/Model2_Labeltest (deflated 88%)\n",
            "  adding: Model2Folder/Model2.h5 (deflated 45%)\n",
            "  adding: Model2Folder/Model2_ConfusionMatrix (deflated 50%)\n",
            "  adding: Model2Folder/Model2_train (deflated 100%)\n",
            "  adding: Model2Folder/Model2_test (deflated 100%)\n",
            "  adding: Model2Folder/Model2_LabelTrain (deflated 94%)\n",
            "  adding: Model2Folder/Model2_ClassificationReport (deflated 64%)\n",
            "  adding: Model2Folder/Model2.png (deflated 14%)\n",
            "  adding: Model2Folder/Model2 (deflated 79%)\n"
          ],
          "name": "stdout"
        },
        {
          "output_type": "display_data",
          "data": {
            "application/javascript": [
              "\n",
              "    async function download(id, filename, size) {\n",
              "      if (!google.colab.kernel.accessAllowed) {\n",
              "        return;\n",
              "      }\n",
              "      const div = document.createElement('div');\n",
              "      const label = document.createElement('label');\n",
              "      label.textContent = `Downloading \"${filename}\": `;\n",
              "      div.appendChild(label);\n",
              "      const progress = document.createElement('progress');\n",
              "      progress.max = size;\n",
              "      div.appendChild(progress);\n",
              "      document.body.appendChild(div);\n",
              "\n",
              "      const buffers = [];\n",
              "      let downloaded = 0;\n",
              "\n",
              "      const channel = await google.colab.kernel.comms.open(id);\n",
              "      // Send a message to notify the kernel that we're ready.\n",
              "      channel.send({})\n",
              "\n",
              "      for await (const message of channel.messages) {\n",
              "        // Send a message to notify the kernel that we're ready.\n",
              "        channel.send({})\n",
              "        if (message.buffers) {\n",
              "          for (const buffer of message.buffers) {\n",
              "            buffers.push(buffer);\n",
              "            downloaded += buffer.byteLength;\n",
              "            progress.value = downloaded;\n",
              "          }\n",
              "        }\n",
              "      }\n",
              "      const blob = new Blob(buffers, {type: 'application/binary'});\n",
              "      const a = document.createElement('a');\n",
              "      a.href = window.URL.createObjectURL(blob);\n",
              "      a.download = filename;\n",
              "      div.appendChild(a);\n",
              "      a.click();\n",
              "      div.remove();\n",
              "    }\n",
              "  "
            ],
            "text/plain": [
              "<IPython.core.display.Javascript object>"
            ]
          },
          "metadata": {
            "tags": []
          }
        },
        {
          "output_type": "display_data",
          "data": {
            "application/javascript": [
              "download(\"download_c351aa97-454e-4eaa-92ce-9480b51a3646\", \"Model2.zip\", 184553507)"
            ],
            "text/plain": [
              "<IPython.core.display.Javascript object>"
            ]
          },
          "metadata": {
            "tags": []
          }
        }
      ]
    },
    {
      "cell_type": "code",
      "metadata": {
        "colab": {
          "base_uri": "https://localhost:8080/",
          "height": 199
        },
        "id": "r2MwIM2fjBag",
        "outputId": "b34402b4-31df-4900-aa2a-05543e41a515"
      },
      "source": [
        "!zip -r '/Model3.zip' 'Model3Folder'\r\n",
        "files.download('/Model3.zip')"
      ],
      "execution_count": 69,
      "outputs": [
        {
          "output_type": "stream",
          "text": [
            "  adding: Model3Folder/ (stored 0%)\n",
            "  adding: Model3Folder/Model3.png (deflated 12%)\n",
            "  adding: Model3Folder/Model3_LabelTrain (deflated 94%)\n",
            "  adding: Model3Folder/Model3 (deflated 78%)\n",
            "  adding: Model3Folder/Model3_ConfusionMatrix (deflated 50%)\n",
            "  adding: Model3Folder/Model3.h5 (deflated 37%)\n",
            "  adding: Model3Folder/Model3_Labeltest (deflated 88%)\n",
            "  adding: Model3Folder/Model3_test (deflated 99%)\n",
            "  adding: Model3Folder/Model3_train (deflated 99%)\n",
            "  adding: Model3Folder/Model3_ClassificationReport (deflated 63%)\n"
          ],
          "name": "stdout"
        },
        {
          "output_type": "display_data",
          "data": {
            "application/javascript": [
              "\n",
              "    async function download(id, filename, size) {\n",
              "      if (!google.colab.kernel.accessAllowed) {\n",
              "        return;\n",
              "      }\n",
              "      const div = document.createElement('div');\n",
              "      const label = document.createElement('label');\n",
              "      label.textContent = `Downloading \"${filename}\": `;\n",
              "      div.appendChild(label);\n",
              "      const progress = document.createElement('progress');\n",
              "      progress.max = size;\n",
              "      div.appendChild(progress);\n",
              "      document.body.appendChild(div);\n",
              "\n",
              "      const buffers = [];\n",
              "      let downloaded = 0;\n",
              "\n",
              "      const channel = await google.colab.kernel.comms.open(id);\n",
              "      // Send a message to notify the kernel that we're ready.\n",
              "      channel.send({})\n",
              "\n",
              "      for await (const message of channel.messages) {\n",
              "        // Send a message to notify the kernel that we're ready.\n",
              "        channel.send({})\n",
              "        if (message.buffers) {\n",
              "          for (const buffer of message.buffers) {\n",
              "            buffers.push(buffer);\n",
              "            downloaded += buffer.byteLength;\n",
              "            progress.value = downloaded;\n",
              "          }\n",
              "        }\n",
              "      }\n",
              "      const blob = new Blob(buffers, {type: 'application/binary'});\n",
              "      const a = document.createElement('a');\n",
              "      a.href = window.URL.createObjectURL(blob);\n",
              "      a.download = filename;\n",
              "      div.appendChild(a);\n",
              "      a.click();\n",
              "      div.remove();\n",
              "    }\n",
              "  "
            ],
            "text/plain": [
              "<IPython.core.display.Javascript object>"
            ]
          },
          "metadata": {
            "tags": []
          }
        },
        {
          "output_type": "display_data",
          "data": {
            "application/javascript": [
              "download(\"download_b6df2a3f-0718-45e4-a11d-d69e9f06a7c4\", \"Model3.zip\", 210895491)"
            ],
            "text/plain": [
              "<IPython.core.display.Javascript object>"
            ]
          },
          "metadata": {
            "tags": []
          }
        }
      ]
    },
    {
      "cell_type": "code",
      "metadata": {
        "colab": {
          "base_uri": "https://localhost:8080/",
          "height": 199
        },
        "id": "gUjysJ55jB7-",
        "outputId": "d8b9c576-e0e3-4542-9d9e-2faae4bc5988"
      },
      "source": [
        "!zip -r '/Model4.zip' 'Model4Folder'\r\n",
        "files.download('/Model4.zip')"
      ],
      "execution_count": 70,
      "outputs": [
        {
          "output_type": "stream",
          "text": [
            "  adding: Model4Folder/ (stored 0%)\n",
            "  adding: Model4Folder/Model4_train (deflated 99%)\n",
            "  adding: Model4Folder/Model4_test (deflated 99%)\n",
            "  adding: Model4Folder/Model4_Labeltest (deflated 88%)\n",
            "  adding: Model4Folder/Model4 (deflated 82%)\n",
            "  adding: Model4Folder/Model4_ConfusionMatrix (deflated 50%)\n",
            "  adding: Model4Folder/Model4_LabelTrain (deflated 94%)\n",
            "  adding: Model4Folder/Model4.png (deflated 12%)\n",
            "  adding: Model4Folder/Model4_ClassificationReport (deflated 63%)\n",
            "  adding: Model4Folder/Model4.h5 (deflated 45%)\n"
          ],
          "name": "stdout"
        },
        {
          "output_type": "display_data",
          "data": {
            "application/javascript": [
              "\n",
              "    async function download(id, filename, size) {\n",
              "      if (!google.colab.kernel.accessAllowed) {\n",
              "        return;\n",
              "      }\n",
              "      const div = document.createElement('div');\n",
              "      const label = document.createElement('label');\n",
              "      label.textContent = `Downloading \"${filename}\": `;\n",
              "      div.appendChild(label);\n",
              "      const progress = document.createElement('progress');\n",
              "      progress.max = size;\n",
              "      div.appendChild(progress);\n",
              "      document.body.appendChild(div);\n",
              "\n",
              "      const buffers = [];\n",
              "      let downloaded = 0;\n",
              "\n",
              "      const channel = await google.colab.kernel.comms.open(id);\n",
              "      // Send a message to notify the kernel that we're ready.\n",
              "      channel.send({})\n",
              "\n",
              "      for await (const message of channel.messages) {\n",
              "        // Send a message to notify the kernel that we're ready.\n",
              "        channel.send({})\n",
              "        if (message.buffers) {\n",
              "          for (const buffer of message.buffers) {\n",
              "            buffers.push(buffer);\n",
              "            downloaded += buffer.byteLength;\n",
              "            progress.value = downloaded;\n",
              "          }\n",
              "        }\n",
              "      }\n",
              "      const blob = new Blob(buffers, {type: 'application/binary'});\n",
              "      const a = document.createElement('a');\n",
              "      a.href = window.URL.createObjectURL(blob);\n",
              "      a.download = filename;\n",
              "      div.appendChild(a);\n",
              "      a.click();\n",
              "      div.remove();\n",
              "    }\n",
              "  "
            ],
            "text/plain": [
              "<IPython.core.display.Javascript object>"
            ]
          },
          "metadata": {
            "tags": []
          }
        },
        {
          "output_type": "display_data",
          "data": {
            "application/javascript": [
              "download(\"download_6a3d8863-9b70-4aa5-8ab4-67200280e5f1\", \"Model4.zip\", 183201711)"
            ],
            "text/plain": [
              "<IPython.core.display.Javascript object>"
            ]
          },
          "metadata": {
            "tags": []
          }
        }
      ]
    },
    {
      "cell_type": "code",
      "metadata": {
        "colab": {
          "base_uri": "https://localhost:8080/",
          "height": 199
        },
        "id": "zDQfbrxZjCvT",
        "outputId": "8d847e06-83c6-4f61-8b90-17f4a1a62d97"
      },
      "source": [
        "!zip -r '/Model5.zip' 'Model5Folder'\r\n",
        "files.download('/Model5.zip')"
      ],
      "execution_count": 71,
      "outputs": [
        {
          "output_type": "stream",
          "text": [
            "  adding: Model5Folder/ (stored 0%)\n",
            "  adding: Model5Folder/Model5_ClassificationReport (deflated 64%)\n",
            "  adding: Model5Folder/Model5_test (deflated 99%)\n",
            "  adding: Model5Folder/Model5_LabelTrain (deflated 94%)\n",
            "  adding: Model5Folder/Model5_train (deflated 99%)\n",
            "  adding: Model5Folder/Model5 (deflated 79%)\n",
            "  adding: Model5Folder/Model5.png (deflated 13%)\n",
            "  adding: Model5Folder/Model5_Labeltest (deflated 88%)\n",
            "  adding: Model5Folder/Model5_ConfusionMatrix (deflated 50%)\n",
            "  adding: Model5Folder/Model5.h5 (deflated 35%)\n"
          ],
          "name": "stdout"
        },
        {
          "output_type": "display_data",
          "data": {
            "application/javascript": [
              "\n",
              "    async function download(id, filename, size) {\n",
              "      if (!google.colab.kernel.accessAllowed) {\n",
              "        return;\n",
              "      }\n",
              "      const div = document.createElement('div');\n",
              "      const label = document.createElement('label');\n",
              "      label.textContent = `Downloading \"${filename}\": `;\n",
              "      div.appendChild(label);\n",
              "      const progress = document.createElement('progress');\n",
              "      progress.max = size;\n",
              "      div.appendChild(progress);\n",
              "      document.body.appendChild(div);\n",
              "\n",
              "      const buffers = [];\n",
              "      let downloaded = 0;\n",
              "\n",
              "      const channel = await google.colab.kernel.comms.open(id);\n",
              "      // Send a message to notify the kernel that we're ready.\n",
              "      channel.send({})\n",
              "\n",
              "      for await (const message of channel.messages) {\n",
              "        // Send a message to notify the kernel that we're ready.\n",
              "        channel.send({})\n",
              "        if (message.buffers) {\n",
              "          for (const buffer of message.buffers) {\n",
              "            buffers.push(buffer);\n",
              "            downloaded += buffer.byteLength;\n",
              "            progress.value = downloaded;\n",
              "          }\n",
              "        }\n",
              "      }\n",
              "      const blob = new Blob(buffers, {type: 'application/binary'});\n",
              "      const a = document.createElement('a');\n",
              "      a.href = window.URL.createObjectURL(blob);\n",
              "      a.download = filename;\n",
              "      div.appendChild(a);\n",
              "      a.click();\n",
              "      div.remove();\n",
              "    }\n",
              "  "
            ],
            "text/plain": [
              "<IPython.core.display.Javascript object>"
            ]
          },
          "metadata": {
            "tags": []
          }
        },
        {
          "output_type": "display_data",
          "data": {
            "application/javascript": [
              "download(\"download_1b55c150-d865-4ddd-b6bc-38a22835129d\", \"Model5.zip\", 216215223)"
            ],
            "text/plain": [
              "<IPython.core.display.Javascript object>"
            ]
          },
          "metadata": {
            "tags": []
          }
        }
      ]
    },
    {
      "cell_type": "code",
      "metadata": {
        "id": "zQiErt9Tjq6e"
      },
      "source": [
        ""
      ],
      "execution_count": null,
      "outputs": []
    }
  ]
}