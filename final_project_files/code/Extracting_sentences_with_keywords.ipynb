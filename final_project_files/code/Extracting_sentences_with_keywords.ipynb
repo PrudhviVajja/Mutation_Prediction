{
  "nbformat": 4,
  "nbformat_minor": 0,
  "metadata": {
    "colab": {
      "name": "Extracting sentences with keywords.ipynb",
      "provenance": []
    },
    "kernelspec": {
      "name": "python3",
      "display_name": "Python 3"
    }
  },
  "cells": [
    {
      "cell_type": "code",
      "metadata": {
        "id": "-xnqGJFKIqzq",
        "colab": {
          "base_uri": "https://localhost:8080/"
        },
        "outputId": "d9b4e64f-f3be-477d-ffff-2d2224f11f82"
      },
      "source": [
        "import nltk\r\n",
        "nltk.download('punkt')\r\n",
        "import re\r\n",
        "from nltk.tokenize import sent_tokenize, word_tokenize\r\n",
        "from collections import OrderedDict\r\n",
        "import pandas as pd"
      ],
      "execution_count": 4,
      "outputs": [
        {
          "output_type": "stream",
          "text": [
            "[nltk_data] Downloading package punkt to /root/nltk_data...\n",
            "[nltk_data]   Package punkt is already up-to-date!\n"
          ],
          "name": "stdout"
        }
      ]
    },
    {
      "cell_type": "code",
      "metadata": {
        "colab": {
          "base_uri": "https://localhost:8080/"
        },
        "id": "sIiVbRlLMBVI",
        "outputId": "348a2641-e95a-453e-d47c-d04293bc755a"
      },
      "source": [
        "data = pd.read_excel ('Functional_Consequences_v1.xlsx')\r\n",
        "data.mutation_consequence.value_counts()"
      ],
      "execution_count": 5,
      "outputs": [
        {
          "output_type": "execute_result",
          "data": {
            "text/plain": [
              "LOF     100\n",
              "DN      100\n",
              "GOF     100\n",
              "none    100\n",
              "HI      100\n",
              "Name: mutation_consequence, dtype: int64"
            ]
          },
          "metadata": {
            "tags": []
          },
          "execution_count": 5
        }
      ]
    },
    {
      "cell_type": "code",
      "metadata": {
        "colab": {
          "base_uri": "https://localhost:8080/"
        },
        "id": "RV8zlhp7L9ZF",
        "outputId": "b5df6c16-a008-46f4-dde4-021ad7f96588"
      },
      "source": [
        "data.dropna(inplace=True)\r\n",
        "data.mutation_consequence.value_counts()"
      ],
      "execution_count": 6,
      "outputs": [
        {
          "output_type": "execute_result",
          "data": {
            "text/plain": [
              "LOF     100\n",
              "DN      100\n",
              "GOF      99\n",
              "HI       99\n",
              "none     84\n",
              "Name: mutation_consequence, dtype: int64"
            ]
          },
          "metadata": {
            "tags": []
          },
          "execution_count": 6
        }
      ]
    },
    {
      "cell_type": "code",
      "metadata": {
        "id": "iiMTCEDxJx2U"
      },
      "source": [
        "search_terms = 'gain-of-function|gain of function|toxic gain of function|activating mutation|constitutively active|hypermorph|ectopic expression|neomorph|gain of interaction|function protein|fusion transcript|haploinsufficiency|haploinsufficient|hypomorph|amorph|null mutation|hemizygous|dominant-negative|dominant negative|antimorph|loss of function|loss-of-function'\r\n",
        "search_terms = search_terms.split('|')"
      ],
      "execution_count": 7,
      "outputs": []
    },
    {
      "cell_type": "code",
      "metadata": {
        "id": "mtIV4-0kr9nb"
      },
      "source": [
        "# Sentences: Text input from the dataframe\r\n",
        "# scale : optional input, default: 2, indicates number of neighbours on either side\r\n",
        "# search terms : optional input, default: search_terms\r\n",
        "\r\n",
        "def extract_data(sentences, scale=2, search_terms = search_terms):\r\n",
        "\r\n",
        "    sentences = sentences.lower() #converting into lowercase\r\n",
        "    sentences = re.sub(r'[\\r\\n\\n]+', ' ', sentences)#removing the new line, carriage return sequences\r\n",
        "\r\n",
        "    locs = set()        #storing the locations of search term occurences\r\n",
        "    sentences  = sent_tokenize(sentences.replace('al.',''))\r\n",
        "    for i,sentence in enumerate(sentences):\r\n",
        "        for term in search_terms:\r\n",
        "            temp = re.findall(r'([^.]*'+term+'[^.]*)', sentence)\r\n",
        "            if len(temp)>0:\r\n",
        "                locs.add(i)\r\n",
        "\r\n",
        "    extract=[]\r\n",
        "    if not locs: #if no search terms are found returns the entire text\r\n",
        "        return ''.join(sentences)\r\n",
        "\r\n",
        "    for index in locs: #extracting the surrounding sentences\r\n",
        "        left = sentences[:index][-scale:]\r\n",
        "        right= sentences[index:scale+index+1]\r\n",
        "        extract += left+right\r\n",
        "\r\n",
        "    return (''.join(list(OrderedDict.fromkeys(extract))))#avoiding duplicate sentences while preserving the order of them\r\n",
        "            \r\n",
        "\r\n",
        "    "
      ],
      "execution_count": 15,
      "outputs": []
    },
    {
      "cell_type": "code",
      "metadata": {
        "id": "MPP7x3PgvgBh"
      },
      "source": [
        "data['extracted_text'] = data.apply(lambda x: extract_data(x['text'],scale=1),axis=1)"
      ],
      "execution_count": 16,
      "outputs": []
    },
    {
      "cell_type": "code",
      "metadata": {
        "colab": {
          "base_uri": "https://localhost:8080/",
          "height": 306
        },
        "id": "wLgjQ9rowv_h",
        "outputId": "d35f96dc-877f-4823-99fd-428ac84d33ee"
      },
      "source": [
        "data.head(5)"
      ],
      "execution_count": 17,
      "outputs": [
        {
          "output_type": "execute_result",
          "data": {
            "text/html": [
              "<div>\n",
              "<style scoped>\n",
              "    .dataframe tbody tr th:only-of-type {\n",
              "        vertical-align: middle;\n",
              "    }\n",
              "\n",
              "    .dataframe tbody tr th {\n",
              "        vertical-align: top;\n",
              "    }\n",
              "\n",
              "    .dataframe thead th {\n",
              "        text-align: right;\n",
              "    }\n",
              "</style>\n",
              "<table border=\"1\" class=\"dataframe\">\n",
              "  <thead>\n",
              "    <tr style=\"text-align: right;\">\n",
              "      <th></th>\n",
              "      <th>phenotype_mim_num</th>\n",
              "      <th>gene_mim_num</th>\n",
              "      <th>Entrez Gene ID (NCBI)</th>\n",
              "      <th>Approved Gene Symbol (HGNC)</th>\n",
              "      <th>mutation_consequence</th>\n",
              "      <th>text</th>\n",
              "      <th>extracted_text</th>\n",
              "    </tr>\n",
              "  </thead>\n",
              "  <tbody>\n",
              "    <tr>\n",
              "      <th>0</th>\n",
              "      <td>300983</td>\n",
              "      <td>300838</td>\n",
              "      <td>9758.0</td>\n",
              "      <td>FRMPD4</td>\n",
              "      <td>HI</td>\n",
              "      <td>In 5 affected males from a family (P58) with X...</td>\n",
              "      <td>in 5 affected males from a family (p58) with x...</td>\n",
              "    </tr>\n",
              "    <tr>\n",
              "      <th>1</th>\n",
              "      <td>618394</td>\n",
              "      <td>605394</td>\n",
              "      <td>60468.0</td>\n",
              "      <td>BACH2</td>\n",
              "      <td>DN</td>\n",
              "      <td>In a 19-year-old woman (family A) with immunod...</td>\n",
              "      <td>the l24p mutant protein was insoluble in solut...</td>\n",
              "    </tr>\n",
              "    <tr>\n",
              "      <th>2</th>\n",
              "      <td>229100</td>\n",
              "      <td>606806</td>\n",
              "      <td>10841.0</td>\n",
              "      <td>FTCD</td>\n",
              "      <td>HI</td>\n",
              "      <td>In 2 sibs with glutamate formiminotransferase ...</td>\n",
              "      <td>in 2 sibs with glutamate formiminotransferase ...</td>\n",
              "    </tr>\n",
              "    <tr>\n",
              "      <th>3</th>\n",
              "      <td>616324</td>\n",
              "      <td>100725</td>\n",
              "      <td>1145.0</td>\n",
              "      <td>CHRNE</td>\n",
              "      <td>HI</td>\n",
              "      <td>For discussion of the ser143-to-leu (S143L) mu...</td>\n",
              "      <td>one patient also had a heterozygous c.-24g-a t...</td>\n",
              "    </tr>\n",
              "    <tr>\n",
              "      <th>4</th>\n",
              "      <td>104300</td>\n",
              "      <td>104760</td>\n",
              "      <td>351.0</td>\n",
              "      <td>APP</td>\n",
              "      <td>none</td>\n",
              "      <td>In a cohort of 65 families with autosomal domi...</td>\n",
              "      <td>in a cohort of 65 families with autosomal domi...</td>\n",
              "    </tr>\n",
              "  </tbody>\n",
              "</table>\n",
              "</div>"
            ],
            "text/plain": [
              "   phenotype_mim_num  ...                                     extracted_text\n",
              "0             300983  ...  in 5 affected males from a family (p58) with x...\n",
              "1             618394  ...  the l24p mutant protein was insoluble in solut...\n",
              "2             229100  ...  in 2 sibs with glutamate formiminotransferase ...\n",
              "3             616324  ...  one patient also had a heterozygous c.-24g-a t...\n",
              "4             104300  ...  in a cohort of 65 families with autosomal domi...\n",
              "\n",
              "[5 rows x 7 columns]"
            ]
          },
          "metadata": {
            "tags": []
          },
          "execution_count": 17
        }
      ]
    },
    {
      "cell_type": "code",
      "metadata": {
        "id": "DA22m7EK3C4c"
      },
      "source": [
        "data.to_excel(\"Data_v2.xlsx\") "
      ],
      "execution_count": 18,
      "outputs": []
    },
    {
      "cell_type": "code",
      "metadata": {
        "id": "OsnwWzssMobz"
      },
      "source": [
        ""
      ],
      "execution_count": null,
      "outputs": []
    }
  ]
}