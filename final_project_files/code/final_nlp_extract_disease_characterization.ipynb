{
 "cells": [
  {
   "cell_type": "markdown",
   "metadata": {
    "toc": true
   },
   "source": [
    "<h1>Table of Contents<span class=\"tocSkip\"></span></h1>\n",
    "<div class=\"toc\"><ul class=\"toc-item\"><li><span><a href=\"#Importing-packages\" data-toc-modified-id=\"Importing-packages-1\"><span class=\"toc-item-num\">1&nbsp;&nbsp;</span>Importing packages</a></span></li><li><span><a href=\"#Setting-path-to-code-files\" data-toc-modified-id=\"Setting-path-to-code-files-2\"><span class=\"toc-item-num\">2&nbsp;&nbsp;</span>Setting path to code files</a></span></li><li><span><a href=\"#Reading-literature-text\" data-toc-modified-id=\"Reading-literature-text-3\"><span class=\"toc-item-num\">3&nbsp;&nbsp;</span>Reading literature text</a></span><ul class=\"toc-item\"><li><ul class=\"toc-item\"><li><span><a href=\"#Hardcoding-data-for-demo-(Actual-data-from-provided-dataset)\" data-toc-modified-id=\"Hardcoding-data-for-demo-(Actual-data-from-provided-dataset)-3.0.1\"><span class=\"toc-item-num\">3.0.1&nbsp;&nbsp;</span>Hardcoding data for demo (Actual data from provided dataset)</a></span></li></ul></li></ul></li><li><span><a href=\"#Exploring-the-data\" data-toc-modified-id=\"Exploring-the-data-4\"><span class=\"toc-item-num\">4&nbsp;&nbsp;</span>Exploring the data</a></span><ul class=\"toc-item\"><li><ul class=\"toc-item\"><li><span><a href=\"#Create-a-subsetted-text-field-for-easier-printing\" data-toc-modified-id=\"Create-a-subsetted-text-field-for-easier-printing-4.0.1\"><span class=\"toc-item-num\">4.0.1&nbsp;&nbsp;</span>Create a subsetted text field for easier printing</a></span></li></ul></li><li><span><a href=\"#Missing-values-in-dataset\" data-toc-modified-id=\"Missing-values-in-dataset-4.1\"><span class=\"toc-item-num\">4.1&nbsp;&nbsp;</span>Missing values in dataset</a></span><ul class=\"toc-item\"><li><span><a href=\"#Check-data-where-text-is-missing\" data-toc-modified-id=\"Check-data-where-text-is-missing-4.1.1\"><span class=\"toc-item-num\">4.1.1&nbsp;&nbsp;</span>Check data where text is missing</a></span></li></ul></li><li><span><a href=\"#Length-of-text-fields\" data-toc-modified-id=\"Length-of-text-fields-4.2\"><span class=\"toc-item-num\">4.2&nbsp;&nbsp;</span>Length of text fields</a></span></li><li><span><a href=\"#Converting-dataset-structure-for-training-BioBERT-model\" data-toc-modified-id=\"Converting-dataset-structure-for-training-BioBERT-model-4.3\"><span class=\"toc-item-num\">4.3&nbsp;&nbsp;</span>Converting dataset structure for training BioBERT model</a></span></li><li><span><a href=\"#Inference-dataset-class-used-for-BioBERT-predictions\" data-toc-modified-id=\"Inference-dataset-class-used-for-BioBERT-predictions-4.4\"><span class=\"toc-item-num\">4.4&nbsp;&nbsp;</span>Inference dataset class used for BioBERT predictions</a></span></li><li><span><a href=\"#Batch-prediction-class-for-BioBERT-inference\" data-toc-modified-id=\"Batch-prediction-class-for-BioBERT-inference-4.5\"><span class=\"toc-item-num\">4.5&nbsp;&nbsp;</span>Batch prediction class for BioBERT inference</a></span></li><li><span><a href=\"#Define-BioBERT-class-for-multi-label-classification\" data-toc-modified-id=\"Define-BioBERT-class-for-multi-label-classification-4.6\"><span class=\"toc-item-num\">4.6&nbsp;&nbsp;</span>Define BioBERT class for multi-label classification</a></span></li><li><span><a href=\"#Load-best-performing-mutation-effect-detection-model\" data-toc-modified-id=\"Load-best-performing-mutation-effect-detection-model-4.7\"><span class=\"toc-item-num\">4.7&nbsp;&nbsp;</span>Load best performing mutation effect detection model</a></span></li><li><span><a href=\"#Predict-on-input-literature\" data-toc-modified-id=\"Predict-on-input-literature-4.8\"><span class=\"toc-item-num\">4.8&nbsp;&nbsp;</span>Predict on input literature</a></span></li><li><span><a href=\"#Extract-and-format-predictions\" data-toc-modified-id=\"Extract-and-format-predictions-4.9\"><span class=\"toc-item-num\">4.9&nbsp;&nbsp;</span>Extract and format predictions</a></span></li><li><span><a href=\"#Explain-predictions-using-model-explainability-package-LIME\" data-toc-modified-id=\"Explain-predictions-using-model-explainability-package-LIME-4.10\"><span class=\"toc-item-num\">4.10&nbsp;&nbsp;</span>Explain predictions using model explainability package LIME</a></span><ul class=\"toc-item\"><li><span><a href=\"#Define-Lime-Text-Explainer\" data-toc-modified-id=\"Define-Lime-Text-Explainer-4.10.1\"><span class=\"toc-item-num\">4.10.1&nbsp;&nbsp;</span>Define Lime Text Explainer</a></span></li></ul></li><li><span><a href=\"#Loop-through-literature-to-explain-model-predictions\" data-toc-modified-id=\"Loop-through-literature-to-explain-model-predictions-4.11\"><span class=\"toc-item-num\">4.11&nbsp;&nbsp;</span>Loop through literature to explain model predictions</a></span></li></ul></li></ul></div>"
   ]
  },
  {
   "cell_type": "markdown",
   "metadata": {
    "id": "L9XLt897QwxE"
   },
   "source": [
    "# NLP Pipeline for extracting Disease Characteristics from literature\n",
    "Contains following modules:\n",
    "- BioBERT based genetic mutation effect classification using deep learning\n",
    "- LIME Explanation for BioBERT predictions for model explainability\n"
   ]
  },
  {
   "cell_type": "code",
   "execution_count": null,
   "metadata": {
    "colab": {
     "base_uri": "https://localhost:8080/"
    },
    "executionInfo": {
     "elapsed": 704,
     "status": "ok",
     "timestamp": 1612454726118,
     "user": {
      "displayName": "Advait Save",
      "photoUrl": "",
      "userId": "08904726702539992993"
     },
     "user_tz": 300
    },
    "id": "ASpgs6hpArFd",
    "outputId": "376677ae-3ae7-4f59-a0a8-eef9361580f0"
   },
   "outputs": [
    {
     "name": "stdout",
     "output_type": "stream",
     "text": [
      "Drive already mounted at /content/drive; to attempt to forcibly remount, call drive.mount(\"/content/drive\", force_remount=True).\n"
     ]
    }
   ],
   "source": [
    "from google.colab import drive\n",
    "drive.mount('/content/drive')"
   ]
  },
  {
   "cell_type": "markdown",
   "metadata": {
    "id": "ohOOXpKUFUEH"
   },
   "source": [
    "## Importing packages"
   ]
  },
  {
   "cell_type": "code",
   "execution_count": null,
   "metadata": {
    "colab": {
     "base_uri": "https://localhost:8080/"
    },
    "executionInfo": {
     "elapsed": 4541,
     "status": "ok",
     "timestamp": 1612454729973,
     "user": {
      "displayName": "Advait Save",
      "photoUrl": "",
      "userId": "08904726702539992993"
     },
     "user_tz": 300
    },
    "id": "RwVSgRP5W0iS",
    "outputId": "0088719b-fcca-4c91-dbee-3fad4d7a12fd"
   },
   "outputs": [
    {
     "name": "stdout",
     "output_type": "stream",
     "text": [
      "Requirement already satisfied: transformers==3.0.2 in /usr/local/lib/python3.6/dist-packages (3.0.2)\n",
      "Requirement already satisfied: tokenizers==0.8.1.rc1 in /usr/local/lib/python3.6/dist-packages (from transformers==3.0.2) (0.8.1rc1)\n",
      "Requirement already satisfied: numpy in /usr/local/lib/python3.6/dist-packages (from transformers==3.0.2) (1.19.5)\n",
      "Requirement already satisfied: packaging in /usr/local/lib/python3.6/dist-packages (from transformers==3.0.2) (20.8)\n",
      "Requirement already satisfied: sentencepiece!=0.1.92 in /usr/local/lib/python3.6/dist-packages (from transformers==3.0.2) (0.1.95)\n",
      "Requirement already satisfied: requests in /usr/local/lib/python3.6/dist-packages (from transformers==3.0.2) (2.23.0)\n",
      "Requirement already satisfied: dataclasses; python_version < \"3.7\" in /usr/local/lib/python3.6/dist-packages (from transformers==3.0.2) (0.8)\n",
      "Requirement already satisfied: tqdm>=4.27 in /usr/local/lib/python3.6/dist-packages (from transformers==3.0.2) (4.41.1)\n",
      "Requirement already satisfied: filelock in /usr/local/lib/python3.6/dist-packages (from transformers==3.0.2) (3.0.12)\n",
      "Requirement already satisfied: sacremoses in /usr/local/lib/python3.6/dist-packages (from transformers==3.0.2) (0.0.43)\n",
      "Requirement already satisfied: regex!=2019.12.17 in /usr/local/lib/python3.6/dist-packages (from transformers==3.0.2) (2019.12.20)\n",
      "Requirement already satisfied: pyparsing>=2.0.2 in /usr/local/lib/python3.6/dist-packages (from packaging->transformers==3.0.2) (2.4.7)\n",
      "Requirement already satisfied: certifi>=2017.4.17 in /usr/local/lib/python3.6/dist-packages (from requests->transformers==3.0.2) (2020.12.5)\n",
      "Requirement already satisfied: chardet<4,>=3.0.2 in /usr/local/lib/python3.6/dist-packages (from requests->transformers==3.0.2) (3.0.4)\n",
      "Requirement already satisfied: urllib3!=1.25.0,!=1.25.1,<1.26,>=1.21.1 in /usr/local/lib/python3.6/dist-packages (from requests->transformers==3.0.2) (1.24.3)\n",
      "Requirement already satisfied: idna<3,>=2.5 in /usr/local/lib/python3.6/dist-packages (from requests->transformers==3.0.2) (2.10)\n",
      "Requirement already satisfied: click in /usr/local/lib/python3.6/dist-packages (from sacremoses->transformers==3.0.2) (7.1.2)\n",
      "Requirement already satisfied: joblib in /usr/local/lib/python3.6/dist-packages (from sacremoses->transformers==3.0.2) (1.0.0)\n",
      "Requirement already satisfied: six in /usr/local/lib/python3.6/dist-packages (from sacremoses->transformers==3.0.2) (1.15.0)\n"
     ]
    }
   ],
   "source": [
    "! pip install transformers==3.0.2"
   ]
  },
  {
   "cell_type": "code",
   "execution_count": null,
   "metadata": {
    "colab": {
     "base_uri": "https://localhost:8080/"
    },
    "executionInfo": {
     "elapsed": 5680,
     "status": "ok",
     "timestamp": 1612454731124,
     "user": {
      "displayName": "Advait Save",
      "photoUrl": "",
      "userId": "08904726702539992993"
     },
     "user_tz": 300
    },
    "id": "LaX2MBRNW-CR",
    "outputId": "d54daef7-da5e-4218-9aa1-7b1a32ecb683"
   },
   "outputs": [
    {
     "name": "stdout",
     "output_type": "stream",
     "text": [
      "[nltk_data] Downloading package stopwords to /root/nltk_data...\n",
      "[nltk_data]   Package stopwords is already up-to-date!\n"
     ]
    },
    {
     "name": "stderr",
     "output_type": "stream",
     "text": [
      "/usr/local/lib/python3.6/dist-packages/ipykernel_launcher.py:23: FutureWarning: Passing a negative integer is deprecated in version 1.0 and will not be supported in future version. Instead, use None to not limit the column width.\n"
     ]
    }
   ],
   "source": [
    "# Importing stock ml libraries\n",
    "\n",
    "\n",
    "import numpy as np\n",
    "import pandas as pd\n",
    "import nltk\n",
    "import matplotlib.pyplot as plt\n",
    "import seaborn as sns\n",
    "import string\n",
    "import re\n",
    "import os \n",
    "from nltk.stem import WordNetLemmatizer\n",
    "from nltk.corpus import stopwords\n",
    "from wordcloud import WordCloud, STOPWORDS\n",
    "nltk.download('stopwords')\n",
    "\n",
    "\n",
    "stop_words = set(stopwords.words('english'))\n",
    "\n",
    "import spacy\n",
    "\n",
    "# Show full text in pandas dataframe\n",
    "pd.set_option('display.max_colwidth', -1)\n",
    "\n",
    "# Colormap\n",
    "cm = sns.light_palette(\"green\", as_cmap=True)\n",
    "\n",
    "import warnings\n",
    "warnings.simplefilter('ignore')\n",
    "import numpy as np\n",
    "import pandas as pd\n",
    "from tqdm import tqdm\n",
    "from sklearn import metrics\n",
    "import transformers\n",
    "import torch\n",
    "from torch.utils.data import Dataset, DataLoader, RandomSampler, SequentialSampler\n",
    "from transformers import DistilBertTokenizer, DistilBertModel, BertTokenizer, BertModel\n",
    "import logging\n",
    "logging.basicConfig(level=logging.ERROR)"
   ]
  },
  {
   "cell_type": "code",
   "execution_count": null,
   "metadata": {
    "id": "Au1nibkCXF2D"
   },
   "outputs": [],
   "source": [
    "from torch import cuda\n",
    "device = 'cuda' if cuda.is_available() else 'cpu'"
   ]
  },
  {
   "cell_type": "code",
   "execution_count": null,
   "metadata": {
    "colab": {
     "base_uri": "https://localhost:8080/",
     "height": 35
    },
    "executionInfo": {
     "elapsed": 5663,
     "status": "ok",
     "timestamp": 1612454731126,
     "user": {
      "displayName": "Advait Save",
      "photoUrl": "",
      "userId": "08904726702539992993"
     },
     "user_tz": 300
    },
    "id": "YmMvMd_FXIzs",
    "outputId": "5cb7c545-28f0-4561-8d4e-742c25b007bf"
   },
   "outputs": [
    {
     "data": {
      "application/vnd.google.colaboratory.intrinsic+json": {
       "type": "string"
      },
      "text/plain": [
       "'cuda'"
      ]
     },
     "execution_count": 5,
     "metadata": {
      "tags": []
     },
     "output_type": "execute_result"
    }
   ],
   "source": [
    "device"
   ]
  },
  {
   "cell_type": "markdown",
   "metadata": {
    "id": "Ttl1JRoGQ8mf"
   },
   "source": [
    "## Setting path to code files"
   ]
  },
  {
   "cell_type": "markdown",
   "metadata": {
    "id": "6Px0QL7FrWLs"
   },
   "source": [
    "Change current working directory to this notebook's location"
   ]
  },
  {
   "cell_type": "code",
   "execution_count": null,
   "metadata": {
    "colab": {
     "base_uri": "https://localhost:8080/",
     "height": 35
    },
    "executionInfo": {
     "elapsed": 5650,
     "status": "ok",
     "timestamp": 1612454731127,
     "user": {
      "displayName": "Advait Save",
      "photoUrl": "",
      "userId": "08904726702539992993"
     },
     "user_tz": 300
    },
    "id": "Ui6gggGWqZjx",
    "outputId": "cb14b9fc-5630-4c4a-9955-610e5862f44e"
   },
   "outputs": [
    {
     "data": {
      "application/vnd.google.colaboratory.intrinsic+json": {
       "type": "string"
      },
      "text/plain": [
       "'/content'"
      ]
     },
     "execution_count": 6,
     "metadata": {
      "tags": []
     },
     "output_type": "execute_result"
    }
   ],
   "source": [
    "os.getcwd()"
   ]
  },
  {
   "cell_type": "code",
   "execution_count": null,
   "metadata": {
    "id": "ZqUdnnURrEXk"
   },
   "outputs": [],
   "source": [
    "code_path = '/content/drive/MyDrive/GitHub IU/nlp_mutation_effect_pred/final_project_files/code/'"
   ]
  },
  {
   "cell_type": "code",
   "execution_count": null,
   "metadata": {
    "colab": {
     "base_uri": "https://localhost:8080/",
     "height": 35
    },
    "executionInfo": {
     "elapsed": 5797,
     "status": "ok",
     "timestamp": 1612454731295,
     "user": {
      "displayName": "Advait Save",
      "photoUrl": "",
      "userId": "08904726702539992993"
     },
     "user_tz": 300
    },
    "id": "KSjyj4FMqiJ2",
    "outputId": "f0083425-8423-4412-81a0-2b11138f3277"
   },
   "outputs": [
    {
     "data": {
      "application/vnd.google.colaboratory.intrinsic+json": {
       "type": "string"
      },
      "text/plain": [
       "'/content/drive/MyDrive/GitHub IU/nlp_mutation_effect_pred/final_project_files/code'"
      ]
     },
     "execution_count": 8,
     "metadata": {
      "tags": []
     },
     "output_type": "execute_result"
    }
   ],
   "source": [
    "os.chdir(code_path)\n",
    "os.getcwd()"
   ]
  },
  {
   "cell_type": "code",
   "execution_count": null,
   "metadata": {
    "colab": {
     "base_uri": "https://localhost:8080/"
    },
    "executionInfo": {
     "elapsed": 7830,
     "status": "ok",
     "timestamp": 1612454733341,
     "user": {
      "displayName": "Advait Save",
      "photoUrl": "",
      "userId": "08904726702539992993"
     },
     "user_tz": 300
    },
    "id": "-V1T96t2reEJ",
    "outputId": "3f74139e-2547-429b-8226-5d11492f4292"
   },
   "outputs": [
    {
     "name": "stdout",
     "output_type": "stream",
     "text": [
      "Requirement already satisfied: contractions in /usr/local/lib/python3.6/dist-packages (0.0.45)\n",
      "Requirement already satisfied: textsearch in /usr/local/lib/python3.6/dist-packages (from contractions) (0.0.17)\n",
      "Requirement already satisfied: Unidecode in /usr/local/lib/python3.6/dist-packages (from textsearch->contractions) (1.1.2)\n",
      "Requirement already satisfied: pyahocorasick in /usr/local/lib/python3.6/dist-packages (from textsearch->contractions) (1.4.1)\n"
     ]
    }
   ],
   "source": [
    "!pip install contractions"
   ]
  },
  {
   "cell_type": "code",
   "execution_count": null,
   "metadata": {
    "colab": {
     "base_uri": "https://localhost:8080/"
    },
    "executionInfo": {
     "elapsed": 8589,
     "status": "ok",
     "timestamp": 1612454734111,
     "user": {
      "displayName": "Advait Save",
      "photoUrl": "",
      "userId": "08904726702539992993"
     },
     "user_tz": 300
    },
    "id": "1jmQfYslpvFa",
    "outputId": "a17abe4e-dd0f-40b1-8aa5-faf81ce2ac39",
    "scrolled": true
   },
   "outputs": [
    {
     "name": "stdout",
     "output_type": "stream",
     "text": [
      "[nltk_data] Downloading package wordnet to /root/nltk_data...\n",
      "[nltk_data]   Package wordnet is already up-to-date!\n",
      "[nltk_data] Downloading package punkt to /root/nltk_data...\n",
      "[nltk_data]   Package punkt is already up-to-date!\n"
     ]
    }
   ],
   "source": [
    "import helper_functions_nlp as hf"
   ]
  },
  {
   "cell_type": "markdown",
   "metadata": {
    "id": "kwQ4tl_npvFa"
   },
   "source": [
    "## Reading literature text\n",
    "- This can be read from a CSV or URL\n",
    "- Final structure should be a dataframe with a \"text\" column containing the literature text"
   ]
  },
  {
   "cell_type": "code",
   "execution_count": null,
   "metadata": {
    "colab": {
     "base_uri": "https://localhost:8080/"
    },
    "executionInfo": {
     "elapsed": 8582,
     "status": "ok",
     "timestamp": 1612454734116,
     "user": {
      "displayName": "Advait Save",
      "photoUrl": "",
      "userId": "08904726702539992993"
     },
     "user_tz": 300
    },
    "id": "fVdjSmXqpvFb",
    "outputId": "a4ab9bc8-deec-4a00-b6ef-eea94691f239"
   },
   "outputs": [
    {
     "data": {
      "text/plain": [
       "[]"
      ]
     },
     "execution_count": 11,
     "metadata": {
      "tags": []
     },
     "output_type": "execute_result"
    }
   ],
   "source": [
    "data_path = '../data/'\n",
    "os.listdir(data_path)"
   ]
  },
  {
   "cell_type": "code",
   "execution_count": null,
   "metadata": {
    "id": "6_g_nue7pvFb"
   },
   "outputs": [],
   "source": [
    "# data = pd.read_excel(data_path + 'Functional_Consequences_v1.xlsx', sheet_name='data-1611195358207')\n"
   ]
  },
  {
   "cell_type": "code",
   "execution_count": null,
   "metadata": {
    "id": "5QbiGT0mN2vH"
   },
   "outputs": [],
   "source": [
    "#data = pd.read_excel(data_path + 'Data_v3.xlsx', sheet_name='Sheet1', index_col=0)\n"
   ]
  },
  {
   "cell_type": "markdown",
   "metadata": {
    "id": "Huo7Vj-o4ER6"
   },
   "source": [
    "#### Hardcoding data for demo (Actual data from provided dataset)"
   ]
  },
  {
   "cell_type": "code",
   "execution_count": null,
   "metadata": {
    "id": "WtoUWKqLl2nT"
   },
   "outputs": [],
   "source": [
    "lit_texts = ['the mutation was not found in the gnomad database, but the heterozygous variant was found in 2 of about 3,500 individuals in an in-house database of mainly arab muslim individuals. functional studies of the variant and studies of patient cells were not performed, but the variant was predicted to result in a loss of function. {5:heimer et (2019)} identified homozygosity for the c.376dupt mutation in exon 3 of the ntng2 gene in 3 patients from 2 consanguineous arab muslim families with nedbash. the mutation, which was found by whole-exome sequencing and confirmed by sanger sequencing, segregated with the disorder in both families. functional studies of the variant and studies of patient cells were not performed, but the mutation was predicted to result in nonsense-mediated mrna decay and a loss of function.\\nin 2 sibs, born of consanguineous iranian parents (family 1) with neurodevelopmental disorder with behavioral abnormalities, absent speech, and hypotonia (nedbash; {618718}), {3:dias et (2019)} identified a homozygous c.1367g-a transition ({var c.1367g-a, nm_032536.3}) in exon 7 of the ntng2 gene, resulting in a cys456-to-tyr (c456y) substitution at a conserved residue in the egf4 domain. the mutation, which was found by exome sequencing, segregated with the disorder in the family.', \n",
    "             \"the l24p mutant protein was insoluble in solution, was likely misfolded, and formed multiple abnormal aggregates, whereas wildtype bach2 was soluble in solution and formed proper dimers. the findings suggested that the mutant protein was unable to dimerize and was unstable; further coexpression studies were consistent with haploinsufficiency rather than a dominant-negative effect.\\nin a father and daughter (family b) with immunodeficiency-60 (imd60; {618394}), {1:afzali et (2017)} identified a heterozygous c.2362g-a transition in the bach2 gene, resulting in a glu788-to-lys (e788k) substitution at a highly conserved residue in the c terminus. the mutant e788k protein aggregated primarily in the cytoplasm with little nuclear localization, whereas the wildtype protein was evenly distributed in both the cytoplasm and nucleus. the findings suggested that the mutant protein had decreased stability compared to wildtype; further coexpression studies were consistent with haploinsufficiency rather than a dominant-negative effect.\",\n",
    "             \"the mutation was predicted to disrupt the region surrounding the ribose-5-phosphate binding site and thus affect the catalytic site. the mother of these sibs, who had no hearing deficit or neurologic dysfunction at age 66, also carried the mutation; the mutation was heterozygous in the females and hemizygous in the male proband. erythrocyte prps1 activity was not detectable in the proband, was decreased in the sister, and was normal in the mother. the findings illustrated that prps1 deficiency can present as a continuous spectrum of clinical features, even within the same family.\\nin a dutch family with arts syndrome (arts; {301835}) originally reported by {2:arts et (1993)}, {12:de brouwer et (2007)} found that the disorder was associated with a 455t-c transition in exon 4 of the prps1 gene that resulted in a leu152-to-pro (l152p) substitution.\\nin an australian family with arts syndrome (arts; {301835}), {12:de brouwer et (2007)} found that the disorder was caused by a 398a-c transversion in exon 3 of the prps1 gene that resulted in a gln133-to-pro (q133p) substitution. enzyme assays and molecular modeling demonstrated loss of function of the mutant protein. patient fibroblasts showed normal prpp synthetase activity, whereas erythrocytes showed a loss of enzyme activity, suggesting that the effect of the v142l mutation on protein activity depends on cell type. {19:moran et (2012)} postulated a gain-of-function effect in proliferating cells and a loss-of-function effect in postmitotic cells. the report indicated that prps1 missense mutations can cause a continuous spectrum of features ranging from progressive nonsyndromic postlingual hearing impairment to uric acid overproduction, neuropathy, and recurrent infections depending on the functional sites affected.\\nin a german family with variable manifestations of prps1 deficiency, including a man with a protracted form of arts syndrome (arts; {301835}) and his sister with x-linked deafness-1 (dfnx1; {304500}), {25:synofzik et (2014)} identified a c.830a-c transversion in the prps1 gene, resulting in a gln277-to-pro (q277p) substitution at a highly conserved residue in the c-terminal domain close to the catalytic site.\t\"]"
   ]
  },
  {
   "cell_type": "code",
   "execution_count": null,
   "metadata": {
    "id": "szWN9I65mqQo"
   },
   "outputs": [],
   "source": [
    "data = pd.DataFrame({'text':lit_texts, 'label':['LOF' ,'DN', 'GOF']})"
   ]
  },
  {
   "cell_type": "code",
   "execution_count": null,
   "metadata": {
    "colab": {
     "base_uri": "https://localhost:8080/",
     "height": 454
    },
    "executionInfo": {
     "elapsed": 8536,
     "status": "ok",
     "timestamp": 1612454734123,
     "user": {
      "displayName": "Advait Save",
      "photoUrl": "",
      "userId": "08904726702539992993"
     },
     "user_tz": 300
    },
    "id": "eJQTMVagm-II",
    "outputId": "79d7fa4f-a9be-4bca-8d51-d5bab24778ed"
   },
   "outputs": [
    {
     "data": {
      "text/html": [
       "<div>\n",
       "<style scoped>\n",
       "    .dataframe tbody tr th:only-of-type {\n",
       "        vertical-align: middle;\n",
       "    }\n",
       "\n",
       "    .dataframe tbody tr th {\n",
       "        vertical-align: top;\n",
       "    }\n",
       "\n",
       "    .dataframe thead th {\n",
       "        text-align: right;\n",
       "    }\n",
       "</style>\n",
       "<table border=\"1\" class=\"dataframe\">\n",
       "  <thead>\n",
       "    <tr style=\"text-align: right;\">\n",
       "      <th></th>\n",
       "      <th>text</th>\n",
       "      <th>label</th>\n",
       "    </tr>\n",
       "  </thead>\n",
       "  <tbody>\n",
       "    <tr>\n",
       "      <th>0</th>\n",
       "      <td>the mutation was not found in the gnomad database, but the heterozygous variant was found in 2 of about 3,500 individuals in an in-house database of mainly arab muslim individuals. functional studies of the variant and studies of patient cells were not performed, but the variant was predicted to result in a loss of function. {5:heimer et (2019)} identified homozygosity for the c.376dupt mutation in exon 3 of the ntng2 gene in 3 patients from 2 consanguineous arab muslim families with nedbash. the mutation, which was found by whole-exome sequencing and confirmed by sanger sequencing, segregated with the disorder in both families. functional studies of the variant and studies of patient cells were not performed, but the mutation was predicted to result in nonsense-mediated mrna decay and a loss of function.\\nin 2 sibs, born of consanguineous iranian parents (family 1) with neurodevelopmental disorder with behavioral abnormalities, absent speech, and hypotonia (nedbash; {618718}), {3:dias et (2019)} identified a homozygous c.1367g-a transition ({var c.1367g-a, nm_032536.3}) in exon 7 of the ntng2 gene, resulting in a cys456-to-tyr (c456y) substitution at a conserved residue in the egf4 domain. the mutation, which was found by exome sequencing, segregated with the disorder in the family.</td>\n",
       "      <td>LOF</td>\n",
       "    </tr>\n",
       "    <tr>\n",
       "      <th>1</th>\n",
       "      <td>the l24p mutant protein was insoluble in solution, was likely misfolded, and formed multiple abnormal aggregates, whereas wildtype bach2 was soluble in solution and formed proper dimers. the findings suggested that the mutant protein was unable to dimerize and was unstable; further coexpression studies were consistent with haploinsufficiency rather than a dominant-negative effect.\\nin a father and daughter (family b) with immunodeficiency-60 (imd60; {618394}), {1:afzali et (2017)} identified a heterozygous c.2362g-a transition in the bach2 gene, resulting in a glu788-to-lys (e788k) substitution at a highly conserved residue in the c terminus. the mutant e788k protein aggregated primarily in the cytoplasm with little nuclear localization, whereas the wildtype protein was evenly distributed in both the cytoplasm and nucleus. the findings suggested that the mutant protein had decreased stability compared to wildtype; further coexpression studies were consistent with haploinsufficiency rather than a dominant-negative effect.</td>\n",
       "      <td>DN</td>\n",
       "    </tr>\n",
       "    <tr>\n",
       "      <th>2</th>\n",
       "      <td>the mutation was predicted to disrupt the region surrounding the ribose-5-phosphate binding site and thus affect the catalytic site. the mother of these sibs, who had no hearing deficit or neurologic dysfunction at age 66, also carried the mutation; the mutation was heterozygous in the females and hemizygous in the male proband. erythrocyte prps1 activity was not detectable in the proband, was decreased in the sister, and was normal in the mother. the findings illustrated that prps1 deficiency can present as a continuous spectrum of clinical features, even within the same family.\\nin a dutch family with arts syndrome (arts; {301835}) originally reported by {2:arts et (1993)}, {12:de brouwer et (2007)} found that the disorder was associated with a 455t-c transition in exon 4 of the prps1 gene that resulted in a leu152-to-pro (l152p) substitution.\\nin an australian family with arts syndrome (arts; {301835}), {12:de brouwer et (2007)} found that the disorder was caused by a 398a-c transversion in exon 3 of the prps1 gene that resulted in a gln133-to-pro (q133p) substitution. enzyme assays and molecular modeling demonstrated loss of function of the mutant protein. patient fibroblasts showed normal prpp synthetase activity, whereas erythrocytes showed a loss of enzyme activity, suggesting that the effect of the v142l mutation on protein activity depends on cell type. {19:moran et (2012)} postulated a gain-of-function effect in proliferating cells and a loss-of-function effect in postmitotic cells. the report indicated that prps1 missense mutations can cause a continuous spectrum of features ranging from progressive nonsyndromic postlingual hearing impairment to uric acid overproduction, neuropathy, and recurrent infections depending on the functional sites affected.\\nin a german family with variable manifestations of prps1 deficiency, including a man with a protracted form of arts syndrome (arts; {301835}) and his sister with x-linked deafness-1 (dfnx1; {304500}), {25:synofzik et (2014)} identified a c.830a-c transversion in the prps1 gene, resulting in a gln277-to-pro (q277p) substitution at a highly conserved residue in the c-terminal domain close to the catalytic site.\\t</td>\n",
       "      <td>GOF</td>\n",
       "    </tr>\n",
       "  </tbody>\n",
       "</table>\n",
       "</div>"
      ],
      "text/plain": [
       "                                                                                                                                                                                                                                                                                                                                                                                                                                                                                                                                                                                                                                                                                                                                                                                                                                                                                                                                                                                                                                                                                                                                                                                                                                                                                                                                                                                                                                                                                                                                                                                                                                                                                                                                                                                                                                                                                                                                                                                                                                                                                                                                                                                                                                                                                              text label\n",
       "0  the mutation was not found in the gnomad database, but the heterozygous variant was found in 2 of about 3,500 individuals in an in-house database of mainly arab muslim individuals. functional studies of the variant and studies of patient cells were not performed, but the variant was predicted to result in a loss of function. {5:heimer et (2019)} identified homozygosity for the c.376dupt mutation in exon 3 of the ntng2 gene in 3 patients from 2 consanguineous arab muslim families with nedbash. the mutation, which was found by whole-exome sequencing and confirmed by sanger sequencing, segregated with the disorder in both families. functional studies of the variant and studies of patient cells were not performed, but the mutation was predicted to result in nonsense-mediated mrna decay and a loss of function.\\nin 2 sibs, born of consanguineous iranian parents (family 1) with neurodevelopmental disorder with behavioral abnormalities, absent speech, and hypotonia (nedbash; {618718}), {3:dias et (2019)} identified a homozygous c.1367g-a transition ({var c.1367g-a, nm_032536.3}) in exon 7 of the ntng2 gene, resulting in a cys456-to-tyr (c456y) substitution at a conserved residue in the egf4 domain. the mutation, which was found by exome sequencing, segregated with the disorder in the family.                                                                                                                                                                                                                                                                                                                                                                                                                                                                                                                                                                                                                                                                                                                                                                                                                                                                                                                                         LOF \n",
       "1  the l24p mutant protein was insoluble in solution, was likely misfolded, and formed multiple abnormal aggregates, whereas wildtype bach2 was soluble in solution and formed proper dimers. the findings suggested that the mutant protein was unable to dimerize and was unstable; further coexpression studies were consistent with haploinsufficiency rather than a dominant-negative effect.\\nin a father and daughter (family b) with immunodeficiency-60 (imd60; {618394}), {1:afzali et (2017)} identified a heterozygous c.2362g-a transition in the bach2 gene, resulting in a glu788-to-lys (e788k) substitution at a highly conserved residue in the c terminus. the mutant e788k protein aggregated primarily in the cytoplasm with little nuclear localization, whereas the wildtype protein was evenly distributed in both the cytoplasm and nucleus. the findings suggested that the mutant protein had decreased stability compared to wildtype; further coexpression studies were consistent with haploinsufficiency rather than a dominant-negative effect.                                                                                                                                                                                                                                                                                                                                                                                                                                                                                                                                                                                                                                                                                                                                                                                                                                                                                                                                                                                                                                                                                                                                                                                                                     DN  \n",
       "2  the mutation was predicted to disrupt the region surrounding the ribose-5-phosphate binding site and thus affect the catalytic site. the mother of these sibs, who had no hearing deficit or neurologic dysfunction at age 66, also carried the mutation; the mutation was heterozygous in the females and hemizygous in the male proband. erythrocyte prps1 activity was not detectable in the proband, was decreased in the sister, and was normal in the mother. the findings illustrated that prps1 deficiency can present as a continuous spectrum of clinical features, even within the same family.\\nin a dutch family with arts syndrome (arts; {301835}) originally reported by {2:arts et (1993)}, {12:de brouwer et (2007)} found that the disorder was associated with a 455t-c transition in exon 4 of the prps1 gene that resulted in a leu152-to-pro (l152p) substitution.\\nin an australian family with arts syndrome (arts; {301835}), {12:de brouwer et (2007)} found that the disorder was caused by a 398a-c transversion in exon 3 of the prps1 gene that resulted in a gln133-to-pro (q133p) substitution. enzyme assays and molecular modeling demonstrated loss of function of the mutant protein. patient fibroblasts showed normal prpp synthetase activity, whereas erythrocytes showed a loss of enzyme activity, suggesting that the effect of the v142l mutation on protein activity depends on cell type. {19:moran et (2012)} postulated a gain-of-function effect in proliferating cells and a loss-of-function effect in postmitotic cells. the report indicated that prps1 missense mutations can cause a continuous spectrum of features ranging from progressive nonsyndromic postlingual hearing impairment to uric acid overproduction, neuropathy, and recurrent infections depending on the functional sites affected.\\nin a german family with variable manifestations of prps1 deficiency, including a man with a protracted form of arts syndrome (arts; {301835}) and his sister with x-linked deafness-1 (dfnx1; {304500}), {25:synofzik et (2014)} identified a c.830a-c transversion in the prps1 gene, resulting in a gln277-to-pro (q277p) substitution at a highly conserved residue in the c-terminal domain close to the catalytic site.\\t  GOF "
      ]
     },
     "execution_count": 16,
     "metadata": {
      "tags": []
     },
     "output_type": "execute_result"
    }
   ],
   "source": [
    "data.head()"
   ]
  },
  {
   "cell_type": "markdown",
   "metadata": {
    "id": "Ypz0c-ANve4E"
   },
   "source": [
    "## Exploring the data"
   ]
  },
  {
   "cell_type": "markdown",
   "metadata": {
    "id": "4MJlnbXA57i4"
   },
   "source": [
    "#### Create a subsetted text field for easier printing"
   ]
  },
  {
   "cell_type": "code",
   "execution_count": null,
   "metadata": {
    "colab": {
     "base_uri": "https://localhost:8080/"
    },
    "executionInfo": {
     "elapsed": 8681,
     "status": "ok",
     "timestamp": 1612454734278,
     "user": {
      "displayName": "Advait Save",
      "photoUrl": "",
      "userId": "08904726702539992993"
     },
     "user_tz": 300
    },
    "id": "fh4QKbQlvcXF",
    "outputId": "f7437607-49a1-4763-e9ee-92bd72246e6d"
   },
   "outputs": [
    {
     "name": "stdout",
     "output_type": "stream",
     "text": [
      "<class 'pandas.core.frame.DataFrame'>\n",
      "RangeIndex: 3 entries, 0 to 2\n",
      "Data columns (total 2 columns):\n",
      " #   Column  Non-Null Count  Dtype \n",
      "---  ------  --------------  ----- \n",
      " 0   text    3 non-null      object\n",
      " 1   label   3 non-null      object\n",
      "dtypes: object(2)\n",
      "memory usage: 176.0+ bytes\n"
     ]
    }
   ],
   "source": [
    "data.info()"
   ]
  },
  {
   "cell_type": "code",
   "execution_count": null,
   "metadata": {
    "colab": {
     "base_uri": "https://localhost:8080/",
     "height": 267
    },
    "executionInfo": {
     "elapsed": 8668,
     "status": "ok",
     "timestamp": 1612454734279,
     "user": {
      "displayName": "Advait Save",
      "photoUrl": "",
      "userId": "08904726702539992993"
     },
     "user_tz": 300
    },
    "id": "MOZ7CwF3vRZU",
    "outputId": "c47070d0-5802-4e00-9904-0a665764c066"
   },
   "outputs": [
    {
     "data": {
      "text/html": [
       "<div>\n",
       "<style scoped>\n",
       "    .dataframe tbody tr th:only-of-type {\n",
       "        vertical-align: middle;\n",
       "    }\n",
       "\n",
       "    .dataframe tbody tr th {\n",
       "        vertical-align: top;\n",
       "    }\n",
       "\n",
       "    .dataframe thead th {\n",
       "        text-align: right;\n",
       "    }\n",
       "</style>\n",
       "<table border=\"1\" class=\"dataframe\">\n",
       "  <thead>\n",
       "    <tr style=\"text-align: right;\">\n",
       "      <th></th>\n",
       "      <th>text</th>\n",
       "      <th>label</th>\n",
       "    </tr>\n",
       "  </thead>\n",
       "  <tbody>\n",
       "    <tr>\n",
       "      <th>count</th>\n",
       "      <td>3</td>\n",
       "      <td>3</td>\n",
       "    </tr>\n",
       "    <tr>\n",
       "      <th>unique</th>\n",
       "      <td>3</td>\n",
       "      <td>3</td>\n",
       "    </tr>\n",
       "    <tr>\n",
       "      <th>top</th>\n",
       "      <td>the mutation was not found in the gnomad database, but the heterozygous variant was found in 2 of about 3,500 individuals in an in-house database of mainly arab muslim individuals. functional studies of the variant and studies of patient cells were not performed, but the variant was predicted to result in a loss of function. {5:heimer et (2019)} identified homozygosity for the c.376dupt mutation in exon 3 of the ntng2 gene in 3 patients from 2 consanguineous arab muslim families with nedbash. the mutation, which was found by whole-exome sequencing and confirmed by sanger sequencing, segregated with the disorder in both families. functional studies of the variant and studies of patient cells were not performed, but the mutation was predicted to result in nonsense-mediated mrna decay and a loss of function.\\nin 2 sibs, born of consanguineous iranian parents (family 1) with neurodevelopmental disorder with behavioral abnormalities, absent speech, and hypotonia (nedbash; {618718}), {3:dias et (2019)} identified a homozygous c.1367g-a transition ({var c.1367g-a, nm_032536.3}) in exon 7 of the ntng2 gene, resulting in a cys456-to-tyr (c456y) substitution at a conserved residue in the egf4 domain. the mutation, which was found by exome sequencing, segregated with the disorder in the family.</td>\n",
       "      <td>DN</td>\n",
       "    </tr>\n",
       "    <tr>\n",
       "      <th>freq</th>\n",
       "      <td>1</td>\n",
       "      <td>1</td>\n",
       "    </tr>\n",
       "  </tbody>\n",
       "</table>\n",
       "</div>"
      ],
      "text/plain": [
       "                                                                                                                                                                                                                                                                                                                                                                                                                                                                                                                                                                                                                                                                                                                                                                                                                                                                                                                                                                                                                                                                                                                                                                                                                                                                                                                                                            text label\n",
       "count   3                                                                                                                                                                                                                                                                                                                                                                                                                                                                                                                                                                                                                                                                                                                                                                                                                                                                                                                                                                                                                                                                                                                                                                                                                                                                                                                                                         3   \n",
       "unique  3                                                                                                                                                                                                                                                                                                                                                                                                                                                                                                                                                                                                                                                                                                                                                                                                                                                                                                                                                                                                                                                                                                                                                                                                                                                                                                                                                         3   \n",
       "top     the mutation was not found in the gnomad database, but the heterozygous variant was found in 2 of about 3,500 individuals in an in-house database of mainly arab muslim individuals. functional studies of the variant and studies of patient cells were not performed, but the variant was predicted to result in a loss of function. {5:heimer et (2019)} identified homozygosity for the c.376dupt mutation in exon 3 of the ntng2 gene in 3 patients from 2 consanguineous arab muslim families with nedbash. the mutation, which was found by whole-exome sequencing and confirmed by sanger sequencing, segregated with the disorder in both families. functional studies of the variant and studies of patient cells were not performed, but the mutation was predicted to result in nonsense-mediated mrna decay and a loss of function.\\nin 2 sibs, born of consanguineous iranian parents (family 1) with neurodevelopmental disorder with behavioral abnormalities, absent speech, and hypotonia (nedbash; {618718}), {3:dias et (2019)} identified a homozygous c.1367g-a transition ({var c.1367g-a, nm_032536.3}) in exon 7 of the ntng2 gene, resulting in a cys456-to-tyr (c456y) substitution at a conserved residue in the egf4 domain. the mutation, which was found by exome sequencing, segregated with the disorder in the family.  DN  \n",
       "freq    1                                                                                                                                                                                                                                                                                                                                                                                                                                                                                                                                                                                                                                                                                                                                                                                                                                                                                                                                                                                                                                                                                                                                                                                                                                                                                                                                                         1   "
      ]
     },
     "execution_count": 18,
     "metadata": {
      "tags": []
     },
     "output_type": "execute_result"
    }
   ],
   "source": [
    "data.describe(include='O')"
   ]
  },
  {
   "cell_type": "markdown",
   "metadata": {
    "id": "9JYUkBbixDSN"
   },
   "source": [
    "### Missing values in dataset"
   ]
  },
  {
   "cell_type": "code",
   "execution_count": null,
   "metadata": {
    "colab": {
     "base_uri": "https://localhost:8080/",
     "height": 107
    },
    "executionInfo": {
     "elapsed": 8654,
     "status": "ok",
     "timestamp": 1612454734279,
     "user": {
      "displayName": "Advait Save",
      "photoUrl": "",
      "userId": "08904726702539992993"
     },
     "user_tz": 300
    },
    "id": "MXOm3nRjwlpY",
    "outputId": "aee064d6-4321-4b11-d7d6-fbc9f116700d"
   },
   "outputs": [
    {
     "data": {
      "text/html": [
       "<div>\n",
       "<style scoped>\n",
       "    .dataframe tbody tr th:only-of-type {\n",
       "        vertical-align: middle;\n",
       "    }\n",
       "\n",
       "    .dataframe tbody tr th {\n",
       "        vertical-align: top;\n",
       "    }\n",
       "\n",
       "    .dataframe thead th {\n",
       "        text-align: right;\n",
       "    }\n",
       "</style>\n",
       "<table border=\"1\" class=\"dataframe\">\n",
       "  <thead>\n",
       "    <tr style=\"text-align: right;\">\n",
       "      <th></th>\n",
       "      <th>missing_count</th>\n",
       "      <th>missing_pct</th>\n",
       "    </tr>\n",
       "  </thead>\n",
       "  <tbody>\n",
       "    <tr>\n",
       "      <th>label</th>\n",
       "      <td>0</td>\n",
       "      <td>0.0</td>\n",
       "    </tr>\n",
       "    <tr>\n",
       "      <th>text</th>\n",
       "      <td>0</td>\n",
       "      <td>0.0</td>\n",
       "    </tr>\n",
       "  </tbody>\n",
       "</table>\n",
       "</div>"
      ],
      "text/plain": [
       "       missing_count  missing_pct\n",
       "label  0              0.0        \n",
       "text   0              0.0        "
      ]
     },
     "execution_count": 19,
     "metadata": {
      "tags": []
     },
     "output_type": "execute_result"
    }
   ],
   "source": [
    "pd.concat([data.isnull().sum().sort_values(ascending=False), data.isnull().sum().sort_values(ascending=False)*100/len(data)], axis=1).rename(columns={0:'missing_count', 1:'missing_pct'})"
   ]
  },
  {
   "cell_type": "markdown",
   "metadata": {
    "id": "3GY5AKGFxOal"
   },
   "source": [
    "#### Check data where text is missing"
   ]
  },
  {
   "cell_type": "code",
   "execution_count": null,
   "metadata": {
    "colab": {
     "base_uri": "https://localhost:8080/",
     "height": 47
    },
    "executionInfo": {
     "elapsed": 8639,
     "status": "ok",
     "timestamp": 1612454734280,
     "user": {
      "displayName": "Advait Save",
      "photoUrl": "",
      "userId": "08904726702539992993"
     },
     "user_tz": 300
    },
    "id": "tggO3RaLxFCq",
    "outputId": "34308350-b7fa-49f9-8600-aa89be601ce8"
   },
   "outputs": [
    {
     "data": {
      "text/html": [
       "<div>\n",
       "<style scoped>\n",
       "    .dataframe tbody tr th:only-of-type {\n",
       "        vertical-align: middle;\n",
       "    }\n",
       "\n",
       "    .dataframe tbody tr th {\n",
       "        vertical-align: top;\n",
       "    }\n",
       "\n",
       "    .dataframe thead th {\n",
       "        text-align: right;\n",
       "    }\n",
       "</style>\n",
       "<table border=\"1\" class=\"dataframe\">\n",
       "  <thead>\n",
       "    <tr style=\"text-align: right;\">\n",
       "      <th></th>\n",
       "      <th>text</th>\n",
       "      <th>label</th>\n",
       "    </tr>\n",
       "  </thead>\n",
       "  <tbody>\n",
       "  </tbody>\n",
       "</table>\n",
       "</div>"
      ],
      "text/plain": [
       "Empty DataFrame\n",
       "Columns: [text, label]\n",
       "Index: []"
      ]
     },
     "execution_count": 20,
     "metadata": {
      "tags": []
     },
     "output_type": "execute_result"
    }
   ],
   "source": [
    "data[data.text.isnull()]"
   ]
  },
  {
   "cell_type": "code",
   "execution_count": null,
   "metadata": {
    "id": "DL2MuKeYxcJ3"
   },
   "outputs": [],
   "source": [
    "data = data[~data.text.isnull()]"
   ]
  },
  {
   "cell_type": "markdown",
   "metadata": {
    "id": "uz4qZR3sBj1z"
   },
   "source": [
    "### Length of text fields\n",
    "- Long literature texts contain noise, ideally provide shorter texts (8-10 sentences) for best model performance "
   ]
  },
  {
   "cell_type": "code",
   "execution_count": null,
   "metadata": {
    "colab": {
     "base_uri": "https://localhost:8080/"
    },
    "executionInfo": {
     "elapsed": 8618,
     "status": "ok",
     "timestamp": 1612454734280,
     "user": {
      "displayName": "Advait Save",
      "photoUrl": "",
      "userId": "08904726702539992993"
     },
     "user_tz": 300
    },
    "id": "SOTu2F2UBjiD",
    "outputId": "0a011408-52e3-4513-cb84-b6445f1ec744"
   },
   "outputs": [
    {
     "name": "stdout",
     "output_type": "stream",
     "text": [
      "Started linguistic feature generation on column: text\n",
      "Finished linguistic feature generation, created following new columns:  ['num_words', 'num_unique_words', 'words_vs_unique', 'num_symbols', 'caps_vs_length', 'num_exclamation_marks', 'num_question_marks', 'avg_word_length', 'capitals', 'upper_case_word_count', 'char_count', 'num_punctuation', 'total_length']\n"
     ]
    }
   ],
   "source": [
    "data, cols = hf.linguistic_feature_gen(data, col = \"text\")"
   ]
  },
  {
   "cell_type": "code",
   "execution_count": null,
   "metadata": {
    "colab": {
     "base_uri": "https://localhost:8080/"
    },
    "executionInfo": {
     "elapsed": 8607,
     "status": "ok",
     "timestamp": 1612454734281,
     "user": {
      "displayName": "Advait Save",
      "photoUrl": "",
      "userId": "08904726702539992993"
     },
     "user_tz": 300
    },
    "id": "ub5E501SB5KV",
    "outputId": "eff3cbe6-dcd1-470c-d6bd-09b5b21487be"
   },
   "outputs": [
    {
     "data": {
      "text/plain": [
       "Index(['text', 'label', 'total_length', 'capitals', 'caps_vs_length',\n",
       "       'num_exclamation_marks', 'num_question_marks', 'num_punctuation',\n",
       "       'num_symbols', 'num_words', 'num_unique_words', 'words_vs_unique',\n",
       "       'char_count', 'avg_word_length', 'upper_case_word_count'],\n",
       "      dtype='object')"
      ]
     },
     "execution_count": 23,
     "metadata": {
      "tags": []
     },
     "output_type": "execute_result"
    }
   ],
   "source": [
    "data.columns"
   ]
  },
  {
   "cell_type": "code",
   "execution_count": null,
   "metadata": {
    "colab": {
     "base_uri": "https://localhost:8080/",
     "height": 297
    },
    "executionInfo": {
     "elapsed": 8739,
     "status": "ok",
     "timestamp": 1612454734428,
     "user": {
      "displayName": "Advait Save",
      "photoUrl": "",
      "userId": "08904726702539992993"
     },
     "user_tz": 300
    },
    "id": "9WofuKTlB5G1",
    "outputId": "629c4321-a792-4c3f-b84d-137c8c75bc47"
   },
   "outputs": [
    {
     "data": {
      "text/plain": [
       "<matplotlib.axes._subplots.AxesSubplot at 0x7f0a70394080>"
      ]
     },
     "execution_count": 24,
     "metadata": {
      "tags": []
     },
     "output_type": "execute_result"
    },
    {
     "data": {
      "image/png": "[encoded data removed]",
      "text/plain": [
       "<Figure size 432x288 with 1 Axes>"
      ]
     },
     "metadata": {
      "needs_background": "light",
      "tags": []
     },
     "output_type": "display_data"
    }
   ],
   "source": [
    "sns.distplot(data.total_length)"
   ]
  },
  {
   "cell_type": "code",
   "execution_count": null,
   "metadata": {
    "colab": {
     "base_uri": "https://localhost:8080/",
     "height": 297
    },
    "executionInfo": {
     "elapsed": 9007,
     "status": "ok",
     "timestamp": 1612454734709,
     "user": {
      "displayName": "Advait Save",
      "photoUrl": "",
      "userId": "08904726702539992993"
     },
     "user_tz": 300
    },
    "id": "kg1YnwqNQWh5",
    "outputId": "6ad593cb-3c44-46bf-8b41-74130750cc6f"
   },
   "outputs": [
    {
     "data": {
      "text/plain": [
       "<matplotlib.axes._subplots.AxesSubplot at 0x7f0a70363710>"
      ]
     },
     "execution_count": 25,
     "metadata": {
      "tags": []
     },
     "output_type": "execute_result"
    },
    {
     "data": {
      "image/png": "[encoded data removed]",
      "text/plain": [
       "<Figure size 432x288 with 1 Axes>"
      ]
     },
     "metadata": {
      "needs_background": "light",
      "tags": []
     },
     "output_type": "display_data"
    }
   ],
   "source": [
    "sns.distplot(data.num_words)"
   ]
  },
  {
   "cell_type": "markdown",
   "metadata": {
    "id": "vbkO7vI9FdFX"
   },
   "source": [
    "### Converting dataset structure for training BioBERT model"
   ]
  },
  {
   "cell_type": "code",
   "execution_count": null,
   "metadata": {
    "id": "o3p5iSnmDNwu"
   },
   "outputs": [],
   "source": [
    "categories = ['HI', 'DN', 'none', 'GOF', 'LOF']"
   ]
  },
  {
   "cell_type": "markdown",
   "metadata": {
    "id": "XDNcS6l3RHo_"
   },
   "source": [
    "### Inference dataset class used for BioBERT predictions"
   ]
  },
  {
   "cell_type": "code",
   "execution_count": null,
   "metadata": {
    "id": "fVwwD8SlY7Ap"
   },
   "outputs": [],
   "source": [
    "MAX_LEN = 512\n",
    "TRAIN_BATCH_SIZE = 6\n",
    "VALID_BATCH_SIZE = 4\n",
    "LEARNING_RATE = 3e-05\n",
    "tokenizer = BertTokenizer.from_pretrained('dmis-lab/biobert-v1.1', do_lower_case=True)"
   ]
  },
  {
   "cell_type": "code",
   "execution_count": null,
   "metadata": {
    "id": "36_27785Y8Mi"
   },
   "outputs": [],
   "source": [
    "class InferenceDataset(Dataset):\n",
    "    def __init__(self, texts, tokenizer, max_len, padding=True):\n",
    "        self.tokenizer = tokenizer\n",
    "        self.text = texts\n",
    "        self.max_len = max_len\n",
    "        self.padding = padding\n",
    "\n",
    "    def __len__(self):\n",
    "        return len(self.text)\n",
    "\n",
    "    def __getitem__(self, index):\n",
    "        text = self.text[index]\n",
    "\n",
    "        inputs = self.tokenizer.encode_plus(\n",
    "            text,\n",
    "            None,\n",
    "            add_special_tokens=True,\n",
    "            max_length=self.max_len,\n",
    "            pad_to_max_length=self.padding,\n",
    "            return_token_type_ids=True\n",
    "        )\n",
    "        ids = inputs['input_ids']\n",
    "        mask = inputs['attention_mask']\n",
    "        token_type_ids = inputs[\"token_type_ids\"]\n",
    "\n",
    "\n",
    "        return {\n",
    "            'ids': torch.tensor(ids, dtype=torch.long),\n",
    "            'mask': torch.tensor(mask, dtype=torch.long),\n",
    "            'token_type_ids': torch.tensor(token_type_ids, dtype=torch.long)\n",
    "        }"
   ]
  },
  {
   "cell_type": "markdown",
   "metadata": {
    "id": "y7Or6pN_x-Zy"
   },
   "source": [
    "### Batch prediction class for BioBERT inference"
   ]
  },
  {
   "cell_type": "code",
   "execution_count": null,
   "metadata": {
    "id": "-yGBPU17TV3R"
   },
   "outputs": [],
   "source": [
    "def predict_batch_inference(predictor, input_text, tokenizer, MAX_LEN=512, batch_size=32, device='cpu', padding=False, quantize = False):\n",
    "  \"\"\"Function to run batch inference on input text\"\"\"\n",
    "\n",
    "  if quantize:\n",
    "        predictor = torch.quantization.quantize_dynamic(predictor, {torch.nn.Linear}, dtype=torch.qint8)\n",
    "\n",
    "  data_set = InferenceDataset(input_text, tokenizer, MAX_LEN, padding)\n",
    "\n",
    "\n",
    "\n",
    "  data_params = {'batch_size': batch_size,\n",
    "                  'shuffle': False,\n",
    "                  'num_workers': 0\n",
    "                  }\n",
    "  data_loader = DataLoader(data_set, **data_params)\n",
    "\n",
    "\n",
    "  predictor.eval()\n",
    "  pred_dataloader=[]\n",
    "\n",
    "  with torch.no_grad():\n",
    "      for _, data in enumerate(data_loader, 0):\n",
    "          ids = data['ids'].to(device, dtype = torch.long)\n",
    "          mask = data['mask'].to(device, dtype = torch.long)\n",
    "          token_type_ids = data['token_type_ids'].to(device, dtype = torch.long)\n",
    "          outputs = predictor(ids, mask, token_type_ids)\n",
    "          pred_dataloader.extend(torch.sigmoid(outputs).cpu().detach().numpy().tolist())\n",
    "  return pred_dataloader"
   ]
  },
  {
   "cell_type": "markdown",
   "metadata": {
    "id": "CxP_1kdoRUIO"
   },
   "source": [
    "### Define BioBERT class for multi-label classification\n",
    "\n",
    "BioBERT: a pre-trained biomedical language representation model for biomedical text mining\n",
    "\n",
    "\n",
    "![BioBERT](https://oup.silverchair-cdn.com/oup/backfile/Content_public/Journal/bioinformatics/36/4/10.1093_bioinformatics_btz682/1/btz682f1.png?Expires=1615567354&Signature=bf-GYOtQUZ08xTELvuYDQv~Dmh1PZFF8T5YFdydAHj87wFZc7mz~36ElUPzvUTEdZ6ufGs8opcY4h4hMdc8dW~EWWpTaJggwxTdOOJ89OYecNTmwSqMRNS71totCvhD2-sPSDaCfxl6mgKV67uJL~lvKkZQj03vR0AWwcxMTgFs~uMjt0WfB~FZLlArhLaJX9fWYTC8Z8~sGA4swg4lsLz1OoCjqAZN6gde2rqiqiVf6rOEtTp6bm8qySCAEVupA7zAMHZDysdQ53PYwcNmlsOhbL2iF2yZFRyHFoY5kj7TvIpax~JcTh9WL2evZWeFuD2sRMDZtWsZhUicz4yEf9Q__&Key-Pair-Id=APKAIE5G5CRDK6RD3PGA)\n",
    "- Paper: https://academic.oup.com/bioinformatics/article/36/4/1234/5566506\n",
    "- Code: https://github.com/dmis-lab/biobert"
   ]
  },
  {
   "cell_type": "code",
   "execution_count": null,
   "metadata": {
    "id": "eYn2f5_UZtxF"
   },
   "outputs": [],
   "source": [
    "class BioBERTClass(torch.nn.Module):\n",
    "    def __init__(self):\n",
    "        super(BioBERTClass, self).__init__()\n",
    "        self.l1 = BertModel.from_pretrained(\"dmis-lab/biobert-v1.1\")\n",
    "        self.pre_classifier = torch.nn.Linear(768, 768)\n",
    "        self.dropout = torch.nn.Dropout(0.2)\n",
    "        self.classifier = torch.nn.Linear(768, 5)\n",
    "\n",
    "    def forward(self, input_ids, attention_mask, token_type_ids):\n",
    "        output_1 = self.l1(input_ids=input_ids, attention_mask=attention_mask)\n",
    "        \n",
    "        hidden_state = output_1[0]\n",
    "        pooler = hidden_state[:, 0]\n",
    "        pooler = self.pre_classifier(pooler)\n",
    "        pooler = torch.nn.ReLU()(pooler)\n",
    "        pooler = self.dropout(pooler)\n",
    "        output = self.classifier(pooler)\n",
    "        return output\n"
   ]
  },
  {
   "cell_type": "markdown",
   "metadata": {
    "id": "KiuRwHT-yERH"
   },
   "source": [
    "### Load best performing mutation effect detection model\n",
    "- Current best model is finetuned BioBERT model for 3 epochs"
   ]
  },
  {
   "cell_type": "code",
   "execution_count": null,
   "metadata": {
    "id": "4ll1fOPPnspZ"
   },
   "outputs": [],
   "source": [
    "predictor = torch.load('../models/biobert_v2_epoch3.bin', map_location=torch.device(device))\n",
    "\n"
   ]
  },
  {
   "cell_type": "markdown",
   "metadata": {
    "id": "bOdDpg2UyMWo"
   },
   "source": [
    "### Predict on input literature"
   ]
  },
  {
   "cell_type": "code",
   "execution_count": null,
   "metadata": {
    "id": "0sOfZYlvn2IY"
   },
   "outputs": [],
   "source": [
    "pred_y = predict_batch_inference(predictor, data.text,\n",
    "                                              tokenizer, MAX_LEN=MAX_LEN, batch_size=128, \n",
    "                                              device=device, padding = True, quantize = False)\n"
   ]
  },
  {
   "cell_type": "markdown",
   "metadata": {
    "id": "bypO6lOwyOz6"
   },
   "source": [
    "### Extract and format predictions"
   ]
  },
  {
   "cell_type": "code",
   "execution_count": null,
   "metadata": {
    "id": "d35RNRH6n-Ep"
   },
   "outputs": [],
   "source": [
    "data['predicted_probs'] = pred_y"
   ]
  },
  {
   "cell_type": "code",
   "execution_count": null,
   "metadata": {
    "id": "TOnwXxtjvQWW"
   },
   "outputs": [],
   "source": [
    "data = pd.concat([data, pd.DataFrame(data[\"predicted_probs\"].to_list(), columns=categories)], axis = 1)"
   ]
  },
  {
   "cell_type": "code",
   "execution_count": null,
   "metadata": {
    "colab": {
     "base_uri": "https://localhost:8080/",
     "height": 587
    },
    "executionInfo": {
     "elapsed": 14209,
     "status": "ok",
     "timestamp": 1612454739984,
     "user": {
      "displayName": "Advait Save",
      "photoUrl": "",
      "userId": "08904726702539992993"
     },
     "user_tz": 300
    },
    "id": "fCnkCuwXuyTY",
    "outputId": "d00a0b6f-6b5b-491e-b824-e03b39a84419"
   },
   "outputs": [
    {
     "data": {
      "text/html": [
       "<div>\n",
       "<style scoped>\n",
       "    .dataframe tbody tr th:only-of-type {\n",
       "        vertical-align: middle;\n",
       "    }\n",
       "\n",
       "    .dataframe tbody tr th {\n",
       "        vertical-align: top;\n",
       "    }\n",
       "\n",
       "    .dataframe thead th {\n",
       "        text-align: right;\n",
       "    }\n",
       "</style>\n",
       "<table border=\"1\" class=\"dataframe\">\n",
       "  <thead>\n",
       "    <tr style=\"text-align: right;\">\n",
       "      <th></th>\n",
       "      <th>text</th>\n",
       "      <th>label</th>\n",
       "      <th>HI</th>\n",
       "      <th>DN</th>\n",
       "      <th>none</th>\n",
       "      <th>GOF</th>\n",
       "      <th>LOF</th>\n",
       "    </tr>\n",
       "  </thead>\n",
       "  <tbody>\n",
       "    <tr>\n",
       "      <th>0</th>\n",
       "      <td>the mutation was not found in the gnomad database, but the heterozygous variant was found in 2 of about 3,500 individuals in an in-house database of mainly arab muslim individuals. functional studies of the variant and studies of patient cells were not performed, but the variant was predicted to result in a loss of function. {5:heimer et (2019)} identified homozygosity for the c.376dupt mutation in exon 3 of the ntng2 gene in 3 patients from 2 consanguineous arab muslim families with nedbash. the mutation, which was found by whole-exome sequencing and confirmed by sanger sequencing, segregated with the disorder in both families. functional studies of the variant and studies of patient cells were not performed, but the mutation was predicted to result in nonsense-mediated mrna decay and a loss of function.\\nin 2 sibs, born of consanguineous iranian parents (family 1) with neurodevelopmental disorder with behavioral abnormalities, absent speech, and hypotonia (nedbash; {618718}), {3:dias et (2019)} identified a homozygous c.1367g-a transition ({var c.1367g-a, nm_032536.3}) in exon 7 of the ntng2 gene, resulting in a cys456-to-tyr (c456y) substitution at a conserved residue in the egf4 domain. the mutation, which was found by exome sequencing, segregated with the disorder in the family.</td>\n",
       "      <td>LOF</td>\n",
       "      <td>0.126200</td>\n",
       "      <td>0.015175</td>\n",
       "      <td>0.020833</td>\n",
       "      <td>0.026847</td>\n",
       "      <td>0.858519</td>\n",
       "    </tr>\n",
       "    <tr>\n",
       "      <th>1</th>\n",
       "      <td>the l24p mutant protein was insoluble in solution, was likely misfolded, and formed multiple abnormal aggregates, whereas wildtype bach2 was soluble in solution and formed proper dimers. the findings suggested that the mutant protein was unable to dimerize and was unstable; further coexpression studies were consistent with haploinsufficiency rather than a dominant-negative effect.\\nin a father and daughter (family b) with immunodeficiency-60 (imd60; {618394}), {1:afzali et (2017)} identified a heterozygous c.2362g-a transition in the bach2 gene, resulting in a glu788-to-lys (e788k) substitution at a highly conserved residue in the c terminus. the mutant e788k protein aggregated primarily in the cytoplasm with little nuclear localization, whereas the wildtype protein was evenly distributed in both the cytoplasm and nucleus. the findings suggested that the mutant protein had decreased stability compared to wildtype; further coexpression studies were consistent with haploinsufficiency rather than a dominant-negative effect.</td>\n",
       "      <td>DN</td>\n",
       "      <td>0.086087</td>\n",
       "      <td>0.863678</td>\n",
       "      <td>0.012123</td>\n",
       "      <td>0.093234</td>\n",
       "      <td>0.018694</td>\n",
       "    </tr>\n",
       "    <tr>\n",
       "      <th>2</th>\n",
       "      <td>the mutation was predicted to disrupt the region surrounding the ribose-5-phosphate binding site and thus affect the catalytic site. the mother of these sibs, who had no hearing deficit or neurologic dysfunction at age 66, also carried the mutation; the mutation was heterozygous in the females and hemizygous in the male proband. erythrocyte prps1 activity was not detectable in the proband, was decreased in the sister, and was normal in the mother. the findings illustrated that prps1 deficiency can present as a continuous spectrum of clinical features, even within the same family.\\nin a dutch family with arts syndrome (arts; {301835}) originally reported by {2:arts et (1993)}, {12:de brouwer et (2007)} found that the disorder was associated with a 455t-c transition in exon 4 of the prps1 gene that resulted in a leu152-to-pro (l152p) substitution.\\nin an australian family with arts syndrome (arts; {301835}), {12:de brouwer et (2007)} found that the disorder was caused by a 398a-c transversion in exon 3 of the prps1 gene that resulted in a gln133-to-pro (q133p) substitution. enzyme assays and molecular modeling demonstrated loss of function of the mutant protein. patient fibroblasts showed normal prpp synthetase activity, whereas erythrocytes showed a loss of enzyme activity, suggesting that the effect of the v142l mutation on protein activity depends on cell type. {19:moran et (2012)} postulated a gain-of-function effect in proliferating cells and a loss-of-function effect in postmitotic cells. the report indicated that prps1 missense mutations can cause a continuous spectrum of features ranging from progressive nonsyndromic postlingual hearing impairment to uric acid overproduction, neuropathy, and recurrent infections depending on the functional sites affected.\\nin a german family with variable manifestations of prps1 deficiency, including a man with a protracted form of arts syndrome (arts; {301835}) and his sister with x-linked deafness-1 (dfnx1; {304500}), {25:synofzik et (2014)} identified a c.830a-c transversion in the prps1 gene, resulting in a gln277-to-pro (q277p) substitution at a highly conserved residue in the c-terminal domain close to the catalytic site.\\t</td>\n",
       "      <td>GOF</td>\n",
       "      <td>0.289359</td>\n",
       "      <td>0.015925</td>\n",
       "      <td>0.019776</td>\n",
       "      <td>0.613745</td>\n",
       "      <td>0.017984</td>\n",
       "    </tr>\n",
       "  </tbody>\n",
       "</table>\n",
       "</div>"
      ],
      "text/plain": [
       "                                                                                                                                                                                                                                                                                                                                                                                                                                                                                                                                                                                                                                                                                                                                                                                                                                                                                                                                                                                                                                                                                                                                                                                                                                                                                                                                                                                                                                                                                                                                                                                                                                                                                                                                                                                                                                                                                                                                                                                                                                                                                                                                                                                                                                                                                              text  ...       LOF\n",
       "0  the mutation was not found in the gnomad database, but the heterozygous variant was found in 2 of about 3,500 individuals in an in-house database of mainly arab muslim individuals. functional studies of the variant and studies of patient cells were not performed, but the variant was predicted to result in a loss of function. {5:heimer et (2019)} identified homozygosity for the c.376dupt mutation in exon 3 of the ntng2 gene in 3 patients from 2 consanguineous arab muslim families with nedbash. the mutation, which was found by whole-exome sequencing and confirmed by sanger sequencing, segregated with the disorder in both families. functional studies of the variant and studies of patient cells were not performed, but the mutation was predicted to result in nonsense-mediated mrna decay and a loss of function.\\nin 2 sibs, born of consanguineous iranian parents (family 1) with neurodevelopmental disorder with behavioral abnormalities, absent speech, and hypotonia (nedbash; {618718}), {3:dias et (2019)} identified a homozygous c.1367g-a transition ({var c.1367g-a, nm_032536.3}) in exon 7 of the ntng2 gene, resulting in a cys456-to-tyr (c456y) substitution at a conserved residue in the egf4 domain. the mutation, which was found by exome sequencing, segregated with the disorder in the family.                                                                                                                                                                                                                                                                                                                                                                                                                                                                                                                                                                                                                                                                                                                                                                                                                                                                                                                                         ...  0.858519\n",
       "1  the l24p mutant protein was insoluble in solution, was likely misfolded, and formed multiple abnormal aggregates, whereas wildtype bach2 was soluble in solution and formed proper dimers. the findings suggested that the mutant protein was unable to dimerize and was unstable; further coexpression studies were consistent with haploinsufficiency rather than a dominant-negative effect.\\nin a father and daughter (family b) with immunodeficiency-60 (imd60; {618394}), {1:afzali et (2017)} identified a heterozygous c.2362g-a transition in the bach2 gene, resulting in a glu788-to-lys (e788k) substitution at a highly conserved residue in the c terminus. the mutant e788k protein aggregated primarily in the cytoplasm with little nuclear localization, whereas the wildtype protein was evenly distributed in both the cytoplasm and nucleus. the findings suggested that the mutant protein had decreased stability compared to wildtype; further coexpression studies were consistent with haploinsufficiency rather than a dominant-negative effect.                                                                                                                                                                                                                                                                                                                                                                                                                                                                                                                                                                                                                                                                                                                                                                                                                                                                                                                                                                                                                                                                                                                                                                                                                     ...  0.018694\n",
       "2  the mutation was predicted to disrupt the region surrounding the ribose-5-phosphate binding site and thus affect the catalytic site. the mother of these sibs, who had no hearing deficit or neurologic dysfunction at age 66, also carried the mutation; the mutation was heterozygous in the females and hemizygous in the male proband. erythrocyte prps1 activity was not detectable in the proband, was decreased in the sister, and was normal in the mother. the findings illustrated that prps1 deficiency can present as a continuous spectrum of clinical features, even within the same family.\\nin a dutch family with arts syndrome (arts; {301835}) originally reported by {2:arts et (1993)}, {12:de brouwer et (2007)} found that the disorder was associated with a 455t-c transition in exon 4 of the prps1 gene that resulted in a leu152-to-pro (l152p) substitution.\\nin an australian family with arts syndrome (arts; {301835}), {12:de brouwer et (2007)} found that the disorder was caused by a 398a-c transversion in exon 3 of the prps1 gene that resulted in a gln133-to-pro (q133p) substitution. enzyme assays and molecular modeling demonstrated loss of function of the mutant protein. patient fibroblasts showed normal prpp synthetase activity, whereas erythrocytes showed a loss of enzyme activity, suggesting that the effect of the v142l mutation on protein activity depends on cell type. {19:moran et (2012)} postulated a gain-of-function effect in proliferating cells and a loss-of-function effect in postmitotic cells. the report indicated that prps1 missense mutations can cause a continuous spectrum of features ranging from progressive nonsyndromic postlingual hearing impairment to uric acid overproduction, neuropathy, and recurrent infections depending on the functional sites affected.\\nin a german family with variable manifestations of prps1 deficiency, including a man with a protracted form of arts syndrome (arts; {301835}) and his sister with x-linked deafness-1 (dfnx1; {304500}), {25:synofzik et (2014)} identified a c.830a-c transversion in the prps1 gene, resulting in a gln277-to-pro (q277p) substitution at a highly conserved residue in the c-terminal domain close to the catalytic site.\\t  ...  0.017984\n",
       "\n",
       "[3 rows x 7 columns]"
      ]
     },
     "execution_count": 35,
     "metadata": {
      "tags": []
     },
     "output_type": "execute_result"
    }
   ],
   "source": [
    "data[['text', 'label'] + categories].head()"
   ]
  },
  {
   "cell_type": "markdown",
   "metadata": {
    "id": "p-b5QE1yyRDp"
   },
   "source": [
    "### Explain predictions using model explainability package LIME \n",
    "- LOCAL INTERPRETABLE MODEL-AGNOSTIC EXPLANATIONS\n",
    "- Paper: https://arxiv.org/pdf/1602.04938.pdf\n",
    "- Code: https://github.com/marcotcr/lime"
   ]
  },
  {
   "cell_type": "code",
   "execution_count": null,
   "metadata": {
    "colab": {
     "base_uri": "https://localhost:8080/"
    },
    "executionInfo": {
     "elapsed": 20490,
     "status": "ok",
     "timestamp": 1612454746277,
     "user": {
      "displayName": "Advait Save",
      "photoUrl": "",
      "userId": "08904726702539992993"
     },
     "user_tz": 300
    },
    "id": "iwIIVhZv6aqq",
    "outputId": "eff171cb-e71c-4467-f8b6-11af1b6f0e79"
   },
   "outputs": [
    {
     "name": "stdout",
     "output_type": "stream",
     "text": [
      "Requirement already satisfied: lime in /usr/local/lib/python3.6/dist-packages (0.2.0.1)\n",
      "Requirement already satisfied: numpy in /usr/local/lib/python3.6/dist-packages (from lime) (1.19.5)\n",
      "Requirement already satisfied: scikit-learn>=0.18 in /usr/local/lib/python3.6/dist-packages (from lime) (0.22.2.post1)\n",
      "Requirement already satisfied: scipy in /usr/local/lib/python3.6/dist-packages (from lime) (1.4.1)\n",
      "Requirement already satisfied: tqdm in /usr/local/lib/python3.6/dist-packages (from lime) (4.41.1)\n",
      "Requirement already satisfied: matplotlib in /usr/local/lib/python3.6/dist-packages (from lime) (3.2.2)\n",
      "Requirement already satisfied: scikit-image>=0.12 in /usr/local/lib/python3.6/dist-packages (from lime) (0.16.2)\n",
      "Requirement already satisfied: joblib>=0.11 in /usr/local/lib/python3.6/dist-packages (from scikit-learn>=0.18->lime) (1.0.0)\n",
      "Requirement already satisfied: kiwisolver>=1.0.1 in /usr/local/lib/python3.6/dist-packages (from matplotlib->lime) (1.3.1)\n",
      "Requirement already satisfied: pyparsing!=2.0.4,!=2.1.2,!=2.1.6,>=2.0.1 in /usr/local/lib/python3.6/dist-packages (from matplotlib->lime) (2.4.7)\n",
      "Requirement already satisfied: cycler>=0.10 in /usr/local/lib/python3.6/dist-packages (from matplotlib->lime) (0.10.0)\n",
      "Requirement already satisfied: python-dateutil>=2.1 in /usr/local/lib/python3.6/dist-packages (from matplotlib->lime) (2.8.1)\n",
      "Requirement already satisfied: networkx>=2.0 in /usr/local/lib/python3.6/dist-packages (from scikit-image>=0.12->lime) (2.5)\n",
      "Requirement already satisfied: PyWavelets>=0.4.0 in /usr/local/lib/python3.6/dist-packages (from scikit-image>=0.12->lime) (1.1.1)\n",
      "Requirement already satisfied: imageio>=2.3.0 in /usr/local/lib/python3.6/dist-packages (from scikit-image>=0.12->lime) (2.4.1)\n",
      "Requirement already satisfied: pillow>=4.3.0 in /usr/local/lib/python3.6/dist-packages (from scikit-image>=0.12->lime) (7.0.0)\n",
      "Requirement already satisfied: six in /usr/local/lib/python3.6/dist-packages (from cycler>=0.10->matplotlib->lime) (1.15.0)\n",
      "Requirement already satisfied: decorator>=4.3.0 in /usr/local/lib/python3.6/dist-packages (from networkx>=2.0->scikit-image>=0.12->lime) (4.4.2)\n"
     ]
    }
   ],
   "source": [
    "!pip install lime"
   ]
  },
  {
   "cell_type": "code",
   "execution_count": null,
   "metadata": {
    "colab": {
     "base_uri": "https://localhost:8080/",
     "height": 35
    },
    "executionInfo": {
     "elapsed": 20483,
     "status": "ok",
     "timestamp": 1612454746279,
     "user": {
      "displayName": "Advait Save",
      "photoUrl": "",
      "userId": "08904726702539992993"
     },
     "user_tz": 300
    },
    "id": "UhM1nlQhBMkk",
    "outputId": "c0c2cfe4-be8a-4295-ac7a-0f01db652aeb"
   },
   "outputs": [
    {
     "data": {
      "application/vnd.google.colaboratory.intrinsic+json": {
       "type": "string"
      },
      "text/plain": [
       "'cuda'"
      ]
     },
     "execution_count": 37,
     "metadata": {
      "tags": []
     },
     "output_type": "execute_result"
    }
   ],
   "source": [
    "device"
   ]
  },
  {
   "cell_type": "code",
   "execution_count": null,
   "metadata": {
    "colab": {
     "base_uri": "https://localhost:8080/"
    },
    "executionInfo": {
     "elapsed": 20473,
     "status": "ok",
     "timestamp": 1612454746280,
     "user": {
      "displayName": "Advait Save",
      "photoUrl": "",
      "userId": "08904726702539992993"
     },
     "user_tz": 300
    },
    "id": "mF40AkPZE1az",
    "outputId": "3547ceba-ccbf-4225-b432-2b09a3301076"
   },
   "outputs": [
    {
     "data": {
      "text/plain": [
       "['HI', 'DN', 'none', 'GOF', 'LOF']"
      ]
     },
     "execution_count": 38,
     "metadata": {
      "tags": []
     },
     "output_type": "execute_result"
    }
   ],
   "source": [
    "categories"
   ]
  },
  {
   "cell_type": "code",
   "execution_count": null,
   "metadata": {
    "id": "j-Kps1DmHjXk"
   },
   "outputs": [],
   "source": [
    "class_names = ['HI', 'DN', 'none', 'GOF', 'LOF']\n"
   ]
  },
  {
   "cell_type": "markdown",
   "metadata": {
    "id": "ZzjmTVAzyWkR"
   },
   "source": [
    "#### Define Lime Text Explainer"
   ]
  },
  {
   "cell_type": "code",
   "execution_count": null,
   "metadata": {
    "id": "w9umXL1_HGTf"
   },
   "outputs": [],
   "source": [
    "import lime\n",
    "from lime.lime_text import LimeTextExplainer\n",
    "\n",
    "\n",
    "\n",
    "def predictor_func(texts):\n",
    "\n",
    "  pred_y = predict_batch_inference(predictor, texts,\n",
    "                                              tokenizer, MAX_LEN=MAX_LEN, batch_size=128, \n",
    "                                              device=device, padding = True, quantize = False)\n",
    "  return np.array(pred_y)\n",
    "\n",
    "explainer = LimeTextExplainer(class_names=class_names)\n"
   ]
  },
  {
   "cell_type": "code",
   "execution_count": null,
   "metadata": {
    "colab": {
     "base_uri": "https://localhost:8080/",
     "height": 35
    },
    "executionInfo": {
     "elapsed": 20455,
     "status": "ok",
     "timestamp": 1612454746284,
     "user": {
      "displayName": "Advait Save",
      "photoUrl": "",
      "userId": "08904726702539992993"
     },
     "user_tz": 300
    },
    "id": "9jKRLU3JwXo1",
    "outputId": "5fb4ecf2-45c2-4e16-becf-45f0b0395832"
   },
   "outputs": [
    {
     "data": {
      "application/vnd.google.colaboratory.intrinsic+json": {
       "type": "string"
      },
      "text/plain": [
       "'/content/drive/My Drive/GitHub IU/nlp_mutation_effect_pred/final_project_files/code'"
      ]
     },
     "execution_count": 41,
     "metadata": {
      "tags": []
     },
     "output_type": "execute_result"
    }
   ],
   "source": [
    "os.getcwd()"
   ]
  },
  {
   "cell_type": "code",
   "execution_count": null,
   "metadata": {
    "colab": {
     "base_uri": "https://localhost:8080/"
    },
    "executionInfo": {
     "elapsed": 20446,
     "status": "ok",
     "timestamp": 1612454746286,
     "user": {
      "displayName": "Advait Save",
      "photoUrl": "",
      "userId": "08904726702539992993"
     },
     "user_tz": 300
    },
    "id": "4UVwksW8pT68",
    "outputId": "03b533b9-bfcc-4f9f-8bff-687ad328166b"
   },
   "outputs": [
    {
     "data": {
      "text/plain": [
       "0    the mutation was not found in the gnomad database, but the heterozygous variant was found in 2 of about 3,500 individuals in an in-house database of mainly arab muslim individuals. functional studies of the variant and studies of patient cells were not performed, but the variant was predicted to result in a loss of function. {5:heimer et (2019)} identified homozygosity for the c.376dupt mutation in exon 3 of the ntng2 gene in 3 patients from 2 consanguineous arab muslim families with nedbash. the mutation, which was found by whole-exome sequencing and confirmed by sanger sequencing, segregated with the disorder in both families. functional studies of the variant and studies of patient cells were not performed, but the mutation was predicted to result in nonsense-mediated mrna decay and a loss of function.\\nin 2 sibs, born of consanguineous iranian parents (family 1) with neurodevelopmental disorder with behavioral abnormalities, absent speech, and hypotonia (nedbash; {618718}), {3:dias et (2019)} identified a homozygous c.1367g-a transition ({var c.1367g-a, nm_032536.3}) in exon 7 of the ntng2 gene, resulting in a cys456-to-tyr (c456y) substitution at a conserved residue in the egf4 domain. the mutation, which was found by exome sequencing, segregated with the disorder in the family.                                                                                                                                                                                                                                                                                                                                                                                                                                                                                                                                                                                                                                                                                                                                                                                                                                                                                                                                       \n",
       "1    the l24p mutant protein was insoluble in solution, was likely misfolded, and formed multiple abnormal aggregates, whereas wildtype bach2 was soluble in solution and formed proper dimers. the findings suggested that the mutant protein was unable to dimerize and was unstable; further coexpression studies were consistent with haploinsufficiency rather than a dominant-negative effect.\\nin a father and daughter (family b) with immunodeficiency-60 (imd60; {618394}), {1:afzali et (2017)} identified a heterozygous c.2362g-a transition in the bach2 gene, resulting in a glu788-to-lys (e788k) substitution at a highly conserved residue in the c terminus. the mutant e788k protein aggregated primarily in the cytoplasm with little nuclear localization, whereas the wildtype protein was evenly distributed in both the cytoplasm and nucleus. the findings suggested that the mutant protein had decreased stability compared to wildtype; further coexpression studies were consistent with haploinsufficiency rather than a dominant-negative effect.                                                                                                                                                                                                                                                                                                                                                                                                                                                                                                                                                                                                                                                                                                                                                                                                                                                                                                                                                                                                                                                                                                                                                                                                                   \n",
       "2    the mutation was predicted to disrupt the region surrounding the ribose-5-phosphate binding site and thus affect the catalytic site. the mother of these sibs, who had no hearing deficit or neurologic dysfunction at age 66, also carried the mutation; the mutation was heterozygous in the females and hemizygous in the male proband. erythrocyte prps1 activity was not detectable in the proband, was decreased in the sister, and was normal in the mother. the findings illustrated that prps1 deficiency can present as a continuous spectrum of clinical features, even within the same family.\\nin a dutch family with arts syndrome (arts; {301835}) originally reported by {2:arts et (1993)}, {12:de brouwer et (2007)} found that the disorder was associated with a 455t-c transition in exon 4 of the prps1 gene that resulted in a leu152-to-pro (l152p) substitution.\\nin an australian family with arts syndrome (arts; {301835}), {12:de brouwer et (2007)} found that the disorder was caused by a 398a-c transversion in exon 3 of the prps1 gene that resulted in a gln133-to-pro (q133p) substitution. enzyme assays and molecular modeling demonstrated loss of function of the mutant protein. patient fibroblasts showed normal prpp synthetase activity, whereas erythrocytes showed a loss of enzyme activity, suggesting that the effect of the v142l mutation on protein activity depends on cell type. {19:moran et (2012)} postulated a gain-of-function effect in proliferating cells and a loss-of-function effect in postmitotic cells. the report indicated that prps1 missense mutations can cause a continuous spectrum of features ranging from progressive nonsyndromic postlingual hearing impairment to uric acid overproduction, neuropathy, and recurrent infections depending on the functional sites affected.\\nin a german family with variable manifestations of prps1 deficiency, including a man with a protracted form of arts syndrome (arts; {301835}) and his sister with x-linked deafness-1 (dfnx1; {304500}), {25:synofzik et (2014)} identified a c.830a-c transversion in the prps1 gene, resulting in a gln277-to-pro (q277p) substitution at a highly conserved residue in the c-terminal domain close to the catalytic site.\\t\n",
       "Name: text, dtype: object"
      ]
     },
     "execution_count": 42,
     "metadata": {
      "tags": []
     },
     "output_type": "execute_result"
    }
   ],
   "source": [
    "data.text"
   ]
  },
  {
   "cell_type": "markdown",
   "metadata": {
    "id": "bAzdLoo1yd0V"
   },
   "source": [
    "### Loop through literature to explain model predictions"
   ]
  },
  {
   "cell_type": "code",
   "execution_count": null,
   "metadata": {
    "colab": {
     "base_uri": "https://localhost:8080/",
     "height": 1000,
     "output_embedded_package_id": "1ehcM_q-4W0I4faFoNypO5v06S7yvuYEm"
    },
    "executionInfo": {
     "elapsed": 130541,
     "status": "ok",
     "timestamp": 1612454856396,
     "user": {
      "displayName": "Advait Save",
      "photoUrl": "",
      "userId": "08904726702539992993"
     },
     "user_tz": 300
    },
    "id": "LxdOt2OKpMFR",
    "outputId": "0b559997-b24b-4fce-9bf2-0a27f045dd5b"
   },
   "outputs": [
    {
     "data": {
      "text/plain": [
       "Output hidden; open in https://colab.research.google.com to view."
      ]
     },
     "metadata": {},
     "output_type": "display_data"
    }
   ],
   "source": [
    "for index, row in data.iterrows():\n",
    "\n",
    "  # Render only for first 5 documents\n",
    "  if index > 5:\n",
    "    break\n",
    "\n",
    "  print(\"\\nExplaining Predictions in Input Literature:\", index + 1)\n",
    "\n",
    "  exp = explainer.explain_instance(row.text, predictor_func, num_features=20, num_samples=800, top_labels=2)\n",
    "  exp.show_in_notebook(text=row.text)"
   ]
  },
  {
   "cell_type": "code",
   "execution_count": null,
   "metadata": {
    "id": "miYjHjfVzWRX"
   },
   "outputs": [],
   "source": [
    "data[['text', 'label'] + categories].to_csv('BioBert_results.csv')"
   ]
  },
  {
   "cell_type": "code",
   "execution_count": null,
   "metadata": {
    "id": "SBUqkAPizWPb"
   },
   "outputs": [],
   "source": []
  },
  {
   "cell_type": "code",
   "execution_count": null,
   "metadata": {
    "id": "kVTQmQ4WzT01"
   },
   "outputs": [],
   "source": []
  }
 ],
 "metadata": {
  "accelerator": "GPU",
  "colab": {
   "collapsed_sections": [],
   "name": "nlp_extract_disease_characterization.ipynb",
   "provenance": []
  },
  "kernelspec": {
   "display_name": "Python 3",
   "language": "python",
   "name": "python3"
  },
  "language_info": {
   "codemirror_mode": {
    "name": "ipython",
    "version": 3
   },
   "file_extension": ".py",
   "mimetype": "text/x-python",
   "name": "python",
   "nbconvert_exporter": "python",
   "pygments_lexer": "ipython3",
   "version": "3.6.9"
  },
  "toc": {
   "base_numbering": 1,
   "nav_menu": {},
   "number_sections": true,
   "sideBar": true,
   "skip_h1_title": true,
   "title_cell": "Table of Contents",
   "title_sidebar": "Contents",
   "toc_cell": true,
   "toc_position": {},
   "toc_section_display": true,
   "toc_window_display": true
  }
 },
 "nbformat": 4,
 "nbformat_minor": 1
}
