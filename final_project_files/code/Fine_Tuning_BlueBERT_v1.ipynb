{
  "nbformat": 4,
  "nbformat_minor": 0,
  "metadata": {
    "accelerator": "GPU",
    "colab": {
      "name": "Fine-Tuning BlueBERT v1.ipynb",
      "provenance": [],
      "collapsed_sections": [],
      "machine_shape": "hm"
    },
    "kernelspec": {
      "display_name": "Python 3",
      "name": "python3"
    }
  },
  "cells": [
    {
      "cell_type": "markdown",
      "metadata": {
        "id": "bL0pInrzFvZc"
      },
      "source": [
        "## Using GPU for training"
      ]
    },
    {
      "cell_type": "code",
      "metadata": {
        "colab": {
          "base_uri": "https://localhost:8080/"
        },
        "id": "ligz_nsaFZ-k",
        "outputId": "8e3ffe98-a7b5-4b5a-d905-b224f9070d37"
      },
      "source": [
        "import tensorflow as tf\r\n",
        "\r\n",
        "# Get the GPU device name.\r\n",
        "device_name = tf.test.gpu_device_name()\r\n",
        "\r\n",
        "# The device name should look like the following:\r\n",
        "if device_name == '/device:GPU:0':\r\n",
        "    print('Found GPU at: {}'.format(device_name))\r\n",
        "else:\r\n",
        "    raise SystemError('GPU device not found')"
      ],
      "execution_count": null,
      "outputs": [
        {
          "output_type": "stream",
          "text": [
            "Found GPU at: /device:GPU:0\n"
          ],
          "name": "stdout"
        }
      ]
    },
    {
      "cell_type": "code",
      "metadata": {
        "colab": {
          "base_uri": "https://localhost:8080/"
        },
        "id": "Z-NujFyFF4ql",
        "outputId": "eb1bdd37-5381-4709-c0ec-bddf12f4ec69"
      },
      "source": [
        "import torch\r\n",
        "\r\n",
        "# If there's a GPU available...\r\n",
        "if torch.cuda.is_available():    \r\n",
        "\r\n",
        "    # Tell PyTorch to use the GPU.    \r\n",
        "    device = torch.device(\"cuda\")\r\n",
        "\r\n",
        "    print('There are %d GPU(s) available.' % torch.cuda.device_count())\r\n",
        "\r\n",
        "    print('We will use the GPU:', torch.cuda.get_device_name(0))\r\n",
        "\r\n",
        "# If not...\r\n",
        "else:\r\n",
        "    print('No GPU available, using the CPU instead.')\r\n",
        "    device = torch.device(\"cpu\")"
      ],
      "execution_count": null,
      "outputs": [
        {
          "output_type": "stream",
          "text": [
            "There are 1 GPU(s) available.\n",
            "We will use the GPU: Tesla V100-SXM2-16GB\n"
          ],
          "name": "stdout"
        }
      ]
    },
    {
      "cell_type": "markdown",
      "metadata": {
        "id": "2acRhk16GT_c"
      },
      "source": [
        "## Installing Hugging Face transformers"
      ]
    },
    {
      "cell_type": "code",
      "metadata": {
        "colab": {
          "base_uri": "https://localhost:8080/"
        },
        "id": "poGxHcZlGCjC",
        "outputId": "3febba4c-c23f-450a-f5c6-09c1de294b44"
      },
      "source": [
        "!pip install transformers"
      ],
      "execution_count": null,
      "outputs": [
        {
          "output_type": "stream",
          "text": [
            "Collecting transformers\n",
            "\u001b[?25l  Downloading https://files.pythonhosted.org/packages/88/b1/41130a228dd656a1a31ba281598a968320283f48d42782845f6ba567f00b/transformers-4.2.2-py3-none-any.whl (1.8MB)\n",
            "\r\u001b[K     |▏                               | 10kB 15.3MB/s eta 0:00:01\r\u001b[K     |▍                               | 20kB 19.4MB/s eta 0:00:01\r\u001b[K     |▋                               | 30kB 11.9MB/s eta 0:00:01\r\u001b[K     |▊                               | 40kB 10.1MB/s eta 0:00:01\r\u001b[K     |█                               | 51kB 10.2MB/s eta 0:00:01\r\u001b[K     |█▏                              | 61kB 10.0MB/s eta 0:00:01\r\u001b[K     |█▎                              | 71kB 8.2MB/s eta 0:00:01\r\u001b[K     |█▌                              | 81kB 8.9MB/s eta 0:00:01\r\u001b[K     |█▊                              | 92kB 8.5MB/s eta 0:00:01\r\u001b[K     |█▉                              | 102kB 8.6MB/s eta 0:00:01\r\u001b[K     |██                              | 112kB 8.6MB/s eta 0:00:01\r\u001b[K     |██▎                             | 122kB 8.6MB/s eta 0:00:01\r\u001b[K     |██▍                             | 133kB 8.6MB/s eta 0:00:01\r\u001b[K     |██▋                             | 143kB 8.6MB/s eta 0:00:01\r\u001b[K     |██▉                             | 153kB 8.6MB/s eta 0:00:01\r\u001b[K     |███                             | 163kB 8.6MB/s eta 0:00:01\r\u001b[K     |███▏                            | 174kB 8.6MB/s eta 0:00:01\r\u001b[K     |███▍                            | 184kB 8.6MB/s eta 0:00:01\r\u001b[K     |███▌                            | 194kB 8.6MB/s eta 0:00:01\r\u001b[K     |███▊                            | 204kB 8.6MB/s eta 0:00:01\r\u001b[K     |████                            | 215kB 8.6MB/s eta 0:00:01\r\u001b[K     |████                            | 225kB 8.6MB/s eta 0:00:01\r\u001b[K     |████▎                           | 235kB 8.6MB/s eta 0:00:01\r\u001b[K     |████▌                           | 245kB 8.6MB/s eta 0:00:01\r\u001b[K     |████▋                           | 256kB 8.6MB/s eta 0:00:01\r\u001b[K     |████▉                           | 266kB 8.6MB/s eta 0:00:01\r\u001b[K     |█████                           | 276kB 8.6MB/s eta 0:00:01\r\u001b[K     |█████▏                          | 286kB 8.6MB/s eta 0:00:01\r\u001b[K     |█████▍                          | 296kB 8.6MB/s eta 0:00:01\r\u001b[K     |█████▋                          | 307kB 8.6MB/s eta 0:00:01\r\u001b[K     |█████▊                          | 317kB 8.6MB/s eta 0:00:01\r\u001b[K     |██████                          | 327kB 8.6MB/s eta 0:00:01\r\u001b[K     |██████▏                         | 337kB 8.6MB/s eta 0:00:01\r\u001b[K     |██████▎                         | 348kB 8.6MB/s eta 0:00:01\r\u001b[K     |██████▌                         | 358kB 8.6MB/s eta 0:00:01\r\u001b[K     |██████▊                         | 368kB 8.6MB/s eta 0:00:01\r\u001b[K     |██████▉                         | 378kB 8.6MB/s eta 0:00:01\r\u001b[K     |███████                         | 389kB 8.6MB/s eta 0:00:01\r\u001b[K     |███████▎                        | 399kB 8.6MB/s eta 0:00:01\r\u001b[K     |███████▍                        | 409kB 8.6MB/s eta 0:00:01\r\u001b[K     |███████▋                        | 419kB 8.6MB/s eta 0:00:01\r\u001b[K     |███████▉                        | 430kB 8.6MB/s eta 0:00:01\r\u001b[K     |████████                        | 440kB 8.6MB/s eta 0:00:01\r\u001b[K     |████████▏                       | 450kB 8.6MB/s eta 0:00:01\r\u001b[K     |████████▍                       | 460kB 8.6MB/s eta 0:00:01\r\u001b[K     |████████▌                       | 471kB 8.6MB/s eta 0:00:01\r\u001b[K     |████████▊                       | 481kB 8.6MB/s eta 0:00:01\r\u001b[K     |█████████                       | 491kB 8.6MB/s eta 0:00:01\r\u001b[K     |█████████                       | 501kB 8.6MB/s eta 0:00:01\r\u001b[K     |█████████▎                      | 512kB 8.6MB/s eta 0:00:01\r\u001b[K     |█████████▌                      | 522kB 8.6MB/s eta 0:00:01\r\u001b[K     |█████████▋                      | 532kB 8.6MB/s eta 0:00:01\r\u001b[K     |█████████▉                      | 542kB 8.6MB/s eta 0:00:01\r\u001b[K     |██████████                      | 552kB 8.6MB/s eta 0:00:01\r\u001b[K     |██████████▏                     | 563kB 8.6MB/s eta 0:00:01\r\u001b[K     |██████████▍                     | 573kB 8.6MB/s eta 0:00:01\r\u001b[K     |██████████▋                     | 583kB 8.6MB/s eta 0:00:01\r\u001b[K     |██████████▊                     | 593kB 8.6MB/s eta 0:00:01\r\u001b[K     |███████████                     | 604kB 8.6MB/s eta 0:00:01\r\u001b[K     |███████████▏                    | 614kB 8.6MB/s eta 0:00:01\r\u001b[K     |███████████▎                    | 624kB 8.6MB/s eta 0:00:01\r\u001b[K     |███████████▌                    | 634kB 8.6MB/s eta 0:00:01\r\u001b[K     |███████████▊                    | 645kB 8.6MB/s eta 0:00:01\r\u001b[K     |███████████▉                    | 655kB 8.6MB/s eta 0:00:01\r\u001b[K     |████████████                    | 665kB 8.6MB/s eta 0:00:01\r\u001b[K     |████████████▎                   | 675kB 8.6MB/s eta 0:00:01\r\u001b[K     |████████████▍                   | 686kB 8.6MB/s eta 0:00:01\r\u001b[K     |████████████▋                   | 696kB 8.6MB/s eta 0:00:01\r\u001b[K     |████████████▉                   | 706kB 8.6MB/s eta 0:00:01\r\u001b[K     |█████████████                   | 716kB 8.6MB/s eta 0:00:01\r\u001b[K     |█████████████▏                  | 727kB 8.6MB/s eta 0:00:01\r\u001b[K     |█████████████▍                  | 737kB 8.6MB/s eta 0:00:01\r\u001b[K     |█████████████▌                  | 747kB 8.6MB/s eta 0:00:01\r\u001b[K     |█████████████▊                  | 757kB 8.6MB/s eta 0:00:01\r\u001b[K     |██████████████                  | 768kB 8.6MB/s eta 0:00:01\r\u001b[K     |██████████████                  | 778kB 8.6MB/s eta 0:00:01\r\u001b[K     |██████████████▎                 | 788kB 8.6MB/s eta 0:00:01\r\u001b[K     |██████████████▌                 | 798kB 8.6MB/s eta 0:00:01\r\u001b[K     |██████████████▋                 | 808kB 8.6MB/s eta 0:00:01\r\u001b[K     |██████████████▉                 | 819kB 8.6MB/s eta 0:00:01\r\u001b[K     |███████████████                 | 829kB 8.6MB/s eta 0:00:01\r\u001b[K     |███████████████▏                | 839kB 8.6MB/s eta 0:00:01\r\u001b[K     |███████████████▍                | 849kB 8.6MB/s eta 0:00:01\r\u001b[K     |███████████████▋                | 860kB 8.6MB/s eta 0:00:01\r\u001b[K     |███████████████▊                | 870kB 8.6MB/s eta 0:00:01\r\u001b[K     |████████████████                | 880kB 8.6MB/s eta 0:00:01\r\u001b[K     |████████████████▏               | 890kB 8.6MB/s eta 0:00:01\r\u001b[K     |████████████████▎               | 901kB 8.6MB/s eta 0:00:01\r\u001b[K     |████████████████▌               | 911kB 8.6MB/s eta 0:00:01\r\u001b[K     |████████████████▊               | 921kB 8.6MB/s eta 0:00:01\r\u001b[K     |████████████████▉               | 931kB 8.6MB/s eta 0:00:01\r\u001b[K     |█████████████████               | 942kB 8.6MB/s eta 0:00:01\r\u001b[K     |█████████████████▎              | 952kB 8.6MB/s eta 0:00:01\r\u001b[K     |█████████████████▍              | 962kB 8.6MB/s eta 0:00:01\r\u001b[K     |█████████████████▋              | 972kB 8.6MB/s eta 0:00:01\r\u001b[K     |█████████████████▉              | 983kB 8.6MB/s eta 0:00:01\r\u001b[K     |██████████████████              | 993kB 8.6MB/s eta 0:00:01\r\u001b[K     |██████████████████▏             | 1.0MB 8.6MB/s eta 0:00:01\r\u001b[K     |██████████████████▍             | 1.0MB 8.6MB/s eta 0:00:01\r\u001b[K     |██████████████████▌             | 1.0MB 8.6MB/s eta 0:00:01\r\u001b[K     |██████████████████▊             | 1.0MB 8.6MB/s eta 0:00:01\r\u001b[K     |███████████████████             | 1.0MB 8.6MB/s eta 0:00:01\r\u001b[K     |███████████████████             | 1.1MB 8.6MB/s eta 0:00:01\r\u001b[K     |███████████████████▎            | 1.1MB 8.6MB/s eta 0:00:01\r\u001b[K     |███████████████████▌            | 1.1MB 8.6MB/s eta 0:00:01\r\u001b[K     |███████████████████▋            | 1.1MB 8.6MB/s eta 0:00:01\r\u001b[K     |███████████████████▉            | 1.1MB 8.6MB/s eta 0:00:01\r\u001b[K     |████████████████████            | 1.1MB 8.6MB/s eta 0:00:01\r\u001b[K     |████████████████████▏           | 1.1MB 8.6MB/s eta 0:00:01\r\u001b[K     |████████████████████▍           | 1.1MB 8.6MB/s eta 0:00:01\r\u001b[K     |████████████████████▋           | 1.1MB 8.6MB/s eta 0:00:01\r\u001b[K     |████████████████████▊           | 1.1MB 8.6MB/s eta 0:00:01\r\u001b[K     |█████████████████████           | 1.2MB 8.6MB/s eta 0:00:01\r\u001b[K     |█████████████████████▏          | 1.2MB 8.6MB/s eta 0:00:01\r\u001b[K     |█████████████████████▎          | 1.2MB 8.6MB/s eta 0:00:01\r\u001b[K     |█████████████████████▌          | 1.2MB 8.6MB/s eta 0:00:01\r\u001b[K     |█████████████████████▊          | 1.2MB 8.6MB/s eta 0:00:01\r\u001b[K     |█████████████████████▉          | 1.2MB 8.6MB/s eta 0:00:01\r\u001b[K     |██████████████████████          | 1.2MB 8.6MB/s eta 0:00:01\r\u001b[K     |██████████████████████▎         | 1.2MB 8.6MB/s eta 0:00:01\r\u001b[K     |██████████████████████▍         | 1.2MB 8.6MB/s eta 0:00:01\r\u001b[K     |██████████████████████▋         | 1.2MB 8.6MB/s eta 0:00:01\r\u001b[K     |██████████████████████▉         | 1.3MB 8.6MB/s eta 0:00:01\r\u001b[K     |███████████████████████         | 1.3MB 8.6MB/s eta 0:00:01\r\u001b[K     |███████████████████████▏        | 1.3MB 8.6MB/s eta 0:00:01\r\u001b[K     |███████████████████████▍        | 1.3MB 8.6MB/s eta 0:00:01\r\u001b[K     |███████████████████████▌        | 1.3MB 8.6MB/s eta 0:00:01\r\u001b[K     |███████████████████████▊        | 1.3MB 8.6MB/s eta 0:00:01\r\u001b[K     |████████████████████████        | 1.3MB 8.6MB/s eta 0:00:01\r\u001b[K     |████████████████████████        | 1.3MB 8.6MB/s eta 0:00:01\r\u001b[K     |████████████████████████▎       | 1.3MB 8.6MB/s eta 0:00:01\r\u001b[K     |████████████████████████▌       | 1.4MB 8.6MB/s eta 0:00:01\r\u001b[K     |████████████████████████▊       | 1.4MB 8.6MB/s eta 0:00:01\r\u001b[K     |████████████████████████▉       | 1.4MB 8.6MB/s eta 0:00:01\r\u001b[K     |█████████████████████████       | 1.4MB 8.6MB/s eta 0:00:01\r\u001b[K     |█████████████████████████▎      | 1.4MB 8.6MB/s eta 0:00:01\r\u001b[K     |█████████████████████████▍      | 1.4MB 8.6MB/s eta 0:00:01\r\u001b[K     |█████████████████████████▋      | 1.4MB 8.6MB/s eta 0:00:01\r\u001b[K     |█████████████████████████▉      | 1.4MB 8.6MB/s eta 0:00:01\r\u001b[K     |██████████████████████████      | 1.4MB 8.6MB/s eta 0:00:01\r\u001b[K     |██████████████████████████▏     | 1.4MB 8.6MB/s eta 0:00:01\r\u001b[K     |██████████████████████████▍     | 1.5MB 8.6MB/s eta 0:00:01\r\u001b[K     |██████████████████████████▌     | 1.5MB 8.6MB/s eta 0:00:01\r\u001b[K     |██████████████████████████▊     | 1.5MB 8.6MB/s eta 0:00:01\r\u001b[K     |███████████████████████████     | 1.5MB 8.6MB/s eta 0:00:01\r\u001b[K     |███████████████████████████     | 1.5MB 8.6MB/s eta 0:00:01\r\u001b[K     |███████████████████████████▎    | 1.5MB 8.6MB/s eta 0:00:01\r\u001b[K     |███████████████████████████▌    | 1.5MB 8.6MB/s eta 0:00:01\r\u001b[K     |███████████████████████████▋    | 1.5MB 8.6MB/s eta 0:00:01\r\u001b[K     |███████████████████████████▉    | 1.5MB 8.6MB/s eta 0:00:01\r\u001b[K     |████████████████████████████    | 1.5MB 8.6MB/s eta 0:00:01\r\u001b[K     |████████████████████████████▏   | 1.6MB 8.6MB/s eta 0:00:01\r\u001b[K     |████████████████████████████▍   | 1.6MB 8.6MB/s eta 0:00:01\r\u001b[K     |████████████████████████████▋   | 1.6MB 8.6MB/s eta 0:00:01\r\u001b[K     |████████████████████████████▊   | 1.6MB 8.6MB/s eta 0:00:01\r\u001b[K     |█████████████████████████████   | 1.6MB 8.6MB/s eta 0:00:01\r\u001b[K     |█████████████████████████████▏  | 1.6MB 8.6MB/s eta 0:00:01\r\u001b[K     |█████████████████████████████▎  | 1.6MB 8.6MB/s eta 0:00:01\r\u001b[K     |█████████████████████████████▌  | 1.6MB 8.6MB/s eta 0:00:01\r\u001b[K     |█████████████████████████████▊  | 1.6MB 8.6MB/s eta 0:00:01\r\u001b[K     |█████████████████████████████▉  | 1.6MB 8.6MB/s eta 0:00:01\r\u001b[K     |██████████████████████████████  | 1.7MB 8.6MB/s eta 0:00:01\r\u001b[K     |██████████████████████████████▎ | 1.7MB 8.6MB/s eta 0:00:01\r\u001b[K     |██████████████████████████████▍ | 1.7MB 8.6MB/s eta 0:00:01\r\u001b[K     |██████████████████████████████▋ | 1.7MB 8.6MB/s eta 0:00:01\r\u001b[K     |██████████████████████████████▉ | 1.7MB 8.6MB/s eta 0:00:01\r\u001b[K     |███████████████████████████████ | 1.7MB 8.6MB/s eta 0:00:01\r\u001b[K     |███████████████████████████████▏| 1.7MB 8.6MB/s eta 0:00:01\r\u001b[K     |███████████████████████████████▍| 1.7MB 8.6MB/s eta 0:00:01\r\u001b[K     |███████████████████████████████▌| 1.7MB 8.6MB/s eta 0:00:01\r\u001b[K     |███████████████████████████████▊| 1.8MB 8.6MB/s eta 0:00:01\r\u001b[K     |████████████████████████████████| 1.8MB 8.6MB/s eta 0:00:01\r\u001b[K     |████████████████████████████████| 1.8MB 8.6MB/s \n",
            "\u001b[?25hRequirement already satisfied: dataclasses; python_version < \"3.7\" in /usr/local/lib/python3.6/dist-packages (from transformers) (0.8)\n",
            "Collecting tokenizers==0.9.4\n",
            "\u001b[?25l  Downloading https://files.pythonhosted.org/packages/0f/1c/e789a8b12e28be5bc1ce2156cf87cb522b379be9cadc7ad8091a4cc107c4/tokenizers-0.9.4-cp36-cp36m-manylinux2010_x86_64.whl (2.9MB)\n",
            "\u001b[K     |████████████████████████████████| 2.9MB 57.2MB/s \n",
            "\u001b[?25hRequirement already satisfied: packaging in /usr/local/lib/python3.6/dist-packages (from transformers) (20.8)\n",
            "Requirement already satisfied: importlib-metadata; python_version < \"3.8\" in /usr/local/lib/python3.6/dist-packages (from transformers) (3.4.0)\n",
            "Requirement already satisfied: regex!=2019.12.17 in /usr/local/lib/python3.6/dist-packages (from transformers) (2019.12.20)\n",
            "Requirement already satisfied: filelock in /usr/local/lib/python3.6/dist-packages (from transformers) (3.0.12)\n",
            "Requirement already satisfied: numpy in /usr/local/lib/python3.6/dist-packages (from transformers) (1.19.5)\n",
            "Collecting sacremoses\n",
            "\u001b[?25l  Downloading https://files.pythonhosted.org/packages/7d/34/09d19aff26edcc8eb2a01bed8e98f13a1537005d31e95233fd48216eed10/sacremoses-0.0.43.tar.gz (883kB)\n",
            "\u001b[K     |████████████████████████████████| 890kB 51.4MB/s \n",
            "\u001b[?25hRequirement already satisfied: requests in /usr/local/lib/python3.6/dist-packages (from transformers) (2.23.0)\n",
            "Requirement already satisfied: tqdm>=4.27 in /usr/local/lib/python3.6/dist-packages (from transformers) (4.41.1)\n",
            "Requirement already satisfied: pyparsing>=2.0.2 in /usr/local/lib/python3.6/dist-packages (from packaging->transformers) (2.4.7)\n",
            "Requirement already satisfied: zipp>=0.5 in /usr/local/lib/python3.6/dist-packages (from importlib-metadata; python_version < \"3.8\"->transformers) (3.4.0)\n",
            "Requirement already satisfied: typing-extensions>=3.6.4; python_version < \"3.8\" in /usr/local/lib/python3.6/dist-packages (from importlib-metadata; python_version < \"3.8\"->transformers) (3.7.4.3)\n",
            "Requirement already satisfied: six in /usr/local/lib/python3.6/dist-packages (from sacremoses->transformers) (1.15.0)\n",
            "Requirement already satisfied: click in /usr/local/lib/python3.6/dist-packages (from sacremoses->transformers) (7.1.2)\n",
            "Requirement already satisfied: joblib in /usr/local/lib/python3.6/dist-packages (from sacremoses->transformers) (1.0.0)\n",
            "Requirement already satisfied: certifi>=2017.4.17 in /usr/local/lib/python3.6/dist-packages (from requests->transformers) (2020.12.5)\n",
            "Requirement already satisfied: urllib3!=1.25.0,!=1.25.1,<1.26,>=1.21.1 in /usr/local/lib/python3.6/dist-packages (from requests->transformers) (1.24.3)\n",
            "Requirement already satisfied: chardet<4,>=3.0.2 in /usr/local/lib/python3.6/dist-packages (from requests->transformers) (3.0.4)\n",
            "Requirement already satisfied: idna<3,>=2.5 in /usr/local/lib/python3.6/dist-packages (from requests->transformers) (2.10)\n",
            "Building wheels for collected packages: sacremoses\n",
            "  Building wheel for sacremoses (setup.py) ... \u001b[?25l\u001b[?25hdone\n",
            "  Created wheel for sacremoses: filename=sacremoses-0.0.43-cp36-none-any.whl size=893261 sha256=3dcaf400fac171798987976f0a0bf4421724c17c6358f59cee9c776d26d23d51\n",
            "  Stored in directory: /root/.cache/pip/wheels/29/3c/fd/7ce5c3f0666dab31a50123635e6fb5e19ceb42ce38d4e58f45\n",
            "Successfully built sacremoses\n",
            "Installing collected packages: tokenizers, sacremoses, transformers\n",
            "Successfully installed sacremoses-0.0.43 tokenizers-0.9.4 transformers-4.2.2\n"
          ],
          "name": "stdout"
        }
      ]
    },
    {
      "cell_type": "markdown",
      "metadata": {
        "id": "KwyuLnRmHdeJ"
      },
      "source": [
        "## Importing packages"
      ]
    },
    {
      "cell_type": "code",
      "metadata": {
        "id": "LUEigIh5HwWc"
      },
      "source": [
        "import pandas as pd\r\n",
        "import nltk.tokenize.treebank as tb\r\n",
        "import re\r\n",
        "import torch\r\n",
        "import numpy as np\r\n",
        "import pickle\r\n",
        "\r\n",
        "#from transformers import AutoTokenizer, AutoModel"
      ],
      "execution_count": null,
      "outputs": []
    },
    {
      "cell_type": "markdown",
      "metadata": {
        "id": "1i3AcpISH9RR"
      },
      "source": [
        "## Mounting Drive and Loading Data"
      ]
    },
    {
      "cell_type": "code",
      "metadata": {
        "colab": {
          "base_uri": "https://localhost:8080/"
        },
        "id": "aHe3VQdlH4mz",
        "outputId": "d3381dbd-1e3c-43f9-e9b7-aa07433ea549"
      },
      "source": [
        "from google.colab import drive\r\n",
        "drive.mount('/content/drive')"
      ],
      "execution_count": null,
      "outputs": [
        {
          "output_type": "stream",
          "text": [
            "Go to this URL in a browser: https://accounts.google.com/o/oauth2/auth?client_id=947318989803-6bn6qk8qdgf4n4g3pfee6491hc0brc4i.apps.googleusercontent.com&redirect_uri=urn%3aietf%3awg%3aoauth%3a2.0%3aoob&scope=email%20https%3a%2f%2fwww.googleapis.com%2fauth%2fdocs.test%20https%3a%2f%2fwww.googleapis.com%2fauth%2fdrive%20https%3a%2f%2fwww.googleapis.com%2fauth%2fdrive.photos.readonly%20https%3a%2f%2fwww.googleapis.com%2fauth%2fpeopleapi.readonly%20https%3a%2f%2fwww.googleapis.com%2fauth%2fdrive.activity.readonly&response_type=code\n",
            "\n",
            "Enter your authorization code:\n",
            "4/1AY0e-g4JboMQVjf4GDVfcNGSBzFYelSiv33RPRKBEcAUZre69KK5SgQ0H1o\n"
          ],
          "name": "stdout"
        }
      ]
    },
    {
      "cell_type": "code",
      "metadata": {
        "id": "OKc_NbUEIKia"
      },
      "source": [
        "cd drive/My\\ Drive/LAIDEL/  "
      ],
      "execution_count": null,
      "outputs": []
    },
    {
      "cell_type": "code",
      "metadata": {
        "id": "hGh7oFe2IbJB"
      },
      "source": [
        "data = pd.read_excel ('Data_v1.xlsx')\r\n",
        "#data.text=data.text.astype(str)\r\n",
        "data.head()"
      ],
      "execution_count": null,
      "outputs": []
    },
    {
      "cell_type": "code",
      "metadata": {
        "id": "1Umh7YESKUsb"
      },
      "source": [
        "data.mutation_consequence.value_counts()"
      ],
      "execution_count": null,
      "outputs": []
    },
    {
      "cell_type": "markdown",
      "metadata": {
        "id": "zkMNl1JCTLAM"
      },
      "source": [
        "## Data Preprocessing"
      ]
    },
    {
      "cell_type": "code",
      "metadata": {
        "id": "6X_acsGzKYku"
      },
      "source": [
        "# Removing nan values\r\n",
        "data.dropna(inplace=True)"
      ],
      "execution_count": null,
      "outputs": []
    },
    {
      "cell_type": "code",
      "metadata": {
        "id": "bGCzg8gAKfj0"
      },
      "source": [
        "data.mutation_consequence.value_counts()"
      ],
      "execution_count": null,
      "outputs": []
    },
    {
      "cell_type": "code",
      "metadata": {
        "id": "PmHQh8K7Ike4"
      },
      "source": [
        "# Get the lists of sentences and their labels.\r\n",
        "sentences = data.text.values\r\n",
        "labels = data.mutation_consequence.values"
      ],
      "execution_count": null,
      "outputs": []
    },
    {
      "cell_type": "code",
      "metadata": {
        "id": "VLiBA5nrQI2w"
      },
      "source": [
        "def remove_text_inside_brackets(text, brackets=\"()[]{}\"):\r\n",
        "    count = [0] * (len(brackets) // 2) # count open/close brackets\r\n",
        "    saved_chars = []\r\n",
        "    for character in text:\r\n",
        "        for i, b in enumerate(brackets):\r\n",
        "            if character == b: # found bracket\r\n",
        "                kind, is_close = divmod(i, 2)\r\n",
        "                count[kind] += (-1)**is_close # `+1`: open, `-1`: close\r\n",
        "                if count[kind] < 0: # unbalanced bracket\r\n",
        "                    count[kind] = 0  # keep it\r\n",
        "                else:  # found bracket to remove\r\n",
        "                    break\r\n",
        "        else: # character is not a [balanced] bracket\r\n",
        "            if not any(count): # outside brackets\r\n",
        "                saved_chars.append(character)\r\n",
        "    return ''.join(saved_chars)\r\n"
      ],
      "execution_count": null,
      "outputs": []
    },
    {
      "cell_type": "code",
      "metadata": {
        "id": "Y6LkhJldR4Kd"
      },
      "source": [
        "sample = sentences[10]\r\n",
        "sample #before preprocessing"
      ],
      "execution_count": null,
      "outputs": []
    },
    {
      "cell_type": "code",
      "metadata": {
        "id": "PFfLH0GCI_-a"
      },
      "source": [
        "sample = sample.lower() #converting into lowercase\r\n",
        "sample = re.sub(r'[\\r\\n\\n]+', ' ', sample)#removing the new line, carriage return sequences\r\n",
        "sample = re.sub(r'[^\\x00-\\x7F]+', ' ', sample)#removing the special charecters\r\n",
        "sample = remove_text_inside_brackets(sample) #removing text inside the braces\r\n",
        "\r\n",
        "sample #after preprocessing"
      ],
      "execution_count": null,
      "outputs": []
    },
    {
      "cell_type": "code",
      "metadata": {
        "id": "D9Rn8_gWJBiu"
      },
      "source": [
        "def preprocessing(sample):\r\n",
        "\r\n",
        "    sample = sample.lower() #converting into lowercase\r\n",
        "    sample = re.sub(r'[\\r\\n\\n]+', ' ', sample)#removing the new line, carriage return sequences\r\n",
        "    sample = re.sub(r'[^\\x00-\\x7F]+', ' ', sample)#removing the special charecters\r\n",
        "    #sample = remove_text_inside_brackets(sample) #removing text inside the braces\r\n",
        "\r\n",
        "    tokenized = tb.TreebankWordTokenizer().tokenize(sample)\r\n",
        "    sentence = ' '.join(tokenized)\r\n",
        "    sentence = re.sub(r\"\\s's\\b\", \"'s\", sentence)\r\n",
        "\r\n",
        "    return sentence"
      ],
      "execution_count": null,
      "outputs": []
    },
    {
      "cell_type": "code",
      "metadata": {
        "id": "44-DdjaGTGrs"
      },
      "source": [
        "data.text = data.text.apply(lambda x: preprocessing(x))"
      ],
      "execution_count": null,
      "outputs": []
    },
    {
      "cell_type": "code",
      "metadata": {
        "id": "N-qNbXdQTcZ2"
      },
      "source": [
        "# Get the lists of sentences and their labels.\r\n",
        "data['mutation_consequence'] = data['mutation_consequence'].astype('category')\r\n",
        "# Assigning numerical values and storing in another column\r\n",
        "data['labels'] = data['mutation_consequence'].cat.codes\r\n",
        "\r\n",
        "sentences = data.text.values\r\n",
        "labels = data.labels.values"
      ],
      "execution_count": null,
      "outputs": []
    },
    {
      "cell_type": "markdown",
      "metadata": {
        "id": "CR9-9HGCTq2k"
      },
      "source": [
        "## Tokenization & Input Formatting"
      ]
    },
    {
      "cell_type": "code",
      "metadata": {
        "id": "kY4PO50ATg0w"
      },
      "source": [
        "from transformers import AutoTokenizer\r\n",
        "\r\n",
        "# Load the BERT tokenizer.\r\n",
        "print('Loading BERT tokenizer...')\r\n",
        "\r\n",
        "tokenizer = AutoTokenizer.from_pretrained(\"bionlp/bluebert_pubmed_mimic_uncased_L-12_H-768_A-12\")"
      ],
      "execution_count": null,
      "outputs": []
    },
    {
      "cell_type": "code",
      "metadata": {
        "id": "wRYhNYcHUDAE"
      },
      "source": [
        "# Print the original sentence.\r\n",
        "print(' Original: ', sentences[10])\r\n",
        "\r\n",
        "# Print the sentence split into tokens.\r\n",
        "print('Tokenized: ', tokenizer.tokenize(sentences[10]))\r\n",
        "\r\n",
        "# Print the sentence mapped to token ids.\r\n",
        "print('Token IDs: ', tokenizer.convert_tokens_to_ids(tokenizer.tokenize(sentences[10])))"
      ],
      "execution_count": null,
      "outputs": []
    },
    {
      "cell_type": "code",
      "metadata": {
        "id": "WC2wmbzGULy0"
      },
      "source": [
        "# Tokenizing\r\n",
        "max_len = 0\r\n",
        "\r\n",
        "# For every sentence...\r\n",
        "for sent in sentences:\r\n",
        "\r\n",
        "    # Tokenize the text and add `[CLS]` and `[SEP]` tokens.\r\n",
        "    input_ids = tokenizer.encode(sent, add_special_tokens=True)\r\n",
        "\r\n",
        "    # Update the maximum sentence length.\r\n",
        "    max_len = max(max_len, len(input_ids))\r\n",
        "\r\n",
        "print('Max sentence length: ', max_len)"
      ],
      "execution_count": null,
      "outputs": []
    },
    {
      "cell_type": "code",
      "metadata": {
        "id": "XyxYoou6UnyF"
      },
      "source": [
        "# Tokenize all of the sentences and map the tokens to thier word IDs.\r\n",
        "input_ids = []\r\n",
        "attention_masks = []\r\n",
        "\r\n",
        "# For every sentence...\r\n",
        "for sent in sentences:\r\n",
        "   \r\n",
        "    encoded_dict = tokenizer.encode_plus(\r\n",
        "                        sent,                      # Sentence to encode.\r\n",
        "                        add_special_tokens = True, # Add '[CLS]' and '[SEP]'\r\n",
        "                        max_length = 512,           # Pad & truncate all sentences.\r\n",
        "                        pad_to_max_length = True,\r\n",
        "                        return_attention_mask = True,   # Construct attn. masks.\r\n",
        "                        return_tensors = 'pt',     # Return pytorch tensors.\r\n",
        "                   )\r\n",
        "    \r\n",
        "    # Add the encoded sentence to the list.    \r\n",
        "    input_ids.append(encoded_dict['input_ids'])\r\n",
        "    \r\n",
        "    # And its attention mask (simply differentiates padding from non-padding).\r\n",
        "    attention_masks.append(encoded_dict['attention_mask'])\r\n",
        "\r\n",
        "# Convert the lists into tensors.\r\n",
        "input_ids = torch.cat(input_ids, dim=0)\r\n",
        "attention_masks = torch.cat(attention_masks, dim=0)\r\n",
        "labels = torch.tensor(labels,dtype=torch.long)\r\n"
      ],
      "execution_count": null,
      "outputs": []
    },
    {
      "cell_type": "markdown",
      "metadata": {
        "id": "NGqExzQwWV10"
      },
      "source": [
        "## Training & Validation Split"
      ]
    },
    {
      "cell_type": "code",
      "metadata": {
        "id": "2k8YOc9-U9IT"
      },
      "source": [
        "from torch.utils.data import TensorDataset, random_split\r\n",
        "\r\n",
        "# Combine the training inputs into a TensorDataset.\r\n",
        "dataset = TensorDataset(input_ids, attention_masks, labels)\r\n",
        "\r\n",
        "# Create a 90-10 train-validation split.\r\n",
        "\r\n",
        "# Calculate the number of samples to include in each set.\r\n",
        "train_size = int(0.9 * len(dataset))\r\n",
        "val_size = len(dataset) - train_size\r\n",
        "\r\n",
        "# Divide the dataset by randomly selecting samples.\r\n",
        "train_dataset, val_dataset = random_split(dataset, [train_size, val_size])\r\n",
        "\r\n",
        "print('{:>5,} training samples'.format(train_size))\r\n",
        "print('{:>5,} validation samples'.format(val_size))"
      ],
      "execution_count": null,
      "outputs": []
    },
    {
      "cell_type": "code",
      "metadata": {
        "id": "NKMHh05XWfiw"
      },
      "source": [
        "# creating data loaders\r\n",
        "from torch.utils.data import DataLoader, RandomSampler, SequentialSampler\r\n",
        "\r\n",
        "batch_size = 16 #recommended\r\n",
        "\r\n",
        "train_dataloader = DataLoader(\r\n",
        "            train_dataset,  # The training samples.\r\n",
        "            sampler = RandomSampler(train_dataset), # Select batches randomly\r\n",
        "            batch_size = batch_size # Trains with this batch size.\r\n",
        "        )\r\n",
        "\r\n",
        "# For validation the order doesn't matter, so we'll just read them sequentially.\r\n",
        "validation_dataloader = DataLoader(\r\n",
        "            val_dataset, # The validation samples.\r\n",
        "            sampler = SequentialSampler(val_dataset), # Pull out batches sequentially.\r\n",
        "            batch_size = batch_size # Evaluate with this batch size.\r\n",
        "        )"
      ],
      "execution_count": null,
      "outputs": []
    },
    {
      "cell_type": "markdown",
      "metadata": {
        "id": "voTUeap7W2kg"
      },
      "source": [
        "## Trainig the classification model"
      ]
    },
    {
      "cell_type": "code",
      "metadata": {
        "colab": {
          "background_save": true,
          "referenced_widgets": [
            "2c94f742d51d48518c272d44c5dc6370"
          ]
        },
        "id": "a0Oy-giJWvcP",
        "outputId": "422571a5-8bdf-4b65-a9f1-ca8574e3f7d8"
      },
      "source": [
        "from transformers import BertForSequenceClassification, AdamW, BertConfig\r\n",
        "\r\n",
        "model = BertForSequenceClassification.from_pretrained(#'distilbert-base-uncased',\r\n",
        "    \"bionlp/bluebert_pubmed_mimic_uncased_L-12_H-768_A-12\", # Use the 12-layer blueBERT model, with an uncased vocab.\r\n",
        "    num_labels = 5, \r\n",
        "    output_attentions = False,\r\n",
        "    output_hidden_states = False\r\n",
        ")\r\n",
        "\r\n",
        "model.cuda()"
      ],
      "execution_count": null,
      "outputs": [
        {
          "output_type": "display_data",
          "data": {
            "application/vnd.jupyter.widget-view+json": {
              "model_id": "2c94f742d51d48518c272d44c5dc6370",
              "version_major": 2,
              "version_minor": 0
            },
            "text/plain": [
              "HBox(children=(FloatProgress(value=0.0, description='Downloading', max=440512265.0, style=ProgressStyle(descri…"
            ]
          },
          "metadata": {
            "tags": []
          }
        },
        {
          "output_type": "stream",
          "text": [
            "\n"
          ],
          "name": "stdout"
        },
        {
          "output_type": "stream",
          "text": [
            "Some weights of the model checkpoint at bionlp/bluebert_pubmed_mimic_uncased_L-12_H-768_A-12 were not used when initializing BertForSequenceClassification: ['cls.predictions.bias', 'cls.predictions.transform.dense.weight', 'cls.predictions.transform.dense.bias', 'cls.predictions.transform.LayerNorm.weight', 'cls.predictions.transform.LayerNorm.bias', 'cls.predictions.decoder.weight', 'cls.predictions.decoder.bias', 'cls.seq_relationship.weight', 'cls.seq_relationship.bias']\n",
            "- This IS expected if you are initializing BertForSequenceClassification from the checkpoint of a model trained on another task or with another architecture (e.g. initializing a BertForSequenceClassification model from a BertForPreTraining model).\n",
            "- This IS NOT expected if you are initializing BertForSequenceClassification from the checkpoint of a model that you expect to be exactly identical (initializing a BertForSequenceClassification model from a BertForSequenceClassification model).\n",
            "Some weights of BertForSequenceClassification were not initialized from the model checkpoint at bionlp/bluebert_pubmed_mimic_uncased_L-12_H-768_A-12 and are newly initialized: ['classifier.weight', 'classifier.bias']\n",
            "You should probably TRAIN this model on a down-stream task to be able to use it for predictions and inference.\n"
          ],
          "name": "stderr"
        },
        {
          "output_type": "execute_result",
          "data": {
            "text/plain": [
              "BertForSequenceClassification(\n",
              "  (bert): BertModel(\n",
              "    (embeddings): BertEmbeddings(\n",
              "      (word_embeddings): Embedding(30522, 768, padding_idx=0)\n",
              "      (position_embeddings): Embedding(512, 768)\n",
              "      (token_type_embeddings): Embedding(2, 768)\n",
              "      (LayerNorm): LayerNorm((768,), eps=1e-12, elementwise_affine=True)\n",
              "      (dropout): Dropout(p=0.1, inplace=False)\n",
              "    )\n",
              "    (encoder): BertEncoder(\n",
              "      (layer): ModuleList(\n",
              "        (0): BertLayer(\n",
              "          (attention): BertAttention(\n",
              "            (self): BertSelfAttention(\n",
              "              (query): Linear(in_features=768, out_features=768, bias=True)\n",
              "              (key): Linear(in_features=768, out_features=768, bias=True)\n",
              "              (value): Linear(in_features=768, out_features=768, bias=True)\n",
              "              (dropout): Dropout(p=0.1, inplace=False)\n",
              "            )\n",
              "            (output): BertSelfOutput(\n",
              "              (dense): Linear(in_features=768, out_features=768, bias=True)\n",
              "              (LayerNorm): LayerNorm((768,), eps=1e-12, elementwise_affine=True)\n",
              "              (dropout): Dropout(p=0.1, inplace=False)\n",
              "            )\n",
              "          )\n",
              "          (intermediate): BertIntermediate(\n",
              "            (dense): Linear(in_features=768, out_features=3072, bias=True)\n",
              "          )\n",
              "          (output): BertOutput(\n",
              "            (dense): Linear(in_features=3072, out_features=768, bias=True)\n",
              "            (LayerNorm): LayerNorm((768,), eps=1e-12, elementwise_affine=True)\n",
              "            (dropout): Dropout(p=0.1, inplace=False)\n",
              "          )\n",
              "        )\n",
              "        (1): BertLayer(\n",
              "          (attention): BertAttention(\n",
              "            (self): BertSelfAttention(\n",
              "              (query): Linear(in_features=768, out_features=768, bias=True)\n",
              "              (key): Linear(in_features=768, out_features=768, bias=True)\n",
              "              (value): Linear(in_features=768, out_features=768, bias=True)\n",
              "              (dropout): Dropout(p=0.1, inplace=False)\n",
              "            )\n",
              "            (output): BertSelfOutput(\n",
              "              (dense): Linear(in_features=768, out_features=768, bias=True)\n",
              "              (LayerNorm): LayerNorm((768,), eps=1e-12, elementwise_affine=True)\n",
              "              (dropout): Dropout(p=0.1, inplace=False)\n",
              "            )\n",
              "          )\n",
              "          (intermediate): BertIntermediate(\n",
              "            (dense): Linear(in_features=768, out_features=3072, bias=True)\n",
              "          )\n",
              "          (output): BertOutput(\n",
              "            (dense): Linear(in_features=3072, out_features=768, bias=True)\n",
              "            (LayerNorm): LayerNorm((768,), eps=1e-12, elementwise_affine=True)\n",
              "            (dropout): Dropout(p=0.1, inplace=False)\n",
              "          )\n",
              "        )\n",
              "        (2): BertLayer(\n",
              "          (attention): BertAttention(\n",
              "            (self): BertSelfAttention(\n",
              "              (query): Linear(in_features=768, out_features=768, bias=True)\n",
              "              (key): Linear(in_features=768, out_features=768, bias=True)\n",
              "              (value): Linear(in_features=768, out_features=768, bias=True)\n",
              "              (dropout): Dropout(p=0.1, inplace=False)\n",
              "            )\n",
              "            (output): BertSelfOutput(\n",
              "              (dense): Linear(in_features=768, out_features=768, bias=True)\n",
              "              (LayerNorm): LayerNorm((768,), eps=1e-12, elementwise_affine=True)\n",
              "              (dropout): Dropout(p=0.1, inplace=False)\n",
              "            )\n",
              "          )\n",
              "          (intermediate): BertIntermediate(\n",
              "            (dense): Linear(in_features=768, out_features=3072, bias=True)\n",
              "          )\n",
              "          (output): BertOutput(\n",
              "            (dense): Linear(in_features=3072, out_features=768, bias=True)\n",
              "            (LayerNorm): LayerNorm((768,), eps=1e-12, elementwise_affine=True)\n",
              "            (dropout): Dropout(p=0.1, inplace=False)\n",
              "          )\n",
              "        )\n",
              "        (3): BertLayer(\n",
              "          (attention): BertAttention(\n",
              "            (self): BertSelfAttention(\n",
              "              (query): Linear(in_features=768, out_features=768, bias=True)\n",
              "              (key): Linear(in_features=768, out_features=768, bias=True)\n",
              "              (value): Linear(in_features=768, out_features=768, bias=True)\n",
              "              (dropout): Dropout(p=0.1, inplace=False)\n",
              "            )\n",
              "            (output): BertSelfOutput(\n",
              "              (dense): Linear(in_features=768, out_features=768, bias=True)\n",
              "              (LayerNorm): LayerNorm((768,), eps=1e-12, elementwise_affine=True)\n",
              "              (dropout): Dropout(p=0.1, inplace=False)\n",
              "            )\n",
              "          )\n",
              "          (intermediate): BertIntermediate(\n",
              "            (dense): Linear(in_features=768, out_features=3072, bias=True)\n",
              "          )\n",
              "          (output): BertOutput(\n",
              "            (dense): Linear(in_features=3072, out_features=768, bias=True)\n",
              "            (LayerNorm): LayerNorm((768,), eps=1e-12, elementwise_affine=True)\n",
              "            (dropout): Dropout(p=0.1, inplace=False)\n",
              "          )\n",
              "        )\n",
              "        (4): BertLayer(\n",
              "          (attention): BertAttention(\n",
              "            (self): BertSelfAttention(\n",
              "              (query): Linear(in_features=768, out_features=768, bias=True)\n",
              "              (key): Linear(in_features=768, out_features=768, bias=True)\n",
              "              (value): Linear(in_features=768, out_features=768, bias=True)\n",
              "              (dropout): Dropout(p=0.1, inplace=False)\n",
              "            )\n",
              "            (output): BertSelfOutput(\n",
              "              (dense): Linear(in_features=768, out_features=768, bias=True)\n",
              "              (LayerNorm): LayerNorm((768,), eps=1e-12, elementwise_affine=True)\n",
              "              (dropout): Dropout(p=0.1, inplace=False)\n",
              "            )\n",
              "          )\n",
              "          (intermediate): BertIntermediate(\n",
              "            (dense): Linear(in_features=768, out_features=3072, bias=True)\n",
              "          )\n",
              "          (output): BertOutput(\n",
              "            (dense): Linear(in_features=3072, out_features=768, bias=True)\n",
              "            (LayerNorm): LayerNorm((768,), eps=1e-12, elementwise_affine=True)\n",
              "            (dropout): Dropout(p=0.1, inplace=False)\n",
              "          )\n",
              "        )\n",
              "        (5): BertLayer(\n",
              "          (attention): BertAttention(\n",
              "            (self): BertSelfAttention(\n",
              "              (query): Linear(in_features=768, out_features=768, bias=True)\n",
              "              (key): Linear(in_features=768, out_features=768, bias=True)\n",
              "              (value): Linear(in_features=768, out_features=768, bias=True)\n",
              "              (dropout): Dropout(p=0.1, inplace=False)\n",
              "            )\n",
              "            (output): BertSelfOutput(\n",
              "              (dense): Linear(in_features=768, out_features=768, bias=True)\n",
              "              (LayerNorm): LayerNorm((768,), eps=1e-12, elementwise_affine=True)\n",
              "              (dropout): Dropout(p=0.1, inplace=False)\n",
              "            )\n",
              "          )\n",
              "          (intermediate): BertIntermediate(\n",
              "            (dense): Linear(in_features=768, out_features=3072, bias=True)\n",
              "          )\n",
              "          (output): BertOutput(\n",
              "            (dense): Linear(in_features=3072, out_features=768, bias=True)\n",
              "            (LayerNorm): LayerNorm((768,), eps=1e-12, elementwise_affine=True)\n",
              "            (dropout): Dropout(p=0.1, inplace=False)\n",
              "          )\n",
              "        )\n",
              "        (6): BertLayer(\n",
              "          (attention): BertAttention(\n",
              "            (self): BertSelfAttention(\n",
              "              (query): Linear(in_features=768, out_features=768, bias=True)\n",
              "              (key): Linear(in_features=768, out_features=768, bias=True)\n",
              "              (value): Linear(in_features=768, out_features=768, bias=True)\n",
              "              (dropout): Dropout(p=0.1, inplace=False)\n",
              "            )\n",
              "            (output): BertSelfOutput(\n",
              "              (dense): Linear(in_features=768, out_features=768, bias=True)\n",
              "              (LayerNorm): LayerNorm((768,), eps=1e-12, elementwise_affine=True)\n",
              "              (dropout): Dropout(p=0.1, inplace=False)\n",
              "            )\n",
              "          )\n",
              "          (intermediate): BertIntermediate(\n",
              "            (dense): Linear(in_features=768, out_features=3072, bias=True)\n",
              "          )\n",
              "          (output): BertOutput(\n",
              "            (dense): Linear(in_features=3072, out_features=768, bias=True)\n",
              "            (LayerNorm): LayerNorm((768,), eps=1e-12, elementwise_affine=True)\n",
              "            (dropout): Dropout(p=0.1, inplace=False)\n",
              "          )\n",
              "        )\n",
              "        (7): BertLayer(\n",
              "          (attention): BertAttention(\n",
              "            (self): BertSelfAttention(\n",
              "              (query): Linear(in_features=768, out_features=768, bias=True)\n",
              "              (key): Linear(in_features=768, out_features=768, bias=True)\n",
              "              (value): Linear(in_features=768, out_features=768, bias=True)\n",
              "              (dropout): Dropout(p=0.1, inplace=False)\n",
              "            )\n",
              "            (output): BertSelfOutput(\n",
              "              (dense): Linear(in_features=768, out_features=768, bias=True)\n",
              "              (LayerNorm): LayerNorm((768,), eps=1e-12, elementwise_affine=True)\n",
              "              (dropout): Dropout(p=0.1, inplace=False)\n",
              "            )\n",
              "          )\n",
              "          (intermediate): BertIntermediate(\n",
              "            (dense): Linear(in_features=768, out_features=3072, bias=True)\n",
              "          )\n",
              "          (output): BertOutput(\n",
              "            (dense): Linear(in_features=3072, out_features=768, bias=True)\n",
              "            (LayerNorm): LayerNorm((768,), eps=1e-12, elementwise_affine=True)\n",
              "            (dropout): Dropout(p=0.1, inplace=False)\n",
              "          )\n",
              "        )\n",
              "        (8): BertLayer(\n",
              "          (attention): BertAttention(\n",
              "            (self): BertSelfAttention(\n",
              "              (query): Linear(in_features=768, out_features=768, bias=True)\n",
              "              (key): Linear(in_features=768, out_features=768, bias=True)\n",
              "              (value): Linear(in_features=768, out_features=768, bias=True)\n",
              "              (dropout): Dropout(p=0.1, inplace=False)\n",
              "            )\n",
              "            (output): BertSelfOutput(\n",
              "              (dense): Linear(in_features=768, out_features=768, bias=True)\n",
              "              (LayerNorm): LayerNorm((768,), eps=1e-12, elementwise_affine=True)\n",
              "              (dropout): Dropout(p=0.1, inplace=False)\n",
              "            )\n",
              "          )\n",
              "          (intermediate): BertIntermediate(\n",
              "            (dense): Linear(in_features=768, out_features=3072, bias=True)\n",
              "          )\n",
              "          (output): BertOutput(\n",
              "            (dense): Linear(in_features=3072, out_features=768, bias=True)\n",
              "            (LayerNorm): LayerNorm((768,), eps=1e-12, elementwise_affine=True)\n",
              "            (dropout): Dropout(p=0.1, inplace=False)\n",
              "          )\n",
              "        )\n",
              "        (9): BertLayer(\n",
              "          (attention): BertAttention(\n",
              "            (self): BertSelfAttention(\n",
              "              (query): Linear(in_features=768, out_features=768, bias=True)\n",
              "              (key): Linear(in_features=768, out_features=768, bias=True)\n",
              "              (value): Linear(in_features=768, out_features=768, bias=True)\n",
              "              (dropout): Dropout(p=0.1, inplace=False)\n",
              "            )\n",
              "            (output): BertSelfOutput(\n",
              "              (dense): Linear(in_features=768, out_features=768, bias=True)\n",
              "              (LayerNorm): LayerNorm((768,), eps=1e-12, elementwise_affine=True)\n",
              "              (dropout): Dropout(p=0.1, inplace=False)\n",
              "            )\n",
              "          )\n",
              "          (intermediate): BertIntermediate(\n",
              "            (dense): Linear(in_features=768, out_features=3072, bias=True)\n",
              "          )\n",
              "          (output): BertOutput(\n",
              "            (dense): Linear(in_features=3072, out_features=768, bias=True)\n",
              "            (LayerNorm): LayerNorm((768,), eps=1e-12, elementwise_affine=True)\n",
              "            (dropout): Dropout(p=0.1, inplace=False)\n",
              "          )\n",
              "        )\n",
              "        (10): BertLayer(\n",
              "          (attention): BertAttention(\n",
              "            (self): BertSelfAttention(\n",
              "              (query): Linear(in_features=768, out_features=768, bias=True)\n",
              "              (key): Linear(in_features=768, out_features=768, bias=True)\n",
              "              (value): Linear(in_features=768, out_features=768, bias=True)\n",
              "              (dropout): Dropout(p=0.1, inplace=False)\n",
              "            )\n",
              "            (output): BertSelfOutput(\n",
              "              (dense): Linear(in_features=768, out_features=768, bias=True)\n",
              "              (LayerNorm): LayerNorm((768,), eps=1e-12, elementwise_affine=True)\n",
              "              (dropout): Dropout(p=0.1, inplace=False)\n",
              "            )\n",
              "          )\n",
              "          (intermediate): BertIntermediate(\n",
              "            (dense): Linear(in_features=768, out_features=3072, bias=True)\n",
              "          )\n",
              "          (output): BertOutput(\n",
              "            (dense): Linear(in_features=3072, out_features=768, bias=True)\n",
              "            (LayerNorm): LayerNorm((768,), eps=1e-12, elementwise_affine=True)\n",
              "            (dropout): Dropout(p=0.1, inplace=False)\n",
              "          )\n",
              "        )\n",
              "        (11): BertLayer(\n",
              "          (attention): BertAttention(\n",
              "            (self): BertSelfAttention(\n",
              "              (query): Linear(in_features=768, out_features=768, bias=True)\n",
              "              (key): Linear(in_features=768, out_features=768, bias=True)\n",
              "              (value): Linear(in_features=768, out_features=768, bias=True)\n",
              "              (dropout): Dropout(p=0.1, inplace=False)\n",
              "            )\n",
              "            (output): BertSelfOutput(\n",
              "              (dense): Linear(in_features=768, out_features=768, bias=True)\n",
              "              (LayerNorm): LayerNorm((768,), eps=1e-12, elementwise_affine=True)\n",
              "              (dropout): Dropout(p=0.1, inplace=False)\n",
              "            )\n",
              "          )\n",
              "          (intermediate): BertIntermediate(\n",
              "            (dense): Linear(in_features=768, out_features=3072, bias=True)\n",
              "          )\n",
              "          (output): BertOutput(\n",
              "            (dense): Linear(in_features=3072, out_features=768, bias=True)\n",
              "            (LayerNorm): LayerNorm((768,), eps=1e-12, elementwise_affine=True)\n",
              "            (dropout): Dropout(p=0.1, inplace=False)\n",
              "          )\n",
              "        )\n",
              "      )\n",
              "    )\n",
              "    (pooler): BertPooler(\n",
              "      (dense): Linear(in_features=768, out_features=768, bias=True)\n",
              "      (activation): Tanh()\n",
              "    )\n",
              "  )\n",
              "  (dropout): Dropout(p=0.1, inplace=False)\n",
              "  (classifier): Linear(in_features=768, out_features=5, bias=True)\n",
              ")"
            ]
          },
          "metadata": {
            "tags": []
          },
          "execution_count": 0
        }
      ]
    },
    {
      "cell_type": "code",
      "metadata": {
        "colab": {
          "background_save": true
        },
        "id": "dW8aahnAcTH7"
      },
      "source": [
        "optimizer = AdamW(model.parameters(),\r\n",
        "                  lr = 2e-5, # args.learning_rate - default is 5e-5,  2e-5\r\n",
        "                  eps = 2e-8 # args.adam_epsilon  - default is 1e-8.\r\n",
        "                )\r\n"
      ],
      "execution_count": null,
      "outputs": []
    },
    {
      "cell_type": "code",
      "metadata": {
        "colab": {
          "background_save": true
        },
        "id": "Ing_k7eycvkB"
      },
      "source": [
        "from transformers import get_linear_schedule_with_warmup\r\n",
        "\r\n",
        "epochs = 10\r\n",
        "\r\n",
        "total_steps = len(train_dataloader) * epochs\r\n",
        "\r\n",
        "# Create the learning rate scheduler.\r\n",
        "scheduler = get_linear_schedule_with_warmup(optimizer, \r\n",
        "                                            num_warmup_steps = 0, # Default value in run_glue.py\r\n",
        "                                            num_training_steps = total_steps)"
      ],
      "execution_count": null,
      "outputs": []
    },
    {
      "cell_type": "code",
      "metadata": {
        "colab": {
          "background_save": true
        },
        "id": "Q2JF2Ga7c30G"
      },
      "source": [
        "import numpy as np\r\n",
        "\r\n",
        "# Function to calculate the accuracy of predictions vs labels\r\n",
        "def flat_accuracy(preds, labels):\r\n",
        "    pred_flat = np.argmax(preds, axis=1).flatten()\r\n",
        "    labels_flat = labels.flatten()\r\n",
        "    return np.sum(pred_flat == labels_flat) / len(labels_flat)"
      ],
      "execution_count": null,
      "outputs": []
    },
    {
      "cell_type": "code",
      "metadata": {
        "colab": {
          "background_save": true
        },
        "id": "9LexGQ5ac9iy"
      },
      "source": [
        "import time\r\n",
        "import datetime\r\n",
        "\r\n",
        "def format_time(elapsed):\r\n",
        "    '''\r\n",
        "    Takes a time in seconds and returns a string hh:mm:ss\r\n",
        "    '''\r\n",
        "    # Round to the nearest second.\r\n",
        "    elapsed_rounded = int(round((elapsed)))\r\n",
        "    \r\n",
        "    # Format as hh:mm:ss\r\n",
        "    return str(datetime.timedelta(seconds=elapsed_rounded))\r\n"
      ],
      "execution_count": null,
      "outputs": []
    },
    {
      "cell_type": "code",
      "metadata": {
        "colab": {
          "background_save": true
        },
        "id": "jjKyfVZLw2vZ"
      },
      "source": [
        "import torch\r\n",
        "torch.cuda.empty_cache()"
      ],
      "execution_count": null,
      "outputs": []
    },
    {
      "cell_type": "code",
      "metadata": {
        "colab": {
          "background_save": true
        },
        "id": "Yz1pR8jqdAWT",
        "outputId": "762d927d-58b6-48da-93fa-ca92316e723c"
      },
      "source": [
        "import random\r\n",
        "import numpy as np\r\n",
        "\r\n",
        "# This training code is based on the `run_glue.py`\r\n",
        "\r\n",
        "training_stats = []\r\n",
        "\r\n",
        "# Measure the total training time for the whole run.\r\n",
        "total_t0 = time.time()\r\n",
        "\r\n",
        "# For each epoch...\r\n",
        "for epoch_i in range(0, 30):\r\n",
        "    \r\n",
        "    # ========================================\r\n",
        "    #               Training\r\n",
        "    # ========================================\r\n",
        "    \r\n",
        "    t0 = time.time()\r\n",
        "\r\n",
        "    # Reset the total loss for this epoch.\r\n",
        "    total_train_loss = 0\r\n",
        "    total_train_accuracy = 0\r\n",
        "\r\n",
        "    model.train()\r\n",
        "\r\n",
        "    # For each batch of training data...\r\n",
        "    for step, batch in enumerate(train_dataloader):\r\n",
        "\r\n",
        "        # Progress update every 40 batches.\r\n",
        "        if step % 40 == 0 and not step == 0:\r\n",
        "            # Calculate elapsed time in minutes.\r\n",
        "            elapsed = format_time(time.time() - t0)\r\n",
        "            \r\n",
        "            # Report progress.\r\n",
        "           # print('  Batch {:>5,}  of  {:>5,}.    Elapsed: {:}.'.format(step, len(train_dataloader), elapsed))\r\n",
        "\r\n",
        "        b_input_ids = batch[0].to(device)\r\n",
        "        b_input_mask = batch[1].to(device)\r\n",
        "        b_labels = batch[2].to(device)\r\n",
        "        # print(b_labels[0])\r\n",
        "        \r\n",
        "        model.zero_grad()        \r\n",
        "        loss, logits = model(b_input_ids, \r\n",
        "                             token_type_ids=None, \r\n",
        "                             attention_mask=b_input_mask, \r\n",
        "                             labels=b_labels)[:2]\r\n",
        "        # print(model(b_input_ids, \r\n",
        "        #                      token_type_ids=None, \r\n",
        "        #                      attention_mask=b_input_mask, \r\n",
        "        #                      labels=b_labels)[:2])\r\n",
        "\r\n",
        "        logits = logits.detach().cpu().numpy()\r\n",
        "        label_ids = b_labels.to('cpu').numpy()\r\n",
        "\r\n",
        "        total_train_accuracy += flat_accuracy(logits, label_ids)\r\n",
        "\r\n",
        "        total_train_loss += loss.item()\r\n",
        "\r\n",
        "        # Perform a backward pass to calculate the gradients.\r\n",
        "        loss.backward()\r\n",
        "\r\n",
        "        # Clip the norm of the gradients to 1.0.\r\n",
        "        # This is to help prevent the \"exploding gradients\" problem.\r\n",
        "        torch.nn.utils.clip_grad_norm_(model.parameters(), 1.0)\r\n",
        "\r\n",
        "        optimizer.step()\r\n",
        "\r\n",
        "        # Update the learning rate.\r\n",
        "        scheduler.step()\r\n",
        "\r\n",
        "    # Calculate the average loss over all of the batches.\r\n",
        "    avg_train_loss = total_train_loss / len(train_dataloader)  \r\n",
        "    avg_train_accuracy = total_train_accuracy / len(train_dataloader)\r\n",
        "          \r\n",
        "    \r\n",
        "    # Measure how long this epoch took.\r\n",
        "    training_time = format_time(time.time() - t0)\r\n",
        "    # ========================================\r\n",
        "    #               Validation\r\n",
        "    # ========================================\r\n",
        "   \r\n",
        "\r\n",
        "    t0 = time.time()\r\n",
        "\r\n",
        "    model.eval()\r\n",
        "\r\n",
        "    # Tracking variables \r\n",
        "    total_eval_accuracy = 0\r\n",
        "    total_eval_loss = 0\r\n",
        "    nb_eval_steps = 0\r\n",
        "\r\n",
        "    # Evaluate data for one epoch\r\n",
        "    for batch in validation_dataloader:\r\n",
        "        \r\n",
        "        #   [0]: input ids \r\n",
        "        #   [1]: attention masks\r\n",
        "        #   [2]: labels \r\n",
        "        b_input_ids = batch[0].to(device)\r\n",
        "        b_input_mask = batch[1].to(device)\r\n",
        "        b_labels = batch[2].to(device)\r\n",
        "        \r\n",
        "        # Tell pytorch not to bother with constructing the compute graph during\r\n",
        "        # the forward pass, since this is only needed for backprop (training).\r\n",
        "        with torch.no_grad():        \r\n",
        "\r\n",
        "            (loss, logits) = model(b_input_ids, \r\n",
        "                                   token_type_ids=None, \r\n",
        "                                   attention_mask=b_input_mask,\r\n",
        "                                   labels=b_labels)[:2]\r\n",
        "            \r\n",
        "        # Accumulate the validation loss.\r\n",
        "        total_eval_loss += loss.item()\r\n",
        "\r\n",
        "        # Move logits and labels to CPU\r\n",
        "        logits = logits.detach().cpu().numpy()\r\n",
        "        label_ids = b_labels.to('cpu').numpy()\r\n",
        "\r\n",
        "        total_eval_accuracy += flat_accuracy(logits, label_ids)\r\n",
        "        \r\n",
        "\r\n",
        "    # Report the final accuracy for this validation run.\r\n",
        "    avg_val_accuracy = total_eval_accuracy / len(validation_dataloader)\r\n",
        "    # print(\"  Accuracy: {0:.2f}\".format(avg_val_accuracy))\r\n",
        "\r\n",
        "    # Calculate the average loss over all of the batches.\r\n",
        "    avg_val_loss = total_eval_loss / len(validation_dataloader)\r\n",
        "    \r\n",
        "    # Measure how long the validation run took.\r\n",
        "    validation_time = format_time(time.time() - t0)\r\n",
        "    \r\n",
        "    # print(\"  Validation Loss: {0:.2f}\".format(avg_val_loss))\r\n",
        "    # print(\"  Validation took: {:}\".format(validation_time))\r\n",
        "\r\n",
        "    # Record all statistics from this epoch.\r\n",
        "    training_stats.append(\r\n",
        "        {\r\n",
        "            'epoch': epoch_i + 1,\r\n",
        "            'Training Loss': avg_train_loss,\r\n",
        "            'Training Accuracy': avg_train_accuracy,\r\n",
        "            'Valid. Loss': avg_val_loss,\r\n",
        "            'Valid. Accur.': avg_val_accuracy,\r\n",
        "            'Training Time': training_time,\r\n",
        "            'Validation Time': validation_time\r\n",
        "        }\r\n",
        "    )\r\n",
        "\r\n",
        "print(\"\")\r\n",
        "print(\"Training complete!\")\r\n",
        "\r\n",
        "print(\"Total training took {:} (h:mm:ss)\".format(format_time(time.time()-total_t0)))"
      ],
      "execution_count": null,
      "outputs": [
        {
          "output_type": "stream",
          "text": [
            "\n",
            "Training complete!\n",
            "Total training took 0:07:16 (h:mm:ss)\n"
          ],
          "name": "stdout"
        }
      ]
    },
    {
      "cell_type": "code",
      "metadata": {
        "colab": {
          "background_save": true
        },
        "id": "6LRX3KMhdFzY",
        "outputId": "b8002cd2-1d76-4f49-e82d-f7800c726be4"
      },
      "source": [
        "import pandas as pd\r\n",
        "\r\n",
        "# Display floats with two decimal places.\r\n",
        "pd.set_option('precision', 2)\r\n",
        "\r\n",
        "# Create a DataFrame from our training statistics.\r\n",
        "df_stats = pd.DataFrame(data=training_stats)\r\n",
        "\r\n",
        "# Use the 'epoch' as the row index.\r\n",
        "df_stats = df_stats.set_index('epoch')\r\n",
        "\r\n",
        "# A hack to force the column headers to wrap.\r\n",
        "#df = df.style.set_table_styles([dict(selector=\"th\",props=[('max-width', '70px')])])\r\n",
        "\r\n",
        "# Display the table.\r\n",
        "df_stats"
      ],
      "execution_count": null,
      "outputs": [
        {
          "output_type": "execute_result",
          "data": {
            "text/html": [
              "<div>\n",
              "<style scoped>\n",
              "    .dataframe tbody tr th:only-of-type {\n",
              "        vertical-align: middle;\n",
              "    }\n",
              "\n",
              "    .dataframe tbody tr th {\n",
              "        vertical-align: top;\n",
              "    }\n",
              "\n",
              "    .dataframe thead th {\n",
              "        text-align: right;\n",
              "    }\n",
              "</style>\n",
              "<table border=\"1\" class=\"dataframe\">\n",
              "  <thead>\n",
              "    <tr style=\"text-align: right;\">\n",
              "      <th></th>\n",
              "      <th>Training Loss</th>\n",
              "      <th>Training Accuracy</th>\n",
              "      <th>Valid. Loss</th>\n",
              "      <th>Valid. Accur.</th>\n",
              "      <th>Training Time</th>\n",
              "      <th>Validation Time</th>\n",
              "    </tr>\n",
              "    <tr>\n",
              "      <th>epoch</th>\n",
              "      <th></th>\n",
              "      <th></th>\n",
              "      <th></th>\n",
              "      <th></th>\n",
              "      <th></th>\n",
              "      <th></th>\n",
              "    </tr>\n",
              "  </thead>\n",
              "  <tbody>\n",
              "    <tr>\n",
              "      <th>1</th>\n",
              "      <td>1.61</td>\n",
              "      <td>0.22</td>\n",
              "      <td>1.59</td>\n",
              "      <td>0.34</td>\n",
              "      <td>0:00:14</td>\n",
              "      <td>0:00:00</td>\n",
              "    </tr>\n",
              "    <tr>\n",
              "      <th>2</th>\n",
              "      <td>1.59</td>\n",
              "      <td>0.27</td>\n",
              "      <td>1.57</td>\n",
              "      <td>0.39</td>\n",
              "      <td>0:00:14</td>\n",
              "      <td>0:00:00</td>\n",
              "    </tr>\n",
              "    <tr>\n",
              "      <th>3</th>\n",
              "      <td>1.58</td>\n",
              "      <td>0.27</td>\n",
              "      <td>1.48</td>\n",
              "      <td>0.38</td>\n",
              "      <td>0:00:14</td>\n",
              "      <td>0:00:00</td>\n",
              "    </tr>\n",
              "    <tr>\n",
              "      <th>4</th>\n",
              "      <td>1.53</td>\n",
              "      <td>0.33</td>\n",
              "      <td>1.60</td>\n",
              "      <td>0.17</td>\n",
              "      <td>0:00:14</td>\n",
              "      <td>0:00:00</td>\n",
              "    </tr>\n",
              "    <tr>\n",
              "      <th>5</th>\n",
              "      <td>1.48</td>\n",
              "      <td>0.34</td>\n",
              "      <td>1.49</td>\n",
              "      <td>0.39</td>\n",
              "      <td>0:00:14</td>\n",
              "      <td>0:00:00</td>\n",
              "    </tr>\n",
              "    <tr>\n",
              "      <th>6</th>\n",
              "      <td>1.41</td>\n",
              "      <td>0.40</td>\n",
              "      <td>1.80</td>\n",
              "      <td>0.11</td>\n",
              "      <td>0:00:14</td>\n",
              "      <td>0:00:00</td>\n",
              "    </tr>\n",
              "    <tr>\n",
              "      <th>7</th>\n",
              "      <td>1.35</td>\n",
              "      <td>0.44</td>\n",
              "      <td>1.74</td>\n",
              "      <td>0.16</td>\n",
              "      <td>0:00:14</td>\n",
              "      <td>0:00:00</td>\n",
              "    </tr>\n",
              "    <tr>\n",
              "      <th>8</th>\n",
              "      <td>1.29</td>\n",
              "      <td>0.47</td>\n",
              "      <td>1.44</td>\n",
              "      <td>0.45</td>\n",
              "      <td>0:00:14</td>\n",
              "      <td>0:00:00</td>\n",
              "    </tr>\n",
              "    <tr>\n",
              "      <th>9</th>\n",
              "      <td>1.18</td>\n",
              "      <td>0.57</td>\n",
              "      <td>1.37</td>\n",
              "      <td>0.47</td>\n",
              "      <td>0:00:14</td>\n",
              "      <td>0:00:00</td>\n",
              "    </tr>\n",
              "    <tr>\n",
              "      <th>10</th>\n",
              "      <td>1.16</td>\n",
              "      <td>0.58</td>\n",
              "      <td>1.38</td>\n",
              "      <td>0.45</td>\n",
              "      <td>0:00:14</td>\n",
              "      <td>0:00:00</td>\n",
              "    </tr>\n",
              "    <tr>\n",
              "      <th>11</th>\n",
              "      <td>1.14</td>\n",
              "      <td>0.57</td>\n",
              "      <td>1.38</td>\n",
              "      <td>0.45</td>\n",
              "      <td>0:00:14</td>\n",
              "      <td>0:00:00</td>\n",
              "    </tr>\n",
              "    <tr>\n",
              "      <th>12</th>\n",
              "      <td>1.15</td>\n",
              "      <td>0.59</td>\n",
              "      <td>1.38</td>\n",
              "      <td>0.45</td>\n",
              "      <td>0:00:14</td>\n",
              "      <td>0:00:00</td>\n",
              "    </tr>\n",
              "    <tr>\n",
              "      <th>13</th>\n",
              "      <td>1.13</td>\n",
              "      <td>0.62</td>\n",
              "      <td>1.38</td>\n",
              "      <td>0.45</td>\n",
              "      <td>0:00:14</td>\n",
              "      <td>0:00:00</td>\n",
              "    </tr>\n",
              "    <tr>\n",
              "      <th>14</th>\n",
              "      <td>1.12</td>\n",
              "      <td>0.61</td>\n",
              "      <td>1.38</td>\n",
              "      <td>0.45</td>\n",
              "      <td>0:00:14</td>\n",
              "      <td>0:00:00</td>\n",
              "    </tr>\n",
              "    <tr>\n",
              "      <th>15</th>\n",
              "      <td>1.13</td>\n",
              "      <td>0.63</td>\n",
              "      <td>1.38</td>\n",
              "      <td>0.45</td>\n",
              "      <td>0:00:14</td>\n",
              "      <td>0:00:00</td>\n",
              "    </tr>\n",
              "    <tr>\n",
              "      <th>16</th>\n",
              "      <td>1.14</td>\n",
              "      <td>0.61</td>\n",
              "      <td>1.38</td>\n",
              "      <td>0.45</td>\n",
              "      <td>0:00:14</td>\n",
              "      <td>0:00:00</td>\n",
              "    </tr>\n",
              "    <tr>\n",
              "      <th>17</th>\n",
              "      <td>1.16</td>\n",
              "      <td>0.60</td>\n",
              "      <td>1.38</td>\n",
              "      <td>0.45</td>\n",
              "      <td>0:00:14</td>\n",
              "      <td>0:00:00</td>\n",
              "    </tr>\n",
              "    <tr>\n",
              "      <th>18</th>\n",
              "      <td>1.14</td>\n",
              "      <td>0.58</td>\n",
              "      <td>1.38</td>\n",
              "      <td>0.45</td>\n",
              "      <td>0:00:14</td>\n",
              "      <td>0:00:00</td>\n",
              "    </tr>\n",
              "    <tr>\n",
              "      <th>19</th>\n",
              "      <td>1.13</td>\n",
              "      <td>0.59</td>\n",
              "      <td>1.38</td>\n",
              "      <td>0.45</td>\n",
              "      <td>0:00:14</td>\n",
              "      <td>0:00:00</td>\n",
              "    </tr>\n",
              "    <tr>\n",
              "      <th>20</th>\n",
              "      <td>1.12</td>\n",
              "      <td>0.63</td>\n",
              "      <td>1.38</td>\n",
              "      <td>0.45</td>\n",
              "      <td>0:00:14</td>\n",
              "      <td>0:00:00</td>\n",
              "    </tr>\n",
              "    <tr>\n",
              "      <th>21</th>\n",
              "      <td>1.13</td>\n",
              "      <td>0.59</td>\n",
              "      <td>1.38</td>\n",
              "      <td>0.45</td>\n",
              "      <td>0:00:14</td>\n",
              "      <td>0:00:00</td>\n",
              "    </tr>\n",
              "    <tr>\n",
              "      <th>22</th>\n",
              "      <td>1.11</td>\n",
              "      <td>0.62</td>\n",
              "      <td>1.38</td>\n",
              "      <td>0.45</td>\n",
              "      <td>0:00:14</td>\n",
              "      <td>0:00:00</td>\n",
              "    </tr>\n",
              "    <tr>\n",
              "      <th>23</th>\n",
              "      <td>1.13</td>\n",
              "      <td>0.62</td>\n",
              "      <td>1.38</td>\n",
              "      <td>0.45</td>\n",
              "      <td>0:00:14</td>\n",
              "      <td>0:00:00</td>\n",
              "    </tr>\n",
              "    <tr>\n",
              "      <th>24</th>\n",
              "      <td>1.18</td>\n",
              "      <td>0.56</td>\n",
              "      <td>1.38</td>\n",
              "      <td>0.45</td>\n",
              "      <td>0:00:14</td>\n",
              "      <td>0:00:00</td>\n",
              "    </tr>\n",
              "    <tr>\n",
              "      <th>25</th>\n",
              "      <td>1.14</td>\n",
              "      <td>0.60</td>\n",
              "      <td>1.38</td>\n",
              "      <td>0.45</td>\n",
              "      <td>0:00:14</td>\n",
              "      <td>0:00:00</td>\n",
              "    </tr>\n",
              "    <tr>\n",
              "      <th>26</th>\n",
              "      <td>1.18</td>\n",
              "      <td>0.59</td>\n",
              "      <td>1.38</td>\n",
              "      <td>0.45</td>\n",
              "      <td>0:00:14</td>\n",
              "      <td>0:00:00</td>\n",
              "    </tr>\n",
              "    <tr>\n",
              "      <th>27</th>\n",
              "      <td>1.15</td>\n",
              "      <td>0.57</td>\n",
              "      <td>1.38</td>\n",
              "      <td>0.45</td>\n",
              "      <td>0:00:14</td>\n",
              "      <td>0:00:00</td>\n",
              "    </tr>\n",
              "    <tr>\n",
              "      <th>28</th>\n",
              "      <td>1.12</td>\n",
              "      <td>0.60</td>\n",
              "      <td>1.38</td>\n",
              "      <td>0.45</td>\n",
              "      <td>0:00:14</td>\n",
              "      <td>0:00:00</td>\n",
              "    </tr>\n",
              "    <tr>\n",
              "      <th>29</th>\n",
              "      <td>1.12</td>\n",
              "      <td>0.63</td>\n",
              "      <td>1.38</td>\n",
              "      <td>0.45</td>\n",
              "      <td>0:00:14</td>\n",
              "      <td>0:00:00</td>\n",
              "    </tr>\n",
              "    <tr>\n",
              "      <th>30</th>\n",
              "      <td>1.12</td>\n",
              "      <td>0.62</td>\n",
              "      <td>1.38</td>\n",
              "      <td>0.45</td>\n",
              "      <td>0:00:14</td>\n",
              "      <td>0:00:00</td>\n",
              "    </tr>\n",
              "  </tbody>\n",
              "</table>\n",
              "</div>"
            ],
            "text/plain": [
              "       Training Loss  Training Accuracy  ...  Training Time  Validation Time\n",
              "epoch                                    ...                                \n",
              "1               1.61               0.22  ...        0:00:14          0:00:00\n",
              "2               1.59               0.27  ...        0:00:14          0:00:00\n",
              "3               1.58               0.27  ...        0:00:14          0:00:00\n",
              "4               1.53               0.33  ...        0:00:14          0:00:00\n",
              "5               1.48               0.34  ...        0:00:14          0:00:00\n",
              "6               1.41               0.40  ...        0:00:14          0:00:00\n",
              "7               1.35               0.44  ...        0:00:14          0:00:00\n",
              "8               1.29               0.47  ...        0:00:14          0:00:00\n",
              "9               1.18               0.57  ...        0:00:14          0:00:00\n",
              "10              1.16               0.58  ...        0:00:14          0:00:00\n",
              "11              1.14               0.57  ...        0:00:14          0:00:00\n",
              "12              1.15               0.59  ...        0:00:14          0:00:00\n",
              "13              1.13               0.62  ...        0:00:14          0:00:00\n",
              "14              1.12               0.61  ...        0:00:14          0:00:00\n",
              "15              1.13               0.63  ...        0:00:14          0:00:00\n",
              "16              1.14               0.61  ...        0:00:14          0:00:00\n",
              "17              1.16               0.60  ...        0:00:14          0:00:00\n",
              "18              1.14               0.58  ...        0:00:14          0:00:00\n",
              "19              1.13               0.59  ...        0:00:14          0:00:00\n",
              "20              1.12               0.63  ...        0:00:14          0:00:00\n",
              "21              1.13               0.59  ...        0:00:14          0:00:00\n",
              "22              1.11               0.62  ...        0:00:14          0:00:00\n",
              "23              1.13               0.62  ...        0:00:14          0:00:00\n",
              "24              1.18               0.56  ...        0:00:14          0:00:00\n",
              "25              1.14               0.60  ...        0:00:14          0:00:00\n",
              "26              1.18               0.59  ...        0:00:14          0:00:00\n",
              "27              1.15               0.57  ...        0:00:14          0:00:00\n",
              "28              1.12               0.60  ...        0:00:14          0:00:00\n",
              "29              1.12               0.63  ...        0:00:14          0:00:00\n",
              "30              1.12               0.62  ...        0:00:14          0:00:00\n",
              "\n",
              "[30 rows x 6 columns]"
            ]
          },
          "metadata": {
            "tags": []
          },
          "execution_count": 0
        }
      ]
    },
    {
      "cell_type": "code",
      "metadata": {
        "colab": {
          "background_save": true
        },
        "id": "bYXOV_s5fDQn",
        "outputId": "76bc7e08-adb9-4c59-c882-cd87cf3d8f80"
      },
      "source": [
        "training_stats"
      ],
      "execution_count": null,
      "outputs": [
        {
          "output_type": "execute_result",
          "data": {
            "text/plain": [
              "[{'Training Accuracy': 0.22098214285714285,\n",
              "  'Training Loss': 1.6125841055597578,\n",
              "  'Training Time': '0:00:14',\n",
              "  'Valid. Accur.': 0.34375,\n",
              "  'Valid. Loss': 1.5884995460510254,\n",
              "  'Validation Time': '0:00:00',\n",
              "  'epoch': 1},\n",
              " {'Training Accuracy': 0.265625,\n",
              "  'Training Loss': 1.5895041355064936,\n",
              "  'Training Time': '0:00:14',\n",
              "  'Valid. Accur.': 0.390625,\n",
              "  'Valid. Loss': 1.5697505474090576,\n",
              "  'Validation Time': '0:00:00',\n",
              "  'epoch': 2},\n",
              " {'Training Accuracy': 0.27455357142857145,\n",
              "  'Training Loss': 1.5820957592555456,\n",
              "  'Training Time': '0:00:14',\n",
              "  'Valid. Accur.': 0.375,\n",
              "  'Valid. Loss': 1.4784387648105621,\n",
              "  'Validation Time': '0:00:00',\n",
              "  'epoch': 3},\n",
              " {'Training Accuracy': 0.3325892857142857,\n",
              "  'Training Loss': 1.5309639828545707,\n",
              "  'Training Time': '0:00:14',\n",
              "  'Valid. Accur.': 0.171875,\n",
              "  'Valid. Loss': 1.6015504002571106,\n",
              "  'Validation Time': '0:00:00',\n",
              "  'epoch': 4},\n",
              " {'Training Accuracy': 0.34151785714285715,\n",
              "  'Training Loss': 1.4804786954607283,\n",
              "  'Training Time': '0:00:14',\n",
              "  'Valid. Accur.': 0.390625,\n",
              "  'Valid. Loss': 1.4921263456344604,\n",
              "  'Validation Time': '0:00:00',\n",
              "  'epoch': 5},\n",
              " {'Training Accuracy': 0.39732142857142855,\n",
              "  'Training Loss': 1.4080447512013572,\n",
              "  'Training Time': '0:00:14',\n",
              "  'Valid. Accur.': 0.109375,\n",
              "  'Valid. Loss': 1.798709124326706,\n",
              "  'Validation Time': '0:00:00',\n",
              "  'epoch': 6},\n",
              " {'Training Accuracy': 0.43526785714285715,\n",
              "  'Training Loss': 1.351806321314403,\n",
              "  'Training Time': '0:00:14',\n",
              "  'Valid. Accur.': 0.15625,\n",
              "  'Valid. Loss': 1.7410840094089508,\n",
              "  'Validation Time': '0:00:00',\n",
              "  'epoch': 7},\n",
              " {'Training Accuracy': 0.4732142857142857,\n",
              "  'Training Loss': 1.2893766803400857,\n",
              "  'Training Time': '0:00:14',\n",
              "  'Valid. Accur.': 0.453125,\n",
              "  'Valid. Loss': 1.439039796590805,\n",
              "  'Validation Time': '0:00:00',\n",
              "  'epoch': 8},\n",
              " {'Training Accuracy': 0.5714285714285714,\n",
              "  'Training Loss': 1.1838284049715315,\n",
              "  'Training Time': '0:00:14',\n",
              "  'Valid. Accur.': 0.46875,\n",
              "  'Valid. Loss': 1.3693752139806747,\n",
              "  'Validation Time': '0:00:00',\n",
              "  'epoch': 9},\n",
              " {'Training Accuracy': 0.578125,\n",
              "  'Training Loss': 1.1568529733589716,\n",
              "  'Training Time': '0:00:14',\n",
              "  'Valid. Accur.': 0.453125,\n",
              "  'Valid. Loss': 1.378690853714943,\n",
              "  'Validation Time': '0:00:00',\n",
              "  'epoch': 10},\n",
              " {'Training Accuracy': 0.5669642857142857,\n",
              "  'Training Loss': 1.1403126801763261,\n",
              "  'Training Time': '0:00:14',\n",
              "  'Valid. Accur.': 0.453125,\n",
              "  'Valid. Loss': 1.378690853714943,\n",
              "  'Validation Time': '0:00:00',\n",
              "  'epoch': 11},\n",
              " {'Training Accuracy': 0.5870535714285714,\n",
              "  'Training Loss': 1.1488313036305564,\n",
              "  'Training Time': '0:00:14',\n",
              "  'Valid. Accur.': 0.453125,\n",
              "  'Valid. Loss': 1.378690853714943,\n",
              "  'Validation Time': '0:00:00',\n",
              "  'epoch': 12},\n",
              " {'Training Accuracy': 0.6183035714285714,\n",
              "  'Training Loss': 1.1285198799201421,\n",
              "  'Training Time': '0:00:14',\n",
              "  'Valid. Accur.': 0.453125,\n",
              "  'Valid. Loss': 1.378690853714943,\n",
              "  'Validation Time': '0:00:00',\n",
              "  'epoch': 13},\n",
              " {'Training Accuracy': 0.6116071428571429,\n",
              "  'Training Loss': 1.124776188816343,\n",
              "  'Training Time': '0:00:14',\n",
              "  'Valid. Accur.': 0.453125,\n",
              "  'Valid. Loss': 1.378690853714943,\n",
              "  'Validation Time': '0:00:00',\n",
              "  'epoch': 14},\n",
              " {'Training Accuracy': 0.6272321428571429,\n",
              "  'Training Loss': 1.1286785900592804,\n",
              "  'Training Time': '0:00:14',\n",
              "  'Valid. Accur.': 0.453125,\n",
              "  'Valid. Loss': 1.378690853714943,\n",
              "  'Validation Time': '0:00:00',\n",
              "  'epoch': 15},\n",
              " {'Training Accuracy': 0.6116071428571429,\n",
              "  'Training Loss': 1.1368009895086288,\n",
              "  'Training Time': '0:00:14',\n",
              "  'Valid. Accur.': 0.453125,\n",
              "  'Valid. Loss': 1.378690853714943,\n",
              "  'Validation Time': '0:00:00',\n",
              "  'epoch': 16},\n",
              " {'Training Accuracy': 0.6004464285714286,\n",
              "  'Training Loss': 1.1592118803943907,\n",
              "  'Training Time': '0:00:14',\n",
              "  'Valid. Accur.': 0.453125,\n",
              "  'Valid. Loss': 1.378690853714943,\n",
              "  'Validation Time': '0:00:00',\n",
              "  'epoch': 17},\n",
              " {'Training Accuracy': 0.5848214285714286,\n",
              "  'Training Loss': 1.1416800490447454,\n",
              "  'Training Time': '0:00:14',\n",
              "  'Valid. Accur.': 0.453125,\n",
              "  'Valid. Loss': 1.378690853714943,\n",
              "  'Validation Time': '0:00:00',\n",
              "  'epoch': 18},\n",
              " {'Training Accuracy': 0.5915178571428571,\n",
              "  'Training Loss': 1.13181238089289,\n",
              "  'Training Time': '0:00:14',\n",
              "  'Valid. Accur.': 0.453125,\n",
              "  'Valid. Loss': 1.378690853714943,\n",
              "  'Validation Time': '0:00:00',\n",
              "  'epoch': 19},\n",
              " {'Training Accuracy': 0.6272321428571429,\n",
              "  'Training Loss': 1.122144186070987,\n",
              "  'Training Time': '0:00:14',\n",
              "  'Valid. Accur.': 0.453125,\n",
              "  'Valid. Loss': 1.378690853714943,\n",
              "  'Validation Time': '0:00:00',\n",
              "  'epoch': 20},\n",
              " {'Training Accuracy': 0.59375,\n",
              "  'Training Loss': 1.1333097219467163,\n",
              "  'Training Time': '0:00:14',\n",
              "  'Valid. Accur.': 0.453125,\n",
              "  'Valid. Loss': 1.378690853714943,\n",
              "  'Validation Time': '0:00:00',\n",
              "  'epoch': 21},\n",
              " {'Training Accuracy': 0.6205357142857143,\n",
              "  'Training Loss': 1.1079908055918557,\n",
              "  'Training Time': '0:00:14',\n",
              "  'Valid. Accur.': 0.453125,\n",
              "  'Valid. Loss': 1.378690853714943,\n",
              "  'Validation Time': '0:00:00',\n",
              "  'epoch': 22},\n",
              " {'Training Accuracy': 0.6183035714285714,\n",
              "  'Training Loss': 1.1330014382089888,\n",
              "  'Training Time': '0:00:14',\n",
              "  'Valid. Accur.': 0.453125,\n",
              "  'Valid. Loss': 1.378690853714943,\n",
              "  'Validation Time': '0:00:00',\n",
              "  'epoch': 23},\n",
              " {'Training Accuracy': 0.5580357142857143,\n",
              "  'Training Loss': 1.177035661680358,\n",
              "  'Training Time': '0:00:14',\n",
              "  'Valid. Accur.': 0.453125,\n",
              "  'Valid. Loss': 1.378690853714943,\n",
              "  'Validation Time': '0:00:00',\n",
              "  'epoch': 24},\n",
              " {'Training Accuracy': 0.6026785714285714,\n",
              "  'Training Loss': 1.1446625973497118,\n",
              "  'Training Time': '0:00:14',\n",
              "  'Valid. Accur.': 0.453125,\n",
              "  'Valid. Loss': 1.378690853714943,\n",
              "  'Validation Time': '0:00:00',\n",
              "  'epoch': 25},\n",
              " {'Training Accuracy': 0.5870535714285714,\n",
              "  'Training Loss': 1.1785677245685033,\n",
              "  'Training Time': '0:00:14',\n",
              "  'Valid. Accur.': 0.453125,\n",
              "  'Valid. Loss': 1.378690853714943,\n",
              "  'Validation Time': '0:00:00',\n",
              "  'epoch': 26},\n",
              " {'Training Accuracy': 0.5714285714285714,\n",
              "  'Training Loss': 1.1547756684677941,\n",
              "  'Training Time': '0:00:14',\n",
              "  'Valid. Accur.': 0.453125,\n",
              "  'Valid. Loss': 1.378690853714943,\n",
              "  'Validation Time': '0:00:00',\n",
              "  'epoch': 27},\n",
              " {'Training Accuracy': 0.6004464285714286,\n",
              "  'Training Loss': 1.1176772585936956,\n",
              "  'Training Time': '0:00:14',\n",
              "  'Valid. Accur.': 0.453125,\n",
              "  'Valid. Loss': 1.378690853714943,\n",
              "  'Validation Time': '0:00:00',\n",
              "  'epoch': 28},\n",
              " {'Training Accuracy': 0.6272321428571429,\n",
              "  'Training Loss': 1.1160369643143244,\n",
              "  'Training Time': '0:00:14',\n",
              "  'Valid. Accur.': 0.453125,\n",
              "  'Valid. Loss': 1.378690853714943,\n",
              "  'Validation Time': '0:00:00',\n",
              "  'epoch': 29},\n",
              " {'Training Accuracy': 0.6160714285714286,\n",
              "  'Training Loss': 1.1233127606766564,\n",
              "  'Training Time': '0:00:14',\n",
              "  'Valid. Accur.': 0.453125,\n",
              "  'Valid. Loss': 1.378690853714943,\n",
              "  'Validation Time': '0:00:00',\n",
              "  'epoch': 30}]"
            ]
          },
          "metadata": {
            "tags": []
          },
          "execution_count": 0
        }
      ]
    },
    {
      "cell_type": "code",
      "metadata": {
        "colab": {
          "background_save": true
        },
        "id": "GxH_jhGdgLGd",
        "outputId": "3cbfab0c-4407-4d16-bf7f-1c16d39414a5"
      },
      "source": [
        "import matplotlib.pyplot as plt\r\n",
        "% matplotlib inline\r\n",
        "\r\n",
        "import seaborn as sns\r\n",
        "\r\n",
        "# Use plot styling from seaborn.\r\n",
        "sns.set(style='darkgrid')\r\n",
        "\r\n",
        "# Increase the plot size and font size.\r\n",
        "sns.set(font_scale=1.5)\r\n",
        "plt.rcParams[\"figure.figsize\"] = (12,6)\r\n",
        "\r\n",
        "# # Plot the learning curve.\r\n",
        "plt.plot(df_stats['Training Loss'], 'b-o', label=\"Training Loss\")\r\n",
        "plt.plot(df_stats['Valid. Loss'], 'g-o', label=\"Validation Loss\")\r\n",
        "# plt.plot(df_stats['Training Accuracy'], 'm-o', label=\"Training Accuracy\")\r\n",
        "# plt.plot(df_stats['Valid. Accur.'], 'r-o', label=\"Validation Accuracy\")\r\n",
        "\r\n",
        "# Label the plot.\r\n",
        "plt.title(\"Training & Validation Loss\")\r\n",
        "plt.xlabel(\"Epoch\")\r\n",
        "plt.ylabel(\"Loss\")\r\n",
        "plt.legend()\r\n",
        "plt.xticks([1, 2, 3, 4])\r\n",
        "\r\n",
        "plt.show()"
      ],
      "execution_count": null,
      "outputs": [
        {
          "output_type": "display_data",
          "data": {
            "image/png": "[encoded data removed]",
            "text/plain": [
              "<Figure size 864x432 with 1 Axes>"
            ]
          },
          "metadata": {
            "tags": []
          }
        }
      ]
    },
    {
      "cell_type": "code",
      "metadata": {
        "colab": {
          "background_save": true
        },
        "id": "ALbIRmVShozJ",
        "outputId": "37af08ad-4c98-4315-a912-c02a481943ba"
      },
      "source": [
        "import matplotlib.pyplot as plt\r\n",
        "% matplotlib inline\r\n",
        "\r\n",
        "import seaborn as sns\r\n",
        "\r\n",
        "# Use plot styling from seaborn.\r\n",
        "sns.set(style='darkgrid')\r\n",
        "\r\n",
        "# Increase the plot size and font size.\r\n",
        "sns.set(font_scale=1.5)\r\n",
        "plt.rcParams[\"figure.figsize\"] = (12,6)\r\n",
        "\r\n",
        "# # Plot the learning curve.\r\n",
        "# plt.plot(df_stats['Training Loss'], 'b-o', label=\"Training Loss\")\r\n",
        "# plt.plot(df_stats['Valid. Loss'], 'g-o', label=\"Validation Loss\")\r\n",
        "plt.plot(df_stats['Training Accuracy'], 'm-o', label=\"Training Accuracy\")\r\n",
        "plt.plot(df_stats['Valid. Accur.'], 'r-o', label=\"Validation Accuracy\")\r\n",
        "\r\n",
        "# Label the plot.\r\n",
        "plt.title(\"Training & Validation Accuracy\")\r\n",
        "plt.xlabel(\"Epoch\")\r\n",
        "plt.ylabel(\"Accuracy\")\r\n",
        "plt.legend()\r\n",
        "plt.xticks([1, 2, 3, 4])\r\n",
        "\r\n",
        "plt.show()"
      ],
      "execution_count": null,
      "outputs": [
        {
          "output_type": "display_data",
          "data": {
            "image/png": "[encoded data removed]",
            "text/plain": [
              "<Figure size 864x432 with 1 Axes>"
            ]
          },
          "metadata": {
            "tags": []
          }
        }
      ]
    }
  ]
}